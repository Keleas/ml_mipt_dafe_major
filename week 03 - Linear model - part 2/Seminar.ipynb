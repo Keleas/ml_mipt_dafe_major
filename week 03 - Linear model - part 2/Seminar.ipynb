{
 "cells": [
  {
   "cell_type": "code",
   "execution_count": 1,
   "metadata": {},
   "outputs": [],
   "source": [
    "import pandas as pd\n",
    "import numpy as np\n",
    "from matplotlib import pyplot as plt\n",
    "from utils import print_cv_results\n",
    "\n",
    "\n",
    "%matplotlib inline\n",
    "%load_ext autoreload\n",
    "%autoreload 2"
   ]
  },
  {
   "cell_type": "markdown",
   "metadata": {},
   "source": [
    "# Семинар - Линейные модели для задачи классификации\n",
    "В качестве демонстрации будем использовальзовать датасет с изобрадениями цифр "
   ]
  },
  {
   "cell_type": "code",
   "execution_count": 3,
   "metadata": {},
   "outputs": [],
   "source": [
    "# Загрущим данные\n",
    "from sklearn.datasets import load_digits\n",
    "digits = load_digits()"
   ]
  },
  {
   "cell_type": "code",
   "execution_count": 4,
   "metadata": {},
   "outputs": [],
   "source": [
    "X = digits.data\n",
    "y = digits.target"
   ]
  },
  {
   "cell_type": "code",
   "execution_count": 12,
   "metadata": {},
   "outputs": [
    {
     "data": {
      "text/plain": [
       "((1797, 64), (1797,))"
      ]
     },
     "execution_count": 12,
     "metadata": {},
     "output_type": "execute_result"
    }
   ],
   "source": [
    "# Посмотрим на кол-во объектов \n",
    "X.shape, y.shape"
   ]
  },
  {
   "cell_type": "code",
   "execution_count": 15,
   "metadata": {},
   "outputs": [
    {
     "data": {
      "image/png": "[encoded data removed]",
      "text/plain": [
       "<Figure size 288x144 with 1 Axes>"
      ]
     },
     "metadata": {},
     "output_type": "display_data"
    }
   ],
   "source": [
    "# Давайте, посмотрим, как вылядит случайный объект нашей выборки\n",
    "target_image_id = np.random.randint(X.shape[0])\n",
    "\n",
    "plt.figure(figsize=(4,2))\n",
    "plt.imshow(X[target_image_id].reshape((8, 8)), cmap='binary')\n",
    "plt.xticks([])\n",
    "plt.yticks([])\n",
    "plt.title('True class: '+ str(y[target_image_id]))\n",
    "plt.show()"
   ]
  },
  {
   "cell_type": "code",
   "execution_count": 16,
   "metadata": {},
   "outputs": [
    {
     "data": {
      "text/html": [
       "<div>\n",
       "<style scoped>\n",
       "    .dataframe tbody tr th:only-of-type {\n",
       "        vertical-align: middle;\n",
       "    }\n",
       "\n",
       "    .dataframe tbody tr th {\n",
       "        vertical-align: top;\n",
       "    }\n",
       "\n",
       "    .dataframe thead th {\n",
       "        text-align: right;\n",
       "    }\n",
       "</style>\n",
       "<table border=\"1\" class=\"dataframe\">\n",
       "  <thead>\n",
       "    <tr style=\"text-align: right;\">\n",
       "      <th></th>\n",
       "      <th>Counts</th>\n",
       "    </tr>\n",
       "  </thead>\n",
       "  <tbody>\n",
       "    <tr>\n",
       "      <th>0</th>\n",
       "      <td>178</td>\n",
       "    </tr>\n",
       "    <tr>\n",
       "      <th>1</th>\n",
       "      <td>182</td>\n",
       "    </tr>\n",
       "    <tr>\n",
       "      <th>2</th>\n",
       "      <td>177</td>\n",
       "    </tr>\n",
       "    <tr>\n",
       "      <th>3</th>\n",
       "      <td>183</td>\n",
       "    </tr>\n",
       "    <tr>\n",
       "      <th>4</th>\n",
       "      <td>181</td>\n",
       "    </tr>\n",
       "    <tr>\n",
       "      <th>5</th>\n",
       "      <td>182</td>\n",
       "    </tr>\n",
       "    <tr>\n",
       "      <th>6</th>\n",
       "      <td>181</td>\n",
       "    </tr>\n",
       "    <tr>\n",
       "      <th>7</th>\n",
       "      <td>179</td>\n",
       "    </tr>\n",
       "    <tr>\n",
       "      <th>8</th>\n",
       "      <td>174</td>\n",
       "    </tr>\n",
       "    <tr>\n",
       "      <th>9</th>\n",
       "      <td>180</td>\n",
       "    </tr>\n",
       "  </tbody>\n",
       "</table>\n",
       "</div>"
      ],
      "text/plain": [
       "   Counts\n",
       "0     178\n",
       "1     182\n",
       "2     177\n",
       "3     183\n",
       "4     181\n",
       "5     182\n",
       "6     181\n",
       "7     179\n",
       "8     174\n",
       "9     180"
      ]
     },
     "execution_count": 16,
     "metadata": {},
     "output_type": "execute_result"
    }
   ],
   "source": [
    "# Посмотрим на баланс классов \n",
    "class_counts = np.unique(y, return_counts=True)\n",
    "\n",
    "pd.DataFrame(class_counts[1], index=class_counts[0]\n",
    "             , columns=['Counts'])"
   ]
  },
  {
   "cell_type": "code",
   "execution_count": 18,
   "metadata": {},
   "outputs": [],
   "source": [
    "# Загрузим нужные библиотеки\n",
    "from sklearn.linear_model import LogisticRegression\n",
    "from sklearn.model_selection import train_test_split\n",
    "from sklearn.metrics import accuracy_score\n",
    "from sklearn.model_selection import GridSearchCV"
   ]
  },
  {
   "cell_type": "code",
   "execution_count": 21,
   "metadata": {},
   "outputs": [],
   "source": [
    "# Разделим выборку на тренировочную и тестовую \n",
    "x_train, x_test, y_train, y_test = train_test_split(X, y, \n",
    "                 train_size=0.8, test_size=0.2, shuffle=True,\n",
    "                 random_state=42)\n",
    "\n",
    "x_train.shape, x_test.shape, y_train.shape, y_test.shape"
   ]
  },
  {
   "cell_type": "markdown",
   "metadata": {},
   "source": [
    "*Логистическая регрессия позволяет решать задачу многоклассовой классификации. Класс ``LogisticRegression`` позвляет это делать двумя способами:* \n",
    "- Стандартный One vs Rest (т.е. каждый класс отделяется от всех других). Параметр `multi_class='ovr'`.*\n",
    "- Используя кросс-энтропию (оценивается сразу вектор вероятностей принадлежности классам). Параметр `multi_class='multinomial'`.*"
   ]
  },
  {
   "cell_type": "markdown",
   "metadata": {},
   "source": [
    "#### One vs Rest\n",
    "Find 𝐾 − 1 classifiers 𝑓 , 𝑓 , ... , 𝑓 12 𝐾−1  \n",
    "- 𝑓 classifies1𝑣𝑠{2,3,...,𝐾} 1\n",
    "- 𝑓 classifies2𝑣𝑠{1,3,...,𝐾} 2\n",
    "- ...\n",
    "- 𝑓 classifies𝐾−1𝑣𝑠{1,2,...,𝐾−2}\n",
    "- 𝐾−1\n",
    "- Points not classified to classes {1,2, ... , 𝐾 − 1} are put to class 𝐾\n",
    "\n",
    "#### Cross-entropy\n",
    "\n",
    "\n",
    "В случае с бинарной классификацией функция потерь: \n",
    "$$ \\sum_{i=1}^l \\bigl( y_i \\log a_i - (1-y_i) \\log (1-a_i) \\bigr)  \\rightarrow min$$  \n",
    "$a_i$ – ответ (вероятность) алгоритма на i-м объекте на вопрос принадлежности к классу $y_i$\n",
    "\n",
    "Обобщается для многомерного случая:\n",
    "$$-\\frac{1}{q} \\sum_{i=1}^q \\sum_{j=1}^l y_{ij} \\log a_{ij} \\rightarrow min $$\n",
    "где  \n",
    "$q$ – число элементов в выборке,  \n",
    "$l$ – число классов,   \n",
    "$a_{ij}$ – ответ (вероятность) алгоритма на i-м объекте на вопрос принадлежности его к j-му классу\n",
    "\n",
    "__Проблемы:__ \n",
    "\n",
    "- Сложности в поиске глобального минимума, так как присутствуют Локальные минимумы и плато"
   ]
  },
  {
   "cell_type": "code",
   "execution_count": null,
   "metadata": {},
   "outputs": [],
   "source": [
    "%%time\n",
    "lr = LogisticRegression(solver='liblinear', multi_class='ovr')\n",
    "lr.fit(x_train,y_train)"
   ]
  },
  {
   "cell_type": "code",
   "execution_count": null,
   "metadata": {},
   "outputs": [],
   "source": [
    "accuracy_score(lr.predict(x_test), y_test)"
   ]
  },
  {
   "cell_type": "markdown",
   "metadata": {},
   "source": [
    "# liblinear \n",
    "Используется обычный покоординантный спуск. \n",
    "Алгоритм:\n",
    "- Инициализацируем любыми значениями вектор весов\n",
    "    - Повторяем для каждого i из пространства признаков:\n",
    "        - фиксируем значения всех переменных кроме $x_i$\n",
    "        - проводим одномерную оптимизацию по переменной $x_i$, любым методом одномерной оптимизации\n",
    "        - если достигнули минимума по одной координате, то возвращаем текущее значение вектора весов\n",
    "\n",
    "Как это выглядит? \n",
    "<img src=\"../pic/Coordinate_descent.png\" alt=\"Drawing\" style=\"width: 400px;\"/>\n",
    "\n",
    "__Недостатки:__\n",
    "- Не параллелится \n",
    "- Может \"застрять\" в локальном минимуме\n",
    "- Следствие п.2 - Не может использоваться кросс-энтропия для многомерного случая, так как легко \"Застревает\" в локальных минимумах. Вместо этого для каждого класса строит отдельный классификатор (One-vs-Rest) "
   ]
  },
  {
   "cell_type": "code",
   "execution_count": null,
   "metadata": {},
   "outputs": [],
   "source": [
    "%%time\n",
    "len_c = 10\n",
    "param_grid={\n",
    "    'C': np.linspace(0.01, 1, len_c), \n",
    "    'penalty': ['l1', 'l2']\n",
    "    }\n",
    "\n",
    "gs=GridSearchCV(lr,param_grid=param_grid, cv=3,\n",
    "                n_jobs=-1, scoring='accuracy') \n",
    "gs.fit(x_train, y_train)"
   ]
  },
  {
   "cell_type": "code",
   "execution_count": null,
   "metadata": {},
   "outputs": [],
   "source": [
    "accuracy_score(gs.predict(x_test), y_test)"
   ]
  },
  {
   "cell_type": "code",
   "execution_count": null,
   "metadata": {},
   "outputs": [],
   "source": [
    "print_cv_results(gs.cv_results_['mean_test_score'],\n",
    "                 len_c, gs.get_params(), 'C','penalty')"
   ]
  },
  {
   "cell_type": "markdown",
   "metadata": {},
   "source": [
    "<img src=\"../pic/solvers_ovr.png\" alt=\"Drawing\" style=\"width: 600px;\"/>\n",
    "  \n",
    "Source: [User Guide](https://scikit-learn.org/stable/modules/linear_model.html#logistic-regression)"
   ]
  },
  {
   "cell_type": "markdown",
   "metadata": {},
   "source": [
    "### Почему L1 штраф не применяется для градиентных методов? \n",
    "\n",
    "По сути, мы добавляем сумму модулей весов к функции потерь, но как Вы знаете, производная функции модуля при x = 0 не определена, поэтому, возникают сложности с градиентными методами. \n",
    "\n"
   ]
  },
  {
   "cell_type": "markdown",
   "metadata": {},
   "source": [
    "### Stochatic Average Gradient (SAG)\n",
    "Объединение градиентного спуска и стохастического. \n",
    "При этом, он имеет низкую стоимость итерации свойственной SGD, но делает шаг градиента по отношению к аппроксимации полного градиента:\n",
    "<img src=\"../pic/sag.png\" alt=\"Drawing\" style=\"width: 500px;\"/>\n",
    "\n",
    "\n",
    "\n",
    "__Недостатки:__\n",
    "- Нет L1\n",
    "- Непрактичен для больших выборок, так как имеет высокую вычислительную сложность"
   ]
  },
  {
   "cell_type": "markdown",
   "metadata": {},
   "source": [
    "# Stochatic Average Gradient Augmented (SAGA)\n",
    "\n",
    "SAGA является вариантом SAG, но который поддерживает опцию non-smooth penalty=l1 (т. е. регуляризацию L1).\n",
    "\n",
    "[Подробнее: ](https://www.di.ens.fr/~fbach/Defazio_NIPS2014.pdf)"
   ]
  },
  {
   "cell_type": "code",
   "execution_count": null,
   "metadata": {},
   "outputs": [],
   "source": [
    "lr_clf = LogisticRegression(solver='saga', multi_class='multinomial', max_iter=500)"
   ]
  },
  {
   "cell_type": "code",
   "execution_count": null,
   "metadata": {},
   "outputs": [],
   "source": [
    "%%time\n",
    "gs=GridSearchCV(lr_clf,param_grid=param_grid, cv=3,\n",
    "                n_jobs=-1, scoring='accuracy') \n",
    "gs.fit(x_train/16, y_train)"
   ]
  },
  {
   "cell_type": "code",
   "execution_count": null,
   "metadata": {},
   "outputs": [],
   "source": [
    "print_cv_results(gs.cv_results_['mean_test_score'],\n",
    "                 len_c, gs.get_params(), 'C','penalty')"
   ]
  },
  {
   "cell_type": "code",
   "execution_count": null,
   "metadata": {},
   "outputs": [],
   "source": [
    "accuracy_score(gs.predict(x_test), y_test)"
   ]
  },
  {
   "cell_type": "code",
   "execution_count": null,
   "metadata": {},
   "outputs": [],
   "source": []
  },
  {
   "cell_type": "code",
   "execution_count": null,
   "metadata": {},
   "outputs": [],
   "source": []
  },
  {
   "cell_type": "code",
   "execution_count": null,
   "metadata": {},
   "outputs": [],
   "source": []
  },
  {
   "cell_type": "code",
   "execution_count": null,
   "metadata": {},
   "outputs": [],
   "source": [
    "from sklearn.svm import SVC"
   ]
  },
  {
   "cell_type": "code",
   "execution_count": null,
   "metadata": {},
   "outputs": [],
   "source": [
    "svc = SVC(kernel='linear')\n",
    "svc.fit(x_train/16, y_train)\n",
    "accuracy_score(svc.predict(x_test), y_test)"
   ]
  },
  {
   "cell_type": "code",
   "execution_count": null,
   "metadata": {},
   "outputs": [],
   "source": [
    "len_c = 20\n",
    "param_grid={\n",
    "    'C': np.linspace(0.001, 10, len_c), \n",
    "    'kernel': ['linear', 'rbf', 'poly']\n",
    "    }\n",
    "\n",
    "gs=GridSearchCV(svc,param_grid=param_grid, cv=3,\n",
    "                n_jobs=-1, scoring='accuracy') \n",
    "gs.fit(x_train/16, y_train)"
   ]
  },
  {
   "cell_type": "code",
   "execution_count": null,
   "metadata": {},
   "outputs": [],
   "source": [
    "print_cv_results(gs.cv_results_['mean_test_score'],\n",
    "                 len_c, gs.get_params(), 'C','kernel')"
   ]
  },
  {
   "cell_type": "code",
   "execution_count": null,
   "metadata": {},
   "outputs": [],
   "source": [
    "d = np.array([[1,2],[3,4]])\n",
    "print(d)"
   ]
  },
  {
   "cell_type": "code",
   "execution_count": null,
   "metadata": {},
   "outputs": [],
   "source": [
    "d.mean(axis=0)"
   ]
  },
  {
   "cell_type": "code",
   "execution_count": null,
   "metadata": {},
   "outputs": [],
   "source": [
    "from sklearn.decomposition import PCA"
   ]
  },
  {
   "cell_type": "code",
   "execution_count": null,
   "metadata": {},
   "outputs": [],
   "source": [
    "fig, axes = plt.subplots(8, 8, figsize=(10, 10))\n",
    "fig.subplots_adjust(hspace=0.1, wspace=0.1)\n",
    "\n",
    "for index, ax in enumerate(axes.flat):\n",
    "    n_components = index + 1\n",
    "    pca = PCA(n_components = n_components).fit(X)\n",
    "    recovered_image = pca.inverse_transform(pca.transform(X[target_image_id].reshape((1,-1))))\n",
    "    ax.imshow(recovered_image.reshape((8, 8)), cmap='binary')\n",
    "    ax.text(0.95, 0.05, 'n = {0}'.format(n_components), ha='right',\n",
    "            transform=ax.transAxes, color='red')\n",
    "    ax.set_xticks([])\n",
    "    ax.set_yticks([])"
   ]
  },
  {
   "cell_type": "code",
   "execution_count": null,
   "metadata": {},
   "outputs": [],
   "source": [
    "lr = LogisticRegression()"
   ]
  },
  {
   "cell_type": "code",
   "execution_count": null,
   "metadata": {},
   "outputs": [],
   "source": [
    "acc_list = []\n",
    "for index, ax in enumerate(axes.flat):\n",
    "    n_components = index + 1\n",
    "    pca = PCA(n_components = n_components).fit(x_train)\n",
    "    x_pca = pca.transform(x_train)\n",
    "    lr.fit(x_pca, y_train)\n",
    "    acc = accuracy_score(lr.predict(pca.transform(x_test)), y_test)\n",
    "    acc_list = np.append(acc_list, acc)"
   ]
  },
  {
   "cell_type": "code",
   "execution_count": null,
   "metadata": {},
   "outputs": [],
   "source": [
    "pca = PCA().fit(X)\n",
    "\n",
    "plt.figure(figsize=(10,7))\n",
    "# plot cumulative PVE for each value of [1..n_components]\n",
    "# hint: see np.cumsum\n",
    "plt.plot(np.cumsum(pca.explained_variance_ratio_), \n",
    "         color='black', lw=2, label='explained variance ratio')\n",
    "plt.plot(acc_list, label='accuracy of logistic regression')\n",
    "# plot horizontal line for PVE 90%, set \"red\" color\n",
    "plt.hlines(0.9,0,64, color='r', lw=2,  linestyle=':')\n",
    "# plot vertical line for chosen pca_pve90_n_components, set \"blue\" color\n",
    "plt.axvline(np.min(np.where(np.cumsum(pca.explained_variance_ratio_)>0.90))+1, \n",
    "             linestyle=':' , color='b', lw=2)\n",
    "\n",
    "plt.xlim(0, X.shape[1])\n",
    "plt.yticks(np.arange(0, 1.1, 0.1))\n",
    "plt.legend(loc=4)\n",
    "plt.xlabel('Number of components')\n",
    "plt.ylabel('Total explained variance');"
   ]
  },
  {
   "cell_type": "code",
   "execution_count": null,
   "metadata": {},
   "outputs": [],
   "source": []
  },
  {
   "cell_type": "code",
   "execution_count": null,
   "metadata": {},
   "outputs": [],
   "source": [
    "pca = PCA(n_components=2)\n",
    "x_pca_2 = pca.fit_transform(x_train)"
   ]
  },
  {
   "cell_type": "code",
   "execution_count": null,
   "metadata": {},
   "outputs": [],
   "source": [
    "fr_com_pca = x_pca_2[:,0]\n",
    "sec_com_pca = x_pca_2[:,1]"
   ]
  },
  {
   "cell_type": "code",
   "execution_count": null,
   "metadata": {},
   "outputs": [],
   "source": [
    "plt.scatter(fr_com_pca, sec_com_pca, c=y_train)\n",
    "plt.show()"
   ]
  },
  {
   "cell_type": "code",
   "execution_count": null,
   "metadata": {},
   "outputs": [],
   "source": [
    "from sklearn.manifold import TSNE"
   ]
  },
  {
   "cell_type": "code",
   "execution_count": null,
   "metadata": {},
   "outputs": [],
   "source": [
    "t_sne = TSNE()"
   ]
  },
  {
   "cell_type": "code",
   "execution_count": null,
   "metadata": {},
   "outputs": [],
   "source": [
    "x_sne_2 = t_sne.fit_transform(x_train)"
   ]
  },
  {
   "cell_type": "code",
   "execution_count": null,
   "metadata": {},
   "outputs": [],
   "source": [
    "fr_com_sne = x_sne_2[:,0]\n",
    "sec_com_sne = x_sne_2[:,1]"
   ]
  },
  {
   "cell_type": "code",
   "execution_count": null,
   "metadata": {},
   "outputs": [],
   "source": [
    "plt.scatter(fr_com_sne, sec_com_sne, c=y_train)\n",
    "plt.show()"
   ]
  },
  {
   "cell_type": "markdown",
   "metadata": {},
   "source": [
    "# Что почитать: \n",
    "- [Regularized Logistic Regression is Strictly Convex](http://www.qwone.com/~jason/writing/convexLR.pdf)\n",
    "- [SAGA: A Fast Incremental Gradient Method With Support for Non-Strongly Convex Composite Objectives\n",
    "](https://www.di.ens.fr/~fbach/Defazio_NIPS2014.pdf)\n",
    "- [Лекции Евгения Соколова](https://github.com/esokolov/ml-course-hse/tree/master/2018-fall/lecture-notes)\n",
    "- [Препарируем t-SNE](https://habr.com/en/post/267041/)\n",
    "- [How to Use t-SNE Effectively](https://distill.pub/2016/misread-tsne/)"
   ]
  }
 ],
 "metadata": {
  "kernelspec": {
   "display_name": "Python 3",
   "language": "python",
   "name": "python3"
  },
  "language_info": {
   "codemirror_mode": {
    "name": "ipython",
    "version": 3
   },
   "file_extension": ".py",
   "mimetype": "text/x-python",
   "name": "python",
   "nbconvert_exporter": "python",
   "pygments_lexer": "ipython3",
   "version": "3.5.2"
  }
 },
 "nbformat": 4,
 "nbformat_minor": 2
}
