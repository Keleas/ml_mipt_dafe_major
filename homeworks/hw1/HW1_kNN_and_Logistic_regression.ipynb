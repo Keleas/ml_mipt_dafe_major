{
 "cells": [
  {
   "cell_type": "markdown",
   "metadata": {
    "colab_type": "text",
    "id": "v5Fj-ahf25os"
   },
   "source": [
    "# Домашнее задание №1\n",
    "## Классификация. Логистическая регрессия, kNN и SVM."
   ]
  },
  {
   "cell_type": "markdown",
   "metadata": {
    "colab_type": "text",
    "id": "I6Hq7E5o25ou"
   },
   "source": [
    "\n",
    "<span style=\"color: red; font-size: 14pt\">  Дедлайн: 24.03.2019 - 23:59 </span>  \n",
    "\n",
    "Итоговый ноутбук нужно загрузить сюда: [bit.ly/dafe_hw](http://bit.ly/dafe_hw)\n",
    "\n",
    "На основе [hw1 ml at mipt](https://github.com/ml-mipt/ml-mipt/blob/master/Homeworks/HW_1_Linclass_kNN/HW1_kNN_and_Logistic_regression.ipynb)"
   ]
  },
  {
   "cell_type": "markdown",
   "metadata": {
    "colab_type": "text",
    "id": "qZX1Urv425ov"
   },
   "source": [
    "### Часть 1. Небольшой numpy-разогрев. (5%)"
   ]
  },
  {
   "cell_type": "code",
   "execution_count": 1,
   "metadata": {
    "colab": {
     "autoexec": {
      "startup": false,
      "wait_interval": 0
     }
    },
    "colab_type": "code",
    "id": "ABwrGwvF25ow"
   },
   "outputs": [],
   "source": [
    "import numpy as np\n",
    "import pandas as pd\n",
    "import warnings\n",
    "warnings.simplefilter('ignore')\n"
   ]
  },
  {
   "cell_type": "code",
   "execution_count": 2,
   "metadata": {
    "colab": {
     "autoexec": {
      "startup": false,
      "wait_interval": 0
     }
    },
    "colab_type": "code",
    "id": "GYgIRlqf25o0"
   },
   "outputs": [
    {
     "name": "stdout",
     "output_type": "stream",
     "text": [
      "[[ 8 20 85  3 22 41 45 88 58 75]\n",
      " [61 17 46 30 21 71  6 11 64 88]\n",
      " [19 71 96 92 45  2 51 13 12 33]\n",
      " [44 70 80 85 65 97 10 22 58 60]\n",
      " [98 49 88 40 51 79 94 37 67 51]\n",
      " [ 9 72 63 92 70 73 91 83 18 79]\n",
      " [83 88 13  4 34 34 30 62 24 88]\n",
      " [31 97 79 29 18 68 33 67 99  0]\n",
      " [21  0 14 91 64 54 60 36 54 23]\n",
      " [58  5 38 94  8 60 41 84 58 39]]\n"
     ]
    }
   ],
   "source": [
    "# Создайте случайную матрицу A размерами 10 на 10 из целых чисел от 0 до 100\n",
    "# hint: np.random.randint\n",
    "\n",
    "A = np.random.randint(0, 100, size=(10,10))\n",
    "print(A)"
   ]
  },
  {
   "cell_type": "code",
   "execution_count": 3,
   "metadata": {
    "colab": {
     "autoexec": {
      "startup": false,
      "wait_interval": 0
     }
    },
    "colab_type": "code",
    "id": "7aB62Lzk25o2"
   },
   "outputs": [
    {
     "data": {
      "text/plain": [
       "array([ 43.2,  48.9,  60.2,  56. ,  39.8,  57.9,  46.1,  50.3,  51.2,  53.6])"
      ]
     },
     "execution_count": 3,
     "metadata": {},
     "output_type": "execute_result"
    }
   ],
   "source": [
    "# Посчитайте средние значения в матрице по столбцам\n",
    "A.mean(axis=0)"
   ]
  },
  {
   "cell_type": "code",
   "execution_count": 4,
   "metadata": {
    "colab": {
     "autoexec": {
      "startup": false,
      "wait_interval": 0
     }
    },
    "colab_type": "code",
    "id": "MTLnNqV425o5"
   },
   "outputs": [
    {
     "data": {
      "text/plain": [
       "array([[ 8, 61, 19, 44, 98,  9, 83, 31, 21, 58],\n",
       "       [20, 17, 71, 70, 49, 72, 88, 97,  0,  5],\n",
       "       [85, 46, 96, 80, 88, 63, 13, 79, 14, 38],\n",
       "       [ 3, 30, 92, 85, 40, 92,  4, 29, 91, 94],\n",
       "       [22, 21, 45, 65, 51, 70, 34, 18, 64,  8],\n",
       "       [41, 71,  2, 97, 79, 73, 34, 68, 54, 60],\n",
       "       [45,  6, 51, 10, 94, 91, 30, 33, 60, 41],\n",
       "       [88, 11, 13, 22, 37, 83, 62, 67, 36, 84],\n",
       "       [58, 64, 12, 58, 67, 18, 24, 99, 54, 58],\n",
       "       [75, 88, 33, 60, 51, 79, 88,  0, 23, 39]])"
      ]
     },
     "execution_count": 4,
     "metadata": {},
     "output_type": "execute_result"
    }
   ],
   "source": [
    "# Транспонируйте матрицу A\n",
    "\n",
    "A.T"
   ]
  },
  {
   "cell_type": "code",
   "execution_count": 5,
   "metadata": {
    "colab": {
     "autoexec": {
      "startup": false,
      "wait_interval": 0
     }
    },
    "colab_type": "code",
    "id": "WgDUhrYV25o8"
   },
   "outputs": [
    {
     "data": {
      "text/plain": [
       "array([[  64, 1220, 1615,  132, 2156,  369, 3735, 2728, 1218, 4350],\n",
       "       [1220,  289, 3266, 2100, 1029, 5112,  528, 1067,    0,  440],\n",
       "       [1615, 3266, 9216, 7360, 3960,  126,  663, 1027,  168, 1254],\n",
       "       [ 132, 2100, 7360, 7225, 2600, 8924,   40,  638, 5278, 5640],\n",
       "       [2156, 1029, 3960, 2600, 2601, 5530, 3196,  666, 4288,  408],\n",
       "       [ 369, 5112,  126, 8924, 5530, 5329, 3094, 5644,  972, 4740],\n",
       "       [3735,  528,  663,   40, 3196, 3094,  900, 2046, 1440, 3608],\n",
       "       [2728, 1067, 1027,  638,  666, 5644, 2046, 4489, 3564,    0],\n",
       "       [1218,    0,  168, 5278, 4288,  972, 1440, 3564, 2916, 1334],\n",
       "       [4350,  440, 1254, 5640,  408, 4740, 3608,    0, 1334, 1521]])"
      ]
     },
     "execution_count": 5,
     "metadata": {},
     "output_type": "execute_result"
    }
   ],
   "source": [
    "# Перемножьте поэлементно матрицу A и транспонированную матрицу A \n",
    "\n",
    "A * A.T"
   ]
  },
  {
   "cell_type": "code",
   "execution_count": 6,
   "metadata": {
    "colab": {
     "autoexec": {
      "startup": false,
      "wait_interval": 0
     }
    },
    "colab_type": "code",
    "id": "xwgLyFDD25o9"
   },
   "outputs": [
    {
     "name": "stdout",
     "output_type": "stream",
     "text": [
      "[[28621 19751 17690 24464 28922 30044 20481 25297 15978 22238]\n",
      " [19751 24505 14750 27650 28486 23647 20547 20521 16069 20933]\n",
      " [17690 14750 29114 27897 27684 31634 16567 22416 18038 19399]\n",
      " [24464 27650 27897 41643 37860 38447 25036 32251 25081 28234]\n",
      " [28922 28486 27684 37860 47486 39831 29380 34407 26223 31018]\n",
      " [30044 23647 31634 38447 39831 49662 28392 31478 29102 31692]\n",
      " [20481 20547 16567 25036 29380 28392 30194 22696 13653 19698]\n",
      " [25297 20521 22416 32251 34407 31478 22696 37779 18958 24958]\n",
      " [15978 16069 18038 25081 26223 29102 13653 18958 24271 23569]\n",
      " [22238 20933 19399 28234 31018 31692 19698 24958 23569 30955]]\n"
     ]
    }
   ],
   "source": [
    "# Посчитайте dot product (результат матричного умножения) матрицы A на саму себя и запишите в матрицу B\n",
    "\n",
    "B = np.dot(A, A.T)\n",
    "print(B)"
   ]
  },
  {
   "cell_type": "markdown",
   "metadata": {
    "colab_type": "text",
    "id": "9S8tqIMG25pb"
   },
   "source": [
    "### Часть 2. Решение задачи классификации 95%"
   ]
  },
  {
   "cell_type": "markdown",
   "metadata": {
    "colab_type": "text",
    "id": "T2docs4225pb"
   },
   "source": [
    "Будем работать с подвыборкой из [данных о типе лесного покрытия из репозитория UCI](http://archive.ics.uci.edu/ml/datasets/Covertype). Доступно 7 различных классов. Каждый объект описывается 54 признаками, 40 из которых являются бинарными. Описание данных доступно по ссылке, а так же в файле `covtype.info.txt`."
   ]
  },
  {
   "cell_type": "code",
   "execution_count": 7,
   "metadata": {
    "colab": {
     "autoexec": {
      "startup": false,
      "wait_interval": 0
     }
    },
    "colab_type": "code",
    "id": "rvPrVRvK25pc"
   },
   "outputs": [],
   "source": [
    "all_data = pd.read_csv('../../data/forest_dataset.csv')"
   ]
  },
  {
   "cell_type": "code",
   "execution_count": 8,
   "metadata": {},
   "outputs": [
    {
     "data": {
      "text/html": [
       "<div>\n",
       "<style scoped>\n",
       "    .dataframe tbody tr th:only-of-type {\n",
       "        vertical-align: middle;\n",
       "    }\n",
       "\n",
       "    .dataframe tbody tr th {\n",
       "        vertical-align: top;\n",
       "    }\n",
       "\n",
       "    .dataframe thead th {\n",
       "        text-align: right;\n",
       "    }\n",
       "</style>\n",
       "<table border=\"1\" class=\"dataframe\">\n",
       "  <thead>\n",
       "    <tr style=\"text-align: right;\">\n",
       "      <th></th>\n",
       "      <th>0</th>\n",
       "      <th>1</th>\n",
       "      <th>2</th>\n",
       "      <th>3</th>\n",
       "      <th>4</th>\n",
       "      <th>5</th>\n",
       "      <th>6</th>\n",
       "      <th>7</th>\n",
       "      <th>8</th>\n",
       "      <th>9</th>\n",
       "      <th>...</th>\n",
       "      <th>45</th>\n",
       "      <th>46</th>\n",
       "      <th>47</th>\n",
       "      <th>48</th>\n",
       "      <th>49</th>\n",
       "      <th>50</th>\n",
       "      <th>51</th>\n",
       "      <th>52</th>\n",
       "      <th>53</th>\n",
       "      <th>54</th>\n",
       "    </tr>\n",
       "  </thead>\n",
       "  <tbody>\n",
       "    <tr>\n",
       "      <th>0</th>\n",
       "      <td>2683</td>\n",
       "      <td>333</td>\n",
       "      <td>35</td>\n",
       "      <td>30</td>\n",
       "      <td>26</td>\n",
       "      <td>2743</td>\n",
       "      <td>121</td>\n",
       "      <td>173</td>\n",
       "      <td>179</td>\n",
       "      <td>6572</td>\n",
       "      <td>...</td>\n",
       "      <td>0</td>\n",
       "      <td>0</td>\n",
       "      <td>0</td>\n",
       "      <td>0</td>\n",
       "      <td>0</td>\n",
       "      <td>0</td>\n",
       "      <td>0</td>\n",
       "      <td>0</td>\n",
       "      <td>0</td>\n",
       "      <td>2</td>\n",
       "    </tr>\n",
       "    <tr>\n",
       "      <th>1</th>\n",
       "      <td>2915</td>\n",
       "      <td>90</td>\n",
       "      <td>8</td>\n",
       "      <td>216</td>\n",
       "      <td>11</td>\n",
       "      <td>4433</td>\n",
       "      <td>232</td>\n",
       "      <td>228</td>\n",
       "      <td>129</td>\n",
       "      <td>4019</td>\n",
       "      <td>...</td>\n",
       "      <td>0</td>\n",
       "      <td>0</td>\n",
       "      <td>0</td>\n",
       "      <td>0</td>\n",
       "      <td>0</td>\n",
       "      <td>0</td>\n",
       "      <td>0</td>\n",
       "      <td>0</td>\n",
       "      <td>0</td>\n",
       "      <td>1</td>\n",
       "    </tr>\n",
       "    <tr>\n",
       "      <th>2</th>\n",
       "      <td>2941</td>\n",
       "      <td>162</td>\n",
       "      <td>7</td>\n",
       "      <td>698</td>\n",
       "      <td>76</td>\n",
       "      <td>2783</td>\n",
       "      <td>227</td>\n",
       "      <td>242</td>\n",
       "      <td>148</td>\n",
       "      <td>1784</td>\n",
       "      <td>...</td>\n",
       "      <td>0</td>\n",
       "      <td>0</td>\n",
       "      <td>0</td>\n",
       "      <td>0</td>\n",
       "      <td>0</td>\n",
       "      <td>0</td>\n",
       "      <td>0</td>\n",
       "      <td>0</td>\n",
       "      <td>0</td>\n",
       "      <td>2</td>\n",
       "    </tr>\n",
       "    <tr>\n",
       "      <th>3</th>\n",
       "      <td>3096</td>\n",
       "      <td>60</td>\n",
       "      <td>17</td>\n",
       "      <td>170</td>\n",
       "      <td>3</td>\n",
       "      <td>3303</td>\n",
       "      <td>231</td>\n",
       "      <td>202</td>\n",
       "      <td>99</td>\n",
       "      <td>5370</td>\n",
       "      <td>...</td>\n",
       "      <td>0</td>\n",
       "      <td>0</td>\n",
       "      <td>0</td>\n",
       "      <td>0</td>\n",
       "      <td>0</td>\n",
       "      <td>0</td>\n",
       "      <td>0</td>\n",
       "      <td>0</td>\n",
       "      <td>0</td>\n",
       "      <td>1</td>\n",
       "    </tr>\n",
       "    <tr>\n",
       "      <th>4</th>\n",
       "      <td>2999</td>\n",
       "      <td>66</td>\n",
       "      <td>8</td>\n",
       "      <td>488</td>\n",
       "      <td>37</td>\n",
       "      <td>1532</td>\n",
       "      <td>228</td>\n",
       "      <td>225</td>\n",
       "      <td>131</td>\n",
       "      <td>2290</td>\n",
       "      <td>...</td>\n",
       "      <td>0</td>\n",
       "      <td>0</td>\n",
       "      <td>0</td>\n",
       "      <td>0</td>\n",
       "      <td>0</td>\n",
       "      <td>0</td>\n",
       "      <td>0</td>\n",
       "      <td>0</td>\n",
       "      <td>0</td>\n",
       "      <td>2</td>\n",
       "    </tr>\n",
       "  </tbody>\n",
       "</table>\n",
       "<p>5 rows × 55 columns</p>\n",
       "</div>"
      ],
      "text/plain": [
       "      0    1   2    3   4     5    6    7    8     9  ...  45  46  47  48  49  \\\n",
       "0  2683  333  35   30  26  2743  121  173  179  6572  ...   0   0   0   0   0   \n",
       "1  2915   90   8  216  11  4433  232  228  129  4019  ...   0   0   0   0   0   \n",
       "2  2941  162   7  698  76  2783  227  242  148  1784  ...   0   0   0   0   0   \n",
       "3  3096   60  17  170   3  3303  231  202   99  5370  ...   0   0   0   0   0   \n",
       "4  2999   66   8  488  37  1532  228  225  131  2290  ...   0   0   0   0   0   \n",
       "\n",
       "   50  51  52  53  54  \n",
       "0   0   0   0   0   2  \n",
       "1   0   0   0   0   1  \n",
       "2   0   0   0   0   2  \n",
       "3   0   0   0   0   1  \n",
       "4   0   0   0   0   2  \n",
       "\n",
       "[5 rows x 55 columns]"
      ]
     },
     "execution_count": 8,
     "metadata": {},
     "output_type": "execute_result"
    }
   ],
   "source": [
    "all_data.head()"
   ]
  },
  {
   "cell_type": "markdown",
   "metadata": {
    "colab_type": "text",
    "id": "DrX0W5si25pe"
   },
   "source": [
    "Выделите 20% данных в `delayed_data` в качестве выборки, на которой будет производиться финальное сравнение моделей, в `all_data` поместите оставшиеся 80%."
   ]
  },
  {
   "cell_type": "code",
   "execution_count": 9,
   "metadata": {
    "colab": {
     "autoexec": {
      "startup": false,
      "wait_interval": 0
     }
    },
    "colab_type": "code",
    "id": "Deu3A-yc25pf"
   },
   "outputs": [],
   "source": [
    "from sklearn.model_selection import train_test_split\n",
    "\n",
    "all_data, delayed_data = train_test_split(all_data, \n",
    "                                          train_size=0.8, test_size=0.2,\n",
    "                                         shuffle=True, random_state=42)"
   ]
  },
  {
   "cell_type": "markdown",
   "metadata": {
    "colab_type": "text",
    "id": "itCWxHEY25pg"
   },
   "source": [
    "Выделим значения метки класса в переменную `labels`, признаковые описания в переменную `feature_matrix`. Так как данные числовые и не имеют пропусков, переведем их в `numpy`-формат с помощью метода `.values`."
   ]
  },
  {
   "cell_type": "code",
   "execution_count": 10,
   "metadata": {
    "colab": {
     "autoexec": {
      "startup": false,
      "wait_interval": 0
     }
    },
    "colab_type": "code",
    "id": "f_YIUOuV25ph"
   },
   "outputs": [],
   "source": [
    "labels = all_data[all_data.columns[-1]].values\n",
    "feature_matrix = all_data[all_data.columns[:-1]].values"
   ]
  },
  {
   "cell_type": "markdown",
   "metadata": {
    "colab_type": "text",
    "id": "dKCiU0wz25pj"
   },
   "source": [
    "#### 2.1 Двуклассовая классификация (5%)"
   ]
  },
  {
   "cell_type": "markdown",
   "metadata": {
    "colab_type": "text",
    "id": "LYDttiOJ25pj"
   },
   "source": [
    "Для начала будем работать только с двумя типами лесного покрытия. Обучите линейный классификатор для разделения двух классов. Данные разделите на train и test с помощью `train_test_split`."
   ]
  },
  {
   "cell_type": "code",
   "execution_count": 11,
   "metadata": {
    "colab": {
     "autoexec": {
      "startup": false,
      "wait_interval": 0
     }
    },
    "colab_type": "code",
    "id": "Q030jzyY25pl"
   },
   "outputs": [],
   "source": [
    "from sklearn.linear_model import LogisticRegression\n",
    "from sklearn.metrics import f1_score, accuracy_score"
   ]
  },
  {
   "cell_type": "code",
   "execution_count": 12,
   "metadata": {
    "colab": {
     "autoexec": {
      "startup": false,
      "wait_interval": 0
     }
    },
    "colab_type": "code",
    "id": "taWX6ME925pn"
   },
   "outputs": [],
   "source": [
    "two_class_labels_indices = (labels == 1) + (labels == 2)\n",
    "\n",
    "two_class_feature_matrix = feature_matrix[two_class_labels_indices]\n",
    "two_class_labels = labels[two_class_labels_indices]"
   ]
  },
  {
   "cell_type": "code",
   "execution_count": 13,
   "metadata": {
    "colab": {
     "autoexec": {
      "startup": false,
      "wait_interval": 0
     }
    },
    "colab_type": "code",
    "id": "zoQPXD_k25po"
   },
   "outputs": [],
   "source": [
    "train_feature_matrix, test_feature_matrix, train_labels, test_labels = train_test_split(two_class_feature_matrix, \n",
    "                                                                                        two_class_labels, \n",
    "                                                                                        train_size=0.8,  \n",
    "                                                                                        test_size=0.2, \n",
    "                                                                                        shuffle=True, \n",
    "                                                                                        random_state=42)"
   ]
  },
  {
   "cell_type": "markdown",
   "metadata": {
    "colab_type": "text",
    "id": "A8iDa9Je25pq"
   },
   "source": [
    "Обучите логистическую регрессию. Оцените качество классификации на отложенной выборке с помощью `accuracy` и `f1_score` ([Wikipedia](https://en.wikipedia.org/wiki/F1_score))."
   ]
  },
  {
   "cell_type": "code",
   "execution_count": 14,
   "metadata": {
    "colab": {
     "autoexec": {
      "startup": false,
      "wait_interval": 0
     }
    },
    "colab_type": "code",
    "id": "VF2CeR7W25pt"
   },
   "outputs": [
    {
     "name": "stdout",
     "output_type": "stream",
     "text": [
      "accuracy = 0.764\n",
      "f1 score = 0.724\n"
     ]
    }
   ],
   "source": [
    "lr_clf = LogisticRegression()\n",
    "lr_clf.fit(train_feature_matrix, train_labels)\n",
    "\n",
    "acc = accuracy_score(lr_clf.predict(test_feature_matrix), test_labels)\n",
    "print('accuracy = {:.3f}'.format(acc))\n",
    "\n",
    "f1 = f1_score(lr_clf.predict(test_feature_matrix), test_labels)\n",
    "print('f1 score = {:.3f}'.format(f1))"
   ]
  },
  {
   "cell_type": "markdown",
   "metadata": {
    "colab_type": "text",
    "id": "9MKHZ2JC25pv"
   },
   "source": [
    "#### 2.2 Многоклассовая классификация: логистическая регрессия (30%)"
   ]
  },
  {
   "cell_type": "markdown",
   "metadata": {
    "colab_type": "text",
    "id": "P1mWe4kJ25pv"
   },
   "source": [
    "**Комментарий:**\n",
    "\n",
    "*Логистическая регрессия позволяет решать и задачу многоклассовой классификации. Класс ``LogisticRegression`` позвляет это делать двумя способами:* \n",
    "- *1. Стандартный One vs Rest (т.е. каждый класс отделяется от всех других). Параметр `multi_class='ovr'`.*\n",
    "- *2. Используюя кросс-энтропию (оценивается сразу вектор вероятностей принадлежности классам). Параметр `multi_class='multinomial'`.*\n",
    "\n",
    "*По умолчанию будем использовать второй способ.*\n"
   ]
  },
  {
   "cell_type": "markdown",
   "metadata": {
    "colab_type": "text",
    "id": "BGn7U05I25pw"
   },
   "source": [
    "Теперь будем работать со всеми 7 типами покрытия (данные уже находятся в переменных `feature_matrix` и `labels`, если Вы их не переопределили). Разделите выборку на обучающую и тестовую с помощью метода `train_test_split`, используйте значения параметров `test_size=0.2`, `random_state=42`. Обучите логистическую регрессию  на данном датасете."
   ]
  },
  {
   "cell_type": "code",
   "execution_count": 15,
   "metadata": {},
   "outputs": [],
   "source": [
    "train_feature_matrix, test_feature_matrix, train_labels, test_labels = train_test_split(feature_matrix, \n",
    "                                                                                        labels, \n",
    "                                                                                        train_size=0.8,  \n",
    "                                                                                        test_size=0.2, \n",
    "                                                                                        shuffle=True, \n",
    "                                                                                        random_state=42)"
   ]
  },
  {
   "cell_type": "code",
   "execution_count": 16,
   "metadata": {
    "colab": {
     "autoexec": {
      "startup": false,
      "wait_interval": 0
     }
    },
    "colab_type": "code",
    "id": "xqzEKcdD25px"
   },
   "outputs": [
    {
     "data": {
      "text/plain": [
       "LogisticRegression(C=1.0, class_weight=None, dual=False, fit_intercept=True,\n",
       "          intercept_scaling=1, max_iter=100, multi_class='warn', n_jobs=-1,\n",
       "          penalty='l2', random_state=None, solver='warn', tol=0.0001,\n",
       "          verbose=0, warm_start=False)"
      ]
     },
     "execution_count": 16,
     "metadata": {},
     "output_type": "execute_result"
    }
   ],
   "source": [
    "lr_clf = LogisticRegression(n_jobs=-1)\n",
    "\n",
    "lr_clf.fit(train_feature_matrix, train_labels)"
   ]
  },
  {
   "cell_type": "markdown",
   "metadata": {
    "colab_type": "text",
    "id": "5QqTntPq25p0"
   },
   "source": [
    "С помощью 5-кратной кросс-валидации (`GridSearchCV`) подберите оптимальное значение параметров `С` и `penalty`. Для параметра `C` используйте набор значений `np.linspace(0.01, 1, 10)`, а для `penalty` - `['l1', 'l2']`. Критерий качества `scoring = 'accuracy'`."
   ]
  },
  {
   "cell_type": "code",
   "execution_count": 17,
   "metadata": {
    "colab": {
     "autoexec": {
      "startup": false,
      "wait_interval": 0
     }
    },
    "colab_type": "code",
    "id": "j-M-porJ25p0"
   },
   "outputs": [
    {
     "name": "stdout",
     "output_type": "stream",
     "text": [
      "Wall time: 35.3 s\n"
     ]
    }
   ],
   "source": [
    "%%time\n",
    "from sklearn.model_selection import GridSearchCV\n",
    "\n",
    "parameters = {'penalty':('l1', 'l2'), 'C':np.linspace(0.01, 1, 10)}\n",
    "clf = LogisticRegression(n_jobs=-1)\n",
    "lr_clf = GridSearchCV(clf, parameters, cv=5, scoring='accuracy', n_jobs=-1)\n",
    "lr_clf.fit(train_feature_matrix, train_labels)"
   ]
  },
  {
   "cell_type": "code",
   "execution_count": 18,
   "metadata": {
    "scrolled": true
   },
   "outputs": [
    {
     "data": {
      "text/plain": [
       "{'mean_fit_time': array([  4.71392074,   1.07352529,   9.30269871,   1.51614065,\n",
       "         12.40395417,   1.60057449,  13.71074739,   1.4093399 ,\n",
       "         11.32898583,   1.41781964,  11.76596994,   1.40915027,\n",
       "         11.2215332 ,   1.38349185,  10.45904689,   1.39218402,\n",
       "          9.3778903 ,   1.47239799,   8.45809436,   1.28878598]),\n",
       " 'std_fit_time': array([ 0.4599127 ,  0.05934106,  0.5033747 ,  0.03825041,  0.6341032 ,\n",
       "         0.04177638,  1.34634648,  0.0783568 ,  1.84878925,  0.11395262,\n",
       "         2.25991733,  0.07902588,  0.98185119,  0.07097798,  1.0578205 ,\n",
       "         0.10058258,  0.24304002,  0.18468576,  0.96365054,  0.09939509]),\n",
       " 'mean_score_time': array([ 0.00978479,  0.00678186,  0.00938897,  0.00429869,  0.00938621,\n",
       "         0.00398922,  0.00461035,  0.00139723,  0.00119662,  0.00099792,\n",
       "         0.00100622,  0.00131221,  0.00079832,  0.00101171,  0.00080142,\n",
       "         0.00099669,  0.00040245,  0.00121374,  0.00059557,  0.00110135]),\n",
       " 'std_score_time': array([  4.04851950e-04,   5.10140186e-03,   5.12663203e-04,\n",
       "          3.84710287e-04,   4.80104828e-04,   9.41677936e-07,\n",
       "          4.45270018e-03,   4.88246990e-04,   3.99232548e-04,\n",
       "          7.00804637e-07,   3.19705841e-04,   6.01470631e-04,\n",
       "          3.99161482e-04,   2.95287354e-05,   7.51997258e-04,\n",
       "          3.23406696e-07,   8.04901123e-04,   3.92364012e-04,\n",
       "          4.86318244e-04,   2.08450366e-04]),\n",
       " 'param_C': masked_array(data = [0.01 0.01 0.12 0.12 0.23000000000000001 0.23000000000000001\n",
       "  0.34000000000000002 0.34000000000000002 0.45000000000000001\n",
       "  0.45000000000000001 0.56000000000000005 0.56000000000000005\n",
       "  0.67000000000000004 0.67000000000000004 0.78000000000000003\n",
       "  0.78000000000000003 0.89000000000000001 0.89000000000000001 1.0 1.0],\n",
       "              mask = [False False False False False False False False False False False False\n",
       "  False False False False False False False False],\n",
       "        fill_value = ?),\n",
       " 'param_penalty': masked_array(data = ['l1' 'l2' 'l1' 'l2' 'l1' 'l2' 'l1' 'l2' 'l1' 'l2' 'l1' 'l2' 'l1' 'l2' 'l1'\n",
       "  'l2' 'l1' 'l2' 'l1' 'l2'],\n",
       "              mask = [False False False False False False False False False False False False\n",
       "  False False False False False False False False],\n",
       "        fill_value = ?),\n",
       " 'params': [{'C': 0.01, 'penalty': 'l1'},\n",
       "  {'C': 0.01, 'penalty': 'l2'},\n",
       "  {'C': 0.12, 'penalty': 'l1'},\n",
       "  {'C': 0.12, 'penalty': 'l2'},\n",
       "  {'C': 0.23000000000000001, 'penalty': 'l1'},\n",
       "  {'C': 0.23000000000000001, 'penalty': 'l2'},\n",
       "  {'C': 0.34000000000000002, 'penalty': 'l1'},\n",
       "  {'C': 0.34000000000000002, 'penalty': 'l2'},\n",
       "  {'C': 0.45000000000000001, 'penalty': 'l1'},\n",
       "  {'C': 0.45000000000000001, 'penalty': 'l2'},\n",
       "  {'C': 0.56000000000000005, 'penalty': 'l1'},\n",
       "  {'C': 0.56000000000000005, 'penalty': 'l2'},\n",
       "  {'C': 0.67000000000000004, 'penalty': 'l1'},\n",
       "  {'C': 0.67000000000000004, 'penalty': 'l2'},\n",
       "  {'C': 0.78000000000000003, 'penalty': 'l1'},\n",
       "  {'C': 0.78000000000000003, 'penalty': 'l2'},\n",
       "  {'C': 0.89000000000000001, 'penalty': 'l1'},\n",
       "  {'C': 0.89000000000000001, 'penalty': 'l2'},\n",
       "  {'C': 1.0, 'penalty': 'l1'},\n",
       "  {'C': 1.0, 'penalty': 'l2'}],\n",
       " 'split0_test_score': array([ 0.68380062,  0.68691589,  0.70015576,  0.6970405 ,  0.70794393,\n",
       "         0.70327103,  0.70327103,  0.7017134 ,  0.70404984,  0.70560748,\n",
       "         0.70327103,  0.70560748,  0.7017134 ,  0.70482866,  0.70560748,\n",
       "         0.69859813,  0.70560748,  0.70327103,  0.70638629,  0.7017134 ]),\n",
       " 'split1_test_score': array([ 0.67734375,  0.684375  ,  0.7015625 ,  0.696875  ,  0.70859375,\n",
       "         0.6984375 ,  0.71171875,  0.7046875 ,  0.71640625,  0.70234375,\n",
       "         0.7140625 ,  0.70703125,  0.715625  ,  0.70625   ,  0.715625  ,\n",
       "         0.70546875,  0.71640625,  0.70625   ,  0.71796875,  0.709375  ]),\n",
       " 'split2_test_score': array([ 0.68178264,  0.68881939,  0.69507428,  0.69429242,  0.696638  ,\n",
       "         0.70289289,  0.70132916,  0.696638  ,  0.70289289,  0.70211102,\n",
       "         0.70132916,  0.70367475,  0.7005473 ,  0.70211102,  0.7005473 ,\n",
       "         0.69820172,  0.69898358,  0.70445661,  0.69976544,  0.69976544]),\n",
       " 'split3_test_score': array([ 0.68021892,  0.69038311,  0.70758405,  0.70289289,  0.70758405,\n",
       "         0.70992963,  0.70680219,  0.70992963,  0.70914777,  0.71149335,\n",
       "         0.70602033,  0.71149335,  0.70758405,  0.70914777,  0.70836591,\n",
       "         0.71149335,  0.71149335,  0.70836591,  0.70992963,  0.70367475]),\n",
       " 'split4_test_score': array([ 0.66666667,  0.67840376,  0.69874804,  0.69405321,  0.70344288,\n",
       "         0.70031299,  0.70657277,  0.70266041,  0.71048513,  0.70266041,\n",
       "         0.70892019,  0.70657277,  0.70657277,  0.70422535,  0.70735524,\n",
       "         0.70657277,  0.71048513,  0.70735524,  0.71048513,  0.70657277]),\n",
       " 'mean_test_score': array([ 0.67796875,  0.68578125,  0.700625  ,  0.69703125,  0.70484375,\n",
       "         0.70296875,  0.7059375 ,  0.703125  ,  0.70859375,  0.70484375,\n",
       "         0.70671875,  0.706875  ,  0.70640625,  0.7053125 ,  0.7075    ,\n",
       "         0.7040625 ,  0.70859375,  0.7059375 ,  0.70890625,  0.70421875]),\n",
       " 'std_test_score': array([ 0.00602725,  0.00419512,  0.00409376,  0.00318455,  0.00448215,\n",
       "         0.00390097,  0.00354754,  0.0043121 ,  0.00486003,  0.00355638,\n",
       "         0.00447673,  0.00257967,  0.00534399,  0.0023338 ,  0.00487198,\n",
       "         0.00505407,  0.00590317,  0.00186122,  0.00592492,  0.00342135]),\n",
       " 'rank_test_score': array([20, 19, 17, 18, 11, 16,  8, 15,  2, 11,  6,  5,  7, 10,  4, 14,  2,\n",
       "         8,  1, 13]),\n",
       " 'split0_train_score': array([ 0.67709148,  0.6915559 ,  0.70269742,  0.70230649,  0.71149335,\n",
       "         0.70856138,  0.71090696,  0.70973417,  0.71247068,  0.71247068,\n",
       "         0.7146208 ,  0.71090696,  0.71559812,  0.71110242,  0.71618452,\n",
       "         0.7101251 ,  0.71618452,  0.71227522,  0.71618452,  0.7146208 ]),\n",
       " 'split1_train_score': array([ 0.67890625,  0.68789062,  0.7015625 ,  0.70058594,  0.70644531,\n",
       "         0.7046875 ,  0.70742187,  0.70722656,  0.709375  ,  0.70742187,\n",
       "         0.71074219,  0.7078125 ,  0.7109375 ,  0.70664063,  0.7125    ,\n",
       "         0.70488281,  0.71367187,  0.709375  ,  0.71367187,  0.70878906]),\n",
       " 'split2_train_score': array([ 0.67740676,  0.68795157,  0.70786956,  0.70474517,  0.71275142,\n",
       "         0.71197032,  0.71626635,  0.7098223 ,  0.71626635,  0.7113845 ,\n",
       "         0.71958602,  0.71626635,  0.72114821,  0.71880492,  0.72075766,\n",
       "         0.7182191 ,  0.72056239,  0.71860965,  0.72153876,  0.72114821]),\n",
       " 'split3_train_score': array([ 0.67975005,  0.6861941 ,  0.70650264,  0.70279242,  0.7106034 ,\n",
       "         0.70826011,  0.71255614,  0.71470416,  0.71411834,  0.71626635,\n",
       "         0.71372779,  0.71528998,  0.71489943,  0.7113845 ,  0.71704745,\n",
       "         0.71763327,  0.71782855,  0.70865065,  0.71802382,  0.70689318]),\n",
       " 'split4_train_score': array([ 0.67805545,  0.68918391,  0.70382663,  0.70538852,  0.71202655,\n",
       "         0.7063647 ,  0.71300273,  0.71163608,  0.71378368,  0.71456462,\n",
       "         0.71358844,  0.71612651,  0.71710269,  0.71690746,  0.71710269,\n",
       "         0.71417415,  0.71788364,  0.71710269,  0.71846935,  0.71417415]),\n",
       " 'mean_train_score': array([ 0.678242  ,  0.68855522,  0.70449175,  0.70316371,  0.71066401,\n",
       "         0.7079688 ,  0.71203081,  0.71062465,  0.71320281,  0.71242161,\n",
       "         0.71445305,  0.71328046,  0.71593719,  0.71296798,  0.71671847,\n",
       "         0.71300689,  0.71722619,  0.71320264,  0.71757767,  0.71312508]),\n",
       " 'std_train_score': array([ 0.00097689,  0.00177653,  0.00235354,  0.00173022,  0.00222273,\n",
       "         0.00244083,  0.00288672,  0.00247585,  0.00226932,  0.00301496,\n",
       "         0.00287818,  0.0033641 ,  0.00330763,  0.00437293,  0.00263255,\n",
       "         0.00498474,  0.00226467,  0.00401691,  0.00260309,  0.00500691])}"
      ]
     },
     "execution_count": 18,
     "metadata": {},
     "output_type": "execute_result"
    }
   ],
   "source": [
    "lr_clf.cv_results_"
   ]
  },
  {
   "cell_type": "markdown",
   "metadata": {
    "colab_type": "text",
    "id": "rzsRzpiv25p2"
   },
   "source": [
    "Постройте графики средних значений критерия качества `accuracy` для типов регуляризации `l1` и `l2` в зависимости от коэффициента регуляризации `C`."
   ]
  },
  {
   "cell_type": "code",
   "execution_count": 19,
   "metadata": {
    "colab": {
     "autoexec": {
      "startup": false,
      "wait_interval": 0
     }
    },
    "colab_type": "code",
    "id": "nYOrtHpy25p3"
   },
   "outputs": [],
   "source": [
    "x_l1 = list(map(lambda x: x['C'], lr_clf.cv_results_['params'][::2]))\n",
    "x_l2 = list(map(lambda x: x['C'], lr_clf.cv_results_['params'][1::2]))\n",
    "score_l1 = np.array(lr_clf.cv_results_['mean_train_score'][::2])\n",
    "score_l2 = np.array(lr_clf.cv_results_['mean_train_score'][1::2])"
   ]
  },
  {
   "cell_type": "code",
   "execution_count": 20,
   "metadata": {},
   "outputs": [
    {
     "data": {
      "image/png": "[encoded data removed]",
      "text/plain": [
       "<Figure size 720x432 with 1 Axes>"
      ]
     },
     "metadata": {
      "needs_background": "light"
     },
     "output_type": "display_data"
    }
   ],
   "source": [
    "%matplotlib inline\n",
    "import matplotlib.pyplot as plt\n",
    "\n",
    "fig = plt.figure(figsize=(10, 6))\n",
    "\n",
    "axes = fig.add_axes([0.1, 0.1, 0.8, 0.8])\n",
    "\n",
    "plt.plot(x_l1, score_l1, 'r+--')\n",
    "plt.plot(x_l2, score_l2, 'g*-')\n",
    "\n",
    "axes.set_xlabel('C')\n",
    "axes.set_ylabel('accuracy')\n",
    "axes.set_title('GridSearchCV')\n",
    "axes.legend([r'l1', 'l2'], loc = 0)\n",
    "\n",
    "plt.grid()\n",
    "plt.show()"
   ]
  },
  {
   "cell_type": "markdown",
   "metadata": {
    "colab_type": "text",
    "id": "IQraNf0M25p5"
   },
   "source": [
    "Проанализируйте полученные графики. Чему равны найденные оптимальные значения параметров `C` и `penalty`?"
   ]
  },
  {
   "cell_type": "code",
   "execution_count": 21,
   "metadata": {
    "colab": {
     "autoexec": {
      "startup": false,
      "wait_interval": 0
     }
    },
    "colab_type": "code",
    "id": "BkT1RWJj25p7"
   },
   "outputs": [],
   "source": [
    "max_l1 = score_l1[np.argmax(score_l1)]\n",
    "max_C_l1 = x_l1[np.argmax(score_l1)]\n",
    "\n",
    "max_l2 = score_l2[np.argmax(score_l2)]\n",
    "max_C_l2 = x_l2[np.argmax(score_l2)]"
   ]
  },
  {
   "cell_type": "code",
   "execution_count": 22,
   "metadata": {},
   "outputs": [
    {
     "name": "stdout",
     "output_type": "stream",
     "text": [
      "C_l1 =  1.0 score_l1 =  0.7175776655\n",
      "C_l2 =  0.56 score_l2 =  0.713280461659\n"
     ]
    }
   ],
   "source": [
    "print('C_l1 = ', max_C_l1, 'score_l1 = ', max_l1)\n",
    "print('C_l2 = ', max_C_l2, 'score_l2 = ', max_l2)"
   ]
  },
  {
   "cell_type": "markdown",
   "metadata": {
    "colab_type": "text",
    "id": "uIX7uVYk25p9"
   },
   "source": [
    "Используя найденные оптимальные значения `C` и `penalty`, обучите логистическую регрессию на обучающей выборке (train) и вычислите вероятности принадлежности к классам для тестовой (test)  выборки (`best_lr_clf.predict_proba`)."
   ]
  },
  {
   "cell_type": "code",
   "execution_count": 33,
   "metadata": {
    "colab": {
     "autoexec": {
      "startup": false,
      "wait_interval": 0
     }
    },
    "colab_type": "code",
    "id": "1rDNazlC25p9"
   },
   "outputs": [
    {
     "data": {
      "text/plain": [
       "LogisticRegression(C=1.0, class_weight=None, dual=False, fit_intercept=True,\n",
       "          intercept_scaling=1, max_iter=100, multi_class='warn', n_jobs=-1,\n",
       "          penalty='l1', random_state=None, solver='warn', tol=0.0001,\n",
       "          verbose=0, warm_start=False)"
      ]
     },
     "execution_count": 33,
     "metadata": {},
     "output_type": "execute_result"
    }
   ],
   "source": [
    "best_lr_clf = LogisticRegression(penalty='l1', C=1.0, n_jobs=-1)\n",
    "\n",
    "best_lr_clf.fit(train_feature_matrix, train_labels)"
   ]
  },
  {
   "cell_type": "code",
   "execution_count": 34,
   "metadata": {},
   "outputs": [],
   "source": [
    "predict_matrix = best_lr_clf.predict_proba(test_feature_matrix)"
   ]
  },
  {
   "cell_type": "markdown",
   "metadata": {
    "colab_type": "text",
    "id": "Ck7T2dGQ25p_"
   },
   "source": [
    "Для полученной матрицы вычислите усредненные по всем объектам из тестовой выборки значения вероятностей принадлежности к классам. Сравните ее оценкой вероятности принадлежности к классу на основе частот меток классов в обучающей выборке."
   ]
  },
  {
   "cell_type": "code",
   "execution_count": 35,
   "metadata": {},
   "outputs": [],
   "source": [
    "## усредненные по всем объектам из тестовой выборки значения вероятностей\n",
    "predict_labels = {i:x for i, x in enumerate(predict_matrix.mean(axis=0))}\n",
    "\n",
    "## частоты меток классов в обучающей выборке\n",
    "unique, counts = np.unique(test_labels, return_counts=True)\n",
    "true_labels = dict(zip(unique, counts/test_labels.shape[0]))"
   ]
  },
  {
   "cell_type": "code",
   "execution_count": 36,
   "metadata": {},
   "outputs": [],
   "source": [
    "## соответсвие класса к разности между точной частотой меток классов к предсказнной\n",
    "comparison_dict = {i+1:abs(round(x,3)) for i, x in enumerate(predict_matrix.mean(axis=0) - counts/test_labels.shape[0])}"
   ]
  },
  {
   "cell_type": "code",
   "execution_count": 37,
   "metadata": {
    "scrolled": false
   },
   "outputs": [
    {
     "data": {
      "text/plain": [
       "{1: 0.032000000000000001,\n",
       " 2: 0.027,\n",
       " 3: 0.0080000000000000002,\n",
       " 4: 0.001,\n",
       " 5: 0.0060000000000000001,\n",
       " 6: 0.002,\n",
       " 7: 0.0070000000000000001}"
      ]
     },
     "execution_count": 37,
     "metadata": {},
     "output_type": "execute_result"
    }
   ],
   "source": [
    "comparison_dict"
   ]
  },
  {
   "cell_type": "code",
   "execution_count": 38,
   "metadata": {},
   "outputs": [
    {
     "name": "stdout",
     "output_type": "stream",
     "text": [
      "MSE = 0.0435\n"
     ]
    }
   ],
   "source": [
    "## MSE частот\n",
    "mse_acc = np.linalg.norm(predict_matrix.mean(axis=0) - counts/test_labels.shape[0])\n",
    "print('MSE = {:.4f}'.format(mse_acc))"
   ]
  },
  {
   "cell_type": "markdown",
   "metadata": {
    "colab_type": "text",
    "id": "VYogShkD25qD"
   },
   "source": [
    "#### 2.3 Многоклассовая классификация: kNN (20%)."
   ]
  },
  {
   "cell_type": "markdown",
   "metadata": {
    "colab_type": "text",
    "id": "BHVNCaJ325qD"
   },
   "source": [
    "Вспомним первое занятие. Обучите на том же датасете `KNeighborsClassifier` из `sklearn`."
   ]
  },
  {
   "cell_type": "markdown",
   "metadata": {
    "colab_type": "text",
    "id": "Yl_foM3u25qF"
   },
   "source": [
    "Попробуйте использовать различные стратегии вычисления весов: `[‘uniform’, ‘distance’]`. Выберите одно из них самостоятельно. Чем обоснован Ваш выбор?"
   ]
  },
  {
   "cell_type": "markdown",
   "metadata": {
    "colab_type": "text",
    "id": "8WzoRJZd25qF"
   },
   "source": [
    "Переберите по сетке от `1` до `10` параметр числа соседей. Покажите на графике, как менялись значения критерия качества `accuracy` при изменении числа соседей."
   ]
  },
  {
   "cell_type": "code",
   "execution_count": 39,
   "metadata": {
    "colab": {
     "autoexec": {
      "startup": false,
      "wait_interval": 0
     }
    },
    "colab_type": "code",
    "id": "4lMSy-6f25qG"
   },
   "outputs": [
    {
     "data": {
      "image/png": "[encoded data removed]",
      "text/plain": [
       "<Figure size 720x432 with 1 Axes>"
      ]
     },
     "metadata": {
      "needs_background": "light"
     },
     "output_type": "display_data"
    },
    {
     "name": "stdout",
     "output_type": "stream",
     "text": [
      "{'uniform': {'acc': 0.75, 'k': 1}, 'distance': {'acc': 0.76375000000000004, 'k': 3}}\n"
     ]
    }
   ],
   "source": [
    "from sklearn.neighbors import KNeighborsClassifier\n",
    "\n",
    "fig = plt.figure(figsize=(10, 6))\n",
    "axes = fig.add_axes([0.1, 0.1, 0.8, 0.8])\n",
    "\n",
    "N = 20 ## количество перебираемых соседей\n",
    "best_score = {'uniform': None, 'distance': None} ## лучший результат для каждого метода\n",
    "\n",
    "color = {'uniform': 'r+--', 'distance': 'g*-'}\n",
    "for weight in ['uniform', 'distance']:\n",
    "    acc = [[]]*N\n",
    "    for k in range(1, N+1):\n",
    "        knn = KNeighborsClassifier(weights=weight, n_neighbors=k, n_jobs=-1)\n",
    "        knn.fit(train_feature_matrix, train_labels)\n",
    "        acc[k-1] = accuracy_score(knn.predict(test_feature_matrix), test_labels)\n",
    "    plt.plot(np.arange(1,N+1), acc, color[weight])\n",
    "    \n",
    "    acc = np.array(acc)\n",
    "    best_score[weight] = {'acc': np.max(acc), 'k': np.argmax(acc) + 1}\n",
    "\n",
    "axes.set_xlabel('k')\n",
    "axes.set_ylabel('accuracy')\n",
    "axes.set_title('KNeighborsClassifier')\n",
    "axes.legend([r'uniform', 'distance'], loc = 0)\n",
    "plt.grid()\n",
    "plt.show()\n",
    "\n",
    "\n",
    "print(best_score)"
   ]
  },
  {
   "cell_type": "markdown",
   "metadata": {
    "colab_type": "text",
    "id": "aBmiDbvV25qI"
   },
   "source": [
    "Используя найденное оптимальное число соседей, вычислите вероятности принадлежности к классам для тестовой выборки (`.predict_proba`)."
   ]
  },
  {
   "cell_type": "code",
   "execution_count": 40,
   "metadata": {
    "colab": {
     "autoexec": {
      "startup": false,
      "wait_interval": 0
     }
    },
    "colab_type": "code",
    "id": "ig_vS8O925qI"
   },
   "outputs": [
    {
     "data": {
      "text/plain": [
       "KNeighborsClassifier(algorithm='auto', leaf_size=30, metric='minkowski',\n",
       "           metric_params=None, n_jobs=-1, n_neighbors=6, p=2,\n",
       "           weights='distance')"
      ]
     },
     "execution_count": 40,
     "metadata": {},
     "output_type": "execute_result"
    }
   ],
   "source": [
    "knn_best = KNeighborsClassifier(weights='distance', n_neighbors=6, n_jobs=-1)\n",
    "knn_best.fit(train_feature_matrix, train_labels)"
   ]
  },
  {
   "cell_type": "code",
   "execution_count": 41,
   "metadata": {},
   "outputs": [],
   "source": [
    "knn_predict_matrix = knn_best.predict_proba(test_feature_matrix)"
   ]
  },
  {
   "cell_type": "markdown",
   "metadata": {},
   "source": [
    "#### 2.4 Метод опорных векторов (30%)"
   ]
  },
  {
   "cell_type": "markdown",
   "metadata": {},
   "source": [
    "Прежде чем приступить к использованию метода опорных векторов, вспомним что для линейный моделей критично масштабировать данные, для этого воспользуемся `MinMaxScaler`. Не забывайте, что у этого класса сущестуют методы `.fit()`, `.transform()`, `.fit_transform()`. Учитывайте, что данные из отложенной выборки нам недоступны при обучении модели."
   ]
  },
  {
   "cell_type": "code",
   "execution_count": 42,
   "metadata": {},
   "outputs": [],
   "source": [
    "from sklearn.preprocessing import MinMaxScaler"
   ]
  },
  {
   "cell_type": "code",
   "execution_count": 43,
   "metadata": {},
   "outputs": [],
   "source": [
    "scaler = MinMaxScaler()\n",
    "train_feature_matrix_scaled = scaler.fit_transform(train_feature_matrix)\n",
    "test_feature_matrix_scaled = scaler.fit_transform(test_feature_matrix)"
   ]
  },
  {
   "cell_type": "markdown",
   "metadata": {},
   "source": [
    "Обучим классификатор"
   ]
  },
  {
   "cell_type": "code",
   "execution_count": 44,
   "metadata": {},
   "outputs": [],
   "source": [
    "from sklearn.svm import SVC"
   ]
  },
  {
   "cell_type": "code",
   "execution_count": 45,
   "metadata": {},
   "outputs": [
    {
     "name": "stdout",
     "output_type": "stream",
     "text": [
      "Wall time: 35.2 s\n"
     ]
    }
   ],
   "source": [
    "%%time\n",
    "\n",
    "parameters = {'kernel':('linear', 'rbf'), 'C':np.linspace(0.01, 1, 10)}\n",
    "svc = SVC()\n",
    "lr_svc = GridSearchCV(svc, parameters, cv=5, scoring='accuracy', n_jobs=-1)\n",
    "lr_svc.fit(train_feature_matrix_scaled, train_labels)"
   ]
  },
  {
   "cell_type": "markdown",
   "metadata": {},
   "source": [
    "С помощью 5-кратной кросс-валидации (`GridSearchCV`) подберите оптимальное значение параметров `C` и `kernel`. Для параметра `C` используйте набор значений `np.linspace(0.01, 1, 10)`, а для `kernel` - `['linear', 'rbf']`. Критерий качества `scoring = 'accuracy'`.\n",
    "\n",
    "Постройте графики средних значений критерия качества accuracy для типов ядер `linear` и `rbf`,  в зависимости от коэффициента `C`.\n",
    "\n",
    "_Подсказка:_ Если метод учится слишком долго, попробуйте ограничить кол-во итераций (`max_iter`) и/или увеличить параметр останова`tol`"
   ]
  },
  {
   "cell_type": "code",
   "execution_count": 46,
   "metadata": {
    "scrolled": true
   },
   "outputs": [
    {
     "data": {
      "text/plain": [
       "{'mean_fit_time': array([ 7.13730702,  8.85032501,  5.54895654,  8.75737371,  5.28785353,\n",
       "         8.51083055,  5.42508583,  8.66042643,  5.37322245,  7.65810881,\n",
       "         5.09476757,  7.66548939,  4.81910529,  7.34355044,  5.16119003,\n",
       "         7.21786289,  5.11231942,  6.13499632,  3.76457438,  3.95167122]),\n",
       " 'std_fit_time': array([ 0.22848265,  0.30641227,  0.14068095,  0.2490349 ,  0.13046599,\n",
       "         0.45699748,  0.22215857,  0.2242358 ,  0.28377336,  0.32939622,\n",
       "         0.30513849,  0.23077819,  0.13160552,  0.25409123,  0.11795808,\n",
       "         0.19837525,  0.24236144,  0.5672973 ,  0.41896048,  0.19086549]),\n",
       " 'mean_score_time': array([ 1.03323727,  1.20318022,  0.73283896,  1.20557375,  0.55551438,\n",
       "         1.16787682,  0.46754866,  1.03423181,  0.46036801,  0.98416653,\n",
       "         0.46655021,  1.03123932,  0.47971802,  1.00371518,  0.40172496,\n",
       "         0.53379722,  0.4533874 ,  0.47631507,  0.29667697,  0.37104239]),\n",
       " 'std_score_time': array([ 0.03129035,  0.04773266,  0.03739859,  0.0429364 ,  0.08181694,\n",
       "         0.02397012,  0.02992947,  0.01935969,  0.0696055 ,  0.05349641,\n",
       "         0.07707673,  0.02384393,  0.06204976,  0.03403211,  0.00840233,\n",
       "         0.04828891,  0.04063406,  0.0645057 ,  0.03789279,  0.02189269]),\n",
       " 'param_C': masked_array(data = [0.01 0.01 0.12 0.12 0.23000000000000001 0.23000000000000001\n",
       "  0.34000000000000002 0.34000000000000002 0.45000000000000001\n",
       "  0.45000000000000001 0.56000000000000005 0.56000000000000005\n",
       "  0.67000000000000004 0.67000000000000004 0.78000000000000003\n",
       "  0.78000000000000003 0.89000000000000001 0.89000000000000001 1.0 1.0],\n",
       "              mask = [False False False False False False False False False False False False\n",
       "  False False False False False False False False],\n",
       "        fill_value = ?),\n",
       " 'param_kernel': masked_array(data = ['linear' 'rbf' 'linear' 'rbf' 'linear' 'rbf' 'linear' 'rbf' 'linear' 'rbf'\n",
       "  'linear' 'rbf' 'linear' 'rbf' 'linear' 'rbf' 'linear' 'rbf' 'linear' 'rbf'],\n",
       "              mask = [False False False False False False False False False False False False\n",
       "  False False False False False False False False],\n",
       "        fill_value = ?),\n",
       " 'params': [{'C': 0.01, 'kernel': 'linear'},\n",
       "  {'C': 0.01, 'kernel': 'rbf'},\n",
       "  {'C': 0.12, 'kernel': 'linear'},\n",
       "  {'C': 0.12, 'kernel': 'rbf'},\n",
       "  {'C': 0.23000000000000001, 'kernel': 'linear'},\n",
       "  {'C': 0.23000000000000001, 'kernel': 'rbf'},\n",
       "  {'C': 0.34000000000000002, 'kernel': 'linear'},\n",
       "  {'C': 0.34000000000000002, 'kernel': 'rbf'},\n",
       "  {'C': 0.45000000000000001, 'kernel': 'linear'},\n",
       "  {'C': 0.45000000000000001, 'kernel': 'rbf'},\n",
       "  {'C': 0.56000000000000005, 'kernel': 'linear'},\n",
       "  {'C': 0.56000000000000005, 'kernel': 'rbf'},\n",
       "  {'C': 0.67000000000000004, 'kernel': 'linear'},\n",
       "  {'C': 0.67000000000000004, 'kernel': 'rbf'},\n",
       "  {'C': 0.78000000000000003, 'kernel': 'linear'},\n",
       "  {'C': 0.78000000000000003, 'kernel': 'rbf'},\n",
       "  {'C': 0.89000000000000001, 'kernel': 'linear'},\n",
       "  {'C': 0.89000000000000001, 'kernel': 'rbf'},\n",
       "  {'C': 1.0, 'kernel': 'linear'},\n",
       "  {'C': 1.0, 'kernel': 'rbf'}],\n",
       " 'split0_test_score': array([ 0.58722741,  0.47819315,  0.64252336,  0.54049844,  0.70404984,\n",
       "         0.58489097,  0.71028037,  0.58956386,  0.71183801,  0.59813084,\n",
       "         0.71028037,  0.59813084,  0.71028037,  0.59657321,  0.71261682,\n",
       "         0.59579439,  0.71495327,  0.59345794,  0.71417445,  0.59267913]),\n",
       " 'split1_test_score': array([ 0.6109375 ,  0.47890625,  0.69140625,  0.5296875 ,  0.715625  ,\n",
       "         0.60859375,  0.72421875,  0.61484375,  0.71953125,  0.62265625,\n",
       "         0.7203125 ,  0.61875   ,  0.72109375,  0.61875   ,  0.7203125 ,\n",
       "         0.61953125,  0.71953125,  0.62265625,  0.71953125,  0.62265625]),\n",
       " 'split2_test_score': array([ 0.60594214,  0.47928069,  0.67943706,  0.53401095,  0.70289289,\n",
       "         0.606724  ,  0.7005473 ,  0.60750586,  0.69898358,  0.60985145,\n",
       "         0.69820172,  0.6207975 ,  0.69820172,  0.62705238,  0.69741986,\n",
       "         0.62783425,  0.69741986,  0.62861611,  0.69820172,  0.63096169]),\n",
       " 'split3_test_score': array([ 0.61297889,  0.47928069,  0.66145426,  0.544957  ,  0.69898358,\n",
       "         0.61063331,  0.70132916,  0.61532447,  0.7005473 ,  0.61219703,\n",
       "         0.70211102,  0.61063331,  0.7005473 ,  0.61063331,  0.70523847,\n",
       "         0.61063331,  0.70680219,  0.61141517,  0.70758405,  0.61297889]),\n",
       " 'split4_test_score': array([ 0.59937402,  0.47965571,  0.67840376,  0.5571205 ,  0.71596244,\n",
       "         0.59311424,  0.7198748 ,  0.60015649,  0.72065728,  0.61111111,\n",
       "         0.72065728,  0.61032864,  0.72378717,  0.60798122,  0.72378717,\n",
       "         0.61032864,  0.72535211,  0.61111111,  0.72535211,  0.61032864]),\n",
       " 'mean_test_score': array([ 0.60328125,  0.4790625 ,  0.670625  ,  0.54125   ,  0.7075    ,\n",
       "         0.60078125,  0.71125   ,  0.60546875,  0.7103125 ,  0.61078125,\n",
       "         0.7103125 ,  0.61171875,  0.71078125,  0.6121875 ,  0.711875  ,\n",
       "         0.6128125 ,  0.7128125 ,  0.6134375 ,  0.71296875,  0.61390625]),\n",
       " 'std_test_score': array([ 0.00931061,  0.00049579,  0.01700631,  0.00950612,  0.00697336,\n",
       "         0.01005279,  0.00955204,  0.00970596,  0.00913997,  0.00780415,\n",
       "         0.00917187,  0.00800141,  0.01037556,  0.0102811 ,  0.00965628,\n",
       "         0.01069621,  0.00979366,  0.01204256,  0.00942868,  0.01290628]),\n",
       " 'rank_test_score': array([17, 20,  9, 19,  8, 18,  4, 16,  6, 15,  6, 14,  5, 13,  3, 12,  2,\n",
       "        11,  1, 10]),\n",
       " 'split0_train_score': array([ 0.60750586,  0.47928069,  0.67044566,  0.56176701,  0.70914777,\n",
       "         0.60535575,  0.71344801,  0.61043784,  0.71305708,  0.61884285,\n",
       "         0.71520719,  0.61903831,  0.71657545,  0.61708366,  0.71696638,\n",
       "         0.61688819,  0.71657545,  0.61493354,  0.71774824,  0.61532447]),\n",
       " 'split1_train_score': array([ 0.60195312,  0.47910156,  0.67597656,  0.53789062,  0.70898438,\n",
       "         0.60019531,  0.71269531,  0.60507813,  0.71621094,  0.61484375,\n",
       "         0.715625  ,  0.61171875,  0.71484375,  0.61152344,  0.715625  ,\n",
       "         0.61132812,  0.71660156,  0.61308594,  0.71757812,  0.61386719]),\n",
       " 'split2_train_score': array([ 0.60222613,  0.47900801,  0.68795157,  0.53173208,  0.71372779,\n",
       "         0.60300723,  0.71509471,  0.60456942,  0.7166569 ,  0.61023238,\n",
       "         0.71587581,  0.61648116,  0.71568053,  0.61882445,  0.71646163,\n",
       "         0.61901972,  0.71782855,  0.62019137,  0.71880492,  0.62077719]),\n",
       " 'split3_train_score': array([ 0.60027338,  0.47900801,  0.67975005,  0.53798086,  0.7098223 ,\n",
       "         0.60027338,  0.71489943,  0.6108182 ,  0.71704745,  0.61042765,\n",
       "         0.71607108,  0.61023238,  0.71704745,  0.61042765,  0.71704745,\n",
       "         0.61140402,  0.71841437,  0.61218512,  0.71919547,  0.6168717 ]),\n",
       " 'split4_train_score': array([ 0.6028895 ,  0.47891449,  0.67141742,  0.55349473,  0.70870754,\n",
       "         0.59898477,  0.7149551 ,  0.60484186,  0.71261226,  0.61460367,\n",
       "         0.71378368,  0.6142132 ,  0.71339321,  0.61265131,  0.7155408 ,\n",
       "         0.61245607,  0.71729793,  0.61284654,  0.71866458,  0.61343225]),\n",
       " 'mean_train_score': array([ 0.6029696 ,  0.47906255,  0.67710825,  0.54457306,  0.71007795,\n",
       "         0.60156329,  0.71421851,  0.60714909,  0.71511693,  0.61379006,\n",
       "         0.71531255,  0.61433676,  0.71550808,  0.6141021 ,  0.71632825,\n",
       "         0.61421923,  0.71734357,  0.6146485 ,  0.71839827,  0.61605456]),\n",
       " 'std_train_score': array([ 0.00242651,  0.00012408,  0.00636574,  0.0112092 ,  0.0018615 ,\n",
       "         0.00230875,  0.00096827,  0.00284764,  0.00188741,  0.00320205,\n",
       "         0.00081717,  0.00317548,  0.00130021,  0.00326944,  0.00064139,\n",
       "         0.00314836,  0.00071056,  0.00291759,  0.00062721,  0.00265198])}"
      ]
     },
     "execution_count": 46,
     "metadata": {},
     "output_type": "execute_result"
    }
   ],
   "source": [
    "lr_svc.cv_results_"
   ]
  },
  {
   "cell_type": "code",
   "execution_count": 47,
   "metadata": {},
   "outputs": [],
   "source": [
    "x_linear = list(map(lambda x: x['C'], lr_svc.cv_results_['params'][::2]))\n",
    "x_rbf = list(map(lambda x: x['C'], lr_svc.cv_results_['params'][1::2]))\n",
    "score_linear = np.array(lr_svc.cv_results_['mean_train_score'][::2])\n",
    "score_rbf = np.array(lr_svc.cv_results_['mean_train_score'][1::2])"
   ]
  },
  {
   "cell_type": "code",
   "execution_count": 48,
   "metadata": {
    "scrolled": false
   },
   "outputs": [
    {
     "data": {
      "image/png": "[encoded data removed]",
      "text/plain": [
       "<Figure size 720x432 with 1 Axes>"
      ]
     },
     "metadata": {
      "needs_background": "light"
     },
     "output_type": "display_data"
    }
   ],
   "source": [
    "%matplotlib inline\n",
    "import matplotlib.pyplot as plt\n",
    "\n",
    "fig = plt.figure(figsize=(10, 6))\n",
    "\n",
    "axes = fig.add_axes([0.1, 0.1, 0.8, 0.8])\n",
    "\n",
    "plt.plot(x_linear, score_linear, 'r+--')\n",
    "plt.plot(x_rbf, score_rbf, 'g*-')\n",
    "\n",
    "axes.set_xlabel('C')\n",
    "axes.set_ylabel('accuracy')\n",
    "axes.set_title('GridSearchCV')\n",
    "axes.legend([r'linear', 'rbf'], loc = 0)\n",
    "\n",
    "plt.grid()\n",
    "plt.show()"
   ]
  },
  {
   "cell_type": "code",
   "execution_count": 49,
   "metadata": {
    "colab": {
     "autoexec": {
      "startup": false,
      "wait_interval": 0
     }
    },
    "colab_type": "code",
    "id": "BkT1RWJj25p7"
   },
   "outputs": [],
   "source": [
    "max_linear = score_linear[np.argmax(score_linear)]\n",
    "max_C_linear = x_linear[np.argmax(score_linear)]\n",
    "\n",
    "max_rbf = score_rbf[np.argmax(score_rbf)]\n",
    "max_C_rbf = x_rbf[np.argmax(score_rbf)]"
   ]
  },
  {
   "cell_type": "code",
   "execution_count": 50,
   "metadata": {},
   "outputs": [
    {
     "name": "stdout",
     "output_type": "stream",
     "text": [
      "C_linear =  1.0 score_linear =  0.718398268102\n",
      "C_rbf =  1.0 score_rbf =  0.616054561894\n"
     ]
    }
   ],
   "source": [
    "print('C_linear = ', max_C_linear, 'score_linear = ', max_linear)\n",
    "print('C_rbf = ', max_C_rbf, 'score_rbf = ', max_rbf)"
   ]
  },
  {
   "cell_type": "markdown",
   "metadata": {
    "colab_type": "text",
    "id": "p41xvYTU25qK"
   },
   "source": [
    "#### 2.5 Сравнение результатов логистической регрессии, kNN и SVC (10%).\n",
    "\n",
    "В реальной жизни новые данные становятся доступны с течением времени. Сравните качество Вашей лучшей модели логистической регресии, лучшего kNN и лучшей модели SVM  на отложенной выборке `delayed_data`. Какая из моделей показала лучший результат?"
   ]
  },
  {
   "cell_type": "code",
   "execution_count": 51,
   "metadata": {
    "colab": {
     "autoexec": {
      "startup": false,
      "wait_interval": 0
     }
    },
    "colab_type": "code",
    "id": "xJFKTJx425qL",
    "scrolled": true
   },
   "outputs": [
    {
     "name": "stdout",
     "output_type": "stream",
     "text": [
      "clf accuracy_score =  0.529375\n",
      "svc accuracy_score =  0.708125\n",
      "knn accuracy_score =  0.744375\n"
     ]
    }
   ],
   "source": [
    "best_lr_clf = LogisticRegression(penalty='l1', C=1.0, n_jobs=-1)\n",
    "best_lr_clf.fit(train_feature_matrix, train_labels)\n",
    "print('clf accuracy_score = ', accuracy_score(best_lr_clf.predict(test_feature_matrix_scaled), test_labels))\n",
    "\n",
    "svc_best = SVC(kernel='linear', C=1.0)\n",
    "svc_best.fit(train_feature_matrix_scaled, train_labels)\n",
    "print('svc accuracy_score = ', accuracy_score(svc_best.predict(test_feature_matrix_scaled), test_labels))\n",
    "\n",
    "knn_best = KNeighborsClassifier(weights='distance', n_neighbors=9, n_jobs=-1)\n",
    "knn_best.fit(train_feature_matrix, train_labels)\n",
    "print('knn accuracy_score = ', accuracy_score(knn_best.predict(test_feature_matrix), test_labels))"
   ]
  },
  {
   "cell_type": "code",
   "execution_count": 53,
   "metadata": {},
   "outputs": [],
   "source": [
    "labels_delayed = delayed_data[delayed_data.columns[-1]].values\n",
    "feature_matrix_delayed = delayed_data[delayed_data.columns[:-1]].values\n",
    "feature_matrix_delayed_scaled = scaler.fit_transform(feature_matrix_delayed)"
   ]
  },
  {
   "cell_type": "code",
   "execution_count": 54,
   "metadata": {},
   "outputs": [
    {
     "name": "stdout",
     "output_type": "stream",
     "text": [
      "Качество моделей на отложенных выборках:\n",
      "clf accuracy_score =  0.496\n",
      "svc accuracy_score =  0.6635\n",
      "knn accuracy_score =  0.7465\n"
     ]
    }
   ],
   "source": [
    "print('Качество моделей на отложенных выборках:')\n",
    "\n",
    "print('clf accuracy_score = ', accuracy_score(best_lr_clf.predict(feature_matrix_delayed_scaled), labels_delayed))\n",
    "\n",
    "print('svc accuracy_score = ', accuracy_score(svc_best.predict(feature_matrix_delayed_scaled), labels_delayed))\n",
    "\n",
    "print('knn accuracy_score = ', accuracy_score(knn_best.predict(feature_matrix_delayed), labels_delayed))"
   ]
  },
  {
   "cell_type": "code",
   "execution_count": null,
   "metadata": {},
   "outputs": [],
   "source": []
  },
  {
   "cell_type": "code",
   "execution_count": null,
   "metadata": {},
   "outputs": [],
   "source": []
  },
  {
   "cell_type": "code",
   "execution_count": null,
   "metadata": {},
   "outputs": [],
   "source": []
  }
 ],
 "metadata": {
  "colab": {
   "collapsed_sections": [
    "dKCiU0wz25pj",
    "9MKHZ2JC25pv",
    "VYogShkD25qD",
    "p41xvYTU25qK"
   ],
   "default_view": {},
   "name": "HW1_Logistic_regression_and_SVM.ipynb",
   "provenance": [],
   "version": "0.3.2",
   "views": {}
  },
  "kernelspec": {
   "display_name": "Python 3",
   "language": "python",
   "name": "python3"
  },
  "language_info": {
   "codemirror_mode": {
    "name": "ipython",
    "version": 3
   },
   "file_extension": ".py",
   "mimetype": "text/x-python",
   "name": "python",
   "nbconvert_exporter": "python",
   "pygments_lexer": "ipython3",
   "version": "3.6.6"
  }
 },
 "nbformat": 4,
 "nbformat_minor": 1
}
