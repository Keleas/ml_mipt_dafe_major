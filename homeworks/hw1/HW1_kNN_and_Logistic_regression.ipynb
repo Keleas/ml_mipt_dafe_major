{
 "cells": [
  {
   "cell_type": "markdown",
   "metadata": {
    "colab_type": "text",
    "id": "v5Fj-ahf25os"
   },
   "source": [
    "# Домашнее задание №1\n",
    "## Классификация. Логистическая регрессия, kNN и SVM."
   ]
  },
  {
   "cell_type": "markdown",
   "metadata": {
    "colab_type": "text",
    "id": "I6Hq7E5o25ou"
   },
   "source": [
    "\n",
    "<span style=\"color: red; font-size: 14pt\">  Дедлайн: 24.03.2019 - 23:59 </span>  \n",
    "\n",
    "На основе [hw1 ml at mipt](https://github.com/ml-mipt/ml-mipt/blob/master/Homeworks/HW_1_Linclass_kNN/HW1_kNN_and_Logistic_regression.ipynb)"
   ]
  },
  {
   "cell_type": "markdown",
   "metadata": {
    "colab_type": "text",
    "id": "qZX1Urv425ov"
   },
   "source": [
    "### Часть 1. Небольшой numpy-разогрев. (5%)"
   ]
  },
  {
   "cell_type": "code",
   "execution_count": 45,
   "metadata": {
    "colab": {
     "autoexec": {
      "startup": false,
      "wait_interval": 0
     }
    },
    "colab_type": "code",
    "id": "ABwrGwvF25ow"
   },
   "outputs": [],
   "source": [
    "import numpy as np\n",
    "import pandas as pd\n",
    "import warnings\n",
    "warnings.simplefilter('ignore')\n"
   ]
  },
  {
   "cell_type": "code",
   "execution_count": 7,
   "metadata": {
    "colab": {
     "autoexec": {
      "startup": false,
      "wait_interval": 0
     }
    },
    "colab_type": "code",
    "id": "GYgIRlqf25o0"
   },
   "outputs": [
    {
     "name": "stdout",
     "output_type": "stream",
     "text": [
      "[[36 13 94 22 38 25 41  7 56 26]\n",
      " [65 99 85 34 48 93 77 83 81 88]\n",
      " [86 93 66 73 12 17 80 75 18 27]\n",
      " [99 14 71 40 42 67 52  3 41 45]\n",
      " [23 31  9 35 83 35 88 40 57 73]\n",
      " [26 56 35 80 72 72 15  1 57 72]\n",
      " [39 61 54  8 84 53 36 77 29 44]\n",
      " [82 34 79 80 21 45  5 11 83  3]\n",
      " [ 7 18 49 68 80 78 72 90 70 11]\n",
      " [ 2 49 34  7 22 40 53 68 35 89]]\n"
     ]
    }
   ],
   "source": [
    "# Создайте случайную матрицу A размерами 10 на 10 из целых чисел от 0 до 100\n",
    "# hint: np.random.randint\n",
    "\n",
    "A = np.random.randint(0, 100, size=(10,10))\n",
    "print(A)"
   ]
  },
  {
   "cell_type": "code",
   "execution_count": 9,
   "metadata": {
    "colab": {
     "autoexec": {
      "startup": false,
      "wait_interval": 0
     }
    },
    "colab_type": "code",
    "id": "7aB62Lzk25o2"
   },
   "outputs": [
    {
     "data": {
      "text/plain": [
       "array([ 46.5,  46.8,  57.6,  44.7,  50.2,  52.5,  51.9,  45.5,  52.7,  47.8])"
      ]
     },
     "execution_count": 9,
     "metadata": {},
     "output_type": "execute_result"
    }
   ],
   "source": [
    "# Посчитайте средние значения в матрице по столбцам\n",
    "A.mean(axis=0)"
   ]
  },
  {
   "cell_type": "code",
   "execution_count": 11,
   "metadata": {
    "colab": {
     "autoexec": {
      "startup": false,
      "wait_interval": 0
     }
    },
    "colab_type": "code",
    "id": "MTLnNqV425o5"
   },
   "outputs": [
    {
     "data": {
      "text/plain": [
       "array([[36, 65, 86, 99, 23, 26, 39, 82,  7,  2],\n",
       "       [13, 99, 93, 14, 31, 56, 61, 34, 18, 49],\n",
       "       [94, 85, 66, 71,  9, 35, 54, 79, 49, 34],\n",
       "       [22, 34, 73, 40, 35, 80,  8, 80, 68,  7],\n",
       "       [38, 48, 12, 42, 83, 72, 84, 21, 80, 22],\n",
       "       [25, 93, 17, 67, 35, 72, 53, 45, 78, 40],\n",
       "       [41, 77, 80, 52, 88, 15, 36,  5, 72, 53],\n",
       "       [ 7, 83, 75,  3, 40,  1, 77, 11, 90, 68],\n",
       "       [56, 81, 18, 41, 57, 57, 29, 83, 70, 35],\n",
       "       [26, 88, 27, 45, 73, 72, 44,  3, 11, 89]])"
      ]
     },
     "execution_count": 11,
     "metadata": {},
     "output_type": "execute_result"
    }
   ],
   "source": [
    "# Транспонируйте матрицу A\n",
    "\n",
    "A.T"
   ]
  },
  {
   "cell_type": "code",
   "execution_count": 15,
   "metadata": {
    "colab": {
     "autoexec": {
      "startup": false,
      "wait_interval": 0
     }
    },
    "colab_type": "code",
    "id": "WgDUhrYV25o8"
   },
   "outputs": [
    {
     "data": {
      "text/plain": [
       "array([[1296,  845, 8084, 2178,  874,  650, 1599,  574,  392,   52],\n",
       "       [ 845, 9801, 7905,  476, 1488, 5208, 4697, 2822, 1458, 4312],\n",
       "       [8084, 7905, 4356, 5183,  108,  595, 4320, 5925,  882,  918],\n",
       "       [2178,  476, 5183, 1600, 1470, 5360,  416,  240, 2788,  315],\n",
       "       [ 874, 1488,  108, 1470, 6889, 2520, 7392,  840, 4560, 1606],\n",
       "       [ 650, 5208,  595, 5360, 2520, 5184,  795,   45, 4446, 2880],\n",
       "       [1599, 4697, 4320,  416, 7392,  795, 1296,  385, 2088, 2332],\n",
       "       [ 574, 2822, 5925,  240,  840,   45,  385,  121, 7470,  204],\n",
       "       [ 392, 1458,  882, 2788, 4560, 4446, 2088, 7470, 4900,  385],\n",
       "       [  52, 4312,  918,  315, 1606, 2880, 2332,  204,  385, 7921]])"
      ]
     },
     "execution_count": 15,
     "metadata": {},
     "output_type": "execute_result"
    }
   ],
   "source": [
    "# Перемножьте поэлементно матрицу A и транспонированную матрицу A \n",
    "\n",
    "A * A.T"
   ]
  },
  {
   "cell_type": "code",
   "execution_count": 17,
   "metadata": {
    "colab": {
     "autoexec": {
      "startup": false,
      "wait_interval": 0
     }
    },
    "colab_type": "code",
    "id": "xwgLyFDD25o9"
   },
   "outputs": [
    {
     "name": "stdout",
     "output_type": "stream",
     "text": [
      "[[18396 27076 18511 20190 15854 16936 16749 19511 19366 12818]\n",
      " [27076 60483 41265 34997 34895 35272 37781 31609 39460 33277]\n",
      " [18511 41265 39241 25403 22638 21927 25449 25085 26827 20801]\n",
      " [20190 34997 25403 29310 20899 23251 21220 25131 23109 15582]\n",
      " [15854 34895 22638 20899 28832 23810 23494 15599 27639 21218]\n",
      " [16936 35272 21927 23251 23810 30464 22262 22986 25673 18276]\n",
      " [16749 37781 25449 21220 23494 22262 28089 17893 27451 21002]\n",
      " [19511 31609 25085 25131 15599 22986 17893 30031 22880 11523]\n",
      " [19366 39460 26827 23109 27639 25673 27451 22880 38187 21283]\n",
      " [12818 33277 20801 15582 21218 18276 21002 11523 21283 22273]]\n"
     ]
    }
   ],
   "source": [
    "# Посчитайте dot product (результат матричного умножения) матрицы A на саму себя и запишите в матрицу B\n",
    "\n",
    "B = np.dot(A, A.T)\n",
    "print(B)"
   ]
  },
  {
   "cell_type": "markdown",
   "metadata": {
    "colab_type": "text",
    "id": "9S8tqIMG25pb"
   },
   "source": [
    "### Часть 2. Решение задачи классификации 95%"
   ]
  },
  {
   "cell_type": "markdown",
   "metadata": {
    "colab_type": "text",
    "id": "T2docs4225pb"
   },
   "source": [
    "Будем работать с подвыборкой из [данных о типе лесного покрытия из репозитория UCI](http://archive.ics.uci.edu/ml/datasets/Covertype). Доступно 7 различных классов. Каждый объект описывается 54 признаками, 40 из которых являются бинарными. Описание данных доступно по ссылке, а так же в файле `covtype.info.txt`."
   ]
  },
  {
   "cell_type": "code",
   "execution_count": 58,
   "metadata": {
    "colab": {
     "autoexec": {
      "startup": false,
      "wait_interval": 0
     }
    },
    "colab_type": "code",
    "id": "rvPrVRvK25pc"
   },
   "outputs": [],
   "source": [
    "all_data = pd.read_csv('../../data/forest_dataset.csv')"
   ]
  },
  {
   "cell_type": "code",
   "execution_count": 23,
   "metadata": {},
   "outputs": [
    {
     "data": {
      "text/html": [
       "<div>\n",
       "<style scoped>\n",
       "    .dataframe tbody tr th:only-of-type {\n",
       "        vertical-align: middle;\n",
       "    }\n",
       "\n",
       "    .dataframe tbody tr th {\n",
       "        vertical-align: top;\n",
       "    }\n",
       "\n",
       "    .dataframe thead th {\n",
       "        text-align: right;\n",
       "    }\n",
       "</style>\n",
       "<table border=\"1\" class=\"dataframe\">\n",
       "  <thead>\n",
       "    <tr style=\"text-align: right;\">\n",
       "      <th></th>\n",
       "      <th>0</th>\n",
       "      <th>1</th>\n",
       "      <th>2</th>\n",
       "      <th>3</th>\n",
       "      <th>4</th>\n",
       "      <th>5</th>\n",
       "      <th>6</th>\n",
       "      <th>7</th>\n",
       "      <th>8</th>\n",
       "      <th>9</th>\n",
       "      <th>...</th>\n",
       "      <th>45</th>\n",
       "      <th>46</th>\n",
       "      <th>47</th>\n",
       "      <th>48</th>\n",
       "      <th>49</th>\n",
       "      <th>50</th>\n",
       "      <th>51</th>\n",
       "      <th>52</th>\n",
       "      <th>53</th>\n",
       "      <th>54</th>\n",
       "    </tr>\n",
       "  </thead>\n",
       "  <tbody>\n",
       "    <tr>\n",
       "      <th>0</th>\n",
       "      <td>2683</td>\n",
       "      <td>333</td>\n",
       "      <td>35</td>\n",
       "      <td>30</td>\n",
       "      <td>26</td>\n",
       "      <td>2743</td>\n",
       "      <td>121</td>\n",
       "      <td>173</td>\n",
       "      <td>179</td>\n",
       "      <td>6572</td>\n",
       "      <td>...</td>\n",
       "      <td>0</td>\n",
       "      <td>0</td>\n",
       "      <td>0</td>\n",
       "      <td>0</td>\n",
       "      <td>0</td>\n",
       "      <td>0</td>\n",
       "      <td>0</td>\n",
       "      <td>0</td>\n",
       "      <td>0</td>\n",
       "      <td>2</td>\n",
       "    </tr>\n",
       "    <tr>\n",
       "      <th>1</th>\n",
       "      <td>2915</td>\n",
       "      <td>90</td>\n",
       "      <td>8</td>\n",
       "      <td>216</td>\n",
       "      <td>11</td>\n",
       "      <td>4433</td>\n",
       "      <td>232</td>\n",
       "      <td>228</td>\n",
       "      <td>129</td>\n",
       "      <td>4019</td>\n",
       "      <td>...</td>\n",
       "      <td>0</td>\n",
       "      <td>0</td>\n",
       "      <td>0</td>\n",
       "      <td>0</td>\n",
       "      <td>0</td>\n",
       "      <td>0</td>\n",
       "      <td>0</td>\n",
       "      <td>0</td>\n",
       "      <td>0</td>\n",
       "      <td>1</td>\n",
       "    </tr>\n",
       "    <tr>\n",
       "      <th>2</th>\n",
       "      <td>2941</td>\n",
       "      <td>162</td>\n",
       "      <td>7</td>\n",
       "      <td>698</td>\n",
       "      <td>76</td>\n",
       "      <td>2783</td>\n",
       "      <td>227</td>\n",
       "      <td>242</td>\n",
       "      <td>148</td>\n",
       "      <td>1784</td>\n",
       "      <td>...</td>\n",
       "      <td>0</td>\n",
       "      <td>0</td>\n",
       "      <td>0</td>\n",
       "      <td>0</td>\n",
       "      <td>0</td>\n",
       "      <td>0</td>\n",
       "      <td>0</td>\n",
       "      <td>0</td>\n",
       "      <td>0</td>\n",
       "      <td>2</td>\n",
       "    </tr>\n",
       "    <tr>\n",
       "      <th>3</th>\n",
       "      <td>3096</td>\n",
       "      <td>60</td>\n",
       "      <td>17</td>\n",
       "      <td>170</td>\n",
       "      <td>3</td>\n",
       "      <td>3303</td>\n",
       "      <td>231</td>\n",
       "      <td>202</td>\n",
       "      <td>99</td>\n",
       "      <td>5370</td>\n",
       "      <td>...</td>\n",
       "      <td>0</td>\n",
       "      <td>0</td>\n",
       "      <td>0</td>\n",
       "      <td>0</td>\n",
       "      <td>0</td>\n",
       "      <td>0</td>\n",
       "      <td>0</td>\n",
       "      <td>0</td>\n",
       "      <td>0</td>\n",
       "      <td>1</td>\n",
       "    </tr>\n",
       "    <tr>\n",
       "      <th>4</th>\n",
       "      <td>2999</td>\n",
       "      <td>66</td>\n",
       "      <td>8</td>\n",
       "      <td>488</td>\n",
       "      <td>37</td>\n",
       "      <td>1532</td>\n",
       "      <td>228</td>\n",
       "      <td>225</td>\n",
       "      <td>131</td>\n",
       "      <td>2290</td>\n",
       "      <td>...</td>\n",
       "      <td>0</td>\n",
       "      <td>0</td>\n",
       "      <td>0</td>\n",
       "      <td>0</td>\n",
       "      <td>0</td>\n",
       "      <td>0</td>\n",
       "      <td>0</td>\n",
       "      <td>0</td>\n",
       "      <td>0</td>\n",
       "      <td>2</td>\n",
       "    </tr>\n",
       "  </tbody>\n",
       "</table>\n",
       "<p>5 rows × 55 columns</p>\n",
       "</div>"
      ],
      "text/plain": [
       "      0    1   2    3   4     5    6    7    8     9  ...  45  46  47  48  49  \\\n",
       "0  2683  333  35   30  26  2743  121  173  179  6572  ...   0   0   0   0   0   \n",
       "1  2915   90   8  216  11  4433  232  228  129  4019  ...   0   0   0   0   0   \n",
       "2  2941  162   7  698  76  2783  227  242  148  1784  ...   0   0   0   0   0   \n",
       "3  3096   60  17  170   3  3303  231  202   99  5370  ...   0   0   0   0   0   \n",
       "4  2999   66   8  488  37  1532  228  225  131  2290  ...   0   0   0   0   0   \n",
       "\n",
       "   50  51  52  53  54  \n",
       "0   0   0   0   0   2  \n",
       "1   0   0   0   0   1  \n",
       "2   0   0   0   0   2  \n",
       "3   0   0   0   0   1  \n",
       "4   0   0   0   0   2  \n",
       "\n",
       "[5 rows x 55 columns]"
      ]
     },
     "execution_count": 23,
     "metadata": {},
     "output_type": "execute_result"
    }
   ],
   "source": [
    "all_data.head()"
   ]
  },
  {
   "cell_type": "markdown",
   "metadata": {
    "colab_type": "text",
    "id": "DrX0W5si25pe"
   },
   "source": [
    "Выделите 20% данных в `delayed_data` в качестве выборки, на которой будет производиться финальное сравнение моделей, в `all_data` поместите оставшиеся 80%."
   ]
  },
  {
   "cell_type": "code",
   "execution_count": 29,
   "metadata": {
    "colab": {
     "autoexec": {
      "startup": false,
      "wait_interval": 0
     }
    },
    "colab_type": "code",
    "id": "Deu3A-yc25pf"
   },
   "outputs": [],
   "source": [
    "from sklearn.model_selection import train_test_split\n",
    "\n",
    "all_data, delayed_data = train_test_split(all_data, \n",
    "                                          train_size=0.8, test_size=0.2,\n",
    "                                         shuffle=True, random_state=42)"
   ]
  },
  {
   "cell_type": "markdown",
   "metadata": {
    "colab_type": "text",
    "id": "itCWxHEY25pg"
   },
   "source": [
    "Выделим значения метки класса в переменную `labels`, признаковые описания в переменную `feature_matrix`. Так как данные числовые и не имеют пропусков, переведем их в `numpy`-формат с помощью метода `.values`."
   ]
  },
  {
   "cell_type": "code",
   "execution_count": 30,
   "metadata": {
    "colab": {
     "autoexec": {
      "startup": false,
      "wait_interval": 0
     }
    },
    "colab_type": "code",
    "id": "f_YIUOuV25ph"
   },
   "outputs": [],
   "source": [
    "labels = all_data[all_data.columns[-1]].values\n",
    "feature_matrix = all_data[all_data.columns[:-1]].values"
   ]
  },
  {
   "cell_type": "markdown",
   "metadata": {
    "colab_type": "text",
    "id": "dKCiU0wz25pj"
   },
   "source": [
    "#### 2.1 Двуклассовая классификация (5%)"
   ]
  },
  {
   "cell_type": "markdown",
   "metadata": {
    "colab_type": "text",
    "id": "LYDttiOJ25pj"
   },
   "source": [
    "Для начала будем работать только с двумя типами лесного покрытия. Обучите линейный классификатор для разделения двух классов. Данные разделите на train и test с помощью `train_test_split`."
   ]
  },
  {
   "cell_type": "code",
   "execution_count": 285,
   "metadata": {
    "colab": {
     "autoexec": {
      "startup": false,
      "wait_interval": 0
     }
    },
    "colab_type": "code",
    "id": "Q030jzyY25pl"
   },
   "outputs": [],
   "source": [
    "from sklearn.linear_model import LogisticRegression\n",
    "from sklearn.metrics import f1_score, accuracy_score"
   ]
  },
  {
   "cell_type": "code",
   "execution_count": 286,
   "metadata": {
    "colab": {
     "autoexec": {
      "startup": false,
      "wait_interval": 0
     }
    },
    "colab_type": "code",
    "id": "taWX6ME925pn"
   },
   "outputs": [],
   "source": [
    "two_class_labels_indices = (labels == 1) + (labels == 2)\n",
    "\n",
    "two_class_feature_matrix = feature_matrix[two_class_labels_indices]\n",
    "two_class_labels = labels[two_class_labels_indices]"
   ]
  },
  {
   "cell_type": "code",
   "execution_count": 287,
   "metadata": {
    "colab": {
     "autoexec": {
      "startup": false,
      "wait_interval": 0
     }
    },
    "colab_type": "code",
    "id": "zoQPXD_k25po"
   },
   "outputs": [],
   "source": [
    "train_feature_matrix, test_feature_matrix, train_labels, test_labels = train_test_split(two_class_feature_matrix, \n",
    "                                                                                        two_class_labels, \n",
    "                                                                                        train_size=0.8,  \n",
    "                                                                                        test_size=0.2, \n",
    "                                                                                        shuffle=True, \n",
    "                                                                                        random_state=42)"
   ]
  },
  {
   "cell_type": "markdown",
   "metadata": {
    "colab_type": "text",
    "id": "A8iDa9Je25pq"
   },
   "source": [
    "Обучите логистическую регрессию. Оцените качество классификации на отложенной выборке с помощью `accuracy` и `f1_score` ([Wikipedia](https://en.wikipedia.org/wiki/F1_score))."
   ]
  },
  {
   "cell_type": "code",
   "execution_count": 289,
   "metadata": {
    "colab": {
     "autoexec": {
      "startup": false,
      "wait_interval": 0
     }
    },
    "colab_type": "code",
    "id": "VF2CeR7W25pt"
   },
   "outputs": [
    {
     "name": "stdout",
     "output_type": "stream",
     "text": [
      "accuracy = 0.789\n",
      "f1 score = 0.751\n"
     ]
    }
   ],
   "source": [
    "lr_clf = LogisticRegression()\n",
    "lr_clf.fit(train_feature_matrix, train_labels)\n",
    "\n",
    "acc = accuracy_score(lr_clf.predict(test_feature_matrix), test_labels)\n",
    "print('accuracy = {:.3f}'.format(acc))\n",
    "\n",
    "f1 = f1_score(lr_clf.predict(test_feature_matrix), test_labels)\n",
    "print('f1 score = {:.3f}'.format(f1))"
   ]
  },
  {
   "cell_type": "markdown",
   "metadata": {
    "colab_type": "text",
    "id": "9MKHZ2JC25pv"
   },
   "source": [
    "#### 2.2 Многоклассовая классификация: логистическая регрессия (30%)"
   ]
  },
  {
   "cell_type": "markdown",
   "metadata": {
    "colab_type": "text",
    "id": "P1mWe4kJ25pv"
   },
   "source": [
    "**Комментарий:**\n",
    "\n",
    "*Логистическая регрессия позволяет решать и задачу многоклассовой классификации. Класс ``LogisticRegression`` позвляет это делать двумя способами:* \n",
    "- *1. Стандартный One vs Rest (т.е. каждый класс отделяется от всех других). Параметр `multi_class='ovr'`.*\n",
    "- *2. Используюя кросс-энтропию (оценивается сразу вектор вероятностей принадлежности классам). Параметр `multi_class='multinomial'`.*\n",
    "\n",
    "*По умолчанию будем использовать второй способ.*\n"
   ]
  },
  {
   "cell_type": "markdown",
   "metadata": {
    "colab_type": "text",
    "id": "BGn7U05I25pw"
   },
   "source": [
    "Теперь будем работать со всеми 7 типами покрытия (данные уже находятся в переменных `feature_matrix` и `labels`, если Вы их не переопределили). Разделите выборку на обучающую и тестовую с помощью метода `train_test_split`, используйте значения параметров `test_size=0.2`, `random_state=42`. Обучите логистическую регрессию  на данном датасете."
   ]
  },
  {
   "cell_type": "code",
   "execution_count": 290,
   "metadata": {},
   "outputs": [],
   "source": [
    "train_feature_matrix, test_feature_matrix, train_labels, test_labels = train_test_split(feature_matrix, \n",
    "                                                                                        labels, \n",
    "                                                                                        train_size=0.8,  \n",
    "                                                                                        test_size=0.2, \n",
    "                                                                                        shuffle=True, \n",
    "                                                                                        random_state=42)"
   ]
  },
  {
   "cell_type": "code",
   "execution_count": 291,
   "metadata": {
    "colab": {
     "autoexec": {
      "startup": false,
      "wait_interval": 0
     }
    },
    "colab_type": "code",
    "id": "xqzEKcdD25px"
   },
   "outputs": [
    {
     "data": {
      "text/plain": [
       "LogisticRegression(C=1.0, class_weight=None, dual=False, fit_intercept=True,\n",
       "          intercept_scaling=1, max_iter=100, multi_class='warn', n_jobs=-1,\n",
       "          penalty='l2', random_state=None, solver='warn', tol=0.0001,\n",
       "          verbose=0, warm_start=False)"
      ]
     },
     "execution_count": 291,
     "metadata": {},
     "output_type": "execute_result"
    }
   ],
   "source": [
    "lr_clf = LogisticRegression(n_jobs=-1)\n",
    "\n",
    "lr_clf.fit(train_feature_matrix, train_labels)"
   ]
  },
  {
   "cell_type": "markdown",
   "metadata": {
    "colab_type": "text",
    "id": "5QqTntPq25p0"
   },
   "source": [
    "С помощью 5-кратной кросс-валидации (`GridSearchCV`) подберите оптимальное значение параметров `С` и `penalty`. Для параметра `C` используйте набор значений `np.linspace(0.01, 1, 10)`, а для `penalty` - `['l1', 'l2']`. Критерий качества `scoring = 'accuracy'`."
   ]
  },
  {
   "cell_type": "code",
   "execution_count": 292,
   "metadata": {
    "colab": {
     "autoexec": {
      "startup": false,
      "wait_interval": 0
     }
    },
    "colab_type": "code",
    "id": "j-M-porJ25p0"
   },
   "outputs": [
    {
     "name": "stdout",
     "output_type": "stream",
     "text": [
      "Wall time: 18.1 s\n"
     ]
    }
   ],
   "source": [
    "%%time\n",
    "from sklearn.model_selection import GridSearchCV\n",
    "\n",
    "parameters = {'penalty':('l1', 'l2'), 'C':np.linspace(0.01, 1, 10)}\n",
    "clf = LogisticRegression(n_jobs=-1)\n",
    "lr_clf = GridSearchCV(clf, parameters, cv=5, scoring='accuracy', n_jobs=-1)\n",
    "lr_clf.fit(train_feature_matrix, train_labels)"
   ]
  },
  {
   "cell_type": "code",
   "execution_count": 293,
   "metadata": {
    "scrolled": true
   },
   "outputs": [
    {
     "data": {
      "text/plain": [
       "{'mean_fit_time': array([ 3.19685235,  0.60937314,  6.40327849,  0.88483605,  7.96809387,\n",
       "         0.95963545,  8.30858216,  0.84613533,  7.29987993,  0.85371704,\n",
       "         8.54993711,  0.80205455,  8.24734583,  0.83097811,  6.83771582,\n",
       "         0.83357072,  7.00985508,  0.92791858,  6.56524467,  0.8668817 ]),\n",
       " 'std_fit_time': array([ 0.34363495,  0.048839  ,  0.25482747,  0.04990095,  0.50698905,\n",
       "         0.05331134,  1.26432919,  0.04492119,  1.21805511,  0.03889863,\n",
       "         1.55900516,  0.05056927,  0.47293723,  0.03903357,  0.77535827,\n",
       "         0.02407163,  0.45495771,  0.04438608,  1.07501603,  0.06562286]),\n",
       " 'mean_score_time': array([ 0.00777888,  0.00338988,  0.00897565,  0.00398879,  0.01216784,\n",
       "         0.00359006,  0.00379024,  0.00099769,  0.00099745,  0.00099711,\n",
       "         0.00059853,  0.00099726,  0.00039907,  0.00099726,  0.00099726,\n",
       "         0.00079827,  0.00079856,  0.00099759,  0.00099759,  0.00079751]),\n",
       " 'std_score_time': array([  3.98993959e-04,   4.88578005e-04,   1.99465754e-03,\n",
       "          6.30756967e-04,   7.39398430e-03,   4.87896448e-04,\n",
       "          3.42053023e-03,   9.72560790e-07,   1.90734863e-07,\n",
       "          5.51978917e-07,   4.88694457e-04,   5.51978917e-07,\n",
       "          4.88752886e-04,   1.78416128e-07,   4.62310777e-07,\n",
       "          3.99137010e-04,   3.99282082e-04,   7.89305942e-07,\n",
       "          3.81469727e-07,   3.98755113e-04]),\n",
       " 'param_C': masked_array(data = [0.01 0.01 0.12 0.12 0.23000000000000001 0.23000000000000001\n",
       "  0.34000000000000002 0.34000000000000002 0.45000000000000001\n",
       "  0.45000000000000001 0.56000000000000005 0.56000000000000005\n",
       "  0.67000000000000004 0.67000000000000004 0.78000000000000003\n",
       "  0.78000000000000003 0.89000000000000001 0.89000000000000001 1.0 1.0],\n",
       "              mask = [False False False False False False False False False False False False\n",
       "  False False False False False False False False],\n",
       "        fill_value = ?),\n",
       " 'param_penalty': masked_array(data = ['l1' 'l2' 'l1' 'l2' 'l1' 'l2' 'l1' 'l2' 'l1' 'l2' 'l1' 'l2' 'l1' 'l2' 'l1'\n",
       "  'l2' 'l1' 'l2' 'l1' 'l2'],\n",
       "              mask = [False False False False False False False False False False False False\n",
       "  False False False False False False False False],\n",
       "        fill_value = ?),\n",
       " 'params': [{'C': 0.01, 'penalty': 'l1'},\n",
       "  {'C': 0.01, 'penalty': 'l2'},\n",
       "  {'C': 0.12, 'penalty': 'l1'},\n",
       "  {'C': 0.12, 'penalty': 'l2'},\n",
       "  {'C': 0.23000000000000001, 'penalty': 'l1'},\n",
       "  {'C': 0.23000000000000001, 'penalty': 'l2'},\n",
       "  {'C': 0.34000000000000002, 'penalty': 'l1'},\n",
       "  {'C': 0.34000000000000002, 'penalty': 'l2'},\n",
       "  {'C': 0.45000000000000001, 'penalty': 'l1'},\n",
       "  {'C': 0.45000000000000001, 'penalty': 'l2'},\n",
       "  {'C': 0.56000000000000005, 'penalty': 'l1'},\n",
       "  {'C': 0.56000000000000005, 'penalty': 'l2'},\n",
       "  {'C': 0.67000000000000004, 'penalty': 'l1'},\n",
       "  {'C': 0.67000000000000004, 'penalty': 'l2'},\n",
       "  {'C': 0.78000000000000003, 'penalty': 'l1'},\n",
       "  {'C': 0.78000000000000003, 'penalty': 'l2'},\n",
       "  {'C': 0.89000000000000001, 'penalty': 'l1'},\n",
       "  {'C': 0.89000000000000001, 'penalty': 'l2'},\n",
       "  {'C': 1.0, 'penalty': 'l1'},\n",
       "  {'C': 1.0, 'penalty': 'l2'}],\n",
       " 'split0_test_score': array([ 0.64751704,  0.65822785,  0.66504382,  0.66893866,  0.67088608,\n",
       "         0.67185979,  0.67770204,  0.67770204,  0.67575463,  0.67672833,\n",
       "         0.67867575,  0.67185979,  0.68257059,  0.67770204,  0.68159688,\n",
       "         0.67672833,  0.68159688,  0.68062317,  0.68159688,  0.67867575]),\n",
       " 'split1_test_score': array([ 0.70634146,  0.70634146,  0.70146341,  0.7004878 ,  0.70146341,\n",
       "         0.70243902,  0.70243902,  0.70243902,  0.7102439 ,  0.7102439 ,\n",
       "         0.70634146,  0.70439024,  0.70341463,  0.71219512,  0.70439024,\n",
       "         0.7004878 ,  0.70536585,  0.70634146,  0.70536585,  0.70439024]),\n",
       " 'split2_test_score': array([ 0.64648438,  0.66796875,  0.68554688,  0.68652344,  0.69335938,\n",
       "         0.6875    ,  0.68554688,  0.68945312,  0.68554688,  0.68847656,\n",
       "         0.68066406,  0.69433594,  0.68261719,  0.69042969,  0.68261719,\n",
       "         0.68652344,  0.68164062,  0.68847656,  0.68164062,  0.68652344]),\n",
       " 'split3_test_score': array([ 0.65982405,  0.68719453,  0.70576735,  0.70576735,  0.71260997,\n",
       "         0.71358749,  0.72043011,  0.71749756,  0.72043011,  0.71652004,\n",
       "         0.71749756,  0.71847507,  0.71945259,  0.71847507,  0.72336266,\n",
       "         0.71945259,  0.72336266,  0.72140762,  0.72238514,  0.72140762]),\n",
       " 'split4_test_score': array([ 0.66699314,  0.68462292,  0.69735553,  0.70225269,  0.70812929,\n",
       "         0.70812929,  0.71302644,  0.70127326,  0.71400588,  0.71302644,\n",
       "         0.71204701,  0.71302644,  0.71106758,  0.70910872,  0.71008815,\n",
       "         0.71400588,  0.70714985,  0.70812929,  0.70617042,  0.70714985]),\n",
       " 'mean_test_score': array([ 0.66542969,  0.68085938,  0.69101563,  0.69277344,  0.69726562,\n",
       "         0.69667969,  0.69980469,  0.69765625,  0.70117188,  0.70097656,\n",
       "         0.69902344,  0.70039063,  0.69980469,  0.7015625 ,  0.70039063,\n",
       "         0.69941406,  0.69980469,  0.70097656,  0.69941406,  0.69960937]),\n",
       " 'std_test_score': array([ 0.02186305,  0.01663757,  0.01465032,  0.01361369,  0.01472215,\n",
       "         0.01517633,  0.01612132,  0.01338554,  0.01737353,  0.01560804,\n",
       "         0.01622338,  0.01646201,  0.01495649,  0.01516988,  0.01616857,\n",
       "         0.0161054 ,  0.01613453,  0.01461894,  0.01576328,  0.01526442]),\n",
       " 'rank_test_score': array([20, 19, 18, 17, 15, 16,  7, 14,  2,  3, 13,  5,  7,  1,  5, 11,  7,\n",
       "         3, 11, 10]),\n",
       " 'split0_train_score': array([ 0.67823113,  0.69264598,  0.70241876,  0.7029074 ,  0.70925971,\n",
       "         0.70950403,  0.71390178,  0.71268019,  0.71365746,  0.71439042,\n",
       "         0.71243587,  0.70974835,  0.71341314,  0.71023699,  0.71365746,\n",
       "         0.71439042,  0.71439042,  0.71439042,  0.71487906,  0.71194723]),\n",
       " 'split1_train_score': array([ 0.66178266,  0.67863248,  0.69450549,  0.6952381 ,  0.7032967 ,\n",
       "         0.6998779 ,  0.7037851 ,  0.7025641 ,  0.70695971,  0.7008547 ,\n",
       "         0.70940171,  0.70525031,  0.71013431,  0.70818071,  0.71086691,\n",
       "         0.7035409 ,  0.71233211,  0.70598291,  0.71208791,  0.70720391]),\n",
       " 'split2_train_score': array([ 0.67138672,  0.6887207 ,  0.69775391,  0.69873047,  0.70507812,\n",
       "         0.70410156,  0.70776367,  0.70532227,  0.71191406,  0.71020508,\n",
       "         0.71289062,  0.7109375 ,  0.71435547,  0.71166992,  0.71630859,\n",
       "         0.71386719,  0.71508789,  0.71191406,  0.71679688,  0.7121582 ]),\n",
       " 'split3_train_score': array([ 0.66975836,  0.68196241,  0.69611911,  0.69660727,  0.7039297 ,\n",
       "         0.70148889,  0.70563827,  0.70490603,  0.707835  ,  0.70685868,\n",
       "         0.70832316,  0.70856724,  0.70905541,  0.70685868,  0.70978765,\n",
       "         0.70881133,  0.71051989,  0.70807908,  0.71125214,  0.70929949]),\n",
       " 'split4_train_score': array([ 0.66699195,  0.68358136,  0.69065626,  0.69382776,  0.69529153,\n",
       "         0.69724323,  0.70212247,  0.6955355 ,  0.70212247,  0.70748963,\n",
       "         0.70651378,  0.70748963,  0.70700171,  0.7089534 ,  0.70700171,\n",
       "         0.70870944,  0.70846548,  0.70724567,  0.70822152,  0.70822152]),\n",
       " 'mean_train_score': array([ 0.66963016,  0.68510859,  0.69629071,  0.6974622 ,  0.70337116,\n",
       "         0.70244312,  0.70664226,  0.70420162,  0.70849774,  0.7079597 ,\n",
       "         0.70991303,  0.70839861,  0.71079201,  0.70917994,  0.71152447,\n",
       "         0.70986386,  0.71215916,  0.70952243,  0.7126475 ,  0.70976607]),\n",
       " 'std_train_score': array([ 0.0053967 ,  0.00498057,  0.00386413,  0.00316687,  0.00454283,\n",
       "         0.00417461,  0.00408798,  0.00550311,  0.00404334,  0.00443419,\n",
       "         0.00243207,  0.00195112,  0.00273435,  0.00165864,  0.00320443,\n",
       "         0.00397333,  0.00244607,  0.00313727,  0.00296805,  0.00198231])}"
      ]
     },
     "execution_count": 293,
     "metadata": {},
     "output_type": "execute_result"
    }
   ],
   "source": [
    "lr_clf.cv_results_"
   ]
  },
  {
   "cell_type": "markdown",
   "metadata": {
    "colab_type": "text",
    "id": "rzsRzpiv25p2"
   },
   "source": [
    "Постройте графики средних значений критерия качества `accuracy` для типов регуляризации `l1` и `l2` в зависимости от коэффициента регуляризации `C`."
   ]
  },
  {
   "cell_type": "code",
   "execution_count": 294,
   "metadata": {
    "colab": {
     "autoexec": {
      "startup": false,
      "wait_interval": 0
     }
    },
    "colab_type": "code",
    "id": "nYOrtHpy25p3"
   },
   "outputs": [],
   "source": [
    "x_l1 = list(map(lambda x: x['C'], lr_clf.cv_results_['params'][::2]))\n",
    "x_l2 = list(map(lambda x: x['C'], lr_clf.cv_results_['params'][1::2]))\n",
    "score_l1 = np.array(lr_clf.cv_results_['mean_train_score'][::2])\n",
    "score_l2 = np.array(lr_clf.cv_results_['mean_train_score'][1::2])"
   ]
  },
  {
   "cell_type": "code",
   "execution_count": 295,
   "metadata": {},
   "outputs": [
    {
     "data": {
      "image/png": "[encoded data removed]",
      "text/plain": [
       "<Figure size 720x432 with 1 Axes>"
      ]
     },
     "metadata": {
      "needs_background": "light"
     },
     "output_type": "display_data"
    }
   ],
   "source": [
    "%matplotlib inline\n",
    "import matplotlib.pyplot as plt\n",
    "\n",
    "fig = plt.figure(figsize=(10, 6))\n",
    "\n",
    "axes = fig.add_axes([0.1, 0.1, 0.8, 0.8])\n",
    "\n",
    "plt.plot(x_l1, score_l1, 'r+--')\n",
    "plt.plot(x_l2, score_l2, 'g*-')\n",
    "\n",
    "axes.set_xlabel('C')\n",
    "axes.set_ylabel('accuracy')\n",
    "axes.set_title('GridSearchCV')\n",
    "axes.legend([r'l1', 'l2'], loc = 0)\n",
    "\n",
    "plt.grid()\n",
    "plt.show()"
   ]
  },
  {
   "cell_type": "markdown",
   "metadata": {
    "colab_type": "text",
    "id": "IQraNf0M25p5"
   },
   "source": [
    "Проанализируйте полученные графики. Чему равны найденные оптимальные значения параметров `C` и `penalty`?"
   ]
  },
  {
   "cell_type": "code",
   "execution_count": 296,
   "metadata": {
    "colab": {
     "autoexec": {
      "startup": false,
      "wait_interval": 0
     }
    },
    "colab_type": "code",
    "id": "BkT1RWJj25p7"
   },
   "outputs": [],
   "source": [
    "max_l1 = score_l1[np.argmax(score_l1)]\n",
    "max_C_l1 = x_l1[np.argmax(score_l1)]\n",
    "\n",
    "max_l2 = score_l2[np.argmax(score_l2)]\n",
    "max_C_l2 = x_l2[np.argmax(score_l2)]"
   ]
  },
  {
   "cell_type": "code",
   "execution_count": 297,
   "metadata": {},
   "outputs": [
    {
     "name": "stdout",
     "output_type": "stream",
     "text": [
      "C_l1 =  1.0 score_l1 =  0.712647500411\n",
      "C_l2 =  0.78 score_l2 =  0.70986385608\n"
     ]
    }
   ],
   "source": [
    "print('C_l1 = ', max_C_l1, 'score_l1 = ', max_l1)\n",
    "print('C_l2 = ', max_C_l2, 'score_l2 = ', max_l2)"
   ]
  },
  {
   "cell_type": "markdown",
   "metadata": {
    "colab_type": "text",
    "id": "uIX7uVYk25p9"
   },
   "source": [
    "Используя найденные оптимальные значения `C` и `penalty`, обучите логистическую регрессию на обучающей выборке (train) и вычислите вероятности принадлежности к классам для тестовой (test)  выборки (`best_lr_clf.predict_proba`)."
   ]
  },
  {
   "cell_type": "code",
   "execution_count": 298,
   "metadata": {
    "colab": {
     "autoexec": {
      "startup": false,
      "wait_interval": 0
     }
    },
    "colab_type": "code",
    "id": "1rDNazlC25p9"
   },
   "outputs": [
    {
     "data": {
      "text/plain": [
       "LogisticRegression(C=1.0, class_weight=None, dual=False, fit_intercept=True,\n",
       "          intercept_scaling=1, max_iter=100, multi_class='warn', n_jobs=-1,\n",
       "          penalty='l1', random_state=None, solver='warn', tol=0.0001,\n",
       "          verbose=0, warm_start=False)"
      ]
     },
     "execution_count": 298,
     "metadata": {},
     "output_type": "execute_result"
    }
   ],
   "source": [
    "best_lr_clf = LogisticRegression(penalty='l1', C=1.0, n_jobs=-1)\n",
    "\n",
    "best_lr_clf.fit(train_feature_matrix, train_labels)"
   ]
  },
  {
   "cell_type": "code",
   "execution_count": 299,
   "metadata": {},
   "outputs": [],
   "source": [
    "predict_matrix = best_lr_clf.predict_proba(test_feature_matrix)"
   ]
  },
  {
   "cell_type": "markdown",
   "metadata": {
    "colab_type": "text",
    "id": "Ck7T2dGQ25p_"
   },
   "source": [
    "Для полученной матрицы вычислите усредненные по всем объектам из тестовой выборки значения вероятностей принадлежности к классам. Сравните ее оценкой вероятности принадлежности к классу на основе частот меток классов в обучающей выборке."
   ]
  },
  {
   "cell_type": "code",
   "execution_count": 300,
   "metadata": {},
   "outputs": [],
   "source": [
    "## усредненные по всем объектам из тестовой выборки значения вероятностей\n",
    "predict_labels = {i:x for i, x in enumerate(predict_matrix.mean(axis=0))}\n",
    "\n",
    "## частоты меток классов в обучающей выборке\n",
    "unique, counts = np.unique(test_labels, return_counts=True)\n",
    "true_labels = dict(zip(unique, counts/test_labels.shape[0]))"
   ]
  },
  {
   "cell_type": "code",
   "execution_count": 301,
   "metadata": {},
   "outputs": [],
   "source": [
    "## соответсвие класса к разности между точной частотой меток классов к предсказнной\n",
    "comparison_dict = {i+1:abs(round(x,3)) for i, x in enumerate(predict_matrix.mean(axis=0) - counts/test_labels.shape[0])}"
   ]
  },
  {
   "cell_type": "code",
   "execution_count": 302,
   "metadata": {},
   "outputs": [
    {
     "data": {
      "text/plain": [
       "{1: 0.014,\n",
       " 2: 0.012,\n",
       " 3: 0.001,\n",
       " 4: 0.001,\n",
       " 5: 0.001,\n",
       " 6: 0.002,\n",
       " 7: 0.0030000000000000001}"
      ]
     },
     "execution_count": 302,
     "metadata": {},
     "output_type": "execute_result"
    }
   ],
   "source": [
    "comparison_dict"
   ]
  },
  {
   "cell_type": "code",
   "execution_count": 303,
   "metadata": {},
   "outputs": [
    {
     "name": "stdout",
     "output_type": "stream",
     "text": [
      "MSE = 0.0195\n"
     ]
    }
   ],
   "source": [
    "## MSE частот\n",
    "mse_acc = np.linalg.norm(predict_matrix.mean(axis=0) - counts/test_labels.shape[0])\n",
    "print('MSE = {:.4f}'.format(mse_acc))"
   ]
  },
  {
   "cell_type": "markdown",
   "metadata": {
    "colab_type": "text",
    "id": "VYogShkD25qD"
   },
   "source": [
    "#### 2.3 Многоклассовая классификация: kNN (20%)."
   ]
  },
  {
   "cell_type": "markdown",
   "metadata": {
    "colab_type": "text",
    "id": "BHVNCaJ325qD"
   },
   "source": [
    "Вспомним первое занятие. Обучите на том же датасете `KNeighborsClassifier` из `sklearn`."
   ]
  },
  {
   "cell_type": "markdown",
   "metadata": {
    "colab_type": "text",
    "id": "Yl_foM3u25qF"
   },
   "source": [
    "Попробуйте использовать различные стратегии вычисления весов: `[‘uniform’, ‘distance’]`. Выберите одно из них самостоятельно. Чем обоснован Ваш выбор?"
   ]
  },
  {
   "cell_type": "markdown",
   "metadata": {
    "colab_type": "text",
    "id": "8WzoRJZd25qF"
   },
   "source": [
    "Переберите по сетке от `1` до `10` параметр числа соседей. Покажите на графике, как менялись значения критерия качества `accuracy` при изменении числа соседей."
   ]
  },
  {
   "cell_type": "code",
   "execution_count": 308,
   "metadata": {
    "colab": {
     "autoexec": {
      "startup": false,
      "wait_interval": 0
     }
    },
    "colab_type": "code",
    "id": "4lMSy-6f25qG"
   },
   "outputs": [
    {
     "data": {
      "image/png": "[encoded data removed]",
      "text/plain": [
       "<Figure size 720x432 with 1 Axes>"
      ]
     },
     "metadata": {
      "needs_background": "light"
     },
     "output_type": "display_data"
    },
    {
     "name": "stdout",
     "output_type": "stream",
     "text": [
      "{'uniform': {'acc': 0.75624999999999998, 'k': 1}, 'distance': {'acc': 0.7734375, 'k': 9}}\n"
     ]
    }
   ],
   "source": [
    "from sklearn.neighbors import KNeighborsClassifier\n",
    "\n",
    "fig = plt.figure(figsize=(10, 6))\n",
    "axes = fig.add_axes([0.1, 0.1, 0.8, 0.8])\n",
    "\n",
    "N = 20 ## количество перебираемых соседей\n",
    "best_score = {'uniform': None, 'distance': None} ## лучший результат для каждого метода\n",
    "\n",
    "color = {'uniform': 'r+--', 'distance': 'g*-'}\n",
    "for weight in ['uniform', 'distance']:\n",
    "    acc = [[]]*N\n",
    "    for k in range(1, N+1):\n",
    "        knn = KNeighborsClassifier(weights=weight, n_neighbors=k, n_jobs=-1)\n",
    "        knn.fit(train_feature_matrix, train_labels)\n",
    "        acc[k-1] = accuracy_score(knn.predict(test_feature_matrix), test_labels)\n",
    "    plt.plot(np.arange(1,N+1), acc, color[weight])\n",
    "    \n",
    "    acc = np.array(acc)\n",
    "    best_score[weight] = {'acc': np.max(acc), 'k': np.argmax(acc) + 1}\n",
    "\n",
    "axes.set_xlabel('k')\n",
    "axes.set_ylabel('accuracy')\n",
    "axes.set_title('KNeighborsClassifier')\n",
    "axes.legend([r'uniform', 'distance'], loc = 0)\n",
    "plt.grid()\n",
    "plt.show()\n",
    "\n",
    "\n",
    "print(best_score)"
   ]
  },
  {
   "cell_type": "markdown",
   "metadata": {
    "colab_type": "text",
    "id": "aBmiDbvV25qI"
   },
   "source": [
    "Используя найденное оптимальное число соседей, вычислите вероятности принадлежности к классам для тестовой выборки (`.predict_proba`)."
   ]
  },
  {
   "cell_type": "code",
   "execution_count": 309,
   "metadata": {
    "colab": {
     "autoexec": {
      "startup": false,
      "wait_interval": 0
     }
    },
    "colab_type": "code",
    "id": "ig_vS8O925qI"
   },
   "outputs": [
    {
     "data": {
      "text/plain": [
       "KNeighborsClassifier(algorithm='auto', leaf_size=30, metric='minkowski',\n",
       "           metric_params=None, n_jobs=-1, n_neighbors=9, p=2,\n",
       "           weights='distance')"
      ]
     },
     "execution_count": 309,
     "metadata": {},
     "output_type": "execute_result"
    }
   ],
   "source": [
    "knn_best = KNeighborsClassifier(weights='distance', n_neighbors=9, n_jobs=-1)\n",
    "knn_best.fit(train_feature_matrix, train_labels)"
   ]
  },
  {
   "cell_type": "code",
   "execution_count": 310,
   "metadata": {},
   "outputs": [],
   "source": [
    "knn_predict_matrix = knn_best.predict_proba(test_feature_matrix)"
   ]
  },
  {
   "cell_type": "markdown",
   "metadata": {},
   "source": [
    "#### 2.4 Метод опорных векторов (30%)"
   ]
  },
  {
   "cell_type": "markdown",
   "metadata": {},
   "source": [
    "Прежде чем приступить к использованию метода опорных векторов, вспомним что для линейный моделей критично масштабировать данные, для этого воспользуемся `MinMaxScaler`. Не забывайте, что у этого класса сущестуют методы `.fit()`, `.transform()`, `.fit_transform()`. Учитывайте, что данные из отложенной выборки нам недоступны при обучении модели."
   ]
  },
  {
   "cell_type": "code",
   "execution_count": 311,
   "metadata": {},
   "outputs": [],
   "source": [
    "from sklearn.preprocessing import MinMaxScaler"
   ]
  },
  {
   "cell_type": "code",
   "execution_count": 312,
   "metadata": {},
   "outputs": [],
   "source": [
    "scaler = MinMaxScaler()\n",
    "train_feature_matrix_scaled = scaler.fit_transform(train_feature_matrix)\n",
    "test_feature_matrix_scaled = scaler.fit_transform(test_feature_matrix)"
   ]
  },
  {
   "cell_type": "markdown",
   "metadata": {},
   "source": [
    "Обучим классификатор"
   ]
  },
  {
   "cell_type": "code",
   "execution_count": 313,
   "metadata": {},
   "outputs": [],
   "source": [
    "from sklearn.svm import SVC"
   ]
  },
  {
   "cell_type": "code",
   "execution_count": 314,
   "metadata": {},
   "outputs": [
    {
     "name": "stdout",
     "output_type": "stream",
     "text": [
      "Wall time: 19.3 s\n"
     ]
    }
   ],
   "source": [
    "%%time\n",
    "\n",
    "parameters = {'kernel':('linear', 'rbf'), 'C':np.linspace(0.01, 1, 10)}\n",
    "svc = SVC()\n",
    "lr_svc = GridSearchCV(svc, parameters, cv=5, scoring='accuracy', n_jobs=-1)\n",
    "lr_svc.fit(train_feature_matrix_scaled, train_labels)"
   ]
  },
  {
   "cell_type": "markdown",
   "metadata": {},
   "source": [
    "С помощью 5-кратной кросс-валидации (`GridSearchCV`) подберите оптимальное значение параметров `C` и `kernel`. Для параметра `C` используйте набор значений `np.linspace(0.01, 1, 10)`, а для `kernel` - `['linear', 'rbf']`. Критерий качества `scoring = 'accuracy'`.\n",
    "\n",
    "Постройте графики средних значений критерия качества accuracy для типов ядер `linear` и `rbf`,  в зависимости от коэффициента `C`.\n",
    "\n",
    "_Подсказка:_ Если метод учится слишком долго, попробуйте ограничить кол-во итераций (`max_iter`) и/или увеличить параметр останова`tol`"
   ]
  },
  {
   "cell_type": "code",
   "execution_count": 315,
   "metadata": {
    "scrolled": true
   },
   "outputs": [
    {
     "data": {
      "text/plain": [
       "{'mean_fit_time': array([ 3.74119816,  4.68467278,  2.95410314,  4.61605711,  2.87451615,\n",
       "         4.58554087,  2.90283794,  4.62543187,  2.77777267,  4.01805649,\n",
       "         2.70656409,  4.14511652,  2.72690811,  3.94884205,  2.68960738,\n",
       "         3.85468931,  2.63575182,  3.41446891,  2.03834853,  1.9575623 ]),\n",
       " 'std_fit_time': array([ 0.12275389,  0.05951105,  0.05582605,  0.11667334,  0.05890886,\n",
       "         0.19172033,  0.07330054,  0.05928377,  0.0509569 ,  0.17276868,\n",
       "         0.06688914,  0.11687688,  0.14984537,  0.15275273,  0.22148411,\n",
       "         0.05256552,  0.13971632,  0.21291185,  0.35881088,  0.12787282]),\n",
       " 'mean_score_time': array([ 0.54893265,  0.67499571,  0.32532859,  0.70092597,  0.31455798,\n",
       "         0.65824003,  0.27725816,  0.62353244,  0.25691385,  0.52998323,\n",
       "         0.25092802,  0.59301476,  0.28364129,  0.57625742,  0.2595068 ,\n",
       "         0.323738  ,  0.24434595,  0.31934605,  0.16755261,  0.24035802]),\n",
       " 'std_score_time': array([ 0.02390761,  0.0246357 ,  0.02341881,  0.03487135,  0.03356619,\n",
       "         0.02773149,  0.01807334,  0.01807766,  0.0060706 ,  0.01563774,\n",
       "         0.01143438,  0.04810988,  0.01656433,  0.03070323,  0.01963032,\n",
       "         0.04030113,  0.01294234,  0.03506518,  0.02846839,  0.00800385]),\n",
       " 'param_C': masked_array(data = [0.01 0.01 0.12 0.12 0.23000000000000001 0.23000000000000001\n",
       "  0.34000000000000002 0.34000000000000002 0.45000000000000001\n",
       "  0.45000000000000001 0.56000000000000005 0.56000000000000005\n",
       "  0.67000000000000004 0.67000000000000004 0.78000000000000003\n",
       "  0.78000000000000003 0.89000000000000001 0.89000000000000001 1.0 1.0],\n",
       "              mask = [False False False False False False False False False False False False\n",
       "  False False False False False False False False],\n",
       "        fill_value = ?),\n",
       " 'param_kernel': masked_array(data = ['linear' 'rbf' 'linear' 'rbf' 'linear' 'rbf' 'linear' 'rbf' 'linear' 'rbf'\n",
       "  'linear' 'rbf' 'linear' 'rbf' 'linear' 'rbf' 'linear' 'rbf' 'linear' 'rbf'],\n",
       "              mask = [False False False False False False False False False False False False\n",
       "  False False False False False False False False],\n",
       "        fill_value = ?),\n",
       " 'params': [{'C': 0.01, 'kernel': 'linear'},\n",
       "  {'C': 0.01, 'kernel': 'rbf'},\n",
       "  {'C': 0.12, 'kernel': 'linear'},\n",
       "  {'C': 0.12, 'kernel': 'rbf'},\n",
       "  {'C': 0.23000000000000001, 'kernel': 'linear'},\n",
       "  {'C': 0.23000000000000001, 'kernel': 'rbf'},\n",
       "  {'C': 0.34000000000000002, 'kernel': 'linear'},\n",
       "  {'C': 0.34000000000000002, 'kernel': 'rbf'},\n",
       "  {'C': 0.45000000000000001, 'kernel': 'linear'},\n",
       "  {'C': 0.45000000000000001, 'kernel': 'rbf'},\n",
       "  {'C': 0.56000000000000005, 'kernel': 'linear'},\n",
       "  {'C': 0.56000000000000005, 'kernel': 'rbf'},\n",
       "  {'C': 0.67000000000000004, 'kernel': 'linear'},\n",
       "  {'C': 0.67000000000000004, 'kernel': 'rbf'},\n",
       "  {'C': 0.78000000000000003, 'kernel': 'linear'},\n",
       "  {'C': 0.78000000000000003, 'kernel': 'rbf'},\n",
       "  {'C': 0.89000000000000001, 'kernel': 'linear'},\n",
       "  {'C': 0.89000000000000001, 'kernel': 'rbf'},\n",
       "  {'C': 1.0, 'kernel': 'linear'},\n",
       "  {'C': 1.0, 'kernel': 'rbf'}],\n",
       " 'split0_test_score': array([ 0.59201558,  0.47906524,  0.62609542,  0.48977605,  0.6835443 ,\n",
       "         0.58519961,  0.68646543,  0.59298929,  0.6932814 ,  0.59980526,\n",
       "         0.69133398,  0.59493671,  0.68938656,  0.59298929,  0.6932814 ,\n",
       "         0.59298929,  0.69425511,  0.59298929,  0.68938656,  0.593963  ]),\n",
       " 'split1_test_score': array([ 0.59317073,  0.48      ,  0.64292683,  0.48390244,  0.69268293,\n",
       "         0.58634146,  0.69463415,  0.6       ,  0.6995122 ,  0.61268293,\n",
       "         0.70146341,  0.61658537,  0.70439024,  0.61463415,  0.70634146,\n",
       "         0.61658537,  0.70634146,  0.61463415,  0.70731707,  0.61463415]),\n",
       " 'split2_test_score': array([ 0.57421875,  0.48046875,  0.62011719,  0.47851562,  0.671875  ,\n",
       "         0.56933594,  0.68359375,  0.5859375 ,  0.68652344,  0.59472656,\n",
       "         0.68554688,  0.59570312,  0.68945312,  0.59472656,  0.68945312,\n",
       "         0.59472656,  0.68652344,  0.59277344,  0.68652344,  0.59082031]),\n",
       " 'split3_test_score': array([ 0.61290323,  0.48093842,  0.67741935,  0.49071359,  0.70381232,\n",
       "         0.59921799,  0.71163245,  0.61779081,  0.72043011,  0.6285435 ,\n",
       "         0.72043011,  0.63343109,  0.71749756,  0.63049853,  0.71749756,\n",
       "         0.63245357,  0.71945259,  0.63147605,  0.71847507,  0.63245357]),\n",
       " 'split4_test_score': array([ 0.59745348,  0.48090108,  0.63467189,  0.4906954 ,  0.70421156,\n",
       "         0.59451518,  0.71204701,  0.59745348,  0.71106758,  0.59745348,\n",
       "         0.71400588,  0.61018609,  0.71498531,  0.60822723,  0.71694417,\n",
       "         0.60822723,  0.7179236 ,  0.60822723,  0.7179236 ,  0.60920666]),\n",
       " 'mean_test_score': array([ 0.59394531,  0.48027344,  0.64023438,  0.48671875,  0.69121094,\n",
       "         0.58691406,  0.69765625,  0.59882813,  0.70214844,  0.60664063,\n",
       "         0.70253906,  0.61015625,  0.703125  ,  0.60820312,  0.7046875 ,\n",
       "         0.60898438,  0.70488281,  0.60800781,  0.70390625,  0.60820312]),\n",
       " 'std_test_score': array([ 0.01236766,  0.00069449,  0.020123  ,  0.00482319,  0.01234631,\n",
       "         0.01020895,  0.01211716,  0.01060991,  0.0121915 ,  0.01256004,\n",
       "         0.01316582,  0.01430922,  0.01203697,  0.01379678,  0.01165356,\n",
       "         0.01461879,  0.01291596,  0.01450877,  0.01366163,  0.0150695 ]),\n",
       " 'rank_test_score': array([17, 20,  9, 19,  8, 18,  7, 16,  6, 15,  5, 10,  4, 12,  2, 11,  1,\n",
       "        14,  3, 12]),\n",
       " 'split0_train_score': array([ 0.59956022,  0.48057659,  0.64256047,  0.48595162,  0.69924261,\n",
       "         0.59076472,  0.7065722 ,  0.60395798,  0.71048131,  0.6142194 ,\n",
       "         0.71096995,  0.61250916,  0.71316882,  0.6117762 ,  0.71243587,\n",
       "         0.6117762 ,  0.71341314,  0.61202052,  0.71512338,  0.61250916]),\n",
       " 'split1_train_score': array([ 0.59340659,  0.48034188,  0.64639805,  0.48742369,  0.69401709,\n",
       "         0.58534799,  0.7028083 ,  0.5978022 ,  0.70842491,  0.6021978 ,\n",
       "         0.71062271,  0.61147741,  0.71355311,  0.60757021,  0.71330891,\n",
       "         0.60757021,  0.71306471,  0.60708181,  0.71379731,  0.60757021]),\n",
       " 'split2_train_score': array([ 0.59960938,  0.48022461,  0.64331055,  0.48876953,  0.69946289,\n",
       "         0.5925293 ,  0.70751953,  0.60571289,  0.71264648,  0.61303711,\n",
       "         0.71630859,  0.61376953,  0.71557617,  0.61523438,  0.71533203,\n",
       "         0.61499023,  0.71557617,  0.61474609,  0.71630859,  0.61450195]),\n",
       " 'split3_train_score': array([ 0.59409324,  0.4801074 ,  0.66121552,  0.48547718,  0.70051257,\n",
       "         0.58603856,  0.70148889,  0.59824262,  0.70368562,  0.60092751,\n",
       "         0.70588235,  0.60947034,  0.70637052,  0.60800586,  0.70637052,\n",
       "         0.60654137,  0.70759092,  0.60776178,  0.70929949,  0.60702953]),\n",
       " 'split4_train_score': array([ 0.59770676,  0.4801171 ,  0.64527934,  0.48621615,  0.69285192,\n",
       "         0.58746036,  0.70236643,  0.60112222,  0.70456209,  0.60551354,\n",
       "         0.70626982,  0.61405221,  0.70675775,  0.60966089,  0.70700171,\n",
       "         0.60966089,  0.70797756,  0.60844108,  0.70919737,  0.60868505]),\n",
       " 'mean_train_score': array([ 0.59687524,  0.48027352,  0.64775278,  0.48676763,  0.69721742,\n",
       "         0.58842818,  0.70415107,  0.60136758,  0.70796008,  0.60717907,\n",
       "         0.71001069,  0.61225573,  0.71108527,  0.61044951,  0.71088981,\n",
       "         0.61010778,  0.7115245 ,  0.61001026,  0.71274523,  0.61005918]),\n",
       " 'std_train_score': array([ 0.00265131,  0.00017377,  0.00686866,  0.00118939,  0.0031401 ,\n",
       "         0.00277175,  0.00242006,  0.00310256,  0.00341621,  0.00548729,\n",
       "         0.00379462,  0.00167017,  0.00378302,  0.00281207,  0.00356418,\n",
       "         0.0030325 ,  0.00317519,  0.00291764,  0.0029638 ,  0.00293267])}"
      ]
     },
     "execution_count": 315,
     "metadata": {},
     "output_type": "execute_result"
    }
   ],
   "source": [
    "lr_svc.cv_results_"
   ]
  },
  {
   "cell_type": "code",
   "execution_count": 316,
   "metadata": {},
   "outputs": [],
   "source": [
    "x_linear = list(map(lambda x: x['C'], lr_svc.cv_results_['params'][::2]))\n",
    "x_rbf = list(map(lambda x: x['C'], lr_svc.cv_results_['params'][1::2]))\n",
    "score_linear = np.array(lr_svc.cv_results_['mean_train_score'][::2])\n",
    "score_rbf = np.array(lr_svc.cv_results_['mean_train_score'][1::2])"
   ]
  },
  {
   "cell_type": "code",
   "execution_count": 317,
   "metadata": {
    "scrolled": false
   },
   "outputs": [
    {
     "data": {
      "image/png": "[encoded data removed]",
      "text/plain": [
       "<Figure size 720x432 with 1 Axes>"
      ]
     },
     "metadata": {
      "needs_background": "light"
     },
     "output_type": "display_data"
    }
   ],
   "source": [
    "%matplotlib inline\n",
    "import matplotlib.pyplot as plt\n",
    "\n",
    "fig = plt.figure(figsize=(10, 6))\n",
    "\n",
    "axes = fig.add_axes([0.1, 0.1, 0.8, 0.8])\n",
    "\n",
    "plt.plot(x_linear, score_linear, 'r+--')\n",
    "plt.plot(x_rbf, score_rbf, 'g*-')\n",
    "\n",
    "axes.set_xlabel('C')\n",
    "axes.set_ylabel('accuracy')\n",
    "axes.set_title('GridSearchCV')\n",
    "axes.legend([r'linear', 'rbf'], loc = 0)\n",
    "\n",
    "plt.grid()\n",
    "plt.show()"
   ]
  },
  {
   "cell_type": "code",
   "execution_count": 318,
   "metadata": {
    "colab": {
     "autoexec": {
      "startup": false,
      "wait_interval": 0
     }
    },
    "colab_type": "code",
    "id": "BkT1RWJj25p7"
   },
   "outputs": [],
   "source": [
    "max_linear = score_linear[np.argmax(score_linear)]\n",
    "max_C_linear = x_linear[np.argmax(score_linear)]\n",
    "\n",
    "max_rbf = score_rbf[np.argmax(score_rbf)]\n",
    "max_C_rbf = x_rbf[np.argmax(score_rbf)]"
   ]
  },
  {
   "cell_type": "code",
   "execution_count": 319,
   "metadata": {},
   "outputs": [
    {
     "name": "stdout",
     "output_type": "stream",
     "text": [
      "C_linear =  1.0 score_linear =  0.712745228314\n",
      "C_rbf =  0.56 score_rbf =  0.612255731344\n"
     ]
    }
   ],
   "source": [
    "print('C_linear = ', max_C_linear, 'score_linear = ', max_linear)\n",
    "print('C_rbf = ', max_C_rbf, 'score_rbf = ', max_rbf)"
   ]
  },
  {
   "cell_type": "markdown",
   "metadata": {
    "colab_type": "text",
    "id": "p41xvYTU25qK"
   },
   "source": [
    "#### 2.5 Сравнение результатов логистической регрессии, kNN и SVC (10%).\n",
    "\n",
    "В реальной жизни новые данные становятся доступны с течением времени. Сравните качество Вашей лучшей модели логистической регресии, лучшего kNN и лучшей модели SVM  на отложенной выборке `delayed_data`. Какая из моделей показала лучший результат?"
   ]
  },
  {
   "cell_type": "code",
   "execution_count": 320,
   "metadata": {
    "colab": {
     "autoexec": {
      "startup": false,
      "wait_interval": 0
     }
    },
    "colab_type": "code",
    "id": "xJFKTJx425qL",
    "scrolled": true
   },
   "outputs": [
    {
     "name": "stdout",
     "output_type": "stream",
     "text": [
      "svc accuracy_score =  0.7375\n",
      "knn accuracy_score =  0.7734375\n"
     ]
    }
   ],
   "source": [
    "svc_best = SVC(kernel='linear', C=1.0)\n",
    "svc_best.fit(train_feature_matrix_scaled, train_labels)\n",
    "print('svc accuracy_score = ', accuracy_score(svc_best.predict(test_feature_matrix_scaled), test_labels))\n",
    "\n",
    "knn_best = KNeighborsClassifier(weights='distance', n_neighbors=9, n_jobs=-1)\n",
    "knn_best.fit(train_feature_matrix, train_labels)\n",
    "print('knn accuracy_score = ', accuracy_score(knn_best.predict(test_feature_matrix), test_labels))"
   ]
  },
  {
   "cell_type": "code",
   "execution_count": 321,
   "metadata": {},
   "outputs": [],
   "source": [
    "labels_delayed = delayed_data[delayed_data.columns[-1]].values\n",
    "feature_matrix_delayed = delayed_data[delayed_data.columns[:-1]].values\n",
    "feature_matrix_delayed_scaled = scaler.fit_transform(feature_matrix_delayed)"
   ]
  },
  {
   "cell_type": "code",
   "execution_count": 323,
   "metadata": {},
   "outputs": [
    {
     "name": "stdout",
     "output_type": "stream",
     "text": [
      "Качество моделей на отложенных выборках:\n",
      "svc accuracy_score =  0.70875\n",
      "knn accuracy_score =  0.7375\n"
     ]
    }
   ],
   "source": [
    "print('Качество моделей на отложенных выборках:')\n",
    "\n",
    "print('svc accuracy_score = ', accuracy_score(svc_best.predict(feature_matrix_delayed_scaled), labels_delayed))\n",
    "\n",
    "print('knn accuracy_score = ', accuracy_score(knn_best.predict(feature_matrix_delayed), labels_delayed))"
   ]
  },
  {
   "cell_type": "code",
   "execution_count": null,
   "metadata": {},
   "outputs": [],
   "source": []
  },
  {
   "cell_type": "code",
   "execution_count": null,
   "metadata": {},
   "outputs": [],
   "source": []
  },
  {
   "cell_type": "code",
   "execution_count": null,
   "metadata": {},
   "outputs": [],
   "source": []
  },
  {
   "cell_type": "code",
   "execution_count": null,
   "metadata": {},
   "outputs": [],
   "source": []
  }
 ],
 "metadata": {
  "colab": {
   "collapsed_sections": [
    "dKCiU0wz25pj",
    "9MKHZ2JC25pv",
    "VYogShkD25qD",
    "p41xvYTU25qK"
   ],
   "default_view": {},
   "name": "HW1_Logistic_regression_and_SVM.ipynb",
   "provenance": [],
   "version": "0.3.2",
   "views": {}
  },
  "kernelspec": {
   "display_name": "Python 3",
   "language": "python",
   "name": "python3"
  },
  "language_info": {
   "codemirror_mode": {
    "name": "ipython",
    "version": 3
   },
   "file_extension": ".py",
   "mimetype": "text/x-python",
   "name": "python",
   "nbconvert_exporter": "python",
   "pygments_lexer": "ipython3",
   "version": "3.6.6"
  }
 },
 "nbformat": 4,
 "nbformat_minor": 1
}
