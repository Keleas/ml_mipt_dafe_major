{
 "cells": [
  {
   "cell_type": "markdown",
   "metadata": {},
   "source": [
    "# Домашнее задание №1 - Применение методов NLP\n",
    "\n",
    "\n",
    "В этом домашнем задании мы будем работать с данными из сорневнования: \n",
    "[Toxic comment classification challenge](https://www.kaggle.com/c/jigsaw-toxic-comment-classification-challenge)\n",
    "  \n",
    "  \n",
    "В задании небходимо по тексту комментария определить веротяности следующих категорий:\n",
    "- toxic\n",
    "- severe_toxic\n",
    "- obscene\n",
    "- threat\n",
    "- insult\n",
    "- identity_hate\n",
    "\n",
    "Как и в соревновании мы везде будем использовать метрику ROC AUC для валидации\n",
    "\n",
    "_Обратите внимание, что каждый комментарий может иметь несколько меток разных классов_\n",
    "\n",
    "### Что нужно сделать? \n",
    "\n",
    "1. Подготовка __[10%]__:\n",
    "    - Скачайте данные, проведите первоначальные EDA: баланс классов, пересечение классов и т.д. \n",
    "    - Придумайте и обоснуйте стратегию валидации. \n",
    "    - Сделайте предбработку данных. Оцените что требуется делать с символами, заглавными буквами. Проведите лемматизацию или стеминг.\n",
    "2. Примените любой Embedding (word2vec или Glove) __[5%]__\n",
    "3. Постройте следующие модели (для каждой необходимо самостоятельно выбрать оптимальное количество слоеев и архитектуру, оценить качество, переобученность, построить кривые обучения и валидации, сделать выводы по примению модели):\n",
    "    - Одномерные свертки __[20%]__\n",
    "    - LSTM или GRU __[20%]__\n",
    "    - Bidirectional LSTM __[20%]__   \n",
    "4. Попробуйте применить к этой задаче BERT или GPT-2. Выбор оптимального количества слоеев и архитектура на ваш вкус (но не забудьте обосновать его). Оцените качетво и другие параметры работы модели. __[25%]__\n",
    "\n",
    "#### Дополнительные 50%\n",
    "\n",
    "5. Основываясь на полученных результатах, сделайте свою лучшую модель и сделайте Late Submission на тестовых данных [challenge](https://www.kaggle.com/c/jigsaw-toxic-comment-classification-challenge). Не забудьте <u>приложить</u> скриншот с Вашим скором. Скриншот вставьте прямо в ноутбук с решением или выведите в stdout. \n",
    "\n",
    "  \n",
    "  \n",
    "______\n",
    "_Правила полученения дополнительных баллов:_\n",
    "- можно получить от 20% до 50% в зависимости от метрики качества других участников нашего курса полученного на лидерборде\n",
    "- Чтобы получить минимум в 20% нужно: \n",
    "    - Основные задания должны быть полностью решены\n",
    "    - Обосновать то решение которое отправили.\n",
    "    - Предложенная модель должна отличаться от тех, что строились в заданиях 2-4\n",
    "    \n",
    "__ Готовый ноутбук загрузите в эту форму: [http://bit.ly/dafe_hw](http://bit.ly/dafe_hw) __\n"
   ]
  },
  {
   "cell_type": "markdown",
   "metadata": {},
   "source": [
    "______\n",
    "\n",
    "# Оглавление\n",
    "\n",
    "## 1. Подготовка\n",
    "   * ### 1.1 [EDA](#1.1-EDA)\n",
    "   * ### 1.2 [Стратегия Валидации](#1.2-Стратегия-Валидации)\n",
    "   * ### 1.3 [Предобработка Данных](#1.3-Предобработка-Данных)\n",
    "   \n",
    "## 2. Embedding\n",
    "   * ### 2.1 [Applying](#2.1-Applying)\n",
    "   \n",
    "## 3. Models\n",
    "   * ### 3.1 [CNN-1D](#3.1-CNN-1D)\n",
    "      * #### 3.1.1 Model\n",
    "      * #### 3.1.2 Training\n",
    "      * #### 3.1.3 Conclusion\n",
    "   * ### 3.2 [LSTM](#3.2-LSTM)\n",
    "      * #### 3.2.1 Model\n",
    "      * #### 3.2.2 Training\n",
    "      * #### 3.2.3 Conclusion\n",
    "   * ### 3.3 [Bi-LSTM](#3.3-Bi-LSTM)\n",
    "      * #### 3.3.1 Model\n",
    "      * #### 3.3.2 Training\n",
    "      * #### 3.3.3 Conclusion\n",
    "      \n",
    "## 4. BERT\n",
    "   * ### 4.1 [Model Prepearing](#4.1-Model-Prepearing)\n",
    "   * ### 4.2 [Training](#4.2-Training)\n",
    "   * ### 4.3 [Conclusion](#4.3-Conclusion)\n",
    "   \n",
    "## 5. Try Hard\n",
    "   * ### 5.1 [Model Prepearing](#5.1-Model-Prepearing)\n",
    "   * ### 5.2 [Train](#5.2-Train)\n",
    "   * ### 5.3 [Submission Creation](#5.3-Submission-Creation)\n",
    "______"
   ]
  },
  {
   "cell_type": "markdown",
   "metadata": {},
   "source": [
    "# 1. Подготовка \n",
    "\n",
    "## 1.1 EDA"
   ]
  },
  {
   "cell_type": "code",
   "execution_count": 1,
   "metadata": {},
   "outputs": [
    {
     "name": "stderr",
     "output_type": "stream",
     "text": [
      "Using TensorFlow backend.\n"
     ]
    }
   ],
   "source": [
    "import pandas as pd \n",
    "import numpy as np\n",
    "\n",
    "import gc\n",
    "import time\n",
    "import warnings\n",
    "\n",
    "from scipy import sparse\n",
    "import scipy.stats as ss\n",
    "\n",
    "import matplotlib.pyplot as plt\n",
    "import matplotlib.gridspec as gridspec \n",
    "import seaborn as sns\n",
    "from PIL import Image\n",
    "import matplotlib_venn as venn\n",
    "\n",
    "import string\n",
    "import re    #for regex\n",
    "import nltk\n",
    "from nltk.corpus import stopwords\n",
    "# import spacy\n",
    "from nltk import pos_tag\n",
    "from nltk.stem.wordnet import WordNetLemmatizer \n",
    "from nltk.tokenize import word_tokenize\n",
    "# Tweet tokenizer does not split at apostophes which is what we want\n",
    "from nltk.tokenize import TweetTokenizer\n",
    "\n",
    "from keras import backend as K\n",
    "from sklearn.model_selection import train_test_split\n",
    "from sklearn.metrics import roc_auc_score\n",
    "from sklearn.model_selection import KFold\n",
    "from keras.models import Model\n",
    "from keras.layers import Input, Dense, Embedding, MaxPooling1D, Conv1D, SpatialDropout1D\n",
    "from keras.layers import add, Dropout, PReLU, BatchNormalization, GlobalMaxPooling1D\n",
    "from keras.preprocessing import text, sequence\n",
    "from keras.callbacks import Callback\n",
    "from keras import optimizers\n",
    "from keras import initializers, regularizers, constraints, callbacks\n",
    "\n",
    "import numpy as np\n",
    "import pandas as pd\n",
    "import seaborn as sns\n",
    "import matplotlib.pyplot as plt\n",
    "\n",
    "import keras\n",
    "from keras import optimizers\n",
    "from keras import backend as K\n",
    "from keras import regularizers\n",
    "from keras.models import Sequential\n",
    "from keras.layers import Dense, Activation, Dropout, Flatten\n",
    "from keras.layers import Embedding, Conv1D, MaxPooling1D, GlobalMaxPooling1D, concatenate\n",
    "from keras.layers import LSTM, Bidirectional, LeakyReLU, CuDNNGRU, CuDNNLSTM, SpatialDropout1D, GlobalMaxPooling1D, GlobalAveragePooling1D\n",
    "from keras.utils import plot_model\n",
    "from keras.preprocessing import sequence\n",
    "from keras.preprocessing.text import Tokenizer\n",
    "from keras.callbacks import EarlyStopping\n",
    "\n",
    "import keras.backend as K\n",
    "from keras.optimizers import Adam\n",
    "from keras.losses import binary_crossentropy\n",
    "from keras.callbacks import ModelCheckpoint, LearningRateScheduler, EarlyStopping, ReduceLROnPlateau\n",
    "\n",
    "from tqdm import tqdm\n",
    "from nltk.corpus import stopwords\n",
    "from nltk.tokenize import RegexpTokenizer \n",
    "import os, re, csv, math, codecs\n",
    "\n",
    "sns.set_style(\"whitegrid\")\n",
    "np.random.seed(0)\n",
    "\n",
    "color = sns.color_palette()\n",
    "sns.set_style(\"dark\")\n",
    "warnings.filterwarnings(\"ignore\")\n",
    "\n",
    "%matplotlib inline"
   ]
  },
  {
   "cell_type": "code",
   "execution_count": 57,
   "metadata": {},
   "outputs": [],
   "source": [
    "train=pd.read_csv(\"input/jigsaw-toxic-comment-classification-challenge/train.csv\")\n",
    "test=pd.read_csv(\"input/jigsaw-toxic-comment-classification-challenge/test.csv\")"
   ]
  },
  {
   "cell_type": "code",
   "execution_count": 58,
   "metadata": {},
   "outputs": [
    {
     "data": {
      "text/html": [
       "<div>\n",
       "<style scoped>\n",
       "    .dataframe tbody tr th:only-of-type {\n",
       "        vertical-align: middle;\n",
       "    }\n",
       "\n",
       "    .dataframe tbody tr th {\n",
       "        vertical-align: top;\n",
       "    }\n",
       "\n",
       "    .dataframe thead th {\n",
       "        text-align: right;\n",
       "    }\n",
       "</style>\n",
       "<table border=\"1\" class=\"dataframe\">\n",
       "  <thead>\n",
       "    <tr style=\"text-align: right;\">\n",
       "      <th></th>\n",
       "      <th>id</th>\n",
       "      <th>comment_text</th>\n",
       "      <th>toxic</th>\n",
       "      <th>severe_toxic</th>\n",
       "      <th>obscene</th>\n",
       "      <th>threat</th>\n",
       "      <th>insult</th>\n",
       "      <th>identity_hate</th>\n",
       "    </tr>\n",
       "  </thead>\n",
       "  <tbody>\n",
       "    <tr>\n",
       "      <th>0</th>\n",
       "      <td>0000997932d777bf</td>\n",
       "      <td>Explanation\\nWhy the edits made under my usern...</td>\n",
       "      <td>0</td>\n",
       "      <td>0</td>\n",
       "      <td>0</td>\n",
       "      <td>0</td>\n",
       "      <td>0</td>\n",
       "      <td>0</td>\n",
       "    </tr>\n",
       "    <tr>\n",
       "      <th>1</th>\n",
       "      <td>000103f0d9cfb60f</td>\n",
       "      <td>D'aww! He matches this background colour I'm s...</td>\n",
       "      <td>0</td>\n",
       "      <td>0</td>\n",
       "      <td>0</td>\n",
       "      <td>0</td>\n",
       "      <td>0</td>\n",
       "      <td>0</td>\n",
       "    </tr>\n",
       "    <tr>\n",
       "      <th>2</th>\n",
       "      <td>000113f07ec002fd</td>\n",
       "      <td>Hey man, I'm really not trying to edit war. It...</td>\n",
       "      <td>0</td>\n",
       "      <td>0</td>\n",
       "      <td>0</td>\n",
       "      <td>0</td>\n",
       "      <td>0</td>\n",
       "      <td>0</td>\n",
       "    </tr>\n",
       "    <tr>\n",
       "      <th>3</th>\n",
       "      <td>0001b41b1c6bb37e</td>\n",
       "      <td>\"\\nMore\\nI can't make any real suggestions on ...</td>\n",
       "      <td>0</td>\n",
       "      <td>0</td>\n",
       "      <td>0</td>\n",
       "      <td>0</td>\n",
       "      <td>0</td>\n",
       "      <td>0</td>\n",
       "    </tr>\n",
       "    <tr>\n",
       "      <th>4</th>\n",
       "      <td>0001d958c54c6e35</td>\n",
       "      <td>You, sir, are my hero. Any chance you remember...</td>\n",
       "      <td>0</td>\n",
       "      <td>0</td>\n",
       "      <td>0</td>\n",
       "      <td>0</td>\n",
       "      <td>0</td>\n",
       "      <td>0</td>\n",
       "    </tr>\n",
       "  </tbody>\n",
       "</table>\n",
       "</div>"
      ],
      "text/plain": [
       "                 id                                       comment_text  toxic  \\\n",
       "0  0000997932d777bf  Explanation\\nWhy the edits made under my usern...      0   \n",
       "1  000103f0d9cfb60f  D'aww! He matches this background colour I'm s...      0   \n",
       "2  000113f07ec002fd  Hey man, I'm really not trying to edit war. It...      0   \n",
       "3  0001b41b1c6bb37e  \"\\nMore\\nI can't make any real suggestions on ...      0   \n",
       "4  0001d958c54c6e35  You, sir, are my hero. Any chance you remember...      0   \n",
       "\n",
       "   severe_toxic  obscene  threat  insult  identity_hate  \n",
       "0             0        0       0       0              0  \n",
       "1             0        0       0       0              0  \n",
       "2             0        0       0       0              0  \n",
       "3             0        0       0       0              0  \n",
       "4             0        0       0       0              0  "
      ]
     },
     "execution_count": 58,
     "metadata": {},
     "output_type": "execute_result"
    }
   ],
   "source": [
    "train.head()"
   ]
  },
  {
   "cell_type": "code",
   "execution_count": 59,
   "metadata": {},
   "outputs": [
    {
     "name": "stdout",
     "output_type": "stream",
     "text": [
      "       : train : test\n",
      "rows   : 159571 : 153164\n",
      "perc   : 51    : 49\n"
     ]
    }
   ],
   "source": [
    "nrow_train=train.shape[0]\n",
    "nrow_test=test.shape[0]\n",
    "sum=nrow_train+nrow_test\n",
    "print(\"       : train : test\")\n",
    "print(\"rows   :\",nrow_train,\":\",nrow_test)\n",
    "print(\"perc   :\",round(nrow_train*100/sum),\"   :\",round(nrow_test*100/sum))"
   ]
  },
  {
   "cell_type": "code",
   "execution_count": 60,
   "metadata": {},
   "outputs": [
    {
     "name": "stdout",
     "output_type": "stream",
     "text": [
      "Total comments =  159571\n",
      "Total clean comments =  143346\n",
      "Total tags = 35098\n"
     ]
    }
   ],
   "source": [
    "x=train.iloc[:,2:].sum()\n",
    "#marking comments without any tags as \"clean\"\n",
    "rowsums=train.iloc[:,2:].sum(axis=1)\n",
    "train['clean']=(rowsums==0)\n",
    "#count number of clean entries\n",
    "train['clean'].sum()\n",
    "print(\"Total comments = \",len(train))\n",
    "print(\"Total clean comments = \",train['clean'].sum())\n",
    "print(\"Total tags =\",x.sum())"
   ]
  },
  {
   "cell_type": "code",
   "execution_count": 61,
   "metadata": {},
   "outputs": [
    {
     "name": "stdout",
     "output_type": "stream",
     "text": [
      "Check for missing values in Train dataset\n",
      "id               0\n",
      "comment_text     0\n",
      "toxic            0\n",
      "severe_toxic     0\n",
      "obscene          0\n",
      "threat           0\n",
      "insult           0\n",
      "identity_hate    0\n",
      "clean            0\n",
      "dtype: int64\n",
      "Check for missing values in Test dataset\n",
      "id              0\n",
      "comment_text    0\n",
      "dtype: int64\n",
      "filling NA with \"unknown\"\n"
     ]
    }
   ],
   "source": [
    "print(\"Check for missing values in Train dataset\")\n",
    "null_check=train.isnull().sum()\n",
    "print(null_check)\n",
    "print(\"Check for missing values in Test dataset\")\n",
    "null_check=test.isnull().sum()\n",
    "print(null_check)\n",
    "print(\"filling NA with \\\"unknown\\\"\")\n",
    "train[\"comment_text\"].fillna(\"unknown\", inplace=True)\n",
    "test[\"comment_text\"].fillna(\"unknown\", inplace=True)"
   ]
  },
  {
   "cell_type": "code",
   "execution_count": 62,
   "metadata": {},
   "outputs": [
    {
     "data": {
      "image/png": "[encoded data removed]",
      "text/plain": [
       "<Figure size 576x288 with 1 Axes>"
      ]
     },
     "metadata": {
      "needs_background": "light"
     },
     "output_type": "display_data"
    }
   ],
   "source": [
    "x=train.iloc[:,2:].sum()\n",
    "#plot\n",
    "plt.figure(figsize=(8,4))\n",
    "ax= sns.barplot(x.index, x.values, alpha=0.8)\n",
    "plt.title(\"# per class\")\n",
    "plt.ylabel('# of Occurrences', fontsize=12)\n",
    "plt.xlabel('Type ', fontsize=12)\n",
    "#adding the text labels\n",
    "rects = ax.patches\n",
    "labels = x.values\n",
    "for rect, label in zip(rects, labels):\n",
    "    height = rect.get_height()\n",
    "    ax.text(rect.get_x() + rect.get_width()/2, height + 5, label, ha='center', va='bottom')\n",
    "\n",
    "plt.show()"
   ]
  },
  {
   "cell_type": "code",
   "execution_count": 63,
   "metadata": {},
   "outputs": [
    {
     "data": {
      "image/png": "[encoded data removed]",
      "text/plain": [
       "<Figure size 576x288 with 1 Axes>"
      ]
     },
     "metadata": {
      "needs_background": "light"
     },
     "output_type": "display_data"
    }
   ],
   "source": [
    "x=rowsums.value_counts()\n",
    "\n",
    "#plot\n",
    "plt.figure(figsize=(8,4))\n",
    "ax = sns.barplot(x.index, x.values, alpha=0.8,color=color[2])\n",
    "plt.title(\"Multiple tags per comment\")\n",
    "plt.ylabel('# of Occurrences', fontsize=12)\n",
    "plt.xlabel('# of tags ', fontsize=12)\n",
    "\n",
    "#adding the text labels\n",
    "rects = ax.patches\n",
    "labels = x.values\n",
    "for rect, label in zip(rects, labels):\n",
    "    height = rect.get_height()\n",
    "    ax.text(rect.get_x() + rect.get_width()/2, height + 5, label, ha='center', va='bottom')\n",
    "\n",
    "plt.show()"
   ]
  },
  {
   "cell_type": "code",
   "execution_count": 64,
   "metadata": {},
   "outputs": [
    {
     "data": {
      "text/plain": [
       "<matplotlib.axes._subplots.AxesSubplot at 0x1a3383ba388>"
      ]
     },
     "execution_count": 64,
     "metadata": {},
     "output_type": "execute_result"
    },
    {
     "data": {
      "image/png": "[encoded data removed]",
      "text/plain": [
       "<Figure size 720x576 with 2 Axes>"
      ]
     },
     "metadata": {
      "needs_background": "light"
     },
     "output_type": "display_data"
    }
   ],
   "source": [
    "temp_df=train.iloc[:,2:-1]\n",
    "# filter temp by removing clean comments\n",
    "# temp_df=temp_df[~train.clean]\n",
    "\n",
    "corr=temp_df.corr()\n",
    "plt.figure(figsize=(10,8))\n",
    "sns.heatmap(corr,\n",
    "            xticklabels=corr.columns.values,\n",
    "            yticklabels=corr.columns.values, annot=True)"
   ]
  },
  {
   "cell_type": "markdown",
   "metadata": {},
   "source": [
    "## 1.2 Стратегия Влидации"
   ]
  },
  {
   "cell_type": "markdown",
   "metadata": {},
   "source": [
    "Placeholder for validation stratagy explanation"
   ]
  },
  {
   "cell_type": "markdown",
   "metadata": {},
   "source": [
    "## 1.3 Предобработка Данных "
   ]
  },
  {
   "cell_type": "code",
   "execution_count": 2,
   "metadata": {},
   "outputs": [],
   "source": [
    "MAX_NB_WORDS = 100000\n",
    "tokenizer = RegexpTokenizer(r'\\w+')\n",
    "stop_words = set(stopwords.words('english'))\n",
    "stop_words.update(['.', ',', '\"', \"'\", ':', ';', '(', ')', '[', ']', '{', '}'])"
   ]
  },
  {
   "cell_type": "code",
   "execution_count": 3,
   "metadata": {},
   "outputs": [
    {
     "name": "stdout",
     "output_type": "stream",
     "text": [
      "num train:  159571\n",
      "num test:  153164\n"
     ]
    }
   ],
   "source": [
    "#load data\n",
    "train_df = pd.read_csv('input/jigsaw-toxic-comment-classification-challenge' + '/train.csv', sep=',', header=0)\n",
    "test_df = pd.read_csv('input/jigsaw-toxic-comment-classification-challenge' + '/test.csv', sep=',', header=0)\n",
    "test_df = test_df.fillna('_NA_')\n",
    "\n",
    "print(\"num train: \", train_df.shape[0])\n",
    "print(\"num test: \", test_df.shape[0])\n",
    "\n",
    "label_names = [\"toxic\", \"severe_toxic\", \"obscene\", \"threat\", \"insult\", \"identity_hate\"]\n",
    "y_train = train_df[label_names].values\n",
    "\n",
    "train_df['doc_len'] = train_df['comment_text'].apply(lambda words: len(words.split(\" \")))\n",
    "max_seq_len = np.round(train_df['doc_len'].mean() + train_df['doc_len'].std()).astype(int)"
   ]
  },
  {
   "cell_type": "code",
   "execution_count": 4,
   "metadata": {},
   "outputs": [
    {
     "name": "stdout",
     "output_type": "stream",
     "text": [
      "pre-processing train data...\n"
     ]
    },
    {
     "name": "stderr",
     "output_type": "stream",
     "text": [
      "100%|███████████████████████████████████████████████████████████████████████| 159571/159571 [00:03<00:00, 42104.38it/s]\n",
      "100%|███████████████████████████████████████████████████████████████████████| 153164/153164 [00:03<00:00, 44974.00it/s]\n"
     ]
    },
    {
     "name": "stdout",
     "output_type": "stream",
     "text": [
      "tokenizing input data...\n",
      "dictionary size:  348520\n"
     ]
    }
   ],
   "source": [
    "raw_docs_train = train_df['comment_text'].tolist()\n",
    "raw_docs_test = test_df['comment_text'].tolist() \n",
    "num_classes = len(label_names)\n",
    "\n",
    "print(\"pre-processing train data...\")\n",
    "processed_docs_train = []\n",
    "for doc in tqdm(raw_docs_train):\n",
    "    tokens = tokenizer.tokenize(doc)\n",
    "    filtered = [word for word in tokens if word not in stop_words]\n",
    "    processed_docs_train.append(\" \".join(filtered))\n",
    "\n",
    "processed_docs_test = []\n",
    "for doc in tqdm(raw_docs_test):\n",
    "    tokens = tokenizer.tokenize(doc)\n",
    "    filtered = [word for word in tokens if word not in stop_words]\n",
    "    processed_docs_test.append(\" \".join(filtered))\n",
    "    \n",
    "print(\"tokenizing input data...\")\n",
    "tokenizer = Tokenizer(num_words=MAX_NB_WORDS, lower=True, char_level=False)\n",
    "tokenizer.fit_on_texts(processed_docs_train + processed_docs_test)  #leaky\n",
    "word_seq_train = tokenizer.texts_to_sequences(processed_docs_train)\n",
    "word_seq_test = tokenizer.texts_to_sequences(processed_docs_test)\n",
    "word_index = tokenizer.word_index\n",
    "print(\"dictionary size: \", len(word_index))\n",
    "\n",
    "#pad sequences\n",
    "word_seq_train = sequence.pad_sequences(word_seq_train, maxlen=max_seq_len)\n",
    "word_seq_test = sequence.pad_sequences(word_seq_test, maxlen=max_seq_len)"
   ]
  },
  {
   "cell_type": "markdown",
   "metadata": {},
   "source": [
    "# 2. Embeding\n",
    "\n",
    "## 2.1 Applying"
   ]
  },
  {
   "cell_type": "code",
   "execution_count": 5,
   "metadata": {},
   "outputs": [
    {
     "name": "stdout",
     "output_type": "stream",
     "text": [
      "loading word embeddings...\n"
     ]
    },
    {
     "name": "stderr",
     "output_type": "stream",
     "text": [
      "2000005it [02:58, 11190.19it/s]\n"
     ]
    },
    {
     "name": "stdout",
     "output_type": "stream",
     "text": [
      "found 1999997 word vectors\n"
     ]
    }
   ],
   "source": [
    "#model parameters\n",
    "embed_dim = 300\n",
    "\n",
    "EMBEDDING_FILE = 'input/fasttext-crawl-300d-2m/crawl-300d-2M.vec'\n",
    "\n",
    "# load embeddings\n",
    "print('loading word embeddings...')\n",
    "embeddings_index = {}\n",
    "f = codecs.open(EMBEDDING_FILE, encoding='utf-8')\n",
    "for line in tqdm(f):\n",
    "    values = line.rstrip().rsplit(' ')\n",
    "    word = values[0]\n",
    "    coefs = np.asarray(values[1:], dtype='float32')\n",
    "    embeddings_index[word] = coefs\n",
    "f.close()\n",
    "print('found %s word vectors' % len(embeddings_index))"
   ]
  },
  {
   "cell_type": "code",
   "execution_count": 6,
   "metadata": {},
   "outputs": [
    {
     "name": "stdout",
     "output_type": "stream",
     "text": [
      "preparing embedding matrix...\n",
      "number of null word embeddings: 22948\n"
     ]
    }
   ],
   "source": [
    "#embedding matrix\n",
    "print('preparing embedding matrix...')\n",
    "words_not_found = []\n",
    "nb_words = min(MAX_NB_WORDS, len(word_index))\n",
    "embedding_matrix = np.zeros((nb_words, embed_dim))\n",
    "for word, i in word_index.items():\n",
    "    if i >= nb_words:\n",
    "        continue\n",
    "    embedding_vector = embeddings_index.get(word)\n",
    "    if (embedding_vector is not None) and len(embedding_vector) > 0:\n",
    "        # words not found in embedding index will be all-zeros.\n",
    "        embedding_matrix[i] = embedding_vector\n",
    "    else:\n",
    "        words_not_found.append(word)\n",
    "print('number of null word embeddings: %d' % np.sum(np.sum(embedding_matrix, axis=1) == 0))"
   ]
  },
  {
   "cell_type": "markdown",
   "metadata": {},
   "source": [
    "# 3. Models\n",
    "\n",
    "## 3.1 CNN1D\n",
    "\n",
    "### 3.1.1 Model"
   ]
  },
  {
   "cell_type": "code",
   "execution_count": 7,
   "metadata": {},
   "outputs": [],
   "source": [
    "#training params\n",
    "batch_size = 256 \n",
    "num_epochs = 20 \n",
    "\n",
    "#model parameters\n",
    "num_filters = 64 \n",
    "weight_decay = 1e-4"
   ]
  },
  {
   "cell_type": "code",
   "execution_count": 8,
   "metadata": {},
   "outputs": [],
   "source": [
    "Xtrain, Xval, ytrain, yval = train_test_split(word_seq_train, y_train, train_size=0.90, random_state=233)"
   ]
  },
  {
   "cell_type": "code",
   "execution_count": 9,
   "metadata": {},
   "outputs": [
    {
     "name": "stdout",
     "output_type": "stream",
     "text": [
      "WARNING:tensorflow:From C:\\Anaconda\\envs\\keras\\lib\\site-packages\\tensorflow\\python\\framework\\op_def_library.py:263: colocate_with (from tensorflow.python.framework.ops) is deprecated and will be removed in a future version.\n",
      "Instructions for updating:\n",
      "Colocations handled automatically by placer.\n",
      "WARNING:tensorflow:From C:\\Anaconda\\envs\\keras\\lib\\site-packages\\keras\\backend\\tensorflow_backend.py:3445: calling dropout (from tensorflow.python.ops.nn_ops) with keep_prob is deprecated and will be removed in a future version.\n",
      "Instructions for updating:\n",
      "Please use `rate` instead of `keep_prob`. Rate should be set to `rate = 1 - keep_prob`.\n",
      "_________________________________________________________________\n",
      "Layer (type)                 Output Shape              Param #   \n",
      "=================================================================\n",
      "embedding_1 (Embedding)      (None, 168, 300)          30000000  \n",
      "_________________________________________________________________\n",
      "conv1d_1 (Conv1D)            (None, 168, 64)           134464    \n",
      "_________________________________________________________________\n",
      "max_pooling1d_1 (MaxPooling1 (None, 84, 64)            0         \n",
      "_________________________________________________________________\n",
      "conv1d_2 (Conv1D)            (None, 84, 64)            28736     \n",
      "_________________________________________________________________\n",
      "global_max_pooling1d_1 (Glob (None, 64)                0         \n",
      "_________________________________________________________________\n",
      "dropout_1 (Dropout)          (None, 64)                0         \n",
      "_________________________________________________________________\n",
      "dense_1 (Dense)              (None, 32)                2080      \n",
      "_________________________________________________________________\n",
      "dense_2 (Dense)              (None, 6)                 198       \n",
      "=================================================================\n",
      "Total params: 30,165,478\n",
      "Trainable params: 165,478\n",
      "Non-trainable params: 30,000,000\n",
      "_________________________________________________________________\n"
     ]
    }
   ],
   "source": [
    "#CNN architecture\n",
    "model = Sequential()\n",
    "model.add(Embedding(nb_words, embed_dim,\n",
    "          weights=[embedding_matrix], input_length=max_seq_len, trainable=False))\n",
    "model.add(Conv1D(num_filters, 7, activation='relu', padding='same'))\n",
    "model.add(MaxPooling1D(2))\n",
    "model.add(Conv1D(num_filters, 7, activation='relu', padding='same'))\n",
    "model.add(GlobalMaxPooling1D())\n",
    "model.add(Dropout(0.5))\n",
    "model.add(Dense(32, activation='relu', kernel_regularizer=regularizers.l2(weight_decay)))\n",
    "model.add(Dense(num_classes, activation='sigmoid'))  #multi-label (k-hot encoding)\n",
    "\n",
    "adam = optimizers.Adam(lr=1e-3, beta_1=0.9, beta_2=0.999, epsilon=1e-08, decay=0.0)\n",
    "model.compile(loss='binary_crossentropy', optimizer=adam, metrics=['accuracy'])\n",
    "model.summary()"
   ]
  },
  {
   "cell_type": "code",
   "execution_count": 10,
   "metadata": {},
   "outputs": [],
   "source": [
    "weight_path=\"output/simple_CNN_v1.h5\"\n",
    "\n",
    "reduceLROnPlat = ReduceLROnPlateau(monitor='val_acc', factor=0.33,\n",
    "                                   patience=3, verbose=1, mode='max',\n",
    "                                   min_delta=0.0001, cooldown=0, min_lr=1e-6)\n",
    "\n",
    "best_w = keras.callbacks.ModelCheckpoint(weight_path,\n",
    "                                monitor='val_loss',\n",
    "                                verbose=0,\n",
    "                                save_best_only=True,\n",
    "                                save_weights_only=True,\n",
    "                                mode='auto',\n",
    "                                period=1)\n",
    "\n",
    "last_w = keras.callbacks.ModelCheckpoint('output/checkpoint.h5',\n",
    "                                monitor='val_loss',\n",
    "                                verbose=0,\n",
    "                                save_best_only=False,\n",
    "                                save_weights_only=True,\n",
    "                                mode='auto',\n",
    "                                period=1)\n",
    "\n",
    "callbacks = [best_w, last_w, reduceLROnPlat]"
   ]
  },
  {
   "cell_type": "code",
   "execution_count": 11,
   "metadata": {},
   "outputs": [],
   "source": [
    "class RocAucEvaluation(Callback):\n",
    "    def __init__(self, validation_data=(), interval=1):\n",
    "        super(Callback, self).__init__()\n",
    "\n",
    "        self.interval = interval\n",
    "        self.X_val, self.y_val = validation_data\n",
    "\n",
    "    def on_epoch_end(self, epoch, logs={}):\n",
    "        if epoch % self.interval == 0:\n",
    "            y_pred = self.model.predict(self.X_val, verbose=0)\n",
    "            score = roc_auc_score(self.y_val, y_pred)\n",
    "            print(\"\\n ROC-AUC - epoch: %d - score: %.6f \\n\" % (epoch+1, score))\n",
    "\n",
    "ra_val = RocAucEvaluation(validation_data=(Xval, yval), interval = 1)\n",
    "\n",
    "callbacks.append(ra_val)"
   ]
  },
  {
   "cell_type": "markdown",
   "metadata": {},
   "source": [
    "### 3.1.2 Training"
   ]
  },
  {
   "cell_type": "code",
   "execution_count": 12,
   "metadata": {
    "scrolled": true
   },
   "outputs": [
    {
     "name": "stdout",
     "output_type": "stream",
     "text": [
      "WARNING:tensorflow:From C:\\Anaconda\\envs\\keras\\lib\\site-packages\\tensorflow\\python\\ops\\math_ops.py:3066: to_int32 (from tensorflow.python.ops.math_ops) is deprecated and will be removed in a future version.\n",
      "Instructions for updating:\n",
      "Use tf.cast instead.\n",
      "WARNING:tensorflow:From C:\\Anaconda\\envs\\keras\\lib\\site-packages\\tensorflow\\python\\ops\\math_grad.py:102: div (from tensorflow.python.ops.math_ops) is deprecated and will be removed in a future version.\n",
      "Instructions for updating:\n",
      "Deprecated in favor of operator or tf.math.divide.\n",
      "Train on 129251 samples, validate on 14362 samples\n",
      "Epoch 1/20\n",
      " - 9s - loss: 0.0882 - acc: 0.9716 - val_loss: 0.0541 - val_acc: 0.9805\n",
      "\n",
      " ROC-AUC - epoch: 1 - score: 0.972789 \n",
      "\n",
      "Epoch 2/20\n",
      " - 6s - loss: 0.0545 - acc: 0.9813 - val_loss: 0.0517 - val_acc: 0.9812\n",
      "\n",
      " ROC-AUC - epoch: 2 - score: 0.976364 \n",
      "\n",
      "Epoch 3/20\n",
      " - 7s - loss: 0.0494 - acc: 0.9825 - val_loss: 0.0506 - val_acc: 0.9818\n",
      "\n",
      " ROC-AUC - epoch: 3 - score: 0.977120 \n",
      "\n",
      "Epoch 4/20\n",
      " - 7s - loss: 0.0449 - acc: 0.9837 - val_loss: 0.0493 - val_acc: 0.9819\n",
      "\n",
      " ROC-AUC - epoch: 4 - score: 0.977366 \n",
      "\n",
      "Epoch 5/20\n",
      " - 6s - loss: 0.0412 - acc: 0.9847 - val_loss: 0.0503 - val_acc: 0.9821\n",
      "\n",
      " ROC-AUC - epoch: 5 - score: 0.977087 \n",
      "\n",
      "Epoch 6/20\n",
      " - 6s - loss: 0.0379 - acc: 0.9857 - val_loss: 0.0507 - val_acc: 0.9814\n",
      "\n",
      " ROC-AUC - epoch: 6 - score: 0.978445 \n",
      "\n",
      "Epoch 7/20\n",
      " - 6s - loss: 0.0348 - acc: 0.9868 - val_loss: 0.0540 - val_acc: 0.9820\n",
      "\n",
      " ROC-AUC - epoch: 7 - score: 0.976538 \n",
      "\n",
      "Epoch 8/20\n",
      " - 6s - loss: 0.0319 - acc: 0.9877 - val_loss: 0.0522 - val_acc: 0.9813\n",
      "\n",
      "Epoch 00008: ReduceLROnPlateau reducing learning rate to 0.00033000001567415896.\n",
      "\n",
      " ROC-AUC - epoch: 8 - score: 0.976101 \n",
      "\n",
      "Epoch 9/20\n",
      " - 6s - loss: 0.0281 - acc: 0.9892 - val_loss: 0.0581 - val_acc: 0.9820\n",
      "\n",
      " ROC-AUC - epoch: 9 - score: 0.976108 \n",
      "\n",
      "Epoch 10/20\n",
      " - 6s - loss: 0.0260 - acc: 0.9901 - val_loss: 0.0606 - val_acc: 0.9820\n",
      "\n",
      " ROC-AUC - epoch: 10 - score: 0.976146 \n",
      "\n",
      "Epoch 11/20\n",
      " - 6s - loss: 0.0249 - acc: 0.9904 - val_loss: 0.0613 - val_acc: 0.9820\n",
      "\n",
      "Epoch 00011: ReduceLROnPlateau reducing learning rate to 0.00010890000325161964.\n",
      "\n",
      " ROC-AUC - epoch: 11 - score: 0.975312 \n",
      "\n",
      "Epoch 12/20\n",
      " - 6s - loss: 0.0233 - acc: 0.9911 - val_loss: 0.0630 - val_acc: 0.9821\n",
      "\n",
      " ROC-AUC - epoch: 12 - score: 0.975043 \n",
      "\n",
      "Epoch 13/20\n",
      " - 6s - loss: 0.0228 - acc: 0.9914 - val_loss: 0.0637 - val_acc: 0.9820\n",
      "\n",
      " ROC-AUC - epoch: 13 - score: 0.974805 \n",
      "\n",
      "Epoch 14/20\n",
      " - 7s - loss: 0.0223 - acc: 0.9916 - val_loss: 0.0652 - val_acc: 0.9819\n",
      "\n",
      "Epoch 00014: ReduceLROnPlateau reducing learning rate to 3.5936999920522795e-05.\n",
      "\n",
      " ROC-AUC - epoch: 14 - score: 0.974612 \n",
      "\n",
      "Epoch 15/20\n",
      " - 6s - loss: 0.0219 - acc: 0.9918 - val_loss: 0.0651 - val_acc: 0.9819\n",
      "\n",
      " ROC-AUC - epoch: 15 - score: 0.974110 \n",
      "\n",
      "Epoch 16/20\n",
      " - 6s - loss: 0.0216 - acc: 0.9918 - val_loss: 0.0659 - val_acc: 0.9819\n",
      "\n",
      " ROC-AUC - epoch: 16 - score: 0.974439 \n",
      "\n",
      "Epoch 17/20\n",
      " - 6s - loss: 0.0214 - acc: 0.9920 - val_loss: 0.0665 - val_acc: 0.9819\n",
      "\n",
      "Epoch 00017: ReduceLROnPlateau reducing learning rate to 1.185920958960196e-05.\n",
      "\n",
      " ROC-AUC - epoch: 17 - score: 0.974332 \n",
      "\n",
      "Epoch 18/20\n",
      " - 6s - loss: 0.0213 - acc: 0.9920 - val_loss: 0.0663 - val_acc: 0.9818\n",
      "\n",
      " ROC-AUC - epoch: 18 - score: 0.974412 \n",
      "\n",
      "Epoch 19/20\n",
      " - 7s - loss: 0.0213 - acc: 0.9920 - val_loss: 0.0669 - val_acc: 0.9819\n",
      "\n",
      " ROC-AUC - epoch: 19 - score: 0.973983 \n",
      "\n",
      "Epoch 20/20\n",
      " - 7s - loss: 0.0214 - acc: 0.9920 - val_loss: 0.0666 - val_acc: 0.9819\n",
      "\n",
      "Epoch 00020: ReduceLROnPlateau reducing learning rate to 3.913539212589967e-06.\n",
      "\n",
      " ROC-AUC - epoch: 20 - score: 0.974453 \n",
      "\n"
     ]
    }
   ],
   "source": [
    "#model training\n",
    "hist = model.fit(Xtrain, \n",
    "                 ytrain,\n",
    "                 batch_size=batch_size, \n",
    "                 epochs=num_epochs, \n",
    "                 callbacks=callbacks, \n",
    "                 validation_split=0.1,\n",
    "                 shuffle=True, \n",
    "                 verbose=2)"
   ]
  },
  {
   "cell_type": "markdown",
   "metadata": {},
   "source": [
    "### 3.1.3 Conclusion"
   ]
  },
  {
   "cell_type": "code",
   "execution_count": 13,
   "metadata": {},
   "outputs": [
    {
     "data": {
      "image/png": "[encoded data removed]",
      "text/plain": [
       "<Figure size 432x288 with 1 Axes>"
      ]
     },
     "metadata": {
      "needs_background": "light"
     },
     "output_type": "display_data"
    }
   ],
   "source": [
    "#generate plots\n",
    "plt.figure()\n",
    "plt.plot(hist.history['loss'], lw=2.0, color='b', label='train')\n",
    "plt.plot(hist.history['val_loss'], lw=2.0, color='r', label='val')\n",
    "plt.title('CNN sentiment')\n",
    "plt.xlabel('Epochs')\n",
    "plt.ylabel('Cross-Entropy Loss')\n",
    "plt.legend(loc='upper right')\n",
    "plt.show()"
   ]
  },
  {
   "cell_type": "code",
   "execution_count": 14,
   "metadata": {},
   "outputs": [
    {
     "data": {
      "image/png": "[encoded data removed]",
      "text/plain": [
       "<Figure size 432x288 with 1 Axes>"
      ]
     },
     "metadata": {
      "needs_background": "light"
     },
     "output_type": "display_data"
    }
   ],
   "source": [
    "plt.figure()\n",
    "plt.plot(hist.history['acc'], lw=2.0, color='b', label='train')\n",
    "plt.plot(hist.history['val_acc'], lw=2.0, color='r', label='val')\n",
    "plt.title('CNN sentiment')\n",
    "plt.xlabel('Epochs')\n",
    "plt.ylabel('Accuracy')\n",
    "plt.legend(loc='upper left')\n",
    "plt.show()"
   ]
  },
  {
   "cell_type": "code",
   "execution_count": 15,
   "metadata": {},
   "outputs": [],
   "source": [
    "model.load_weights(weight_path)\n",
    "y_test = model.predict(word_seq_test)\n",
    "\n",
    "#create a submission\n",
    "submission_df = pd.DataFrame(columns=['id'] + label_names)\n",
    "submission_df['id'] = test_df['id'].values \n",
    "submission_df[label_names] = y_test \n",
    "submission_df.to_csv(\"submissions/cnn_fasttext_submission.csv\", index=False)"
   ]
  },
  {
   "cell_type": "markdown",
   "metadata": {},
   "source": [
    "<img src=\"https://i.ibb.co/2KsHzGR/2019-10-26-11-13-57.png\" alt=\"Drawing\" style=\"width: 1000px;\"/>"
   ]
  },
  {
   "cell_type": "markdown",
   "metadata": {},
   "source": [
    "## 3.2 LSTM\n",
    "\n",
    "### 3.2.1 Model"
   ]
  },
  {
   "cell_type": "code",
   "execution_count": 16,
   "metadata": {
    "scrolled": true
   },
   "outputs": [
    {
     "name": "stdout",
     "output_type": "stream",
     "text": [
      "_________________________________________________________________\n",
      "Layer (type)                 Output Shape              Param #   \n",
      "=================================================================\n",
      "embedding_2 (Embedding)      (None, 168, 300)          30000000  \n",
      "_________________________________________________________________\n",
      "lstm_1 (LSTM)                (None, 128)               219648    \n",
      "_________________________________________________________________\n",
      "dense_3 (Dense)              (None, 6)                 774       \n",
      "=================================================================\n",
      "Total params: 30,220,422\n",
      "Trainable params: 220,422\n",
      "Non-trainable params: 30,000,000\n",
      "_________________________________________________________________\n"
     ]
    }
   ],
   "source": [
    "model = Sequential()\n",
    "model.add(Embedding(nb_words, embed_dim,\n",
    "               weights=[embedding_matrix], input_length=max_seq_len, trainable=False))\n",
    "model.add(LSTM(128, dropout=0.2))\n",
    "model.add(Dense(ytrain.shape[1], activation='sigmoid'))\n",
    "\n",
    "\n",
    "optimizer = keras.optimizers.RMSprop(lr=1e-3, decay=1e-4)\n",
    "model.compile(loss='binary_crossentropy', optimizer=optimizer, metrics=['accuracy'])\n",
    "model.summary()"
   ]
  },
  {
   "cell_type": "code",
   "execution_count": 17,
   "metadata": {},
   "outputs": [],
   "source": [
    "lstm_weight_path=\"output/lstm_v1.h5\"\n",
    "\n",
    "reduceLROnPlat = ReduceLROnPlateau(monitor='val_acc', factor=0.33,\n",
    "                                   patience=3, verbose=1, mode='max',\n",
    "                                   min_delta=0.0001, cooldown=0, min_lr=1e-6)\n",
    "\n",
    "best_w = keras.callbacks.ModelCheckpoint(lstm_weight_path,\n",
    "                                monitor='val_loss',\n",
    "                                verbose=0,\n",
    "                                save_best_only=True,\n",
    "                                save_weights_only=True,\n",
    "                                mode='auto',\n",
    "                                period=1)\n",
    "\n",
    "last_w = keras.callbacks.ModelCheckpoint('output/checkpoint.h5',\n",
    "                                monitor='val_loss',\n",
    "                                verbose=0,\n",
    "                                save_best_only=False,\n",
    "                                save_weights_only=True,\n",
    "                                mode='auto',\n",
    "                                period=1)\n",
    "\n",
    "callbacks = [best_w, last_w, reduceLROnPlat]"
   ]
  },
  {
   "cell_type": "code",
   "execution_count": 18,
   "metadata": {},
   "outputs": [],
   "source": [
    "class RocAucEvaluation(Callback):\n",
    "    def __init__(self, validation_data=(), interval=1):\n",
    "        super(Callback, self).__init__()\n",
    "\n",
    "        self.interval = interval\n",
    "        self.X_val, self.y_val = validation_data\n",
    "\n",
    "    def on_epoch_end(self, epoch, logs={}):\n",
    "        if epoch % self.interval == 0:\n",
    "            y_pred = self.model.predict(self.X_val, verbose=0)\n",
    "            score = roc_auc_score(self.y_val, y_pred)\n",
    "            print(\"\\n ROC-AUC - epoch: %d - score: %.6f \\n\" % (epoch+1, score))\n",
    "\n",
    "ra_val = RocAucEvaluation(validation_data=(Xval, yval), interval = 1)\n",
    "\n",
    "callbacks.append(ra_val)"
   ]
  },
  {
   "cell_type": "markdown",
   "metadata": {},
   "source": [
    "### 3.2.2 Training"
   ]
  },
  {
   "cell_type": "code",
   "execution_count": 19,
   "metadata": {
    "scrolled": true
   },
   "outputs": [
    {
     "name": "stdout",
     "output_type": "stream",
     "text": [
      "Train on 129251 samples, validate on 14362 samples\n",
      "Epoch 1/20\n",
      " - 107s - loss: 0.0670 - acc: 0.9771 - val_loss: 0.0519 - val_acc: 0.9811\n",
      "\n",
      " ROC-AUC - epoch: 1 - score: 0.976033 \n",
      "\n",
      "Epoch 2/20\n",
      " - 106s - loss: 0.0471 - acc: 0.9822 - val_loss: 0.0444 - val_acc: 0.9826\n",
      "\n",
      " ROC-AUC - epoch: 2 - score: 0.982997 \n",
      "\n",
      "Epoch 3/20\n",
      " - 107s - loss: 0.0442 - acc: 0.9830 - val_loss: 0.0435 - val_acc: 0.9828\n",
      "\n",
      " ROC-AUC - epoch: 3 - score: 0.984649 \n",
      "\n",
      "Epoch 4/20\n",
      " - 106s - loss: 0.0419 - acc: 0.9837 - val_loss: 0.0421 - val_acc: 0.9835\n",
      "\n",
      " ROC-AUC - epoch: 4 - score: 0.985956 \n",
      "\n",
      "Epoch 5/20\n",
      " - 106s - loss: 0.0403 - acc: 0.9841 - val_loss: 0.0413 - val_acc: 0.9838\n",
      "\n",
      " ROC-AUC - epoch: 5 - score: 0.986265 \n",
      "\n",
      "Epoch 6/20\n",
      " - 106s - loss: 0.0388 - acc: 0.9847 - val_loss: 0.0417 - val_acc: 0.9840\n",
      "\n",
      " ROC-AUC - epoch: 6 - score: 0.986266 \n",
      "\n",
      "Epoch 7/20\n",
      " - 106s - loss: 0.0376 - acc: 0.9851 - val_loss: 0.0412 - val_acc: 0.9840\n",
      "\n",
      " ROC-AUC - epoch: 7 - score: 0.986689 \n",
      "\n",
      "Epoch 8/20\n",
      " - 106s - loss: 0.0364 - acc: 0.9856 - val_loss: 0.0404 - val_acc: 0.9841\n",
      "\n",
      " ROC-AUC - epoch: 8 - score: 0.986758 \n",
      "\n",
      "Epoch 9/20\n",
      " - 107s - loss: 0.0355 - acc: 0.9859 - val_loss: 0.0405 - val_acc: 0.9838\n",
      "\n",
      "Epoch 00009: ReduceLROnPlateau reducing learning rate to 0.00033000001567415896.\n",
      "\n",
      " ROC-AUC - epoch: 9 - score: 0.987212 \n",
      "\n",
      "Epoch 10/20\n",
      " - 108s - loss: 0.0335 - acc: 0.9866 - val_loss: 0.0408 - val_acc: 0.9841\n",
      "\n",
      " ROC-AUC - epoch: 10 - score: 0.987043 \n",
      "\n",
      "Epoch 11/20\n",
      " - 111s - loss: 0.0330 - acc: 0.9868 - val_loss: 0.0415 - val_acc: 0.9841\n",
      "\n",
      " ROC-AUC - epoch: 11 - score: 0.986941 \n",
      "\n",
      "Epoch 12/20\n",
      " - 110s - loss: 0.0324 - acc: 0.9869 - val_loss: 0.0411 - val_acc: 0.9838\n",
      "\n",
      " ROC-AUC - epoch: 12 - score: 0.986687 \n",
      "\n",
      "Epoch 13/20\n",
      " - 111s - loss: 0.0322 - acc: 0.9871 - val_loss: 0.0414 - val_acc: 0.9841\n",
      "\n",
      " ROC-AUC - epoch: 13 - score: 0.986824 \n",
      "\n",
      "Epoch 14/20\n",
      " - 111s - loss: 0.0317 - acc: 0.9872 - val_loss: 0.0418 - val_acc: 0.9841\n",
      "\n",
      "Epoch 00014: ReduceLROnPlateau reducing learning rate to 0.00010890000325161964.\n",
      "\n",
      " ROC-AUC - epoch: 14 - score: 0.986608 \n",
      "\n",
      "Epoch 15/20\n",
      " - 110s - loss: 0.0310 - acc: 0.9874 - val_loss: 0.0417 - val_acc: 0.9842\n",
      "\n",
      " ROC-AUC - epoch: 15 - score: 0.986716 \n",
      "\n",
      "Epoch 16/20\n",
      " - 108s - loss: 0.0310 - acc: 0.9876 - val_loss: 0.0417 - val_acc: 0.9841\n",
      "\n",
      " ROC-AUC - epoch: 16 - score: 0.986753 \n",
      "\n",
      "Epoch 17/20\n",
      " - 110s - loss: 0.0307 - acc: 0.9876 - val_loss: 0.0417 - val_acc: 0.9841\n",
      "\n",
      "Epoch 00017: ReduceLROnPlateau reducing learning rate to 3.5936999920522795e-05.\n",
      "\n",
      " ROC-AUC - epoch: 17 - score: 0.986654 \n",
      "\n",
      "Epoch 18/20\n",
      " - 110s - loss: 0.0305 - acc: 0.9878 - val_loss: 0.0417 - val_acc: 0.9841\n",
      "\n",
      " ROC-AUC - epoch: 18 - score: 0.986682 \n",
      "\n",
      "Epoch 19/20\n",
      " - 108s - loss: 0.0304 - acc: 0.9878 - val_loss: 0.0418 - val_acc: 0.9841\n",
      "\n",
      " ROC-AUC - epoch: 19 - score: 0.986695 \n",
      "\n",
      "Epoch 20/20\n",
      " - 110s - loss: 0.0304 - acc: 0.9877 - val_loss: 0.0418 - val_acc: 0.9841\n",
      "\n",
      "Epoch 00020: ReduceLROnPlateau reducing learning rate to 1.185920958960196e-05.\n",
      "\n",
      " ROC-AUC - epoch: 20 - score: 0.986721 \n",
      "\n"
     ]
    }
   ],
   "source": [
    "#model training\n",
    "hist = model.fit(Xtrain, \n",
    "                 ytrain,\n",
    "                 batch_size=batch_size, \n",
    "                 epochs=20, \n",
    "                 callbacks=callbacks, \n",
    "                 validation_split=0.1,\n",
    "                 shuffle=True, \n",
    "                 verbose=2)"
   ]
  },
  {
   "cell_type": "markdown",
   "metadata": {},
   "source": [
    "### 3.2.3 Conclusion"
   ]
  },
  {
   "cell_type": "code",
   "execution_count": 20,
   "metadata": {},
   "outputs": [
    {
     "data": {
      "image/png": "[encoded data removed]",
      "text/plain": [
       "<Figure size 432x288 with 1 Axes>"
      ]
     },
     "metadata": {
      "needs_background": "light"
     },
     "output_type": "display_data"
    }
   ],
   "source": [
    "#generate plots\n",
    "plt.figure()\n",
    "plt.plot(hist.history['loss'], lw=2.0, color='b', label='train')\n",
    "plt.plot(hist.history['val_loss'], lw=2.0, color='r', label='val')\n",
    "plt.title('LSTM sentiment')\n",
    "plt.xlabel('Epochs')\n",
    "plt.ylabel('Cross-Entropy Loss')\n",
    "plt.legend(loc='upper right')\n",
    "plt.show()"
   ]
  },
  {
   "cell_type": "code",
   "execution_count": 21,
   "metadata": {},
   "outputs": [
    {
     "data": {
      "image/png": "[encoded data removed]",
      "text/plain": [
       "<Figure size 432x288 with 1 Axes>"
      ]
     },
     "metadata": {
      "needs_background": "light"
     },
     "output_type": "display_data"
    }
   ],
   "source": [
    "plt.figure()\n",
    "plt.plot(hist.history['acc'], lw=2.0, color='b', label='train')\n",
    "plt.plot(hist.history['val_acc'], lw=2.0, color='r', label='val')\n",
    "plt.title('LSTM sentiment')\n",
    "plt.xlabel('Epochs')\n",
    "plt.ylabel('Accuracy')\n",
    "plt.legend(loc='upper left')\n",
    "plt.show()"
   ]
  },
  {
   "cell_type": "code",
   "execution_count": 22,
   "metadata": {},
   "outputs": [],
   "source": [
    "model.load_weights(lstm_weight_path)\n",
    "y_test = model.predict(word_seq_test)\n",
    "\n",
    "#create a submission\n",
    "submission_df = pd.DataFrame(columns=['id'] + label_names)\n",
    "submission_df['id'] = test_df['id'].values \n",
    "submission_df[label_names] = y_test \n",
    "submission_df.to_csv(\"submissions/lstm_fasttext_submission.csv\", index=False)"
   ]
  },
  {
   "cell_type": "markdown",
   "metadata": {},
   "source": [
    "<img src=\"https://i.ibb.co/CWvwrHx/2019-10-26-11-13-38.png\" alt=\"Drawing\" style=\"width: 1000px;\"/>"
   ]
  },
  {
   "cell_type": "markdown",
   "metadata": {},
   "source": [
    "## 3.3 Bi-LSTM\n",
    "\n",
    "### 3.3.1 Model"
   ]
  },
  {
   "cell_type": "code",
   "execution_count": 23,
   "metadata": {
    "scrolled": true
   },
   "outputs": [
    {
     "name": "stdout",
     "output_type": "stream",
     "text": [
      "_________________________________________________________________\n",
      "Layer (type)                 Output Shape              Param #   \n",
      "=================================================================\n",
      "embedding_3 (Embedding)      (None, 168, 300)          30000000  \n",
      "_________________________________________________________________\n",
      "bidirectional_1 (Bidirection (None, 128)               186880    \n",
      "_________________________________________________________________\n",
      "dense_4 (Dense)              (None, 6)                 774       \n",
      "=================================================================\n",
      "Total params: 30,187,654\n",
      "Trainable params: 187,654\n",
      "Non-trainable params: 30,000,000\n",
      "_________________________________________________________________\n"
     ]
    }
   ],
   "source": [
    "# Bi-LSTM\n",
    "\n",
    "model = Sequential()\n",
    "model.add(Embedding(nb_words, embed_dim,\n",
    "          weights=[embedding_matrix], input_length=max_seq_len, trainable=False))\n",
    "model.add(Bidirectional(LSTM(64, dropout=0.2)))\n",
    "model.add(Dense(ytrain.shape[1], activation='sigmoid'))\n",
    "\n",
    "optimizer = keras.optimizers.RMSprop(lr=1e-3, decay=1e-4)\n",
    "model.compile(loss='binary_crossentropy', optimizer=optimizer, metrics=['accuracy'])\n",
    "model.summary()"
   ]
  },
  {
   "cell_type": "code",
   "execution_count": 24,
   "metadata": {},
   "outputs": [],
   "source": [
    "bilstm_weight_path=\"output/Bi-LSTM_v1.h5\"\n",
    "\n",
    "reduceLROnPlat = ReduceLROnPlateau(monitor='val_acc', factor=0.33,\n",
    "                                   patience=3, verbose=1, mode='max',\n",
    "                                   min_delta=0.0001, cooldown=0, min_lr=1e-6)\n",
    "\n",
    "best_w = keras.callbacks.ModelCheckpoint(bilstm_weight_path,\n",
    "                                monitor='val_loss',\n",
    "                                verbose=0,\n",
    "                                save_best_only=True,\n",
    "                                save_weights_only=True,\n",
    "                                mode='auto',\n",
    "                                period=1)\n",
    "\n",
    "last_w = keras.callbacks.ModelCheckpoint('output/checkpoint.h5',\n",
    "                                monitor='val_loss',\n",
    "                                verbose=0,\n",
    "                                save_best_only=False,\n",
    "                                save_weights_only=True,\n",
    "                                mode='auto',\n",
    "                                period=1)\n",
    "\n",
    "callbacks = [best_w, last_w, reduceLROnPlat]"
   ]
  },
  {
   "cell_type": "code",
   "execution_count": 25,
   "metadata": {},
   "outputs": [],
   "source": [
    "class RocAucEvaluation(Callback):\n",
    "    def __init__(self, validation_data=(), interval=1):\n",
    "        super(Callback, self).__init__()\n",
    "\n",
    "        self.interval = interval\n",
    "        self.X_val, self.y_val = validation_data\n",
    "\n",
    "    def on_epoch_end(self, epoch, logs={}):\n",
    "        if epoch % self.interval == 0:\n",
    "            y_pred = self.model.predict(self.X_val, verbose=0)\n",
    "            score = roc_auc_score(self.y_val, y_pred)\n",
    "            print(\"\\n ROC-AUC - epoch: %d - score: %.6f \\n\" % (epoch+1, score))\n",
    "\n",
    "ra_val = RocAucEvaluation(validation_data=(Xval, yval), interval = 1)\n",
    "\n",
    "callbacks.append(ra_val)"
   ]
  },
  {
   "cell_type": "markdown",
   "metadata": {},
   "source": [
    "### 3.3.2 Training"
   ]
  },
  {
   "cell_type": "code",
   "execution_count": 26,
   "metadata": {
    "scrolled": true
   },
   "outputs": [
    {
     "name": "stdout",
     "output_type": "stream",
     "text": [
      "Train on 129251 samples, validate on 14362 samples\n",
      "Epoch 1/10\n",
      " 51968/129251 [===========>..................] - ETA: 12:39 - loss: 0.6878 - acc: 0.53 - ETA: 7:43 - loss: 0.6598 - acc: 0.7093 - ETA: 6:03 - loss: 0.6296 - acc: 0.791 - ETA: 5:14 - loss: 0.5949 - acc: 0.835 - ETA: 4:44 - loss: 0.5551 - acc: 0.862 - ETA: 4:24 - loss: 0.5155 - acc: 0.878 - ETA: 4:10 - loss: 0.4656 - acc: 0.891 - ETA: 4:00 - loss: 0.4212 - acc: 0.902 - ETA: 3:53 - loss: 0.3933 - acc: 0.908 - ETA: 3:47 - loss: 0.3683 - acc: 0.914 - ETA: 3:42 - loss: 0.3451 - acc: 0.919 - ETA: 3:37 - loss: 0.3323 - acc: 0.921 - ETA: 3:34 - loss: 0.3210 - acc: 0.924 - ETA: 3:31 - loss: 0.3073 - acc: 0.927 - ETA: 3:27 - loss: 0.2946 - acc: 0.930 - ETA: 3:25 - loss: 0.2847 - acc: 0.932 - ETA: 3:23 - loss: 0.2755 - acc: 0.934 - ETA: 3:20 - loss: 0.2688 - acc: 0.935 - ETA: 3:19 - loss: 0.2618 - acc: 0.936 - ETA: 3:17 - loss: 0.2552 - acc: 0.938 - ETA: 3:15 - loss: 0.2494 - acc: 0.939 - ETA: 3:14 - loss: 0.2431 - acc: 0.940 - ETA: 3:12 - loss: 0.2399 - acc: 0.941 - ETA: 3:11 - loss: 0.2348 - acc: 0.942 - ETA: 3:10 - loss: 0.2308 - acc: 0.943 - ETA: 3:08 - loss: 0.2256 - acc: 0.944 - ETA: 3:07 - loss: 0.2223 - acc: 0.944 - ETA: 3:06 - loss: 0.2193 - acc: 0.945 - ETA: 3:05 - loss: 0.2151 - acc: 0.946 - ETA: 3:03 - loss: 0.2130 - acc: 0.946 - ETA: 3:02 - loss: 0.2093 - acc: 0.947 - ETA: 3:01 - loss: 0.2065 - acc: 0.947 - ETA: 3:00 - loss: 0.2038 - acc: 0.947 - ETA: 3:00 - loss: 0.2015 - acc: 0.948 - ETA: 2:59 - loss: 0.1986 - acc: 0.948 - ETA: 2:58 - loss: 0.1965 - acc: 0.948 - ETA: 2:57 - loss: 0.1943 - acc: 0.949 - ETA: 2:56 - loss: 0.1918 - acc: 0.949 - ETA: 2:56 - loss: 0.1891 - acc: 0.950 - ETA: 2:56 - loss: 0.1871 - acc: 0.950 - ETA: 2:55 - loss: 0.1851 - acc: 0.950 - ETA: 2:54 - loss: 0.1827 - acc: 0.951 - ETA: 2:54 - loss: 0.1807 - acc: 0.951 - ETA: 2:53 - loss: 0.1787 - acc: 0.951 - ETA: 2:52 - loss: 0.1760 - acc: 0.952 - ETA: 2:52 - loss: 0.1736 - acc: 0.952 - ETA: 2:51 - loss: 0.1717 - acc: 0.953 - ETA: 2:50 - loss: 0.1698 - acc: 0.953 - ETA: 2:50 - loss: 0.1682 - acc: 0.953 - ETA: 2:49 - loss: 0.1665 - acc: 0.954 - ETA: 2:48 - loss: 0.1650 - acc: 0.954 - ETA: 2:48 - loss: 0.1638 - acc: 0.954 - ETA: 2:47 - loss: 0.1634 - acc: 0.954 - ETA: 2:46 - loss: 0.1625 - acc: 0.955 - ETA: 2:46 - loss: 0.1610 - acc: 0.955 - ETA: 2:45 - loss: 0.1597 - acc: 0.955 - ETA: 2:45 - loss: 0.1579 - acc: 0.956 - ETA: 2:44 - loss: 0.1563 - acc: 0.956 - ETA: 2:44 - loss: 0.1551 - acc: 0.956 - ETA: 2:43 - loss: 0.1540 - acc: 0.957 - ETA: 2:43 - loss: 0.1529 - acc: 0.957 - ETA: 2:42 - loss: 0.1517 - acc: 0.957 - ETA: 2:42 - loss: 0.1507 - acc: 0.957 - ETA: 2:41 - loss: 0.1493 - acc: 0.958 - ETA: 2:41 - loss: 0.1481 - acc: 0.958 - ETA: 2:40 - loss: 0.1469 - acc: 0.958 - ETA: 2:40 - loss: 0.1463 - acc: 0.958 - ETA: 2:39 - loss: 0.1453 - acc: 0.959 - ETA: 2:39 - loss: 0.1442 - acc: 0.959 - ETA: 2:38 - loss: 0.1430 - acc: 0.959 - ETA: 2:38 - loss: 0.1420 - acc: 0.959 - ETA: 2:37 - loss: 0.1409 - acc: 0.960 - ETA: 2:37 - loss: 0.1401 - acc: 0.960 - ETA: 2:36 - loss: 0.1392 - acc: 0.960 - ETA: 2:36 - loss: 0.1383 - acc: 0.960 - ETA: 2:35 - loss: 0.1372 - acc: 0.961 - ETA: 2:35 - loss: 0.1364 - acc: 0.961 - ETA: 2:34 - loss: 0.1356 - acc: 0.961 - ETA: 2:34 - loss: 0.1349 - acc: 0.961 - ETA: 2:33 - loss: 0.1340 - acc: 0.961 - ETA: 2:33 - loss: 0.1333 - acc: 0.961 - ETA: 2:32 - loss: 0.1325 - acc: 0.962 - ETA: 2:32 - loss: 0.1320 - acc: 0.962 - ETA: 2:32 - loss: 0.1312 - acc: 0.962 - ETA: 2:31 - loss: 0.1306 - acc: 0.962 - ETA: 2:31 - loss: 0.1298 - acc: 0.962 - ETA: 2:30 - loss: 0.1291 - acc: 0.963 - ETA: 2:30 - loss: 0.1285 - acc: 0.963 - ETA: 2:29 - loss: 0.1277 - acc: 0.963 - ETA: 2:29 - loss: 0.1271 - acc: 0.963 - ETA: 2:28 - loss: 0.1264 - acc: 0.963 - ETA: 2:28 - loss: 0.1255 - acc: 0.963 - ETA: 2:28 - loss: 0.1249 - acc: 0.964 - ETA: 2:27 - loss: 0.1244 - acc: 0.964 - ETA: 2:27 - loss: 0.1240 - acc: 0.964 - ETA: 2:26 - loss: 0.1233 - acc: 0.964 - ETA: 2:26 - loss: 0.1230 - acc: 0.964 - ETA: 2:25 - loss: 0.1225 - acc: 0.964 - ETA: 2:25 - loss: 0.1221 - acc: 0.964 - ETA: 2:25 - loss: 0.1218 - acc: 0.964 - ETA: 2:24 - loss: 0.1216 - acc: 0.964 - ETA: 2:24 - loss: 0.1212 - acc: 0.964 - ETA: 2:23 - loss: 0.1206 - acc: 0.964 - ETA: 2:23 - loss: 0.1203 - acc: 0.965 - ETA: 2:23 - loss: 0.1200 - acc: 0.964 - ETA: 2:22 - loss: 0.1196 - acc: 0.965 - ETA: 2:22 - loss: 0.1190 - acc: 0.965 - ETA: 2:21 - loss: 0.1184 - acc: 0.965 - ETA: 2:21 - loss: 0.1179 - acc: 0.965 - ETA: 2:20 - loss: 0.1177 - acc: 0.965 - ETA: 2:20 - loss: 0.1174 - acc: 0.965 - ETA: 2:20 - loss: 0.1170 - acc: 0.965 - ETA: 2:19 - loss: 0.1164 - acc: 0.965 - ETA: 2:19 - loss: 0.1160 - acc: 0.965 - ETA: 2:18 - loss: 0.1155 - acc: 0.965 - ETA: 2:18 - loss: 0.1152 - acc: 0.965 - ETA: 2:18 - loss: 0.1147 - acc: 0.966 - ETA: 2:17 - loss: 0.1143 - acc: 0.966 - ETA: 2:17 - loss: 0.1137 - acc: 0.966 - ETA: 2:16 - loss: 0.1133 - acc: 0.966 - ETA: 2:16 - loss: 0.1128 - acc: 0.966 - ETA: 2:16 - loss: 0.1124 - acc: 0.966 - ETA: 2:15 - loss: 0.1120 - acc: 0.966 - ETA: 2:15 - loss: 0.1115 - acc: 0.966 - ETA: 2:14 - loss: 0.1113 - acc: 0.966 - ETA: 2:14 - loss: 0.1109 - acc: 0.966 - ETA: 2:14 - loss: 0.1105 - acc: 0.967 - ETA: 2:13 - loss: 0.1102 - acc: 0.967 - ETA: 2:13 - loss: 0.1098 - acc: 0.967 - ETA: 2:13 - loss: 0.1094 - acc: 0.967 - ETA: 2:12 - loss: 0.1090 - acc: 0.967 - ETA: 2:12 - loss: 0.1086 - acc: 0.967 - ETA: 2:11 - loss: 0.1084 - acc: 0.967 - ETA: 2:11 - loss: 0.1081 - acc: 0.967 - ETA: 2:11 - loss: 0.1078 - acc: 0.967 - ETA: 2:10 - loss: 0.1075 - acc: 0.967 - ETA: 2:10 - loss: 0.1073 - acc: 0.967 - ETA: 2:10 - loss: 0.1071 - acc: 0.967 - ETA: 2:09 - loss: 0.1066 - acc: 0.968 - ETA: 2:09 - loss: 0.1063 - acc: 0.968 - ETA: 2:08 - loss: 0.1059 - acc: 0.968 - ETA: 2:08 - loss: 0.1056 - acc: 0.968 - ETA: 2:08 - loss: 0.1053 - acc: 0.968 - ETA: 2:07 - loss: 0.1050 - acc: 0.968 - ETA: 2:07 - loss: 0.1049 - acc: 0.968 - ETA: 2:06 - loss: 0.1047 - acc: 0.968 - ETA: 2:06 - loss: 0.1045 - acc: 0.968 - ETA: 2:06 - loss: 0.1042 - acc: 0.968 - ETA: 2:05 - loss: 0.1039 - acc: 0.968 - ETA: 2:05 - loss: 0.1035 - acc: 0.968 - ETA: 2:05 - loss: 0.1033 - acc: 0.968 - ETA: 2:04 - loss: 0.1030 - acc: 0.968 - ETA: 2:04 - loss: 0.1026 - acc: 0.968 - ETA: 2:04 - loss: 0.1023 - acc: 0.969 - ETA: 2:03 - loss: 0.1020 - acc: 0.969 - ETA: 2:03 - loss: 0.1019 - acc: 0.969 - ETA: 2:02 - loss: 0.1017 - acc: 0.969 - ETA: 2:02 - loss: 0.1014 - acc: 0.969 - ETA: 2:02 - loss: 0.1011 - acc: 0.969 - ETA: 2:01 - loss: 0.1008 - acc: 0.969 - ETA: 2:01 - loss: 0.1005 - acc: 0.969 - ETA: 2:00 - loss: 0.1001 - acc: 0.969 - ETA: 2:00 - loss: 0.0998 - acc: 0.969 - ETA: 2:00 - loss: 0.0994 - acc: 0.969 - ETA: 1:59 - loss: 0.0991 - acc: 0.969 - ETA: 1:59 - loss: 0.0990 - acc: 0.969 - ETA: 1:59 - loss: 0.0987 - acc: 0.969 - ETA: 1:58 - loss: 0.0984 - acc: 0.969 - ETA: 1:58 - loss: 0.0982 - acc: 0.969 - ETA: 1:58 - loss: 0.0982 - acc: 0.969 - ETA: 1:57 - loss: 0.0981 - acc: 0.969 - ETA: 1:57 - loss: 0.0978 - acc: 0.969 - ETA: 1:56 - loss: 0.0978 - acc: 0.969 - ETA: 1:56 - loss: 0.0976 - acc: 0.969 - ETA: 1:56 - loss: 0.0973 - acc: 0.970 - ETA: 1:55 - loss: 0.0970 - acc: 0.970 - ETA: 1:55 - loss: 0.0967 - acc: 0.970 - ETA: 1:55 - loss: 0.0966 - acc: 0.970 - ETA: 1:54 - loss: 0.0964 - acc: 0.970 - ETA: 1:54 - loss: 0.0962 - acc: 0.970 - ETA: 1:53 - loss: 0.0959 - acc: 0.970 - ETA: 1:53 - loss: 0.0956 - acc: 0.970 - ETA: 1:53 - loss: 0.0954 - acc: 0.970 - ETA: 1:52 - loss: 0.0953 - acc: 0.970 - ETA: 1:52 - loss: 0.0950 - acc: 0.970 - ETA: 1:52 - loss: 0.0949 - acc: 0.970 - ETA: 1:51 - loss: 0.0948 - acc: 0.970 - ETA: 1:51 - loss: 0.0945 - acc: 0.970 - ETA: 1:51 - loss: 0.0944 - acc: 0.970 - ETA: 1:50 - loss: 0.0942 - acc: 0.970 - ETA: 1:50 - loss: 0.0940 - acc: 0.970 - ETA: 1:49 - loss: 0.0938 - acc: 0.970 - ETA: 1:49 - loss: 0.0937 - acc: 0.970 - ETA: 1:49 - loss: 0.0935 - acc: 0.971 - ETA: 1:48 - loss: 0.0934 - acc: 0.971 - ETA: 1:48 - loss: 0.0932 - acc: 0.971 - ETA: 1:48 - loss: 0.0930 - acc: 0.971 - ETA: 1:47 - loss: 0.0929 - acc: 0.971 - ETA: 1:47 - loss: 0.0926 - acc: 0.971 - ETA: 1:47 - loss: 0.0925 - acc: 0.971 - ETA: 1:46 - loss: 0.0924 - acc: 0.971 - ETA: 1:46 - loss: 0.0923 - acc: 0.971 - ETA: 1:46 - loss: 0.0922 - acc: 0.971105216/129251 [=======================>......] - ETA: 1:45 - loss: 0.0921 - acc: 0.971 - ETA: 1:45 - loss: 0.0919 - acc: 0.971 - ETA: 1:44 - loss: 0.0917 - acc: 0.971 - ETA: 1:44 - loss: 0.0916 - acc: 0.971 - ETA: 1:44 - loss: 0.0914 - acc: 0.971 - ETA: 1:43 - loss: 0.0912 - acc: 0.971 - ETA: 1:43 - loss: 0.0909 - acc: 0.971 - ETA: 1:43 - loss: 0.0907 - acc: 0.971 - ETA: 1:42 - loss: 0.0906 - acc: 0.971 - ETA: 1:42 - loss: 0.0904 - acc: 0.971 - ETA: 1:42 - loss: 0.0902 - acc: 0.971 - ETA: 1:41 - loss: 0.0901 - acc: 0.971 - ETA: 1:41 - loss: 0.0899 - acc: 0.972 - ETA: 1:41 - loss: 0.0898 - acc: 0.972 - ETA: 1:40 - loss: 0.0897 - acc: 0.972 - ETA: 1:40 - loss: 0.0896 - acc: 0.972 - ETA: 1:39 - loss: 0.0894 - acc: 0.972 - ETA: 1:39 - loss: 0.0893 - acc: 0.972 - ETA: 1:39 - loss: 0.0891 - acc: 0.972 - ETA: 1:38 - loss: 0.0889 - acc: 0.972 - ETA: 1:38 - loss: 0.0887 - acc: 0.972 - ETA: 1:38 - loss: 0.0886 - acc: 0.972 - ETA: 1:37 - loss: 0.0884 - acc: 0.972 - ETA: 1:37 - loss: 0.0883 - acc: 0.972 - ETA: 1:37 - loss: 0.0881 - acc: 0.972 - ETA: 1:36 - loss: 0.0879 - acc: 0.972 - ETA: 1:36 - loss: 0.0878 - acc: 0.972 - ETA: 1:35 - loss: 0.0877 - acc: 0.972 - ETA: 1:35 - loss: 0.0875 - acc: 0.972 - ETA: 1:35 - loss: 0.0874 - acc: 0.972 - ETA: 1:34 - loss: 0.0872 - acc: 0.972 - ETA: 1:34 - loss: 0.0873 - acc: 0.972 - ETA: 1:34 - loss: 0.0872 - acc: 0.972 - ETA: 1:33 - loss: 0.0871 - acc: 0.972 - ETA: 1:33 - loss: 0.0869 - acc: 0.972 - ETA: 1:33 - loss: 0.0868 - acc: 0.972 - ETA: 1:32 - loss: 0.0866 - acc: 0.972 - ETA: 1:32 - loss: 0.0865 - acc: 0.972 - ETA: 1:32 - loss: 0.0864 - acc: 0.972 - ETA: 1:31 - loss: 0.0862 - acc: 0.972 - ETA: 1:31 - loss: 0.0861 - acc: 0.972 - ETA: 1:30 - loss: 0.0860 - acc: 0.972 - ETA: 1:30 - loss: 0.0859 - acc: 0.972 - ETA: 1:30 - loss: 0.0858 - acc: 0.973 - ETA: 1:29 - loss: 0.0857 - acc: 0.973 - ETA: 1:29 - loss: 0.0856 - acc: 0.973 - ETA: 1:29 - loss: 0.0855 - acc: 0.973 - ETA: 1:28 - loss: 0.0854 - acc: 0.973 - ETA: 1:28 - loss: 0.0852 - acc: 0.973 - ETA: 1:28 - loss: 0.0851 - acc: 0.973 - ETA: 1:27 - loss: 0.0850 - acc: 0.973 - ETA: 1:27 - loss: 0.0849 - acc: 0.973 - ETA: 1:27 - loss: 0.0848 - acc: 0.973 - ETA: 1:26 - loss: 0.0847 - acc: 0.973 - ETA: 1:26 - loss: 0.0846 - acc: 0.973 - ETA: 1:26 - loss: 0.0846 - acc: 0.973 - ETA: 1:25 - loss: 0.0844 - acc: 0.973 - ETA: 1:25 - loss: 0.0843 - acc: 0.973 - ETA: 1:24 - loss: 0.0842 - acc: 0.973 - ETA: 1:24 - loss: 0.0842 - acc: 0.973 - ETA: 1:24 - loss: 0.0840 - acc: 0.973 - ETA: 1:23 - loss: 0.0839 - acc: 0.973 - ETA: 1:23 - loss: 0.0838 - acc: 0.973 - ETA: 1:23 - loss: 0.0837 - acc: 0.973 - ETA: 1:22 - loss: 0.0837 - acc: 0.973 - ETA: 1:22 - loss: 0.0837 - acc: 0.973 - ETA: 1:22 - loss: 0.0836 - acc: 0.973 - ETA: 1:21 - loss: 0.0834 - acc: 0.973 - ETA: 1:21 - loss: 0.0834 - acc: 0.973 - ETA: 1:21 - loss: 0.0832 - acc: 0.973 - ETA: 1:20 - loss: 0.0831 - acc: 0.973 - ETA: 1:20 - loss: 0.0830 - acc: 0.973 - ETA: 1:20 - loss: 0.0829 - acc: 0.973 - ETA: 1:19 - loss: 0.0828 - acc: 0.973 - ETA: 1:19 - loss: 0.0828 - acc: 0.973 - ETA: 1:18 - loss: 0.0827 - acc: 0.973 - ETA: 1:18 - loss: 0.0826 - acc: 0.973 - ETA: 1:18 - loss: 0.0824 - acc: 0.973 - ETA: 1:17 - loss: 0.0823 - acc: 0.973 - ETA: 1:17 - loss: 0.0822 - acc: 0.973 - ETA: 1:17 - loss: 0.0821 - acc: 0.973 - ETA: 1:16 - loss: 0.0821 - acc: 0.973 - ETA: 1:16 - loss: 0.0821 - acc: 0.973 - ETA: 1:16 - loss: 0.0821 - acc: 0.973 - ETA: 1:15 - loss: 0.0820 - acc: 0.973 - ETA: 1:15 - loss: 0.0819 - acc: 0.973 - ETA: 1:15 - loss: 0.0818 - acc: 0.973 - ETA: 1:14 - loss: 0.0817 - acc: 0.973 - ETA: 1:14 - loss: 0.0816 - acc: 0.973 - ETA: 1:13 - loss: 0.0815 - acc: 0.973 - ETA: 1:13 - loss: 0.0815 - acc: 0.974 - ETA: 1:13 - loss: 0.0814 - acc: 0.974 - ETA: 1:12 - loss: 0.0814 - acc: 0.974 - ETA: 1:12 - loss: 0.0813 - acc: 0.974 - ETA: 1:12 - loss: 0.0812 - acc: 0.974 - ETA: 1:11 - loss: 0.0811 - acc: 0.974 - ETA: 1:11 - loss: 0.0810 - acc: 0.974 - ETA: 1:11 - loss: 0.0810 - acc: 0.974 - ETA: 1:10 - loss: 0.0809 - acc: 0.974 - ETA: 1:10 - loss: 0.0808 - acc: 0.974 - ETA: 1:10 - loss: 0.0807 - acc: 0.974 - ETA: 1:09 - loss: 0.0806 - acc: 0.974 - ETA: 1:09 - loss: 0.0805 - acc: 0.974 - ETA: 1:09 - loss: 0.0804 - acc: 0.974 - ETA: 1:08 - loss: 0.0804 - acc: 0.974 - ETA: 1:08 - loss: 0.0803 - acc: 0.974 - ETA: 1:07 - loss: 0.0802 - acc: 0.974 - ETA: 1:07 - loss: 0.0802 - acc: 0.974 - ETA: 1:07 - loss: 0.0801 - acc: 0.974 - ETA: 1:06 - loss: 0.0800 - acc: 0.974 - ETA: 1:06 - loss: 0.0800 - acc: 0.974 - ETA: 1:06 - loss: 0.0799 - acc: 0.974 - ETA: 1:05 - loss: 0.0798 - acc: 0.974 - ETA: 1:05 - loss: 0.0797 - acc: 0.974 - ETA: 1:05 - loss: 0.0796 - acc: 0.974 - ETA: 1:04 - loss: 0.0795 - acc: 0.974 - ETA: 1:04 - loss: 0.0794 - acc: 0.974 - ETA: 1:04 - loss: 0.0793 - acc: 0.974 - ETA: 1:03 - loss: 0.0792 - acc: 0.974 - ETA: 1:03 - loss: 0.0791 - acc: 0.974 - ETA: 1:03 - loss: 0.0790 - acc: 0.974 - ETA: 1:02 - loss: 0.0789 - acc: 0.974 - ETA: 1:02 - loss: 0.0789 - acc: 0.974 - ETA: 1:02 - loss: 0.0788 - acc: 0.974 - ETA: 1:01 - loss: 0.0788 - acc: 0.974 - ETA: 1:01 - loss: 0.0787 - acc: 0.974 - ETA: 1:00 - loss: 0.0786 - acc: 0.974 - ETA: 1:00 - loss: 0.0785 - acc: 0.974 - ETA: 1:00 - loss: 0.0785 - acc: 0.974 - ETA: 59s - loss: 0.0784 - acc: 0.974 - ETA: 59s - loss: 0.0783 - acc: 0.97 - ETA: 59s - loss: 0.0782 - acc: 0.97 - ETA: 58s - loss: 0.0781 - acc: 0.97 - ETA: 58s - loss: 0.0781 - acc: 0.97 - ETA: 58s - loss: 0.0780 - acc: 0.97 - ETA: 57s - loss: 0.0779 - acc: 0.97 - ETA: 57s - loss: 0.0778 - acc: 0.97 - ETA: 57s - loss: 0.0777 - acc: 0.97 - ETA: 56s - loss: 0.0777 - acc: 0.97 - ETA: 56s - loss: 0.0776 - acc: 0.97 - ETA: 56s - loss: 0.0775 - acc: 0.97 - ETA: 55s - loss: 0.0774 - acc: 0.97 - ETA: 55s - loss: 0.0774 - acc: 0.97 - ETA: 55s - loss: 0.0773 - acc: 0.97 - ETA: 54s - loss: 0.0773 - acc: 0.97 - ETA: 54s - loss: 0.0772 - acc: 0.97 - ETA: 53s - loss: 0.0772 - acc: 0.97 - ETA: 53s - loss: 0.0771 - acc: 0.97 - ETA: 53s - loss: 0.0770 - acc: 0.97 - ETA: 52s - loss: 0.0770 - acc: 0.97 - ETA: 52s - loss: 0.0769 - acc: 0.97 - ETA: 52s - loss: 0.0770 - acc: 0.97 - ETA: 51s - loss: 0.0769 - acc: 0.97 - ETA: 51s - loss: 0.0768 - acc: 0.97 - ETA: 51s - loss: 0.0768 - acc: 0.97 - ETA: 50s - loss: 0.0767 - acc: 0.97 - ETA: 50s - loss: 0.0767 - acc: 0.97 - ETA: 50s - loss: 0.0766 - acc: 0.97 - ETA: 49s - loss: 0.0765 - acc: 0.97 - ETA: 49s - loss: 0.0764 - acc: 0.97 - ETA: 49s - loss: 0.0763 - acc: 0.97 - ETA: 48s - loss: 0.0763 - acc: 0.97 - ETA: 48s - loss: 0.0762 - acc: 0.97 - ETA: 47s - loss: 0.0761 - acc: 0.97 - ETA: 47s - loss: 0.0761 - acc: 0.97 - ETA: 47s - loss: 0.0760 - acc: 0.97 - ETA: 46s - loss: 0.0759 - acc: 0.97 - ETA: 46s - loss: 0.0759 - acc: 0.97 - ETA: 46s - loss: 0.0758 - acc: 0.97 - ETA: 45s - loss: 0.0758 - acc: 0.97 - ETA: 45s - loss: 0.0757 - acc: 0.97 - ETA: 45s - loss: 0.0757 - acc: 0.97 - ETA: 44s - loss: 0.0756 - acc: 0.97 - ETA: 44s - loss: 0.0756 - acc: 0.97 - ETA: 44s - loss: 0.0755 - acc: 0.97 - ETA: 43s - loss: 0.0754 - acc: 0.97 - ETA: 43s - loss: 0.0754 - acc: 0.97 - ETA: 43s - loss: 0.0754 - acc: 0.97 - ETA: 42s - loss: 0.0753 - acc: 0.97 - ETA: 42s - loss: 0.0753 - acc: 0.97 - ETA: 42s - loss: 0.0752 - acc: 0.97 - ETA: 41s - loss: 0.0752 - acc: 0.97 - ETA: 41s - loss: 0.0751 - acc: 0.97 - ETA: 41s - loss: 0.0751 - acc: 0.97 - ETA: 40s - loss: 0.0750 - acc: 0.97 - ETA: 40s - loss: 0.0749 - acc: 0.97 - ETA: 39s - loss: 0.0748 - acc: 0.97 - ETA: 39s - loss: 0.0748 - acc: 0.97 - ETA: 39s - loss: 0.0748 - acc: 0.97 - ETA: 38s - loss: 0.0747 - acc: 0.97 - ETA: 38s - loss: 0.0746 - acc: 0.97 - ETA: 38s - loss: 0.0746 - acc: 0.97 - ETA: 37s - loss: 0.0745 - acc: 0.97 - ETA: 37s - loss: 0.0745 - acc: 0.97 - ETA: 37s - loss: 0.0744 - acc: 0.97 - ETA: 36s - loss: 0.0743 - acc: 0.97 - ETA: 36s - loss: 0.0743 - acc: 0.97 - ETA: 36s - loss: 0.0742 - acc: 0.97 - ETA: 35s - loss: 0.0742 - acc: 0.97 - ETA: 35s - loss: 0.0742 - acc: 0.97 - ETA: 35s - loss: 0.0741 - acc: 0.97 - ETA: 34s - loss: 0.0740 - acc: 0.97 - ETA: 34s - loss: 0.0739 - acc: 0.97 - ETA: 34s - loss: 0.0738 - acc: 0.97 - ETA: 33s - loss: 0.0738 - acc: 0.97 - ETA: 33s - loss: 0.0737 - acc: 0.97 - ETA: 32s - loss: 0.0737 - acc: 0.97 - ETA: 32s - loss: 0.0736 - acc: 0.9757129251/129251 [==============================] - ETA: 32s - loss: 0.0736 - acc: 0.97 - ETA: 31s - loss: 0.0736 - acc: 0.97 - ETA: 31s - loss: 0.0735 - acc: 0.97 - ETA: 31s - loss: 0.0734 - acc: 0.97 - ETA: 30s - loss: 0.0734 - acc: 0.97 - ETA: 30s - loss: 0.0733 - acc: 0.97 - ETA: 30s - loss: 0.0733 - acc: 0.97 - ETA: 29s - loss: 0.0733 - acc: 0.97 - ETA: 29s - loss: 0.0733 - acc: 0.97 - ETA: 29s - loss: 0.0732 - acc: 0.97 - ETA: 28s - loss: 0.0731 - acc: 0.97 - ETA: 28s - loss: 0.0730 - acc: 0.97 - ETA: 28s - loss: 0.0730 - acc: 0.97 - ETA: 27s - loss: 0.0729 - acc: 0.97 - ETA: 27s - loss: 0.0728 - acc: 0.97 - ETA: 27s - loss: 0.0728 - acc: 0.97 - ETA: 26s - loss: 0.0727 - acc: 0.97 - ETA: 26s - loss: 0.0727 - acc: 0.97 - ETA: 26s - loss: 0.0726 - acc: 0.97 - ETA: 25s - loss: 0.0726 - acc: 0.97 - ETA: 25s - loss: 0.0726 - acc: 0.97 - ETA: 24s - loss: 0.0725 - acc: 0.97 - ETA: 24s - loss: 0.0725 - acc: 0.97 - ETA: 24s - loss: 0.0725 - acc: 0.97 - ETA: 23s - loss: 0.0725 - acc: 0.97 - ETA: 23s - loss: 0.0724 - acc: 0.97 - ETA: 23s - loss: 0.0724 - acc: 0.97 - ETA: 22s - loss: 0.0723 - acc: 0.97 - ETA: 22s - loss: 0.0723 - acc: 0.97 - ETA: 22s - loss: 0.0723 - acc: 0.97 - ETA: 21s - loss: 0.0722 - acc: 0.97 - ETA: 21s - loss: 0.0722 - acc: 0.97 - ETA: 21s - loss: 0.0722 - acc: 0.97 - ETA: 20s - loss: 0.0721 - acc: 0.97 - ETA: 20s - loss: 0.0721 - acc: 0.97 - ETA: 20s - loss: 0.0720 - acc: 0.97 - ETA: 19s - loss: 0.0720 - acc: 0.97 - ETA: 19s - loss: 0.0720 - acc: 0.97 - ETA: 19s - loss: 0.0719 - acc: 0.97 - ETA: 18s - loss: 0.0719 - acc: 0.97 - ETA: 18s - loss: 0.0719 - acc: 0.97 - ETA: 18s - loss: 0.0718 - acc: 0.97 - ETA: 17s - loss: 0.0718 - acc: 0.97 - ETA: 17s - loss: 0.0717 - acc: 0.97 - ETA: 16s - loss: 0.0717 - acc: 0.97 - ETA: 16s - loss: 0.0716 - acc: 0.97 - ETA: 16s - loss: 0.0716 - acc: 0.97 - ETA: 15s - loss: 0.0715 - acc: 0.97 - ETA: 15s - loss: 0.0714 - acc: 0.97 - ETA: 15s - loss: 0.0714 - acc: 0.97 - ETA: 14s - loss: 0.0714 - acc: 0.97 - ETA: 14s - loss: 0.0714 - acc: 0.97 - ETA: 14s - loss: 0.0713 - acc: 0.97 - ETA: 13s - loss: 0.0713 - acc: 0.97 - ETA: 13s - loss: 0.0712 - acc: 0.97 - ETA: 13s - loss: 0.0712 - acc: 0.97 - ETA: 12s - loss: 0.0711 - acc: 0.97 - ETA: 12s - loss: 0.0711 - acc: 0.97 - ETA: 12s - loss: 0.0710 - acc: 0.97 - ETA: 11s - loss: 0.0710 - acc: 0.97 - ETA: 11s - loss: 0.0709 - acc: 0.97 - ETA: 11s - loss: 0.0709 - acc: 0.97 - ETA: 10s - loss: 0.0708 - acc: 0.97 - ETA: 10s - loss: 0.0708 - acc: 0.97 - ETA: 10s - loss: 0.0708 - acc: 0.97 - ETA: 9s - loss: 0.0707 - acc: 0.9763 - ETA: 9s - loss: 0.0707 - acc: 0.976 - ETA: 8s - loss: 0.0706 - acc: 0.976 - ETA: 8s - loss: 0.0706 - acc: 0.976 - ETA: 8s - loss: 0.0706 - acc: 0.976 - ETA: 7s - loss: 0.0705 - acc: 0.976 - ETA: 7s - loss: 0.0705 - acc: 0.976 - ETA: 7s - loss: 0.0704 - acc: 0.976 - ETA: 6s - loss: 0.0703 - acc: 0.976 - ETA: 6s - loss: 0.0703 - acc: 0.976 - ETA: 6s - loss: 0.0703 - acc: 0.976 - ETA: 5s - loss: 0.0703 - acc: 0.976 - ETA: 5s - loss: 0.0702 - acc: 0.976 - ETA: 5s - loss: 0.0702 - acc: 0.976 - ETA: 4s - loss: 0.0701 - acc: 0.976 - ETA: 4s - loss: 0.0701 - acc: 0.976 - ETA: 4s - loss: 0.0700 - acc: 0.976 - ETA: 3s - loss: 0.0700 - acc: 0.976 - ETA: 3s - loss: 0.0699 - acc: 0.976 - ETA: 3s - loss: 0.0699 - acc: 0.976 - ETA: 2s - loss: 0.0698 - acc: 0.976 - ETA: 2s - loss: 0.0698 - acc: 0.976 - ETA: 2s - loss: 0.0698 - acc: 0.976 - ETA: 1s - loss: 0.0697 - acc: 0.976 - ETA: 1s - loss: 0.0697 - acc: 0.976 - ETA: 1s - loss: 0.0696 - acc: 0.976 - ETA: 0s - loss: 0.0696 - acc: 0.976 - ETA: 0s - loss: 0.0695 - acc: 0.976 - 183s 1ms/step - loss: 0.0695 - acc: 0.9767 - val_loss: 0.0508 - val_acc: 0.9812\n",
      "\n",
      " ROC-AUC - epoch: 1 - score: 0.972506 \n",
      "\n",
      "Epoch 2/10\n"
     ]
    },
    {
     "name": "stdout",
     "output_type": "stream",
     "text": [
      " 52224/129251 [===========>..................] - ETA: 2:57 - loss: 0.0363 - acc: 0.987 - ETA: 2:54 - loss: 0.0587 - acc: 0.982 - ETA: 2:52 - loss: 0.0576 - acc: 0.981 - ETA: 2:51 - loss: 0.0594 - acc: 0.979 - ETA: 2:52 - loss: 0.0568 - acc: 0.980 - ETA: 2:51 - loss: 0.0577 - acc: 0.980 - ETA: 2:51 - loss: 0.0558 - acc: 0.980 - ETA: 2:51 - loss: 0.0558 - acc: 0.980 - ETA: 2:50 - loss: 0.0556 - acc: 0.980 - ETA: 2:49 - loss: 0.0555 - acc: 0.980 - ETA: 2:48 - loss: 0.0552 - acc: 0.980 - ETA: 2:48 - loss: 0.0553 - acc: 0.980 - ETA: 2:48 - loss: 0.0560 - acc: 0.980 - ETA: 2:48 - loss: 0.0555 - acc: 0.980 - ETA: 2:48 - loss: 0.0551 - acc: 0.980 - ETA: 2:47 - loss: 0.0542 - acc: 0.980 - ETA: 2:47 - loss: 0.0533 - acc: 0.981 - ETA: 2:47 - loss: 0.0536 - acc: 0.981 - ETA: 2:46 - loss: 0.0543 - acc: 0.980 - ETA: 2:46 - loss: 0.0550 - acc: 0.980 - ETA: 2:46 - loss: 0.0545 - acc: 0.980 - ETA: 2:46 - loss: 0.0543 - acc: 0.980 - ETA: 2:45 - loss: 0.0537 - acc: 0.980 - ETA: 2:46 - loss: 0.0534 - acc: 0.980 - ETA: 2:46 - loss: 0.0534 - acc: 0.980 - ETA: 2:45 - loss: 0.0533 - acc: 0.980 - ETA: 2:45 - loss: 0.0530 - acc: 0.981 - ETA: 2:45 - loss: 0.0529 - acc: 0.980 - ETA: 2:44 - loss: 0.0527 - acc: 0.981 - ETA: 2:44 - loss: 0.0526 - acc: 0.981 - ETA: 2:44 - loss: 0.0529 - acc: 0.980 - ETA: 2:43 - loss: 0.0531 - acc: 0.980 - ETA: 2:43 - loss: 0.0528 - acc: 0.980 - ETA: 2:43 - loss: 0.0526 - acc: 0.981 - ETA: 2:42 - loss: 0.0528 - acc: 0.980 - ETA: 2:42 - loss: 0.0526 - acc: 0.980 - ETA: 2:42 - loss: 0.0524 - acc: 0.980 - ETA: 2:41 - loss: 0.0521 - acc: 0.981 - ETA: 2:41 - loss: 0.0521 - acc: 0.981 - ETA: 2:41 - loss: 0.0519 - acc: 0.981 - ETA: 2:40 - loss: 0.0517 - acc: 0.981 - ETA: 2:40 - loss: 0.0514 - acc: 0.981 - ETA: 2:40 - loss: 0.0515 - acc: 0.981 - ETA: 2:39 - loss: 0.0515 - acc: 0.981 - ETA: 2:39 - loss: 0.0511 - acc: 0.981 - ETA: 2:39 - loss: 0.0512 - acc: 0.981 - ETA: 2:38 - loss: 0.0513 - acc: 0.981 - ETA: 2:38 - loss: 0.0512 - acc: 0.981 - ETA: 2:38 - loss: 0.0515 - acc: 0.981 - ETA: 2:38 - loss: 0.0513 - acc: 0.981 - ETA: 2:37 - loss: 0.0514 - acc: 0.981 - ETA: 2:37 - loss: 0.0515 - acc: 0.981 - ETA: 2:37 - loss: 0.0515 - acc: 0.981 - ETA: 2:36 - loss: 0.0513 - acc: 0.981 - ETA: 2:36 - loss: 0.0513 - acc: 0.981 - ETA: 2:35 - loss: 0.0512 - acc: 0.981 - ETA: 2:35 - loss: 0.0512 - acc: 0.981 - ETA: 2:35 - loss: 0.0513 - acc: 0.981 - ETA: 2:34 - loss: 0.0513 - acc: 0.981 - ETA: 2:34 - loss: 0.0511 - acc: 0.981 - ETA: 2:34 - loss: 0.0511 - acc: 0.981 - ETA: 2:33 - loss: 0.0511 - acc: 0.981 - ETA: 2:33 - loss: 0.0513 - acc: 0.981 - ETA: 2:33 - loss: 0.0513 - acc: 0.981 - ETA: 2:32 - loss: 0.0512 - acc: 0.981 - ETA: 2:32 - loss: 0.0512 - acc: 0.981 - ETA: 2:31 - loss: 0.0512 - acc: 0.981 - ETA: 2:31 - loss: 0.0513 - acc: 0.981 - ETA: 2:31 - loss: 0.0515 - acc: 0.980 - ETA: 2:30 - loss: 0.0514 - acc: 0.981 - ETA: 2:30 - loss: 0.0513 - acc: 0.981 - ETA: 2:30 - loss: 0.0514 - acc: 0.981 - ETA: 2:29 - loss: 0.0514 - acc: 0.981 - ETA: 2:29 - loss: 0.0511 - acc: 0.981 - ETA: 2:29 - loss: 0.0512 - acc: 0.981 - ETA: 2:28 - loss: 0.0513 - acc: 0.981 - ETA: 2:28 - loss: 0.0513 - acc: 0.981 - ETA: 2:28 - loss: 0.0514 - acc: 0.981 - ETA: 2:27 - loss: 0.0512 - acc: 0.981 - ETA: 2:27 - loss: 0.0512 - acc: 0.981 - ETA: 2:26 - loss: 0.0510 - acc: 0.981 - ETA: 2:26 - loss: 0.0510 - acc: 0.981 - ETA: 2:26 - loss: 0.0509 - acc: 0.981 - ETA: 2:25 - loss: 0.0509 - acc: 0.981 - ETA: 2:25 - loss: 0.0509 - acc: 0.981 - ETA: 2:25 - loss: 0.0511 - acc: 0.981 - ETA: 2:24 - loss: 0.0511 - acc: 0.981 - ETA: 2:24 - loss: 0.0510 - acc: 0.981 - ETA: 2:24 - loss: 0.0509 - acc: 0.981 - ETA: 2:23 - loss: 0.0511 - acc: 0.981 - ETA: 2:23 - loss: 0.0511 - acc: 0.981 - ETA: 2:23 - loss: 0.0511 - acc: 0.981 - ETA: 2:22 - loss: 0.0510 - acc: 0.981 - ETA: 2:22 - loss: 0.0509 - acc: 0.981 - ETA: 2:22 - loss: 0.0510 - acc: 0.981 - ETA: 2:21 - loss: 0.0509 - acc: 0.981 - ETA: 2:21 - loss: 0.0509 - acc: 0.981 - ETA: 2:21 - loss: 0.0508 - acc: 0.981 - ETA: 2:20 - loss: 0.0507 - acc: 0.981 - ETA: 2:20 - loss: 0.0506 - acc: 0.981 - ETA: 2:19 - loss: 0.0507 - acc: 0.981 - ETA: 2:19 - loss: 0.0506 - acc: 0.981 - ETA: 2:19 - loss: 0.0505 - acc: 0.981 - ETA: 2:18 - loss: 0.0504 - acc: 0.981 - ETA: 2:18 - loss: 0.0503 - acc: 0.981 - ETA: 2:18 - loss: 0.0504 - acc: 0.981 - ETA: 2:17 - loss: 0.0503 - acc: 0.981 - ETA: 2:17 - loss: 0.0503 - acc: 0.981 - ETA: 2:17 - loss: 0.0503 - acc: 0.981 - ETA: 2:16 - loss: 0.0503 - acc: 0.981 - ETA: 2:16 - loss: 0.0505 - acc: 0.981 - ETA: 2:16 - loss: 0.0505 - acc: 0.981 - ETA: 2:15 - loss: 0.0505 - acc: 0.981 - ETA: 2:15 - loss: 0.0506 - acc: 0.981 - ETA: 2:15 - loss: 0.0507 - acc: 0.981 - ETA: 2:14 - loss: 0.0507 - acc: 0.981 - ETA: 2:14 - loss: 0.0506 - acc: 0.981 - ETA: 2:14 - loss: 0.0505 - acc: 0.981 - ETA: 2:13 - loss: 0.0504 - acc: 0.981 - ETA: 2:13 - loss: 0.0505 - acc: 0.981 - ETA: 2:13 - loss: 0.0504 - acc: 0.981 - ETA: 2:12 - loss: 0.0503 - acc: 0.981 - ETA: 2:12 - loss: 0.0503 - acc: 0.981 - ETA: 2:12 - loss: 0.0502 - acc: 0.981 - ETA: 2:11 - loss: 0.0501 - acc: 0.981 - ETA: 2:11 - loss: 0.0502 - acc: 0.981 - ETA: 2:11 - loss: 0.0502 - acc: 0.981 - ETA: 2:10 - loss: 0.0502 - acc: 0.981 - ETA: 2:10 - loss: 0.0501 - acc: 0.981 - ETA: 2:10 - loss: 0.0500 - acc: 0.981 - ETA: 2:09 - loss: 0.0498 - acc: 0.981 - ETA: 2:09 - loss: 0.0498 - acc: 0.981 - ETA: 2:09 - loss: 0.0499 - acc: 0.981 - ETA: 2:08 - loss: 0.0499 - acc: 0.981 - ETA: 2:08 - loss: 0.0500 - acc: 0.981 - ETA: 2:07 - loss: 0.0499 - acc: 0.981 - ETA: 2:07 - loss: 0.0498 - acc: 0.981 - ETA: 2:07 - loss: 0.0498 - acc: 0.981 - ETA: 2:06 - loss: 0.0499 - acc: 0.981 - ETA: 2:06 - loss: 0.0498 - acc: 0.981 - ETA: 2:06 - loss: 0.0498 - acc: 0.981 - ETA: 2:05 - loss: 0.0499 - acc: 0.981 - ETA: 2:05 - loss: 0.0499 - acc: 0.981 - ETA: 2:05 - loss: 0.0499 - acc: 0.981 - ETA: 2:04 - loss: 0.0500 - acc: 0.981 - ETA: 2:04 - loss: 0.0500 - acc: 0.981 - ETA: 2:04 - loss: 0.0500 - acc: 0.981 - ETA: 2:03 - loss: 0.0499 - acc: 0.981 - ETA: 2:03 - loss: 0.0499 - acc: 0.981 - ETA: 2:03 - loss: 0.0498 - acc: 0.981 - ETA: 2:02 - loss: 0.0499 - acc: 0.981 - ETA: 2:02 - loss: 0.0498 - acc: 0.981 - ETA: 2:02 - loss: 0.0497 - acc: 0.981 - ETA: 2:01 - loss: 0.0498 - acc: 0.981 - ETA: 2:01 - loss: 0.0498 - acc: 0.981 - ETA: 2:01 - loss: 0.0499 - acc: 0.981 - ETA: 2:00 - loss: 0.0498 - acc: 0.981 - ETA: 2:00 - loss: 0.0499 - acc: 0.981 - ETA: 2:00 - loss: 0.0499 - acc: 0.981 - ETA: 1:59 - loss: 0.0498 - acc: 0.981 - ETA: 1:59 - loss: 0.0499 - acc: 0.981 - ETA: 1:59 - loss: 0.0499 - acc: 0.981 - ETA: 1:58 - loss: 0.0498 - acc: 0.981 - ETA: 1:58 - loss: 0.0498 - acc: 0.981 - ETA: 1:57 - loss: 0.0497 - acc: 0.981 - ETA: 1:57 - loss: 0.0497 - acc: 0.981 - ETA: 1:57 - loss: 0.0498 - acc: 0.981 - ETA: 1:56 - loss: 0.0497 - acc: 0.981 - ETA: 1:56 - loss: 0.0497 - acc: 0.981 - ETA: 1:56 - loss: 0.0496 - acc: 0.981 - ETA: 1:55 - loss: 0.0496 - acc: 0.981 - ETA: 1:55 - loss: 0.0496 - acc: 0.981 - ETA: 1:55 - loss: 0.0496 - acc: 0.981 - ETA: 1:54 - loss: 0.0496 - acc: 0.981 - ETA: 1:54 - loss: 0.0496 - acc: 0.981 - ETA: 1:54 - loss: 0.0496 - acc: 0.981 - ETA: 1:53 - loss: 0.0496 - acc: 0.981 - ETA: 1:53 - loss: 0.0497 - acc: 0.981 - ETA: 1:53 - loss: 0.0497 - acc: 0.981 - ETA: 1:52 - loss: 0.0496 - acc: 0.981 - ETA: 1:52 - loss: 0.0495 - acc: 0.981 - ETA: 1:52 - loss: 0.0495 - acc: 0.981 - ETA: 1:51 - loss: 0.0495 - acc: 0.981 - ETA: 1:51 - loss: 0.0497 - acc: 0.981 - ETA: 1:51 - loss: 0.0498 - acc: 0.981 - ETA: 1:50 - loss: 0.0497 - acc: 0.981 - ETA: 1:50 - loss: 0.0497 - acc: 0.981 - ETA: 1:50 - loss: 0.0497 - acc: 0.981 - ETA: 1:49 - loss: 0.0496 - acc: 0.981 - ETA: 1:49 - loss: 0.0498 - acc: 0.981 - ETA: 1:48 - loss: 0.0498 - acc: 0.981 - ETA: 1:48 - loss: 0.0499 - acc: 0.981 - ETA: 1:48 - loss: 0.0499 - acc: 0.981 - ETA: 1:47 - loss: 0.0499 - acc: 0.981 - ETA: 1:47 - loss: 0.0498 - acc: 0.981 - ETA: 1:47 - loss: 0.0499 - acc: 0.981 - ETA: 1:46 - loss: 0.0499 - acc: 0.981 - ETA: 1:46 - loss: 0.0498 - acc: 0.981 - ETA: 1:46 - loss: 0.0499 - acc: 0.981 - ETA: 1:45 - loss: 0.0499 - acc: 0.981 - ETA: 1:45 - loss: 0.0499 - acc: 0.981 - ETA: 1:45 - loss: 0.0499 - acc: 0.981 - ETA: 1:44 - loss: 0.0500 - acc: 0.981 - ETA: 1:44 - loss: 0.0500 - acc: 0.9814105472/129251 [=======================>......] - ETA: 1:44 - loss: 0.0499 - acc: 0.981 - ETA: 1:43 - loss: 0.0499 - acc: 0.981 - ETA: 1:43 - loss: 0.0499 - acc: 0.981 - ETA: 1:43 - loss: 0.0500 - acc: 0.981 - ETA: 1:42 - loss: 0.0499 - acc: 0.981 - ETA: 1:42 - loss: 0.0499 - acc: 0.981 - ETA: 1:41 - loss: 0.0499 - acc: 0.981 - ETA: 1:41 - loss: 0.0499 - acc: 0.981 - ETA: 1:41 - loss: 0.0498 - acc: 0.981 - ETA: 1:40 - loss: 0.0498 - acc: 0.981 - ETA: 1:40 - loss: 0.0499 - acc: 0.981 - ETA: 1:40 - loss: 0.0499 - acc: 0.981 - ETA: 1:39 - loss: 0.0498 - acc: 0.981 - ETA: 1:39 - loss: 0.0498 - acc: 0.981 - ETA: 1:39 - loss: 0.0498 - acc: 0.981 - ETA: 1:38 - loss: 0.0499 - acc: 0.981 - ETA: 1:38 - loss: 0.0499 - acc: 0.981 - ETA: 1:38 - loss: 0.0500 - acc: 0.981 - ETA: 1:37 - loss: 0.0500 - acc: 0.981 - ETA: 1:37 - loss: 0.0500 - acc: 0.981 - ETA: 1:37 - loss: 0.0500 - acc: 0.981 - ETA: 1:36 - loss: 0.0500 - acc: 0.981 - ETA: 1:36 - loss: 0.0500 - acc: 0.981 - ETA: 1:36 - loss: 0.0501 - acc: 0.981 - ETA: 1:35 - loss: 0.0501 - acc: 0.981 - ETA: 1:35 - loss: 0.0501 - acc: 0.981 - ETA: 1:35 - loss: 0.0501 - acc: 0.981 - ETA: 1:34 - loss: 0.0501 - acc: 0.981 - ETA: 1:34 - loss: 0.0501 - acc: 0.981 - ETA: 1:34 - loss: 0.0501 - acc: 0.981 - ETA: 1:33 - loss: 0.0501 - acc: 0.981 - ETA: 1:33 - loss: 0.0501 - acc: 0.981 - ETA: 1:32 - loss: 0.0503 - acc: 0.981 - ETA: 1:32 - loss: 0.0502 - acc: 0.981 - ETA: 1:32 - loss: 0.0502 - acc: 0.981 - ETA: 1:31 - loss: 0.0502 - acc: 0.981 - ETA: 1:31 - loss: 0.0502 - acc: 0.981 - ETA: 1:31 - loss: 0.0503 - acc: 0.981 - ETA: 1:30 - loss: 0.0503 - acc: 0.981 - ETA: 1:30 - loss: 0.0503 - acc: 0.981 - ETA: 1:30 - loss: 0.0504 - acc: 0.981 - ETA: 1:29 - loss: 0.0504 - acc: 0.981 - ETA: 1:29 - loss: 0.0502 - acc: 0.981 - ETA: 1:29 - loss: 0.0503 - acc: 0.981 - ETA: 1:28 - loss: 0.0502 - acc: 0.981 - ETA: 1:28 - loss: 0.0503 - acc: 0.981 - ETA: 1:28 - loss: 0.0503 - acc: 0.981 - ETA: 1:27 - loss: 0.0503 - acc: 0.981 - ETA: 1:27 - loss: 0.0502 - acc: 0.981 - ETA: 1:27 - loss: 0.0502 - acc: 0.981 - ETA: 1:26 - loss: 0.0502 - acc: 0.981 - ETA: 1:26 - loss: 0.0502 - acc: 0.981 - ETA: 1:26 - loss: 0.0501 - acc: 0.981 - ETA: 1:25 - loss: 0.0501 - acc: 0.981 - ETA: 1:25 - loss: 0.0501 - acc: 0.981 - ETA: 1:25 - loss: 0.0501 - acc: 0.981 - ETA: 1:24 - loss: 0.0500 - acc: 0.981 - ETA: 1:24 - loss: 0.0500 - acc: 0.981 - ETA: 1:24 - loss: 0.0501 - acc: 0.981 - ETA: 1:23 - loss: 0.0500 - acc: 0.981 - ETA: 1:23 - loss: 0.0500 - acc: 0.981 - ETA: 1:23 - loss: 0.0500 - acc: 0.981 - ETA: 1:22 - loss: 0.0500 - acc: 0.981 - ETA: 1:22 - loss: 0.0500 - acc: 0.981 - ETA: 1:22 - loss: 0.0500 - acc: 0.981 - ETA: 1:21 - loss: 0.0501 - acc: 0.981 - ETA: 1:21 - loss: 0.0500 - acc: 0.981 - ETA: 1:20 - loss: 0.0501 - acc: 0.981 - ETA: 1:20 - loss: 0.0502 - acc: 0.981 - ETA: 1:20 - loss: 0.0502 - acc: 0.981 - ETA: 1:19 - loss: 0.0502 - acc: 0.981 - ETA: 1:19 - loss: 0.0501 - acc: 0.981 - ETA: 1:19 - loss: 0.0501 - acc: 0.981 - ETA: 1:18 - loss: 0.0501 - acc: 0.981 - ETA: 1:18 - loss: 0.0501 - acc: 0.981 - ETA: 1:18 - loss: 0.0500 - acc: 0.981 - ETA: 1:17 - loss: 0.0500 - acc: 0.981 - ETA: 1:17 - loss: 0.0500 - acc: 0.981 - ETA: 1:17 - loss: 0.0500 - acc: 0.981 - ETA: 1:16 - loss: 0.0500 - acc: 0.981 - ETA: 1:16 - loss: 0.0500 - acc: 0.981 - ETA: 1:16 - loss: 0.0501 - acc: 0.981 - ETA: 1:15 - loss: 0.0500 - acc: 0.981 - ETA: 1:15 - loss: 0.0501 - acc: 0.981 - ETA: 1:15 - loss: 0.0501 - acc: 0.981 - ETA: 1:14 - loss: 0.0502 - acc: 0.981 - ETA: 1:14 - loss: 0.0502 - acc: 0.981 - ETA: 1:14 - loss: 0.0502 - acc: 0.981 - ETA: 1:13 - loss: 0.0502 - acc: 0.981 - ETA: 1:13 - loss: 0.0502 - acc: 0.981 - ETA: 1:12 - loss: 0.0502 - acc: 0.981 - ETA: 1:12 - loss: 0.0501 - acc: 0.981 - ETA: 1:12 - loss: 0.0501 - acc: 0.981 - ETA: 1:11 - loss: 0.0501 - acc: 0.981 - ETA: 1:11 - loss: 0.0501 - acc: 0.981 - ETA: 1:11 - loss: 0.0501 - acc: 0.981 - ETA: 1:10 - loss: 0.0501 - acc: 0.981 - ETA: 1:10 - loss: 0.0500 - acc: 0.981 - ETA: 1:10 - loss: 0.0501 - acc: 0.981 - ETA: 1:09 - loss: 0.0501 - acc: 0.981 - ETA: 1:09 - loss: 0.0501 - acc: 0.981 - ETA: 1:09 - loss: 0.0501 - acc: 0.981 - ETA: 1:08 - loss: 0.0500 - acc: 0.981 - ETA: 1:08 - loss: 0.0500 - acc: 0.981 - ETA: 1:08 - loss: 0.0500 - acc: 0.981 - ETA: 1:07 - loss: 0.0500 - acc: 0.981 - ETA: 1:07 - loss: 0.0500 - acc: 0.981 - ETA: 1:07 - loss: 0.0499 - acc: 0.981 - ETA: 1:06 - loss: 0.0500 - acc: 0.981 - ETA: 1:06 - loss: 0.0500 - acc: 0.981 - ETA: 1:06 - loss: 0.0500 - acc: 0.981 - ETA: 1:05 - loss: 0.0500 - acc: 0.981 - ETA: 1:05 - loss: 0.0499 - acc: 0.981 - ETA: 1:04 - loss: 0.0499 - acc: 0.981 - ETA: 1:04 - loss: 0.0499 - acc: 0.981 - ETA: 1:04 - loss: 0.0498 - acc: 0.981 - ETA: 1:03 - loss: 0.0499 - acc: 0.981 - ETA: 1:03 - loss: 0.0498 - acc: 0.981 - ETA: 1:03 - loss: 0.0499 - acc: 0.981 - ETA: 1:02 - loss: 0.0498 - acc: 0.981 - ETA: 1:02 - loss: 0.0499 - acc: 0.981 - ETA: 1:02 - loss: 0.0498 - acc: 0.981 - ETA: 1:01 - loss: 0.0499 - acc: 0.981 - ETA: 1:01 - loss: 0.0499 - acc: 0.981 - ETA: 1:01 - loss: 0.0498 - acc: 0.981 - ETA: 1:00 - loss: 0.0498 - acc: 0.981 - ETA: 1:00 - loss: 0.0497 - acc: 0.981 - ETA: 1:00 - loss: 0.0497 - acc: 0.981 - ETA: 59s - loss: 0.0497 - acc: 0.981 - ETA: 59s - loss: 0.0497 - acc: 0.98 - ETA: 59s - loss: 0.0496 - acc: 0.98 - ETA: 58s - loss: 0.0497 - acc: 0.98 - ETA: 58s - loss: 0.0497 - acc: 0.98 - ETA: 58s - loss: 0.0497 - acc: 0.98 - ETA: 57s - loss: 0.0496 - acc: 0.98 - ETA: 57s - loss: 0.0496 - acc: 0.98 - ETA: 56s - loss: 0.0496 - acc: 0.98 - ETA: 56s - loss: 0.0496 - acc: 0.98 - ETA: 56s - loss: 0.0496 - acc: 0.98 - ETA: 55s - loss: 0.0496 - acc: 0.98 - ETA: 55s - loss: 0.0496 - acc: 0.98 - ETA: 55s - loss: 0.0496 - acc: 0.98 - ETA: 54s - loss: 0.0496 - acc: 0.98 - ETA: 54s - loss: 0.0496 - acc: 0.98 - ETA: 54s - loss: 0.0495 - acc: 0.98 - ETA: 53s - loss: 0.0496 - acc: 0.98 - ETA: 53s - loss: 0.0495 - acc: 0.98 - ETA: 53s - loss: 0.0495 - acc: 0.98 - ETA: 52s - loss: 0.0495 - acc: 0.98 - ETA: 52s - loss: 0.0495 - acc: 0.98 - ETA: 52s - loss: 0.0495 - acc: 0.98 - ETA: 51s - loss: 0.0494 - acc: 0.98 - ETA: 51s - loss: 0.0494 - acc: 0.98 - ETA: 51s - loss: 0.0494 - acc: 0.98 - ETA: 50s - loss: 0.0494 - acc: 0.98 - ETA: 50s - loss: 0.0494 - acc: 0.98 - ETA: 50s - loss: 0.0494 - acc: 0.98 - ETA: 49s - loss: 0.0494 - acc: 0.98 - ETA: 49s - loss: 0.0493 - acc: 0.98 - ETA: 48s - loss: 0.0493 - acc: 0.98 - ETA: 48s - loss: 0.0493 - acc: 0.98 - ETA: 48s - loss: 0.0493 - acc: 0.98 - ETA: 47s - loss: 0.0493 - acc: 0.98 - ETA: 47s - loss: 0.0493 - acc: 0.98 - ETA: 47s - loss: 0.0493 - acc: 0.98 - ETA: 46s - loss: 0.0493 - acc: 0.98 - ETA: 46s - loss: 0.0493 - acc: 0.98 - ETA: 46s - loss: 0.0492 - acc: 0.98 - ETA: 45s - loss: 0.0492 - acc: 0.98 - ETA: 45s - loss: 0.0492 - acc: 0.98 - ETA: 45s - loss: 0.0491 - acc: 0.98 - ETA: 44s - loss: 0.0491 - acc: 0.98 - ETA: 44s - loss: 0.0491 - acc: 0.98 - ETA: 44s - loss: 0.0491 - acc: 0.98 - ETA: 43s - loss: 0.0491 - acc: 0.98 - ETA: 43s - loss: 0.0492 - acc: 0.98 - ETA: 43s - loss: 0.0491 - acc: 0.98 - ETA: 42s - loss: 0.0492 - acc: 0.98 - ETA: 42s - loss: 0.0491 - acc: 0.98 - ETA: 41s - loss: 0.0491 - acc: 0.98 - ETA: 41s - loss: 0.0492 - acc: 0.98 - ETA: 41s - loss: 0.0491 - acc: 0.98 - ETA: 40s - loss: 0.0491 - acc: 0.98 - ETA: 40s - loss: 0.0491 - acc: 0.98 - ETA: 40s - loss: 0.0491 - acc: 0.98 - ETA: 39s - loss: 0.0491 - acc: 0.98 - ETA: 39s - loss: 0.0491 - acc: 0.98 - ETA: 39s - loss: 0.0491 - acc: 0.98 - ETA: 38s - loss: 0.0491 - acc: 0.98 - ETA: 38s - loss: 0.0491 - acc: 0.98 - ETA: 38s - loss: 0.0491 - acc: 0.98 - ETA: 37s - loss: 0.0491 - acc: 0.98 - ETA: 37s - loss: 0.0491 - acc: 0.98 - ETA: 37s - loss: 0.0491 - acc: 0.98 - ETA: 36s - loss: 0.0490 - acc: 0.98 - ETA: 36s - loss: 0.0490 - acc: 0.98 - ETA: 36s - loss: 0.0490 - acc: 0.98 - ETA: 35s - loss: 0.0490 - acc: 0.98 - ETA: 35s - loss: 0.0490 - acc: 0.98 - ETA: 35s - loss: 0.0490 - acc: 0.98 - ETA: 34s - loss: 0.0489 - acc: 0.98 - ETA: 34s - loss: 0.0489 - acc: 0.98 - ETA: 33s - loss: 0.0489 - acc: 0.98 - ETA: 33s - loss: 0.0489 - acc: 0.98 - ETA: 33s - loss: 0.0490 - acc: 0.98 - ETA: 32s - loss: 0.0490 - acc: 0.98 - ETA: 32s - loss: 0.0490 - acc: 0.98 - ETA: 32s - loss: 0.0489 - acc: 0.9816"
     ]
    },
    {
     "name": "stdout",
     "output_type": "stream",
     "text": [
      "129251/129251 [==============================] - ETA: 31s - loss: 0.0489 - acc: 0.98 - ETA: 31s - loss: 0.0489 - acc: 0.98 - ETA: 31s - loss: 0.0489 - acc: 0.98 - ETA: 30s - loss: 0.0490 - acc: 0.98 - ETA: 30s - loss: 0.0490 - acc: 0.98 - ETA: 30s - loss: 0.0489 - acc: 0.98 - ETA: 29s - loss: 0.0489 - acc: 0.98 - ETA: 29s - loss: 0.0490 - acc: 0.98 - ETA: 29s - loss: 0.0489 - acc: 0.98 - ETA: 28s - loss: 0.0489 - acc: 0.98 - ETA: 28s - loss: 0.0489 - acc: 0.98 - ETA: 28s - loss: 0.0490 - acc: 0.98 - ETA: 27s - loss: 0.0489 - acc: 0.98 - ETA: 27s - loss: 0.0489 - acc: 0.98 - ETA: 27s - loss: 0.0489 - acc: 0.98 - ETA: 26s - loss: 0.0489 - acc: 0.98 - ETA: 26s - loss: 0.0489 - acc: 0.98 - ETA: 26s - loss: 0.0489 - acc: 0.98 - ETA: 25s - loss: 0.0489 - acc: 0.98 - ETA: 25s - loss: 0.0489 - acc: 0.98 - ETA: 24s - loss: 0.0489 - acc: 0.98 - ETA: 24s - loss: 0.0489 - acc: 0.98 - ETA: 24s - loss: 0.0489 - acc: 0.98 - ETA: 23s - loss: 0.0489 - acc: 0.98 - ETA: 23s - loss: 0.0488 - acc: 0.98 - ETA: 23s - loss: 0.0488 - acc: 0.98 - ETA: 22s - loss: 0.0488 - acc: 0.98 - ETA: 22s - loss: 0.0488 - acc: 0.98 - ETA: 22s - loss: 0.0488 - acc: 0.98 - ETA: 21s - loss: 0.0488 - acc: 0.98 - ETA: 21s - loss: 0.0488 - acc: 0.98 - ETA: 21s - loss: 0.0488 - acc: 0.98 - ETA: 20s - loss: 0.0488 - acc: 0.98 - ETA: 20s - loss: 0.0488 - acc: 0.98 - ETA: 20s - loss: 0.0488 - acc: 0.98 - ETA: 19s - loss: 0.0488 - acc: 0.98 - ETA: 19s - loss: 0.0488 - acc: 0.98 - ETA: 19s - loss: 0.0488 - acc: 0.98 - ETA: 18s - loss: 0.0488 - acc: 0.98 - ETA: 18s - loss: 0.0488 - acc: 0.98 - ETA: 18s - loss: 0.0488 - acc: 0.98 - ETA: 17s - loss: 0.0487 - acc: 0.98 - ETA: 17s - loss: 0.0487 - acc: 0.98 - ETA: 16s - loss: 0.0487 - acc: 0.98 - ETA: 16s - loss: 0.0487 - acc: 0.98 - ETA: 16s - loss: 0.0487 - acc: 0.98 - ETA: 15s - loss: 0.0486 - acc: 0.98 - ETA: 15s - loss: 0.0486 - acc: 0.98 - ETA: 15s - loss: 0.0486 - acc: 0.98 - ETA: 14s - loss: 0.0486 - acc: 0.98 - ETA: 14s - loss: 0.0486 - acc: 0.98 - ETA: 14s - loss: 0.0486 - acc: 0.98 - ETA: 13s - loss: 0.0486 - acc: 0.98 - ETA: 13s - loss: 0.0486 - acc: 0.98 - ETA: 13s - loss: 0.0486 - acc: 0.98 - ETA: 12s - loss: 0.0486 - acc: 0.98 - ETA: 12s - loss: 0.0486 - acc: 0.98 - ETA: 12s - loss: 0.0486 - acc: 0.98 - ETA: 11s - loss: 0.0486 - acc: 0.98 - ETA: 11s - loss: 0.0486 - acc: 0.98 - ETA: 11s - loss: 0.0486 - acc: 0.98 - ETA: 10s - loss: 0.0485 - acc: 0.98 - ETA: 10s - loss: 0.0485 - acc: 0.98 - ETA: 10s - loss: 0.0485 - acc: 0.98 - ETA: 9s - loss: 0.0485 - acc: 0.9817 - ETA: 9s - loss: 0.0486 - acc: 0.981 - ETA: 8s - loss: 0.0486 - acc: 0.981 - ETA: 8s - loss: 0.0486 - acc: 0.981 - ETA: 8s - loss: 0.0486 - acc: 0.981 - ETA: 7s - loss: 0.0486 - acc: 0.981 - ETA: 7s - loss: 0.0486 - acc: 0.981 - ETA: 7s - loss: 0.0485 - acc: 0.981 - ETA: 6s - loss: 0.0485 - acc: 0.981 - ETA: 6s - loss: 0.0485 - acc: 0.981 - ETA: 6s - loss: 0.0485 - acc: 0.981 - ETA: 5s - loss: 0.0486 - acc: 0.981 - ETA: 5s - loss: 0.0486 - acc: 0.981 - ETA: 5s - loss: 0.0486 - acc: 0.981 - ETA: 4s - loss: 0.0486 - acc: 0.981 - ETA: 4s - loss: 0.0486 - acc: 0.981 - ETA: 4s - loss: 0.0486 - acc: 0.981 - ETA: 3s - loss: 0.0486 - acc: 0.981 - ETA: 3s - loss: 0.0486 - acc: 0.981 - ETA: 3s - loss: 0.0486 - acc: 0.981 - ETA: 2s - loss: 0.0485 - acc: 0.981 - ETA: 2s - loss: 0.0485 - acc: 0.981 - ETA: 2s - loss: 0.0485 - acc: 0.981 - ETA: 1s - loss: 0.0485 - acc: 0.981 - ETA: 1s - loss: 0.0485 - acc: 0.981 - ETA: 1s - loss: 0.0484 - acc: 0.981 - ETA: 0s - loss: 0.0484 - acc: 0.981 - ETA: 0s - loss: 0.0484 - acc: 0.981 - 182s 1ms/step - loss: 0.0484 - acc: 0.9818 - val_loss: 0.0458 - val_acc: 0.9822\n",
      "\n",
      " ROC-AUC - epoch: 2 - score: 0.980159 \n",
      "\n",
      "Epoch 3/10\n",
      " 52224/129251 [===========>..................] - ETA: 2:54 - loss: 0.0529 - acc: 0.977 - ETA: 2:54 - loss: 0.0521 - acc: 0.979 - ETA: 2:50 - loss: 0.0499 - acc: 0.980 - ETA: 2:50 - loss: 0.0502 - acc: 0.980 - ETA: 2:51 - loss: 0.0534 - acc: 0.979 - ETA: 2:51 - loss: 0.0496 - acc: 0.980 - ETA: 2:50 - loss: 0.0493 - acc: 0.980 - ETA: 2:50 - loss: 0.0495 - acc: 0.980 - ETA: 2:50 - loss: 0.0485 - acc: 0.980 - ETA: 2:50 - loss: 0.0478 - acc: 0.981 - ETA: 2:50 - loss: 0.0477 - acc: 0.981 - ETA: 2:49 - loss: 0.0475 - acc: 0.981 - ETA: 2:48 - loss: 0.0487 - acc: 0.981 - ETA: 2:48 - loss: 0.0484 - acc: 0.981 - ETA: 2:47 - loss: 0.0477 - acc: 0.981 - ETA: 2:47 - loss: 0.0485 - acc: 0.981 - ETA: 2:47 - loss: 0.0482 - acc: 0.981 - ETA: 2:47 - loss: 0.0487 - acc: 0.981 - ETA: 2:47 - loss: 0.0482 - acc: 0.982 - ETA: 2:46 - loss: 0.0480 - acc: 0.982 - ETA: 2:46 - loss: 0.0479 - acc: 0.982 - ETA: 2:45 - loss: 0.0478 - acc: 0.982 - ETA: 2:45 - loss: 0.0480 - acc: 0.982 - ETA: 2:45 - loss: 0.0486 - acc: 0.982 - ETA: 2:44 - loss: 0.0483 - acc: 0.982 - ETA: 2:44 - loss: 0.0487 - acc: 0.981 - ETA: 2:44 - loss: 0.0489 - acc: 0.981 - ETA: 2:44 - loss: 0.0490 - acc: 0.981 - ETA: 2:43 - loss: 0.0494 - acc: 0.981 - ETA: 2:43 - loss: 0.0498 - acc: 0.981 - ETA: 2:43 - loss: 0.0496 - acc: 0.981 - ETA: 2:42 - loss: 0.0496 - acc: 0.981 - ETA: 2:42 - loss: 0.0494 - acc: 0.981 - ETA: 2:42 - loss: 0.0493 - acc: 0.981 - ETA: 2:41 - loss: 0.0493 - acc: 0.981 - ETA: 2:41 - loss: 0.0491 - acc: 0.981 - ETA: 2:41 - loss: 0.0492 - acc: 0.981 - ETA: 2:40 - loss: 0.0494 - acc: 0.981 - ETA: 2:40 - loss: 0.0494 - acc: 0.981 - ETA: 2:40 - loss: 0.0499 - acc: 0.981 - ETA: 2:39 - loss: 0.0497 - acc: 0.981 - ETA: 2:39 - loss: 0.0495 - acc: 0.981 - ETA: 2:38 - loss: 0.0496 - acc: 0.981 - ETA: 2:38 - loss: 0.0492 - acc: 0.981 - ETA: 2:38 - loss: 0.0493 - acc: 0.981 - ETA: 2:38 - loss: 0.0494 - acc: 0.981 - ETA: 2:37 - loss: 0.0493 - acc: 0.981 - ETA: 2:37 - loss: 0.0490 - acc: 0.981 - ETA: 2:37 - loss: 0.0488 - acc: 0.981 - ETA: 2:36 - loss: 0.0489 - acc: 0.981 - ETA: 2:36 - loss: 0.0488 - acc: 0.981 - ETA: 2:35 - loss: 0.0487 - acc: 0.981 - ETA: 2:35 - loss: 0.0489 - acc: 0.981 - ETA: 2:35 - loss: 0.0489 - acc: 0.981 - ETA: 2:34 - loss: 0.0486 - acc: 0.981 - ETA: 2:34 - loss: 0.0483 - acc: 0.981 - ETA: 2:34 - loss: 0.0486 - acc: 0.981 - ETA: 2:33 - loss: 0.0492 - acc: 0.981 - ETA: 2:33 - loss: 0.0491 - acc: 0.981 - ETA: 2:33 - loss: 0.0492 - acc: 0.981 - ETA: 2:32 - loss: 0.0490 - acc: 0.981 - ETA: 2:32 - loss: 0.0486 - acc: 0.981 - ETA: 2:32 - loss: 0.0484 - acc: 0.981 - ETA: 2:31 - loss: 0.0483 - acc: 0.981 - ETA: 2:31 - loss: 0.0485 - acc: 0.981 - ETA: 2:31 - loss: 0.0486 - acc: 0.981 - ETA: 2:30 - loss: 0.0486 - acc: 0.981 - ETA: 2:30 - loss: 0.0489 - acc: 0.981 - ETA: 2:30 - loss: 0.0488 - acc: 0.981 - ETA: 2:29 - loss: 0.0488 - acc: 0.981 - ETA: 2:29 - loss: 0.0486 - acc: 0.981 - ETA: 2:29 - loss: 0.0485 - acc: 0.981 - ETA: 2:28 - loss: 0.0483 - acc: 0.981 - ETA: 2:28 - loss: 0.0483 - acc: 0.981 - ETA: 2:28 - loss: 0.0483 - acc: 0.981 - ETA: 2:27 - loss: 0.0483 - acc: 0.981 - ETA: 2:27 - loss: 0.0484 - acc: 0.981 - ETA: 2:27 - loss: 0.0484 - acc: 0.981 - ETA: 2:26 - loss: 0.0484 - acc: 0.981 - ETA: 2:26 - loss: 0.0485 - acc: 0.981 - ETA: 2:26 - loss: 0.0484 - acc: 0.981 - ETA: 2:25 - loss: 0.0485 - acc: 0.981 - ETA: 2:25 - loss: 0.0483 - acc: 0.981 - ETA: 2:25 - loss: 0.0483 - acc: 0.981 - ETA: 2:24 - loss: 0.0482 - acc: 0.981 - ETA: 2:24 - loss: 0.0480 - acc: 0.981 - ETA: 2:24 - loss: 0.0480 - acc: 0.981 - ETA: 2:23 - loss: 0.0479 - acc: 0.981 - ETA: 2:23 - loss: 0.0476 - acc: 0.981 - ETA: 2:23 - loss: 0.0476 - acc: 0.981 - ETA: 2:22 - loss: 0.0475 - acc: 0.981 - ETA: 2:22 - loss: 0.0474 - acc: 0.982 - ETA: 2:22 - loss: 0.0476 - acc: 0.981 - ETA: 2:21 - loss: 0.0476 - acc: 0.981 - ETA: 2:21 - loss: 0.0474 - acc: 0.981 - ETA: 2:21 - loss: 0.0472 - acc: 0.982 - ETA: 2:20 - loss: 0.0474 - acc: 0.982 - ETA: 2:20 - loss: 0.0474 - acc: 0.981 - ETA: 2:20 - loss: 0.0475 - acc: 0.981 - ETA: 2:19 - loss: 0.0476 - acc: 0.981 - ETA: 2:19 - loss: 0.0477 - acc: 0.981 - ETA: 2:19 - loss: 0.0477 - acc: 0.981 - ETA: 2:18 - loss: 0.0477 - acc: 0.981 - ETA: 2:18 - loss: 0.0475 - acc: 0.981 - ETA: 2:18 - loss: 0.0475 - acc: 0.981 - ETA: 2:17 - loss: 0.0474 - acc: 0.981 - ETA: 2:17 - loss: 0.0474 - acc: 0.981 - ETA: 2:16 - loss: 0.0473 - acc: 0.981 - ETA: 2:16 - loss: 0.0472 - acc: 0.981 - ETA: 2:16 - loss: 0.0472 - acc: 0.981 - ETA: 2:15 - loss: 0.0471 - acc: 0.982 - ETA: 2:15 - loss: 0.0471 - acc: 0.982 - ETA: 2:15 - loss: 0.0472 - acc: 0.981 - ETA: 2:14 - loss: 0.0472 - acc: 0.981 - ETA: 2:14 - loss: 0.0471 - acc: 0.982 - ETA: 2:14 - loss: 0.0470 - acc: 0.982 - ETA: 2:13 - loss: 0.0469 - acc: 0.982 - ETA: 2:13 - loss: 0.0469 - acc: 0.982 - ETA: 2:13 - loss: 0.0469 - acc: 0.982 - ETA: 2:12 - loss: 0.0470 - acc: 0.982 - ETA: 2:12 - loss: 0.0470 - acc: 0.982 - ETA: 2:11 - loss: 0.0469 - acc: 0.982 - ETA: 2:11 - loss: 0.0470 - acc: 0.982 - ETA: 2:11 - loss: 0.0470 - acc: 0.982 - ETA: 2:10 - loss: 0.0470 - acc: 0.982 - ETA: 2:10 - loss: 0.0468 - acc: 0.982 - ETA: 2:10 - loss: 0.0467 - acc: 0.982 - ETA: 2:09 - loss: 0.0466 - acc: 0.982 - ETA: 2:09 - loss: 0.0467 - acc: 0.982 - ETA: 2:09 - loss: 0.0466 - acc: 0.982 - ETA: 2:08 - loss: 0.0466 - acc: 0.982 - ETA: 2:08 - loss: 0.0465 - acc: 0.982 - ETA: 2:08 - loss: 0.0466 - acc: 0.982 - ETA: 2:07 - loss: 0.0466 - acc: 0.982 - ETA: 2:07 - loss: 0.0467 - acc: 0.982 - ETA: 2:07 - loss: 0.0466 - acc: 0.982 - ETA: 2:06 - loss: 0.0465 - acc: 0.982 - ETA: 2:06 - loss: 0.0464 - acc: 0.982 - ETA: 2:05 - loss: 0.0464 - acc: 0.982 - ETA: 2:05 - loss: 0.0464 - acc: 0.982 - ETA: 2:05 - loss: 0.0464 - acc: 0.982 - ETA: 2:04 - loss: 0.0465 - acc: 0.982 - ETA: 2:04 - loss: 0.0465 - acc: 0.982 - ETA: 2:04 - loss: 0.0465 - acc: 0.982 - ETA: 2:03 - loss: 0.0465 - acc: 0.982 - ETA: 2:03 - loss: 0.0464 - acc: 0.982 - ETA: 2:02 - loss: 0.0464 - acc: 0.982 - ETA: 2:02 - loss: 0.0465 - acc: 0.982 - ETA: 2:02 - loss: 0.0466 - acc: 0.982 - ETA: 2:01 - loss: 0.0467 - acc: 0.982 - ETA: 2:01 - loss: 0.0468 - acc: 0.982 - ETA: 2:00 - loss: 0.0468 - acc: 0.982 - ETA: 2:00 - loss: 0.0468 - acc: 0.982 - ETA: 2:00 - loss: 0.0468 - acc: 0.982 - ETA: 1:59 - loss: 0.0470 - acc: 0.982 - ETA: 1:59 - loss: 0.0471 - acc: 0.982 - ETA: 1:59 - loss: 0.0469 - acc: 0.982 - ETA: 1:58 - loss: 0.0470 - acc: 0.982 - ETA: 1:58 - loss: 0.0469 - acc: 0.982 - ETA: 1:58 - loss: 0.0468 - acc: 0.982 - ETA: 1:57 - loss: 0.0469 - acc: 0.982 - ETA: 1:57 - loss: 0.0468 - acc: 0.982 - ETA: 1:56 - loss: 0.0468 - acc: 0.982 - ETA: 1:56 - loss: 0.0468 - acc: 0.982 - ETA: 1:56 - loss: 0.0467 - acc: 0.982 - ETA: 1:55 - loss: 0.0468 - acc: 0.982 - ETA: 1:55 - loss: 0.0469 - acc: 0.982 - ETA: 1:55 - loss: 0.0469 - acc: 0.982 - ETA: 1:54 - loss: 0.0470 - acc: 0.982 - ETA: 1:54 - loss: 0.0469 - acc: 0.982 - ETA: 1:54 - loss: 0.0469 - acc: 0.982 - ETA: 1:53 - loss: 0.0469 - acc: 0.982 - ETA: 1:53 - loss: 0.0470 - acc: 0.982 - ETA: 1:53 - loss: 0.0470 - acc: 0.982 - ETA: 1:52 - loss: 0.0469 - acc: 0.982 - ETA: 1:52 - loss: 0.0468 - acc: 0.982 - ETA: 1:52 - loss: 0.0467 - acc: 0.982 - ETA: 1:51 - loss: 0.0467 - acc: 0.982 - ETA: 1:51 - loss: 0.0467 - acc: 0.982 - ETA: 1:51 - loss: 0.0466 - acc: 0.982 - ETA: 1:50 - loss: 0.0466 - acc: 0.982 - ETA: 1:50 - loss: 0.0466 - acc: 0.982 - ETA: 1:50 - loss: 0.0467 - acc: 0.982 - ETA: 1:49 - loss: 0.0467 - acc: 0.982 - ETA: 1:49 - loss: 0.0467 - acc: 0.982 - ETA: 1:49 - loss: 0.0467 - acc: 0.982 - ETA: 1:48 - loss: 0.0467 - acc: 0.982 - ETA: 1:48 - loss: 0.0466 - acc: 0.982 - ETA: 1:47 - loss: 0.0466 - acc: 0.982 - ETA: 1:47 - loss: 0.0466 - acc: 0.982 - ETA: 1:47 - loss: 0.0466 - acc: 0.982 - ETA: 1:46 - loss: 0.0466 - acc: 0.982 - ETA: 1:46 - loss: 0.0467 - acc: 0.982 - ETA: 1:46 - loss: 0.0466 - acc: 0.982 - ETA: 1:45 - loss: 0.0465 - acc: 0.982 - ETA: 1:45 - loss: 0.0465 - acc: 0.982 - ETA: 1:44 - loss: 0.0465 - acc: 0.982 - ETA: 1:44 - loss: 0.0465 - acc: 0.982 - ETA: 1:44 - loss: 0.0466 - acc: 0.982 - ETA: 1:43 - loss: 0.0466 - acc: 0.982 - ETA: 1:43 - loss: 0.0466 - acc: 0.982 - ETA: 1:43 - loss: 0.0467 - acc: 0.982 - ETA: 1:42 - loss: 0.0466 - acc: 0.982 - ETA: 1:42 - loss: 0.0466 - acc: 0.9822105472/129251 [=======================>......] - ETA: 1:42 - loss: 0.0466 - acc: 0.982 - ETA: 1:41 - loss: 0.0467 - acc: 0.982 - ETA: 1:41 - loss: 0.0467 - acc: 0.982 - ETA: 1:41 - loss: 0.0467 - acc: 0.982 - ETA: 1:40 - loss: 0.0466 - acc: 0.982 - ETA: 1:40 - loss: 0.0466 - acc: 0.982 - ETA: 1:40 - loss: 0.0466 - acc: 0.982 - ETA: 1:39 - loss: 0.0467 - acc: 0.982 - ETA: 1:39 - loss: 0.0466 - acc: 0.982 - ETA: 1:39 - loss: 0.0466 - acc: 0.982 - ETA: 1:38 - loss: 0.0466 - acc: 0.982 - ETA: 1:38 - loss: 0.0466 - acc: 0.982 - ETA: 1:38 - loss: 0.0467 - acc: 0.982 - ETA: 1:37 - loss: 0.0467 - acc: 0.982 - ETA: 1:37 - loss: 0.0467 - acc: 0.982 - ETA: 1:37 - loss: 0.0467 - acc: 0.982 - ETA: 1:36 - loss: 0.0468 - acc: 0.982 - ETA: 1:36 - loss: 0.0467 - acc: 0.982 - ETA: 1:35 - loss: 0.0467 - acc: 0.982 - ETA: 1:35 - loss: 0.0467 - acc: 0.982 - ETA: 1:35 - loss: 0.0468 - acc: 0.982 - ETA: 1:34 - loss: 0.0468 - acc: 0.982 - ETA: 1:34 - loss: 0.0468 - acc: 0.982 - ETA: 1:34 - loss: 0.0468 - acc: 0.982 - ETA: 1:33 - loss: 0.0468 - acc: 0.982 - ETA: 1:33 - loss: 0.0468 - acc: 0.982 - ETA: 1:33 - loss: 0.0468 - acc: 0.982 - ETA: 1:32 - loss: 0.0467 - acc: 0.982 - ETA: 1:32 - loss: 0.0467 - acc: 0.982 - ETA: 1:32 - loss: 0.0467 - acc: 0.982 - ETA: 1:31 - loss: 0.0467 - acc: 0.982 - ETA: 1:31 - loss: 0.0466 - acc: 0.982 - ETA: 1:31 - loss: 0.0467 - acc: 0.982 - ETA: 1:30 - loss: 0.0467 - acc: 0.982 - ETA: 1:30 - loss: 0.0466 - acc: 0.982 - ETA: 1:29 - loss: 0.0467 - acc: 0.982 - ETA: 1:29 - loss: 0.0466 - acc: 0.982 - ETA: 1:29 - loss: 0.0466 - acc: 0.982 - ETA: 1:28 - loss: 0.0466 - acc: 0.982 - ETA: 1:28 - loss: 0.0466 - acc: 0.982 - ETA: 1:28 - loss: 0.0466 - acc: 0.982 - ETA: 1:27 - loss: 0.0466 - acc: 0.982 - ETA: 1:27 - loss: 0.0466 - acc: 0.982 - ETA: 1:27 - loss: 0.0465 - acc: 0.982 - ETA: 1:26 - loss: 0.0465 - acc: 0.982 - ETA: 1:26 - loss: 0.0464 - acc: 0.982 - ETA: 1:26 - loss: 0.0464 - acc: 0.982 - ETA: 1:25 - loss: 0.0464 - acc: 0.982 - ETA: 1:25 - loss: 0.0464 - acc: 0.982 - ETA: 1:25 - loss: 0.0464 - acc: 0.982 - ETA: 1:24 - loss: 0.0464 - acc: 0.982 - ETA: 1:24 - loss: 0.0464 - acc: 0.982 - ETA: 1:24 - loss: 0.0463 - acc: 0.982 - ETA: 1:23 - loss: 0.0463 - acc: 0.982 - ETA: 1:23 - loss: 0.0463 - acc: 0.982 - ETA: 1:23 - loss: 0.0463 - acc: 0.982 - ETA: 1:22 - loss: 0.0463 - acc: 0.982 - ETA: 1:22 - loss: 0.0463 - acc: 0.982 - ETA: 1:22 - loss: 0.0463 - acc: 0.982 - ETA: 1:21 - loss: 0.0463 - acc: 0.982 - ETA: 1:21 - loss: 0.0462 - acc: 0.982 - ETA: 1:21 - loss: 0.0462 - acc: 0.982 - ETA: 1:20 - loss: 0.0461 - acc: 0.982 - ETA: 1:20 - loss: 0.0461 - acc: 0.982 - ETA: 1:20 - loss: 0.0461 - acc: 0.982 - ETA: 1:19 - loss: 0.0460 - acc: 0.982 - ETA: 1:19 - loss: 0.0460 - acc: 0.982 - ETA: 1:19 - loss: 0.0460 - acc: 0.982 - ETA: 1:18 - loss: 0.0461 - acc: 0.982 - ETA: 1:18 - loss: 0.0460 - acc: 0.982 - ETA: 1:18 - loss: 0.0461 - acc: 0.982 - ETA: 1:17 - loss: 0.0461 - acc: 0.982 - ETA: 1:17 - loss: 0.0461 - acc: 0.982 - ETA: 1:17 - loss: 0.0461 - acc: 0.982 - ETA: 1:16 - loss: 0.0461 - acc: 0.982 - ETA: 1:16 - loss: 0.0461 - acc: 0.982 - ETA: 1:16 - loss: 0.0461 - acc: 0.982 - ETA: 1:15 - loss: 0.0460 - acc: 0.982 - ETA: 1:15 - loss: 0.0460 - acc: 0.982 - ETA: 1:15 - loss: 0.0461 - acc: 0.982 - ETA: 1:14 - loss: 0.0460 - acc: 0.982 - ETA: 1:14 - loss: 0.0459 - acc: 0.982 - ETA: 1:14 - loss: 0.0461 - acc: 0.982 - ETA: 1:13 - loss: 0.0461 - acc: 0.982 - ETA: 1:13 - loss: 0.0460 - acc: 0.982 - ETA: 1:13 - loss: 0.0461 - acc: 0.982 - ETA: 1:12 - loss: 0.0461 - acc: 0.982 - ETA: 1:12 - loss: 0.0461 - acc: 0.982 - ETA: 1:12 - loss: 0.0461 - acc: 0.982 - ETA: 1:11 - loss: 0.0461 - acc: 0.982 - ETA: 1:11 - loss: 0.0462 - acc: 0.982 - ETA: 1:11 - loss: 0.0462 - acc: 0.982 - ETA: 1:10 - loss: 0.0462 - acc: 0.982 - ETA: 1:10 - loss: 0.0462 - acc: 0.982 - ETA: 1:10 - loss: 0.0461 - acc: 0.982 - ETA: 1:09 - loss: 0.0461 - acc: 0.982 - ETA: 1:09 - loss: 0.0461 - acc: 0.982 - ETA: 1:09 - loss: 0.0460 - acc: 0.982 - ETA: 1:08 - loss: 0.0460 - acc: 0.982 - ETA: 1:08 - loss: 0.0459 - acc: 0.982 - ETA: 1:08 - loss: 0.0459 - acc: 0.982 - ETA: 1:07 - loss: 0.0459 - acc: 0.982 - ETA: 1:07 - loss: 0.0460 - acc: 0.982 - ETA: 1:07 - loss: 0.0459 - acc: 0.982 - ETA: 1:06 - loss: 0.0459 - acc: 0.982 - ETA: 1:06 - loss: 0.0459 - acc: 0.982 - ETA: 1:06 - loss: 0.0459 - acc: 0.982 - ETA: 1:05 - loss: 0.0458 - acc: 0.982 - ETA: 1:05 - loss: 0.0458 - acc: 0.982 - ETA: 1:05 - loss: 0.0458 - acc: 0.982 - ETA: 1:04 - loss: 0.0458 - acc: 0.982 - ETA: 1:04 - loss: 0.0458 - acc: 0.982 - ETA: 1:04 - loss: 0.0457 - acc: 0.982 - ETA: 1:03 - loss: 0.0457 - acc: 0.982 - ETA: 1:03 - loss: 0.0457 - acc: 0.982 - ETA: 1:03 - loss: 0.0457 - acc: 0.982 - ETA: 1:02 - loss: 0.0457 - acc: 0.982 - ETA: 1:02 - loss: 0.0456 - acc: 0.982 - ETA: 1:02 - loss: 0.0457 - acc: 0.982 - ETA: 1:01 - loss: 0.0457 - acc: 0.982 - ETA: 1:01 - loss: 0.0457 - acc: 0.982 - ETA: 1:00 - loss: 0.0457 - acc: 0.982 - ETA: 1:00 - loss: 0.0457 - acc: 0.982 - ETA: 1:00 - loss: 0.0457 - acc: 0.982 - ETA: 59s - loss: 0.0456 - acc: 0.982 - ETA: 59s - loss: 0.0457 - acc: 0.98 - ETA: 59s - loss: 0.0456 - acc: 0.98 - ETA: 58s - loss: 0.0456 - acc: 0.98 - ETA: 58s - loss: 0.0456 - acc: 0.98 - ETA: 58s - loss: 0.0456 - acc: 0.98 - ETA: 57s - loss: 0.0456 - acc: 0.98 - ETA: 57s - loss: 0.0456 - acc: 0.98 - ETA: 57s - loss: 0.0456 - acc: 0.98 - ETA: 56s - loss: 0.0456 - acc: 0.98 - ETA: 56s - loss: 0.0456 - acc: 0.98 - ETA: 56s - loss: 0.0456 - acc: 0.98 - ETA: 55s - loss: 0.0456 - acc: 0.98 - ETA: 55s - loss: 0.0456 - acc: 0.98 - ETA: 55s - loss: 0.0456 - acc: 0.98 - ETA: 54s - loss: 0.0456 - acc: 0.98 - ETA: 54s - loss: 0.0456 - acc: 0.98 - ETA: 54s - loss: 0.0456 - acc: 0.98 - ETA: 53s - loss: 0.0456 - acc: 0.98 - ETA: 53s - loss: 0.0456 - acc: 0.98 - ETA: 53s - loss: 0.0456 - acc: 0.98 - ETA: 52s - loss: 0.0456 - acc: 0.98 - ETA: 52s - loss: 0.0456 - acc: 0.98 - ETA: 52s - loss: 0.0455 - acc: 0.98 - ETA: 51s - loss: 0.0455 - acc: 0.98 - ETA: 51s - loss: 0.0455 - acc: 0.98 - ETA: 51s - loss: 0.0455 - acc: 0.98 - ETA: 50s - loss: 0.0455 - acc: 0.98 - ETA: 50s - loss: 0.0456 - acc: 0.98 - ETA: 50s - loss: 0.0456 - acc: 0.98 - ETA: 49s - loss: 0.0455 - acc: 0.98 - ETA: 49s - loss: 0.0455 - acc: 0.98 - ETA: 49s - loss: 0.0455 - acc: 0.98 - ETA: 48s - loss: 0.0455 - acc: 0.98 - ETA: 48s - loss: 0.0455 - acc: 0.98 - ETA: 48s - loss: 0.0454 - acc: 0.98 - ETA: 47s - loss: 0.0454 - acc: 0.98 - ETA: 47s - loss: 0.0454 - acc: 0.98 - ETA: 47s - loss: 0.0454 - acc: 0.98 - ETA: 46s - loss: 0.0454 - acc: 0.98 - ETA: 46s - loss: 0.0454 - acc: 0.98 - ETA: 46s - loss: 0.0454 - acc: 0.98 - ETA: 45s - loss: 0.0454 - acc: 0.98 - ETA: 45s - loss: 0.0453 - acc: 0.98 - ETA: 45s - loss: 0.0453 - acc: 0.98 - ETA: 44s - loss: 0.0454 - acc: 0.98 - ETA: 44s - loss: 0.0454 - acc: 0.98 - ETA: 44s - loss: 0.0454 - acc: 0.98 - ETA: 43s - loss: 0.0454 - acc: 0.98 - ETA: 43s - loss: 0.0454 - acc: 0.98 - ETA: 43s - loss: 0.0454 - acc: 0.98 - ETA: 42s - loss: 0.0454 - acc: 0.98 - ETA: 42s - loss: 0.0454 - acc: 0.98 - ETA: 42s - loss: 0.0454 - acc: 0.98 - ETA: 41s - loss: 0.0454 - acc: 0.98 - ETA: 41s - loss: 0.0454 - acc: 0.98 - ETA: 41s - loss: 0.0453 - acc: 0.98 - ETA: 40s - loss: 0.0453 - acc: 0.98 - ETA: 40s - loss: 0.0453 - acc: 0.98 - ETA: 39s - loss: 0.0453 - acc: 0.98 - ETA: 39s - loss: 0.0453 - acc: 0.98 - ETA: 39s - loss: 0.0452 - acc: 0.98 - ETA: 38s - loss: 0.0452 - acc: 0.98 - ETA: 38s - loss: 0.0452 - acc: 0.98 - ETA: 38s - loss: 0.0452 - acc: 0.98 - ETA: 37s - loss: 0.0453 - acc: 0.98 - ETA: 37s - loss: 0.0453 - acc: 0.98 - ETA: 37s - loss: 0.0453 - acc: 0.98 - ETA: 36s - loss: 0.0453 - acc: 0.98 - ETA: 36s - loss: 0.0453 - acc: 0.98 - ETA: 36s - loss: 0.0453 - acc: 0.98 - ETA: 35s - loss: 0.0452 - acc: 0.98 - ETA: 35s - loss: 0.0452 - acc: 0.98 - ETA: 35s - loss: 0.0452 - acc: 0.98 - ETA: 34s - loss: 0.0452 - acc: 0.98 - ETA: 34s - loss: 0.0452 - acc: 0.98 - ETA: 34s - loss: 0.0453 - acc: 0.98 - ETA: 33s - loss: 0.0452 - acc: 0.98 - ETA: 33s - loss: 0.0453 - acc: 0.98 - ETA: 33s - loss: 0.0453 - acc: 0.98 - ETA: 32s - loss: 0.0452 - acc: 0.98 - ETA: 32s - loss: 0.0452 - acc: 0.98 - ETA: 32s - loss: 0.0452 - acc: 0.98 - ETA: 31s - loss: 0.0452 - acc: 0.9825129251/129251 [==============================] - ETA: 31s - loss: 0.0452 - acc: 0.98 - ETA: 31s - loss: 0.0452 - acc: 0.98 - ETA: 30s - loss: 0.0452 - acc: 0.98 - ETA: 30s - loss: 0.0452 - acc: 0.98 - ETA: 30s - loss: 0.0452 - acc: 0.98 - ETA: 29s - loss: 0.0452 - acc: 0.98 - ETA: 29s - loss: 0.0453 - acc: 0.98 - ETA: 29s - loss: 0.0452 - acc: 0.98 - ETA: 28s - loss: 0.0453 - acc: 0.98 - ETA: 28s - loss: 0.0452 - acc: 0.98 - ETA: 28s - loss: 0.0453 - acc: 0.98 - ETA: 27s - loss: 0.0453 - acc: 0.98 - ETA: 27s - loss: 0.0453 - acc: 0.98 - ETA: 27s - loss: 0.0453 - acc: 0.98 - ETA: 26s - loss: 0.0453 - acc: 0.98 - ETA: 26s - loss: 0.0453 - acc: 0.98 - ETA: 26s - loss: 0.0453 - acc: 0.98 - ETA: 25s - loss: 0.0453 - acc: 0.98 - ETA: 25s - loss: 0.0453 - acc: 0.98 - ETA: 24s - loss: 0.0453 - acc: 0.98 - ETA: 24s - loss: 0.0453 - acc: 0.98 - ETA: 24s - loss: 0.0453 - acc: 0.98 - ETA: 23s - loss: 0.0453 - acc: 0.98 - ETA: 23s - loss: 0.0453 - acc: 0.98 - ETA: 23s - loss: 0.0453 - acc: 0.98 - ETA: 22s - loss: 0.0453 - acc: 0.98 - ETA: 22s - loss: 0.0453 - acc: 0.98 - ETA: 22s - loss: 0.0453 - acc: 0.98 - ETA: 21s - loss: 0.0453 - acc: 0.98 - ETA: 21s - loss: 0.0453 - acc: 0.98 - ETA: 21s - loss: 0.0452 - acc: 0.98 - ETA: 20s - loss: 0.0453 - acc: 0.98 - ETA: 20s - loss: 0.0453 - acc: 0.98 - ETA: 20s - loss: 0.0453 - acc: 0.98 - ETA: 19s - loss: 0.0453 - acc: 0.98 - ETA: 19s - loss: 0.0453 - acc: 0.98 - ETA: 19s - loss: 0.0453 - acc: 0.98 - ETA: 18s - loss: 0.0453 - acc: 0.98 - ETA: 18s - loss: 0.0453 - acc: 0.98 - ETA: 18s - loss: 0.0453 - acc: 0.98 - ETA: 17s - loss: 0.0453 - acc: 0.98 - ETA: 17s - loss: 0.0453 - acc: 0.98 - ETA: 17s - loss: 0.0453 - acc: 0.98 - ETA: 16s - loss: 0.0453 - acc: 0.98 - ETA: 16s - loss: 0.0453 - acc: 0.98 - ETA: 16s - loss: 0.0453 - acc: 0.98 - ETA: 15s - loss: 0.0453 - acc: 0.98 - ETA: 15s - loss: 0.0452 - acc: 0.98 - ETA: 15s - loss: 0.0452 - acc: 0.98 - ETA: 14s - loss: 0.0452 - acc: 0.98 - ETA: 14s - loss: 0.0452 - acc: 0.98 - ETA: 14s - loss: 0.0452 - acc: 0.98 - ETA: 13s - loss: 0.0452 - acc: 0.98 - ETA: 13s - loss: 0.0452 - acc: 0.98 - ETA: 12s - loss: 0.0452 - acc: 0.98 - ETA: 12s - loss: 0.0452 - acc: 0.98 - ETA: 12s - loss: 0.0452 - acc: 0.98 - ETA: 11s - loss: 0.0453 - acc: 0.98 - ETA: 11s - loss: 0.0453 - acc: 0.98 - ETA: 11s - loss: 0.0453 - acc: 0.98 - ETA: 10s - loss: 0.0452 - acc: 0.98 - ETA: 10s - loss: 0.0452 - acc: 0.98 - ETA: 10s - loss: 0.0452 - acc: 0.98 - ETA: 9s - loss: 0.0452 - acc: 0.9826 - ETA: 9s - loss: 0.0453 - acc: 0.982 - ETA: 9s - loss: 0.0453 - acc: 0.982 - ETA: 8s - loss: 0.0453 - acc: 0.982 - ETA: 8s - loss: 0.0453 - acc: 0.982 - ETA: 8s - loss: 0.0453 - acc: 0.982 - ETA: 7s - loss: 0.0453 - acc: 0.982 - ETA: 7s - loss: 0.0453 - acc: 0.982 - ETA: 7s - loss: 0.0453 - acc: 0.982 - ETA: 6s - loss: 0.0453 - acc: 0.982 - ETA: 6s - loss: 0.0453 - acc: 0.982 - ETA: 6s - loss: 0.0453 - acc: 0.982 - ETA: 5s - loss: 0.0453 - acc: 0.982 - ETA: 5s - loss: 0.0453 - acc: 0.982 - ETA: 5s - loss: 0.0452 - acc: 0.982 - ETA: 4s - loss: 0.0453 - acc: 0.982 - ETA: 4s - loss: 0.0453 - acc: 0.982 - ETA: 4s - loss: 0.0452 - acc: 0.982 - ETA: 3s - loss: 0.0452 - acc: 0.982 - ETA: 3s - loss: 0.0452 - acc: 0.982 - ETA: 3s - loss: 0.0452 - acc: 0.982 - ETA: 2s - loss: 0.0452 - acc: 0.982 - ETA: 2s - loss: 0.0452 - acc: 0.982 - ETA: 2s - loss: 0.0452 - acc: 0.982 - ETA: 1s - loss: 0.0452 - acc: 0.982 - ETA: 1s - loss: 0.0452 - acc: 0.982 - ETA: 0s - loss: 0.0452 - acc: 0.982 - ETA: 0s - loss: 0.0452 - acc: 0.982 - ETA: 0s - loss: 0.0452 - acc: 0.982 - 180s 1ms/step - loss: 0.0451 - acc: 0.9826 - val_loss: 0.0475 - val_acc: 0.9817\n",
      "\n",
      " ROC-AUC - epoch: 3 - score: 0.981485 \n",
      "\n",
      "Epoch 4/10\n"
     ]
    },
    {
     "name": "stdout",
     "output_type": "stream",
     "text": [
      " 52224/129251 [===========>..................] - ETA: 2:52 - loss: 0.0424 - acc: 0.979 - ETA: 2:50 - loss: 0.0438 - acc: 0.979 - ETA: 2:51 - loss: 0.0423 - acc: 0.980 - ETA: 2:52 - loss: 0.0384 - acc: 0.982 - ETA: 2:52 - loss: 0.0392 - acc: 0.982 - ETA: 2:51 - loss: 0.0407 - acc: 0.981 - ETA: 2:51 - loss: 0.0425 - acc: 0.982 - ETA: 2:50 - loss: 0.0427 - acc: 0.982 - ETA: 2:52 - loss: 0.0430 - acc: 0.982 - ETA: 2:52 - loss: 0.0432 - acc: 0.982 - ETA: 2:52 - loss: 0.0436 - acc: 0.982 - ETA: 2:51 - loss: 0.0437 - acc: 0.982 - ETA: 2:50 - loss: 0.0430 - acc: 0.982 - ETA: 2:50 - loss: 0.0428 - acc: 0.983 - ETA: 2:49 - loss: 0.0422 - acc: 0.983 - ETA: 2:49 - loss: 0.0417 - acc: 0.983 - ETA: 2:49 - loss: 0.0417 - acc: 0.983 - ETA: 2:48 - loss: 0.0426 - acc: 0.982 - ETA: 2:47 - loss: 0.0424 - acc: 0.982 - ETA: 2:47 - loss: 0.0427 - acc: 0.982 - ETA: 2:47 - loss: 0.0431 - acc: 0.982 - ETA: 2:46 - loss: 0.0432 - acc: 0.982 - ETA: 2:46 - loss: 0.0432 - acc: 0.982 - ETA: 2:46 - loss: 0.0433 - acc: 0.982 - ETA: 2:46 - loss: 0.0437 - acc: 0.982 - ETA: 2:45 - loss: 0.0436 - acc: 0.982 - ETA: 2:45 - loss: 0.0433 - acc: 0.983 - ETA: 2:44 - loss: 0.0437 - acc: 0.982 - ETA: 2:44 - loss: 0.0436 - acc: 0.982 - ETA: 2:44 - loss: 0.0442 - acc: 0.982 - ETA: 2:43 - loss: 0.0440 - acc: 0.982 - ETA: 2:43 - loss: 0.0440 - acc: 0.982 - ETA: 2:42 - loss: 0.0442 - acc: 0.982 - ETA: 2:42 - loss: 0.0440 - acc: 0.982 - ETA: 2:42 - loss: 0.0441 - acc: 0.982 - ETA: 2:41 - loss: 0.0439 - acc: 0.982 - ETA: 2:41 - loss: 0.0437 - acc: 0.983 - ETA: 2:41 - loss: 0.0435 - acc: 0.983 - ETA: 2:40 - loss: 0.0435 - acc: 0.983 - ETA: 2:40 - loss: 0.0438 - acc: 0.983 - ETA: 2:40 - loss: 0.0439 - acc: 0.982 - ETA: 2:39 - loss: 0.0437 - acc: 0.983 - ETA: 2:39 - loss: 0.0439 - acc: 0.983 - ETA: 2:39 - loss: 0.0437 - acc: 0.983 - ETA: 2:38 - loss: 0.0436 - acc: 0.983 - ETA: 2:38 - loss: 0.0439 - acc: 0.983 - ETA: 2:38 - loss: 0.0436 - acc: 0.983 - ETA: 2:37 - loss: 0.0433 - acc: 0.983 - ETA: 2:37 - loss: 0.0432 - acc: 0.983 - ETA: 2:37 - loss: 0.0433 - acc: 0.983 - ETA: 2:36 - loss: 0.0437 - acc: 0.983 - ETA: 2:36 - loss: 0.0436 - acc: 0.983 - ETA: 2:36 - loss: 0.0435 - acc: 0.983 - ETA: 2:35 - loss: 0.0434 - acc: 0.983 - ETA: 2:35 - loss: 0.0434 - acc: 0.983 - ETA: 2:35 - loss: 0.0431 - acc: 0.983 - ETA: 2:34 - loss: 0.0433 - acc: 0.983 - ETA: 2:34 - loss: 0.0437 - acc: 0.983 - ETA: 2:34 - loss: 0.0436 - acc: 0.983 - ETA: 2:33 - loss: 0.0434 - acc: 0.983 - ETA: 2:33 - loss: 0.0434 - acc: 0.983 - ETA: 2:32 - loss: 0.0434 - acc: 0.983 - ETA: 2:32 - loss: 0.0435 - acc: 0.983 - ETA: 2:32 - loss: 0.0435 - acc: 0.983 - ETA: 2:31 - loss: 0.0433 - acc: 0.983 - ETA: 2:31 - loss: 0.0436 - acc: 0.983 - ETA: 2:31 - loss: 0.0437 - acc: 0.983 - ETA: 2:30 - loss: 0.0439 - acc: 0.983 - ETA: 2:30 - loss: 0.0439 - acc: 0.983 - ETA: 2:30 - loss: 0.0441 - acc: 0.983 - ETA: 2:29 - loss: 0.0441 - acc: 0.983 - ETA: 2:29 - loss: 0.0442 - acc: 0.983 - ETA: 2:28 - loss: 0.0443 - acc: 0.983 - ETA: 2:28 - loss: 0.0446 - acc: 0.982 - ETA: 2:28 - loss: 0.0447 - acc: 0.982 - ETA: 2:28 - loss: 0.0448 - acc: 0.982 - ETA: 2:27 - loss: 0.0448 - acc: 0.982 - ETA: 2:27 - loss: 0.0447 - acc: 0.982 - ETA: 2:26 - loss: 0.0447 - acc: 0.982 - ETA: 2:26 - loss: 0.0446 - acc: 0.982 - ETA: 2:26 - loss: 0.0447 - acc: 0.983 - ETA: 2:25 - loss: 0.0446 - acc: 0.983 - ETA: 2:25 - loss: 0.0446 - acc: 0.983 - ETA: 2:25 - loss: 0.0446 - acc: 0.983 - ETA: 2:24 - loss: 0.0448 - acc: 0.982 - ETA: 2:24 - loss: 0.0447 - acc: 0.983 - ETA: 2:24 - loss: 0.0447 - acc: 0.982 - ETA: 2:23 - loss: 0.0448 - acc: 0.982 - ETA: 2:23 - loss: 0.0447 - acc: 0.982 - ETA: 2:23 - loss: 0.0446 - acc: 0.982 - ETA: 2:22 - loss: 0.0448 - acc: 0.982 - ETA: 2:22 - loss: 0.0448 - acc: 0.982 - ETA: 2:21 - loss: 0.0450 - acc: 0.982 - ETA: 2:21 - loss: 0.0450 - acc: 0.982 - ETA: 2:21 - loss: 0.0449 - acc: 0.982 - ETA: 2:20 - loss: 0.0447 - acc: 0.982 - ETA: 2:20 - loss: 0.0447 - acc: 0.983 - ETA: 2:20 - loss: 0.0447 - acc: 0.982 - ETA: 2:19 - loss: 0.0446 - acc: 0.983 - ETA: 2:19 - loss: 0.0447 - acc: 0.982 - ETA: 2:18 - loss: 0.0448 - acc: 0.982 - ETA: 2:18 - loss: 0.0446 - acc: 0.983 - ETA: 2:18 - loss: 0.0446 - acc: 0.983 - ETA: 2:17 - loss: 0.0447 - acc: 0.983 - ETA: 2:17 - loss: 0.0447 - acc: 0.983 - ETA: 2:17 - loss: 0.0448 - acc: 0.982 - ETA: 2:16 - loss: 0.0448 - acc: 0.982 - ETA: 2:16 - loss: 0.0448 - acc: 0.982 - ETA: 2:16 - loss: 0.0449 - acc: 0.982 - ETA: 2:15 - loss: 0.0448 - acc: 0.983 - ETA: 2:15 - loss: 0.0448 - acc: 0.982 - ETA: 2:15 - loss: 0.0450 - acc: 0.982 - ETA: 2:14 - loss: 0.0450 - acc: 0.982 - ETA: 2:14 - loss: 0.0449 - acc: 0.982 - ETA: 2:14 - loss: 0.0448 - acc: 0.982 - ETA: 2:13 - loss: 0.0448 - acc: 0.982 - ETA: 2:13 - loss: 0.0447 - acc: 0.982 - ETA: 2:13 - loss: 0.0447 - acc: 0.982 - ETA: 2:12 - loss: 0.0446 - acc: 0.982 - ETA: 2:12 - loss: 0.0445 - acc: 0.983 - ETA: 2:12 - loss: 0.0446 - acc: 0.982 - ETA: 2:11 - loss: 0.0446 - acc: 0.982 - ETA: 2:11 - loss: 0.0446 - acc: 0.983 - ETA: 2:11 - loss: 0.0446 - acc: 0.982 - ETA: 2:10 - loss: 0.0445 - acc: 0.983 - ETA: 2:10 - loss: 0.0444 - acc: 0.983 - ETA: 2:10 - loss: 0.0443 - acc: 0.983 - ETA: 2:09 - loss: 0.0442 - acc: 0.983 - ETA: 2:09 - loss: 0.0441 - acc: 0.983 - ETA: 2:09 - loss: 0.0440 - acc: 0.983 - ETA: 2:08 - loss: 0.0440 - acc: 0.983 - ETA: 2:08 - loss: 0.0439 - acc: 0.983 - ETA: 2:07 - loss: 0.0439 - acc: 0.983 - ETA: 2:07 - loss: 0.0439 - acc: 0.983 - ETA: 2:07 - loss: 0.0439 - acc: 0.983 - ETA: 2:06 - loss: 0.0439 - acc: 0.983 - ETA: 2:06 - loss: 0.0439 - acc: 0.983 - ETA: 2:06 - loss: 0.0439 - acc: 0.983 - ETA: 2:05 - loss: 0.0439 - acc: 0.983 - ETA: 2:05 - loss: 0.0439 - acc: 0.983 - ETA: 2:05 - loss: 0.0438 - acc: 0.983 - ETA: 2:04 - loss: 0.0438 - acc: 0.983 - ETA: 2:04 - loss: 0.0439 - acc: 0.983 - ETA: 2:04 - loss: 0.0438 - acc: 0.983 - ETA: 2:03 - loss: 0.0438 - acc: 0.983 - ETA: 2:03 - loss: 0.0437 - acc: 0.983 - ETA: 2:03 - loss: 0.0437 - acc: 0.983 - ETA: 2:02 - loss: 0.0437 - acc: 0.983 - ETA: 2:02 - loss: 0.0437 - acc: 0.983 - ETA: 2:02 - loss: 0.0437 - acc: 0.983 - ETA: 2:01 - loss: 0.0437 - acc: 0.983 - ETA: 2:01 - loss: 0.0438 - acc: 0.983 - ETA: 2:01 - loss: 0.0438 - acc: 0.983 - ETA: 2:00 - loss: 0.0437 - acc: 0.983 - ETA: 2:00 - loss: 0.0436 - acc: 0.983 - ETA: 2:00 - loss: 0.0436 - acc: 0.983 - ETA: 1:59 - loss: 0.0436 - acc: 0.983 - ETA: 1:59 - loss: 0.0436 - acc: 0.983 - ETA: 1:59 - loss: 0.0436 - acc: 0.983 - ETA: 1:58 - loss: 0.0437 - acc: 0.983 - ETA: 1:58 - loss: 0.0436 - acc: 0.983 - ETA: 1:58 - loss: 0.0435 - acc: 0.983 - ETA: 1:57 - loss: 0.0435 - acc: 0.983 - ETA: 1:57 - loss: 0.0435 - acc: 0.983 - ETA: 1:57 - loss: 0.0434 - acc: 0.983 - ETA: 1:56 - loss: 0.0434 - acc: 0.983 - ETA: 1:56 - loss: 0.0433 - acc: 0.983 - ETA: 1:56 - loss: 0.0433 - acc: 0.983 - ETA: 1:55 - loss: 0.0434 - acc: 0.983 - ETA: 1:55 - loss: 0.0434 - acc: 0.983 - ETA: 1:55 - loss: 0.0434 - acc: 0.983 - ETA: 1:54 - loss: 0.0434 - acc: 0.983 - ETA: 1:54 - loss: 0.0434 - acc: 0.983 - ETA: 1:54 - loss: 0.0434 - acc: 0.983 - ETA: 1:53 - loss: 0.0434 - acc: 0.983 - ETA: 1:53 - loss: 0.0435 - acc: 0.983 - ETA: 1:52 - loss: 0.0435 - acc: 0.983 - ETA: 1:52 - loss: 0.0435 - acc: 0.983 - ETA: 1:52 - loss: 0.0435 - acc: 0.983 - ETA: 1:51 - loss: 0.0435 - acc: 0.983 - ETA: 1:51 - loss: 0.0434 - acc: 0.983 - ETA: 1:51 - loss: 0.0434 - acc: 0.983 - ETA: 1:50 - loss: 0.0434 - acc: 0.983 - ETA: 1:50 - loss: 0.0434 - acc: 0.983 - ETA: 1:50 - loss: 0.0434 - acc: 0.983 - ETA: 1:49 - loss: 0.0433 - acc: 0.983 - ETA: 1:49 - loss: 0.0433 - acc: 0.983 - ETA: 1:49 - loss: 0.0433 - acc: 0.983 - ETA: 1:48 - loss: 0.0434 - acc: 0.983 - ETA: 1:48 - loss: 0.0434 - acc: 0.983 - ETA: 1:48 - loss: 0.0434 - acc: 0.983 - ETA: 1:47 - loss: 0.0434 - acc: 0.983 - ETA: 1:47 - loss: 0.0434 - acc: 0.983 - ETA: 1:47 - loss: 0.0434 - acc: 0.983 - ETA: 1:46 - loss: 0.0434 - acc: 0.983 - ETA: 1:46 - loss: 0.0435 - acc: 0.983 - ETA: 1:46 - loss: 0.0435 - acc: 0.983 - ETA: 1:45 - loss: 0.0434 - acc: 0.983 - ETA: 1:45 - loss: 0.0434 - acc: 0.983 - ETA: 1:45 - loss: 0.0435 - acc: 0.983 - ETA: 1:44 - loss: 0.0435 - acc: 0.983 - ETA: 1:44 - loss: 0.0435 - acc: 0.983 - ETA: 1:44 - loss: 0.0434 - acc: 0.983 - ETA: 1:43 - loss: 0.0433 - acc: 0.9832105472/129251 [=======================>......] - ETA: 1:43 - loss: 0.0433 - acc: 0.983 - ETA: 1:43 - loss: 0.0433 - acc: 0.983 - ETA: 1:42 - loss: 0.0432 - acc: 0.983 - ETA: 1:42 - loss: 0.0432 - acc: 0.983 - ETA: 1:42 - loss: 0.0432 - acc: 0.983 - ETA: 1:41 - loss: 0.0432 - acc: 0.983 - ETA: 1:41 - loss: 0.0431 - acc: 0.983 - ETA: 1:40 - loss: 0.0431 - acc: 0.983 - ETA: 1:40 - loss: 0.0432 - acc: 0.983 - ETA: 1:40 - loss: 0.0432 - acc: 0.983 - ETA: 1:39 - loss: 0.0432 - acc: 0.983 - ETA: 1:39 - loss: 0.0431 - acc: 0.983 - ETA: 1:39 - loss: 0.0431 - acc: 0.983 - ETA: 1:38 - loss: 0.0431 - acc: 0.983 - ETA: 1:38 - loss: 0.0431 - acc: 0.983 - ETA: 1:38 - loss: 0.0432 - acc: 0.983 - ETA: 1:37 - loss: 0.0432 - acc: 0.983 - ETA: 1:37 - loss: 0.0432 - acc: 0.983 - ETA: 1:37 - loss: 0.0431 - acc: 0.983 - ETA: 1:36 - loss: 0.0432 - acc: 0.983 - ETA: 1:36 - loss: 0.0431 - acc: 0.983 - ETA: 1:36 - loss: 0.0431 - acc: 0.983 - ETA: 1:35 - loss: 0.0431 - acc: 0.983 - ETA: 1:35 - loss: 0.0430 - acc: 0.983 - ETA: 1:35 - loss: 0.0430 - acc: 0.983 - ETA: 1:34 - loss: 0.0431 - acc: 0.983 - ETA: 1:34 - loss: 0.0430 - acc: 0.983 - ETA: 1:34 - loss: 0.0430 - acc: 0.983 - ETA: 1:33 - loss: 0.0431 - acc: 0.983 - ETA: 1:33 - loss: 0.0431 - acc: 0.983 - ETA: 1:33 - loss: 0.0431 - acc: 0.983 - ETA: 1:32 - loss: 0.0430 - acc: 0.983 - ETA: 1:32 - loss: 0.0431 - acc: 0.983 - ETA: 1:32 - loss: 0.0430 - acc: 0.983 - ETA: 1:31 - loss: 0.0430 - acc: 0.983 - ETA: 1:31 - loss: 0.0431 - acc: 0.983 - ETA: 1:31 - loss: 0.0431 - acc: 0.983 - ETA: 1:30 - loss: 0.0431 - acc: 0.983 - ETA: 1:30 - loss: 0.0430 - acc: 0.983 - ETA: 1:29 - loss: 0.0430 - acc: 0.983 - ETA: 1:29 - loss: 0.0430 - acc: 0.983 - ETA: 1:29 - loss: 0.0430 - acc: 0.983 - ETA: 1:28 - loss: 0.0431 - acc: 0.983 - ETA: 1:28 - loss: 0.0430 - acc: 0.983 - ETA: 1:28 - loss: 0.0430 - acc: 0.983 - ETA: 1:27 - loss: 0.0430 - acc: 0.983 - ETA: 1:27 - loss: 0.0430 - acc: 0.983 - ETA: 1:27 - loss: 0.0430 - acc: 0.983 - ETA: 1:26 - loss: 0.0430 - acc: 0.983 - ETA: 1:26 - loss: 0.0430 - acc: 0.983 - ETA: 1:26 - loss: 0.0430 - acc: 0.983 - ETA: 1:25 - loss: 0.0430 - acc: 0.983 - ETA: 1:25 - loss: 0.0430 - acc: 0.983 - ETA: 1:25 - loss: 0.0430 - acc: 0.983 - ETA: 1:24 - loss: 0.0431 - acc: 0.983 - ETA: 1:24 - loss: 0.0430 - acc: 0.983 - ETA: 1:24 - loss: 0.0430 - acc: 0.983 - ETA: 1:23 - loss: 0.0430 - acc: 0.983 - ETA: 1:23 - loss: 0.0430 - acc: 0.983 - ETA: 1:23 - loss: 0.0430 - acc: 0.983 - ETA: 1:22 - loss: 0.0430 - acc: 0.983 - ETA: 1:22 - loss: 0.0430 - acc: 0.983 - ETA: 1:22 - loss: 0.0430 - acc: 0.983 - ETA: 1:21 - loss: 0.0431 - acc: 0.983 - ETA: 1:21 - loss: 0.0430 - acc: 0.983 - ETA: 1:21 - loss: 0.0430 - acc: 0.983 - ETA: 1:20 - loss: 0.0430 - acc: 0.983 - ETA: 1:20 - loss: 0.0430 - acc: 0.983 - ETA: 1:19 - loss: 0.0430 - acc: 0.983 - ETA: 1:19 - loss: 0.0430 - acc: 0.983 - ETA: 1:19 - loss: 0.0430 - acc: 0.983 - ETA: 1:18 - loss: 0.0430 - acc: 0.983 - ETA: 1:18 - loss: 0.0430 - acc: 0.983 - ETA: 1:18 - loss: 0.0431 - acc: 0.983 - ETA: 1:17 - loss: 0.0431 - acc: 0.983 - ETA: 1:17 - loss: 0.0432 - acc: 0.983 - ETA: 1:17 - loss: 0.0432 - acc: 0.983 - ETA: 1:16 - loss: 0.0432 - acc: 0.983 - ETA: 1:16 - loss: 0.0432 - acc: 0.983 - ETA: 1:16 - loss: 0.0432 - acc: 0.983 - ETA: 1:15 - loss: 0.0432 - acc: 0.983 - ETA: 1:15 - loss: 0.0432 - acc: 0.983 - ETA: 1:15 - loss: 0.0432 - acc: 0.983 - ETA: 1:14 - loss: 0.0433 - acc: 0.983 - ETA: 1:14 - loss: 0.0433 - acc: 0.983 - ETA: 1:14 - loss: 0.0433 - acc: 0.983 - ETA: 1:13 - loss: 0.0432 - acc: 0.983 - ETA: 1:13 - loss: 0.0432 - acc: 0.983 - ETA: 1:13 - loss: 0.0432 - acc: 0.983 - ETA: 1:12 - loss: 0.0433 - acc: 0.983 - ETA: 1:12 - loss: 0.0432 - acc: 0.983 - ETA: 1:12 - loss: 0.0432 - acc: 0.983 - ETA: 1:11 - loss: 0.0431 - acc: 0.983 - ETA: 1:11 - loss: 0.0432 - acc: 0.983 - ETA: 1:11 - loss: 0.0432 - acc: 0.983 - ETA: 1:10 - loss: 0.0432 - acc: 0.983 - ETA: 1:10 - loss: 0.0432 - acc: 0.983 - ETA: 1:10 - loss: 0.0431 - acc: 0.983 - ETA: 1:09 - loss: 0.0431 - acc: 0.983 - ETA: 1:09 - loss: 0.0430 - acc: 0.983 - ETA: 1:08 - loss: 0.0430 - acc: 0.983 - ETA: 1:08 - loss: 0.0431 - acc: 0.983 - ETA: 1:08 - loss: 0.0431 - acc: 0.983 - ETA: 1:07 - loss: 0.0431 - acc: 0.983 - ETA: 1:07 - loss: 0.0431 - acc: 0.983 - ETA: 1:07 - loss: 0.0430 - acc: 0.983 - ETA: 1:06 - loss: 0.0430 - acc: 0.983 - ETA: 1:06 - loss: 0.0430 - acc: 0.983 - ETA: 1:06 - loss: 0.0430 - acc: 0.983 - ETA: 1:05 - loss: 0.0430 - acc: 0.983 - ETA: 1:05 - loss: 0.0430 - acc: 0.983 - ETA: 1:05 - loss: 0.0430 - acc: 0.983 - ETA: 1:04 - loss: 0.0430 - acc: 0.983 - ETA: 1:04 - loss: 0.0430 - acc: 0.983 - ETA: 1:04 - loss: 0.0430 - acc: 0.983 - ETA: 1:03 - loss: 0.0429 - acc: 0.983 - ETA: 1:03 - loss: 0.0430 - acc: 0.983 - ETA: 1:03 - loss: 0.0430 - acc: 0.983 - ETA: 1:02 - loss: 0.0430 - acc: 0.983 - ETA: 1:02 - loss: 0.0430 - acc: 0.983 - ETA: 1:02 - loss: 0.0430 - acc: 0.983 - ETA: 1:01 - loss: 0.0430 - acc: 0.983 - ETA: 1:01 - loss: 0.0430 - acc: 0.983 - ETA: 1:01 - loss: 0.0430 - acc: 0.983 - ETA: 1:00 - loss: 0.0431 - acc: 0.983 - ETA: 1:00 - loss: 0.0431 - acc: 0.983 - ETA: 1:00 - loss: 0.0431 - acc: 0.983 - ETA: 59s - loss: 0.0431 - acc: 0.983 - ETA: 59s - loss: 0.0431 - acc: 0.98 - ETA: 58s - loss: 0.0431 - acc: 0.98 - ETA: 58s - loss: 0.0431 - acc: 0.98 - ETA: 58s - loss: 0.0431 - acc: 0.98 - ETA: 57s - loss: 0.0431 - acc: 0.98 - ETA: 57s - loss: 0.0431 - acc: 0.98 - ETA: 57s - loss: 0.0430 - acc: 0.98 - ETA: 56s - loss: 0.0430 - acc: 0.98 - ETA: 56s - loss: 0.0429 - acc: 0.98 - ETA: 56s - loss: 0.0429 - acc: 0.98 - ETA: 55s - loss: 0.0430 - acc: 0.98 - ETA: 55s - loss: 0.0430 - acc: 0.98 - ETA: 55s - loss: 0.0430 - acc: 0.98 - ETA: 54s - loss: 0.0430 - acc: 0.98 - ETA: 54s - loss: 0.0430 - acc: 0.98 - ETA: 54s - loss: 0.0430 - acc: 0.98 - ETA: 53s - loss: 0.0430 - acc: 0.98 - ETA: 53s - loss: 0.0429 - acc: 0.98 - ETA: 53s - loss: 0.0429 - acc: 0.98 - ETA: 52s - loss: 0.0429 - acc: 0.98 - ETA: 52s - loss: 0.0429 - acc: 0.98 - ETA: 52s - loss: 0.0429 - acc: 0.98 - ETA: 51s - loss: 0.0429 - acc: 0.98 - ETA: 51s - loss: 0.0428 - acc: 0.98 - ETA: 51s - loss: 0.0428 - acc: 0.98 - ETA: 50s - loss: 0.0427 - acc: 0.98 - ETA: 50s - loss: 0.0428 - acc: 0.98 - ETA: 50s - loss: 0.0428 - acc: 0.98 - ETA: 49s - loss: 0.0428 - acc: 0.98 - ETA: 49s - loss: 0.0428 - acc: 0.98 - ETA: 49s - loss: 0.0428 - acc: 0.98 - ETA: 48s - loss: 0.0428 - acc: 0.98 - ETA: 48s - loss: 0.0428 - acc: 0.98 - ETA: 47s - loss: 0.0428 - acc: 0.98 - ETA: 47s - loss: 0.0429 - acc: 0.98 - ETA: 47s - loss: 0.0429 - acc: 0.98 - ETA: 46s - loss: 0.0429 - acc: 0.98 - ETA: 46s - loss: 0.0429 - acc: 0.98 - ETA: 46s - loss: 0.0429 - acc: 0.98 - ETA: 45s - loss: 0.0429 - acc: 0.98 - ETA: 45s - loss: 0.0429 - acc: 0.98 - ETA: 45s - loss: 0.0429 - acc: 0.98 - ETA: 44s - loss: 0.0429 - acc: 0.98 - ETA: 44s - loss: 0.0429 - acc: 0.98 - ETA: 44s - loss: 0.0429 - acc: 0.98 - ETA: 43s - loss: 0.0429 - acc: 0.98 - ETA: 43s - loss: 0.0428 - acc: 0.98 - ETA: 43s - loss: 0.0428 - acc: 0.98 - ETA: 42s - loss: 0.0428 - acc: 0.98 - ETA: 42s - loss: 0.0428 - acc: 0.98 - ETA: 42s - loss: 0.0428 - acc: 0.98 - ETA: 41s - loss: 0.0428 - acc: 0.98 - ETA: 41s - loss: 0.0428 - acc: 0.98 - ETA: 41s - loss: 0.0428 - acc: 0.98 - ETA: 40s - loss: 0.0428 - acc: 0.98 - ETA: 40s - loss: 0.0428 - acc: 0.98 - ETA: 40s - loss: 0.0428 - acc: 0.98 - ETA: 39s - loss: 0.0428 - acc: 0.98 - ETA: 39s - loss: 0.0427 - acc: 0.98 - ETA: 39s - loss: 0.0427 - acc: 0.98 - ETA: 38s - loss: 0.0428 - acc: 0.98 - ETA: 38s - loss: 0.0428 - acc: 0.98 - ETA: 37s - loss: 0.0428 - acc: 0.98 - ETA: 37s - loss: 0.0428 - acc: 0.98 - ETA: 37s - loss: 0.0428 - acc: 0.98 - ETA: 36s - loss: 0.0428 - acc: 0.98 - ETA: 36s - loss: 0.0429 - acc: 0.98 - ETA: 36s - loss: 0.0429 - acc: 0.98 - ETA: 35s - loss: 0.0429 - acc: 0.98 - ETA: 35s - loss: 0.0429 - acc: 0.98 - ETA: 35s - loss: 0.0429 - acc: 0.98 - ETA: 34s - loss: 0.0429 - acc: 0.98 - ETA: 34s - loss: 0.0429 - acc: 0.98 - ETA: 34s - loss: 0.0428 - acc: 0.98 - ETA: 33s - loss: 0.0428 - acc: 0.98 - ETA: 33s - loss: 0.0428 - acc: 0.98 - ETA: 33s - loss: 0.0428 - acc: 0.98 - ETA: 32s - loss: 0.0428 - acc: 0.98 - ETA: 32s - loss: 0.0428 - acc: 0.98 - ETA: 32s - loss: 0.0428 - acc: 0.9834"
     ]
    },
    {
     "name": "stdout",
     "output_type": "stream",
     "text": [
      "129251/129251 [==============================] - ETA: 31s - loss: 0.0428 - acc: 0.98 - ETA: 31s - loss: 0.0428 - acc: 0.98 - ETA: 31s - loss: 0.0428 - acc: 0.98 - ETA: 30s - loss: 0.0428 - acc: 0.98 - ETA: 30s - loss: 0.0428 - acc: 0.98 - ETA: 30s - loss: 0.0428 - acc: 0.98 - ETA: 29s - loss: 0.0428 - acc: 0.98 - ETA: 29s - loss: 0.0427 - acc: 0.98 - ETA: 28s - loss: 0.0427 - acc: 0.98 - ETA: 28s - loss: 0.0427 - acc: 0.98 - ETA: 28s - loss: 0.0427 - acc: 0.98 - ETA: 27s - loss: 0.0427 - acc: 0.98 - ETA: 27s - loss: 0.0427 - acc: 0.98 - ETA: 27s - loss: 0.0427 - acc: 0.98 - ETA: 26s - loss: 0.0427 - acc: 0.98 - ETA: 26s - loss: 0.0427 - acc: 0.98 - ETA: 26s - loss: 0.0427 - acc: 0.98 - ETA: 25s - loss: 0.0427 - acc: 0.98 - ETA: 25s - loss: 0.0427 - acc: 0.98 - ETA: 25s - loss: 0.0427 - acc: 0.98 - ETA: 24s - loss: 0.0427 - acc: 0.98 - ETA: 24s - loss: 0.0427 - acc: 0.98 - ETA: 24s - loss: 0.0426 - acc: 0.98 - ETA: 23s - loss: 0.0426 - acc: 0.98 - ETA: 23s - loss: 0.0426 - acc: 0.98 - ETA: 23s - loss: 0.0426 - acc: 0.98 - ETA: 22s - loss: 0.0426 - acc: 0.98 - ETA: 22s - loss: 0.0426 - acc: 0.98 - ETA: 22s - loss: 0.0426 - acc: 0.98 - ETA: 21s - loss: 0.0426 - acc: 0.98 - ETA: 21s - loss: 0.0426 - acc: 0.98 - ETA: 21s - loss: 0.0426 - acc: 0.98 - ETA: 20s - loss: 0.0426 - acc: 0.98 - ETA: 20s - loss: 0.0427 - acc: 0.98 - ETA: 20s - loss: 0.0427 - acc: 0.98 - ETA: 19s - loss: 0.0427 - acc: 0.98 - ETA: 19s - loss: 0.0427 - acc: 0.98 - ETA: 18s - loss: 0.0427 - acc: 0.98 - ETA: 18s - loss: 0.0427 - acc: 0.98 - ETA: 18s - loss: 0.0427 - acc: 0.98 - ETA: 17s - loss: 0.0427 - acc: 0.98 - ETA: 17s - loss: 0.0427 - acc: 0.98 - ETA: 17s - loss: 0.0427 - acc: 0.98 - ETA: 16s - loss: 0.0427 - acc: 0.98 - ETA: 16s - loss: 0.0427 - acc: 0.98 - ETA: 16s - loss: 0.0427 - acc: 0.98 - ETA: 15s - loss: 0.0427 - acc: 0.98 - ETA: 15s - loss: 0.0428 - acc: 0.98 - ETA: 15s - loss: 0.0428 - acc: 0.98 - ETA: 14s - loss: 0.0428 - acc: 0.98 - ETA: 14s - loss: 0.0428 - acc: 0.98 - ETA: 14s - loss: 0.0428 - acc: 0.98 - ETA: 13s - loss: 0.0429 - acc: 0.98 - ETA: 13s - loss: 0.0429 - acc: 0.98 - ETA: 13s - loss: 0.0429 - acc: 0.98 - ETA: 12s - loss: 0.0429 - acc: 0.98 - ETA: 12s - loss: 0.0429 - acc: 0.98 - ETA: 12s - loss: 0.0429 - acc: 0.98 - ETA: 11s - loss: 0.0429 - acc: 0.98 - ETA: 11s - loss: 0.0429 - acc: 0.98 - ETA: 11s - loss: 0.0429 - acc: 0.98 - ETA: 10s - loss: 0.0429 - acc: 0.98 - ETA: 10s - loss: 0.0429 - acc: 0.98 - ETA: 9s - loss: 0.0429 - acc: 0.9834 - ETA: 9s - loss: 0.0429 - acc: 0.983 - ETA: 9s - loss: 0.0429 - acc: 0.983 - ETA: 8s - loss: 0.0429 - acc: 0.983 - ETA: 8s - loss: 0.0429 - acc: 0.983 - ETA: 8s - loss: 0.0429 - acc: 0.983 - ETA: 7s - loss: 0.0429 - acc: 0.983 - ETA: 7s - loss: 0.0428 - acc: 0.983 - ETA: 7s - loss: 0.0429 - acc: 0.983 - ETA: 6s - loss: 0.0428 - acc: 0.983 - ETA: 6s - loss: 0.0428 - acc: 0.983 - ETA: 6s - loss: 0.0428 - acc: 0.983 - ETA: 5s - loss: 0.0428 - acc: 0.983 - ETA: 5s - loss: 0.0428 - acc: 0.983 - ETA: 5s - loss: 0.0428 - acc: 0.983 - ETA: 4s - loss: 0.0428 - acc: 0.983 - ETA: 4s - loss: 0.0428 - acc: 0.983 - ETA: 4s - loss: 0.0428 - acc: 0.983 - ETA: 3s - loss: 0.0428 - acc: 0.983 - ETA: 3s - loss: 0.0428 - acc: 0.983 - ETA: 3s - loss: 0.0428 - acc: 0.983 - ETA: 2s - loss: 0.0428 - acc: 0.983 - ETA: 2s - loss: 0.0429 - acc: 0.983 - ETA: 2s - loss: 0.0429 - acc: 0.983 - ETA: 1s - loss: 0.0429 - acc: 0.983 - ETA: 1s - loss: 0.0429 - acc: 0.983 - ETA: 0s - loss: 0.0429 - acc: 0.983 - ETA: 0s - loss: 0.0429 - acc: 0.983 - ETA: 0s - loss: 0.0429 - acc: 0.983 - 181s 1ms/step - loss: 0.0429 - acc: 0.9835 - val_loss: 0.0427 - val_acc: 0.9832\n",
      "\n",
      " ROC-AUC - epoch: 4 - score: 0.984947 \n",
      "\n",
      "Epoch 5/10\n",
      " 52224/129251 [===========>..................] - ETA: 2:42 - loss: 0.0699 - acc: 0.975 - ETA: 2:45 - loss: 0.0630 - acc: 0.978 - ETA: 2:52 - loss: 0.0544 - acc: 0.979 - ETA: 2:54 - loss: 0.0503 - acc: 0.980 - ETA: 2:52 - loss: 0.0464 - acc: 0.982 - ETA: 2:51 - loss: 0.0460 - acc: 0.982 - ETA: 2:51 - loss: 0.0451 - acc: 0.982 - ETA: 2:52 - loss: 0.0448 - acc: 0.982 - ETA: 2:53 - loss: 0.0442 - acc: 0.982 - ETA: 2:53 - loss: 0.0440 - acc: 0.982 - ETA: 2:52 - loss: 0.0445 - acc: 0.982 - ETA: 2:52 - loss: 0.0446 - acc: 0.982 - ETA: 2:51 - loss: 0.0441 - acc: 0.982 - ETA: 2:51 - loss: 0.0441 - acc: 0.982 - ETA: 2:51 - loss: 0.0438 - acc: 0.982 - ETA: 2:51 - loss: 0.0446 - acc: 0.982 - ETA: 2:50 - loss: 0.0438 - acc: 0.982 - ETA: 2:50 - loss: 0.0438 - acc: 0.982 - ETA: 2:49 - loss: 0.0440 - acc: 0.982 - ETA: 2:50 - loss: 0.0437 - acc: 0.983 - ETA: 2:49 - loss: 0.0453 - acc: 0.982 - ETA: 2:49 - loss: 0.0451 - acc: 0.982 - ETA: 2:48 - loss: 0.0448 - acc: 0.982 - ETA: 2:48 - loss: 0.0446 - acc: 0.982 - ETA: 2:47 - loss: 0.0443 - acc: 0.982 - ETA: 2:47 - loss: 0.0446 - acc: 0.982 - ETA: 2:47 - loss: 0.0443 - acc: 0.982 - ETA: 2:47 - loss: 0.0440 - acc: 0.982 - ETA: 2:47 - loss: 0.0441 - acc: 0.982 - ETA: 2:46 - loss: 0.0441 - acc: 0.982 - ETA: 2:45 - loss: 0.0442 - acc: 0.982 - ETA: 2:45 - loss: 0.0438 - acc: 0.983 - ETA: 2:45 - loss: 0.0440 - acc: 0.982 - ETA: 2:44 - loss: 0.0437 - acc: 0.983 - ETA: 2:44 - loss: 0.0437 - acc: 0.982 - ETA: 2:43 - loss: 0.0437 - acc: 0.983 - ETA: 2:43 - loss: 0.0433 - acc: 0.983 - ETA: 2:42 - loss: 0.0435 - acc: 0.983 - ETA: 2:42 - loss: 0.0432 - acc: 0.983 - ETA: 2:42 - loss: 0.0432 - acc: 0.983 - ETA: 2:42 - loss: 0.0434 - acc: 0.983 - ETA: 2:41 - loss: 0.0432 - acc: 0.983 - ETA: 2:41 - loss: 0.0432 - acc: 0.983 - ETA: 2:40 - loss: 0.0435 - acc: 0.983 - ETA: 2:40 - loss: 0.0436 - acc: 0.983 - ETA: 2:39 - loss: 0.0436 - acc: 0.983 - ETA: 2:39 - loss: 0.0436 - acc: 0.983 - ETA: 2:39 - loss: 0.0433 - acc: 0.983 - ETA: 2:39 - loss: 0.0431 - acc: 0.983 - ETA: 2:39 - loss: 0.0431 - acc: 0.983 - ETA: 2:39 - loss: 0.0430 - acc: 0.983 - ETA: 2:39 - loss: 0.0430 - acc: 0.983 - ETA: 2:38 - loss: 0.0431 - acc: 0.983 - ETA: 2:38 - loss: 0.0433 - acc: 0.983 - ETA: 2:38 - loss: 0.0430 - acc: 0.983 - ETA: 2:37 - loss: 0.0430 - acc: 0.983 - ETA: 2:37 - loss: 0.0431 - acc: 0.983 - ETA: 2:36 - loss: 0.0429 - acc: 0.983 - ETA: 2:36 - loss: 0.0430 - acc: 0.983 - ETA: 2:36 - loss: 0.0431 - acc: 0.983 - ETA: 2:35 - loss: 0.0434 - acc: 0.983 - ETA: 2:35 - loss: 0.0434 - acc: 0.983 - ETA: 2:35 - loss: 0.0432 - acc: 0.983 - ETA: 2:34 - loss: 0.0428 - acc: 0.983 - ETA: 2:34 - loss: 0.0430 - acc: 0.983 - ETA: 2:33 - loss: 0.0428 - acc: 0.983 - ETA: 2:33 - loss: 0.0429 - acc: 0.983 - ETA: 2:33 - loss: 0.0428 - acc: 0.983 - ETA: 2:32 - loss: 0.0427 - acc: 0.983 - ETA: 2:32 - loss: 0.0431 - acc: 0.983 - ETA: 2:32 - loss: 0.0430 - acc: 0.983 - ETA: 2:32 - loss: 0.0430 - acc: 0.983 - ETA: 2:31 - loss: 0.0431 - acc: 0.983 - ETA: 2:31 - loss: 0.0431 - acc: 0.983 - ETA: 2:31 - loss: 0.0431 - acc: 0.983 - ETA: 2:30 - loss: 0.0432 - acc: 0.983 - ETA: 2:30 - loss: 0.0431 - acc: 0.983 - ETA: 2:30 - loss: 0.0432 - acc: 0.983 - ETA: 2:30 - loss: 0.0433 - acc: 0.983 - ETA: 2:29 - loss: 0.0432 - acc: 0.983 - ETA: 2:29 - loss: 0.0432 - acc: 0.983 - ETA: 2:29 - loss: 0.0433 - acc: 0.983 - ETA: 2:28 - loss: 0.0432 - acc: 0.983 - ETA: 2:28 - loss: 0.0431 - acc: 0.983 - ETA: 2:28 - loss: 0.0430 - acc: 0.983 - ETA: 2:27 - loss: 0.0430 - acc: 0.983 - ETA: 2:27 - loss: 0.0432 - acc: 0.983 - ETA: 2:26 - loss: 0.0432 - acc: 0.983 - ETA: 2:26 - loss: 0.0431 - acc: 0.983 - ETA: 2:26 - loss: 0.0432 - acc: 0.983 - ETA: 2:25 - loss: 0.0431 - acc: 0.983 - ETA: 2:25 - loss: 0.0431 - acc: 0.983 - ETA: 2:25 - loss: 0.0430 - acc: 0.983 - ETA: 2:24 - loss: 0.0429 - acc: 0.983 - ETA: 2:24 - loss: 0.0431 - acc: 0.983 - ETA: 2:23 - loss: 0.0431 - acc: 0.983 - ETA: 2:23 - loss: 0.0431 - acc: 0.983 - ETA: 2:23 - loss: 0.0431 - acc: 0.983 - ETA: 2:22 - loss: 0.0429 - acc: 0.983 - ETA: 2:22 - loss: 0.0429 - acc: 0.983 - ETA: 2:22 - loss: 0.0428 - acc: 0.983 - ETA: 2:21 - loss: 0.0427 - acc: 0.983 - ETA: 2:21 - loss: 0.0428 - acc: 0.983 - ETA: 2:21 - loss: 0.0428 - acc: 0.983 - ETA: 2:21 - loss: 0.0428 - acc: 0.983 - ETA: 2:20 - loss: 0.0428 - acc: 0.983 - ETA: 2:20 - loss: 0.0429 - acc: 0.983 - ETA: 2:19 - loss: 0.0429 - acc: 0.983 - ETA: 2:19 - loss: 0.0429 - acc: 0.983 - ETA: 2:19 - loss: 0.0427 - acc: 0.983 - ETA: 2:19 - loss: 0.0428 - acc: 0.983 - ETA: 2:18 - loss: 0.0427 - acc: 0.983 - ETA: 2:18 - loss: 0.0427 - acc: 0.983 - ETA: 2:18 - loss: 0.0426 - acc: 0.983 - ETA: 2:18 - loss: 0.0427 - acc: 0.983 - ETA: 2:18 - loss: 0.0426 - acc: 0.983 - ETA: 2:17 - loss: 0.0428 - acc: 0.983 - ETA: 2:17 - loss: 0.0428 - acc: 0.983 - ETA: 2:17 - loss: 0.0428 - acc: 0.983 - ETA: 2:16 - loss: 0.0429 - acc: 0.983 - ETA: 2:16 - loss: 0.0428 - acc: 0.983 - ETA: 2:15 - loss: 0.0427 - acc: 0.983 - ETA: 2:15 - loss: 0.0427 - acc: 0.983 - ETA: 2:15 - loss: 0.0427 - acc: 0.983 - ETA: 2:14 - loss: 0.0426 - acc: 0.983 - ETA: 2:14 - loss: 0.0426 - acc: 0.983 - ETA: 2:14 - loss: 0.0425 - acc: 0.983 - ETA: 2:13 - loss: 0.0424 - acc: 0.983 - ETA: 2:13 - loss: 0.0424 - acc: 0.983 - ETA: 2:13 - loss: 0.0423 - acc: 0.983 - ETA: 2:12 - loss: 0.0424 - acc: 0.983 - ETA: 2:12 - loss: 0.0423 - acc: 0.983 - ETA: 2:12 - loss: 0.0424 - acc: 0.983 - ETA: 2:11 - loss: 0.0423 - acc: 0.983 - ETA: 2:11 - loss: 0.0423 - acc: 0.983 - ETA: 2:10 - loss: 0.0422 - acc: 0.983 - ETA: 2:10 - loss: 0.0423 - acc: 0.983 - ETA: 2:10 - loss: 0.0421 - acc: 0.983 - ETA: 2:09 - loss: 0.0423 - acc: 0.983 - ETA: 2:09 - loss: 0.0422 - acc: 0.983 - ETA: 2:09 - loss: 0.0424 - acc: 0.983 - ETA: 2:09 - loss: 0.0425 - acc: 0.983 - ETA: 2:08 - loss: 0.0425 - acc: 0.983 - ETA: 2:08 - loss: 0.0424 - acc: 0.983 - ETA: 2:08 - loss: 0.0424 - acc: 0.983 - ETA: 2:07 - loss: 0.0424 - acc: 0.983 - ETA: 2:07 - loss: 0.0423 - acc: 0.983 - ETA: 2:07 - loss: 0.0422 - acc: 0.983 - ETA: 2:06 - loss: 0.0422 - acc: 0.983 - ETA: 2:06 - loss: 0.0421 - acc: 0.983 - ETA: 2:06 - loss: 0.0420 - acc: 0.983 - ETA: 2:05 - loss: 0.0420 - acc: 0.983 - ETA: 2:05 - loss: 0.0421 - acc: 0.983 - ETA: 2:04 - loss: 0.0422 - acc: 0.983 - ETA: 2:04 - loss: 0.0422 - acc: 0.983 - ETA: 2:04 - loss: 0.0420 - acc: 0.983 - ETA: 2:03 - loss: 0.0420 - acc: 0.983 - ETA: 2:03 - loss: 0.0420 - acc: 0.983 - ETA: 2:03 - loss: 0.0419 - acc: 0.983 - ETA: 2:02 - loss: 0.0419 - acc: 0.983 - ETA: 2:02 - loss: 0.0420 - acc: 0.983 - ETA: 2:02 - loss: 0.0419 - acc: 0.983 - ETA: 2:01 - loss: 0.0418 - acc: 0.983 - ETA: 2:01 - loss: 0.0419 - acc: 0.983 - ETA: 2:00 - loss: 0.0419 - acc: 0.983 - ETA: 2:00 - loss: 0.0419 - acc: 0.983 - ETA: 2:00 - loss: 0.0419 - acc: 0.983 - ETA: 1:59 - loss: 0.0418 - acc: 0.983 - ETA: 1:59 - loss: 0.0418 - acc: 0.983 - ETA: 1:59 - loss: 0.0418 - acc: 0.983 - ETA: 1:58 - loss: 0.0417 - acc: 0.983 - ETA: 1:58 - loss: 0.0418 - acc: 0.983 - ETA: 1:57 - loss: 0.0418 - acc: 0.983 - ETA: 1:57 - loss: 0.0418 - acc: 0.983 - ETA: 1:57 - loss: 0.0418 - acc: 0.983 - ETA: 1:56 - loss: 0.0417 - acc: 0.983 - ETA: 1:56 - loss: 0.0418 - acc: 0.983 - ETA: 1:56 - loss: 0.0418 - acc: 0.983 - ETA: 1:55 - loss: 0.0418 - acc: 0.983 - ETA: 1:55 - loss: 0.0418 - acc: 0.983 - ETA: 1:54 - loss: 0.0417 - acc: 0.983 - ETA: 1:54 - loss: 0.0417 - acc: 0.983 - ETA: 1:54 - loss: 0.0417 - acc: 0.983 - ETA: 1:53 - loss: 0.0417 - acc: 0.983 - ETA: 1:53 - loss: 0.0418 - acc: 0.983 - ETA: 1:53 - loss: 0.0418 - acc: 0.983 - ETA: 1:52 - loss: 0.0418 - acc: 0.983 - ETA: 1:52 - loss: 0.0417 - acc: 0.983 - ETA: 1:51 - loss: 0.0417 - acc: 0.983 - ETA: 1:51 - loss: 0.0418 - acc: 0.983 - ETA: 1:51 - loss: 0.0417 - acc: 0.983 - ETA: 1:50 - loss: 0.0417 - acc: 0.983 - ETA: 1:50 - loss: 0.0416 - acc: 0.983 - ETA: 1:50 - loss: 0.0416 - acc: 0.983 - ETA: 1:49 - loss: 0.0416 - acc: 0.983 - ETA: 1:49 - loss: 0.0416 - acc: 0.983 - ETA: 1:49 - loss: 0.0416 - acc: 0.983 - ETA: 1:48 - loss: 0.0416 - acc: 0.983 - ETA: 1:48 - loss: 0.0416 - acc: 0.983 - ETA: 1:48 - loss: 0.0416 - acc: 0.983 - ETA: 1:47 - loss: 0.0416 - acc: 0.983 - ETA: 1:47 - loss: 0.0416 - acc: 0.983 - ETA: 1:46 - loss: 0.0415 - acc: 0.983 - ETA: 1:46 - loss: 0.0415 - acc: 0.9838105472/129251 [=======================>......] - ETA: 1:46 - loss: 0.0415 - acc: 0.983 - ETA: 1:45 - loss: 0.0415 - acc: 0.983 - ETA: 1:45 - loss: 0.0414 - acc: 0.983 - ETA: 1:45 - loss: 0.0415 - acc: 0.983 - ETA: 1:44 - loss: 0.0415 - acc: 0.983 - ETA: 1:44 - loss: 0.0415 - acc: 0.983 - ETA: 1:44 - loss: 0.0415 - acc: 0.983 - ETA: 1:43 - loss: 0.0415 - acc: 0.983 - ETA: 1:43 - loss: 0.0415 - acc: 0.983 - ETA: 1:42 - loss: 0.0414 - acc: 0.983 - ETA: 1:42 - loss: 0.0414 - acc: 0.983 - ETA: 1:42 - loss: 0.0414 - acc: 0.983 - ETA: 1:41 - loss: 0.0413 - acc: 0.983 - ETA: 1:41 - loss: 0.0413 - acc: 0.983 - ETA: 1:41 - loss: 0.0413 - acc: 0.983 - ETA: 1:40 - loss: 0.0413 - acc: 0.983 - ETA: 1:40 - loss: 0.0413 - acc: 0.983 - ETA: 1:40 - loss: 0.0414 - acc: 0.983 - ETA: 1:39 - loss: 0.0414 - acc: 0.983 - ETA: 1:39 - loss: 0.0413 - acc: 0.983 - ETA: 1:38 - loss: 0.0414 - acc: 0.983 - ETA: 1:38 - loss: 0.0414 - acc: 0.983 - ETA: 1:38 - loss: 0.0414 - acc: 0.983 - ETA: 1:37 - loss: 0.0413 - acc: 0.983 - ETA: 1:37 - loss: 0.0414 - acc: 0.983 - ETA: 1:37 - loss: 0.0414 - acc: 0.983 - ETA: 1:36 - loss: 0.0414 - acc: 0.983 - ETA: 1:36 - loss: 0.0413 - acc: 0.983 - ETA: 1:36 - loss: 0.0413 - acc: 0.983 - ETA: 1:35 - loss: 0.0413 - acc: 0.983 - ETA: 1:35 - loss: 0.0414 - acc: 0.983 - ETA: 1:34 - loss: 0.0414 - acc: 0.983 - ETA: 1:34 - loss: 0.0413 - acc: 0.983 - ETA: 1:34 - loss: 0.0414 - acc: 0.983 - ETA: 1:33 - loss: 0.0414 - acc: 0.983 - ETA: 1:33 - loss: 0.0413 - acc: 0.983 - ETA: 1:33 - loss: 0.0414 - acc: 0.983 - ETA: 1:32 - loss: 0.0414 - acc: 0.983 - ETA: 1:32 - loss: 0.0414 - acc: 0.983 - ETA: 1:32 - loss: 0.0413 - acc: 0.983 - ETA: 1:31 - loss: 0.0413 - acc: 0.983 - ETA: 1:31 - loss: 0.0413 - acc: 0.983 - ETA: 1:31 - loss: 0.0413 - acc: 0.983 - ETA: 1:30 - loss: 0.0413 - acc: 0.983 - ETA: 1:30 - loss: 0.0413 - acc: 0.983 - ETA: 1:29 - loss: 0.0413 - acc: 0.983 - ETA: 1:29 - loss: 0.0413 - acc: 0.983 - ETA: 1:29 - loss: 0.0413 - acc: 0.983 - ETA: 1:28 - loss: 0.0413 - acc: 0.983 - ETA: 1:28 - loss: 0.0414 - acc: 0.983 - ETA: 1:28 - loss: 0.0414 - acc: 0.983 - ETA: 1:27 - loss: 0.0414 - acc: 0.983 - ETA: 1:27 - loss: 0.0414 - acc: 0.983 - ETA: 1:27 - loss: 0.0414 - acc: 0.983 - ETA: 1:26 - loss: 0.0414 - acc: 0.983 - ETA: 1:26 - loss: 0.0413 - acc: 0.983 - ETA: 1:25 - loss: 0.0413 - acc: 0.983 - ETA: 1:25 - loss: 0.0413 - acc: 0.983 - ETA: 1:25 - loss: 0.0413 - acc: 0.983 - ETA: 1:24 - loss: 0.0413 - acc: 0.983 - ETA: 1:24 - loss: 0.0413 - acc: 0.983 - ETA: 1:24 - loss: 0.0414 - acc: 0.983 - ETA: 1:23 - loss: 0.0414 - acc: 0.983 - ETA: 1:23 - loss: 0.0414 - acc: 0.983 - ETA: 1:23 - loss: 0.0414 - acc: 0.983 - ETA: 1:22 - loss: 0.0413 - acc: 0.983 - ETA: 1:22 - loss: 0.0413 - acc: 0.983 - ETA: 1:21 - loss: 0.0413 - acc: 0.983 - ETA: 1:21 - loss: 0.0413 - acc: 0.983 - ETA: 1:21 - loss: 0.0413 - acc: 0.983 - ETA: 1:20 - loss: 0.0413 - acc: 0.983 - ETA: 1:20 - loss: 0.0412 - acc: 0.983 - ETA: 1:20 - loss: 0.0412 - acc: 0.983 - ETA: 1:19 - loss: 0.0411 - acc: 0.983 - ETA: 1:19 - loss: 0.0411 - acc: 0.983 - ETA: 1:19 - loss: 0.0411 - acc: 0.983 - ETA: 1:18 - loss: 0.0410 - acc: 0.984 - ETA: 1:18 - loss: 0.0411 - acc: 0.983 - ETA: 1:18 - loss: 0.0411 - acc: 0.983 - ETA: 1:17 - loss: 0.0410 - acc: 0.983 - ETA: 1:17 - loss: 0.0411 - acc: 0.983 - ETA: 1:16 - loss: 0.0410 - acc: 0.983 - ETA: 1:16 - loss: 0.0410 - acc: 0.983 - ETA: 1:16 - loss: 0.0411 - acc: 0.983 - ETA: 1:15 - loss: 0.0411 - acc: 0.983 - ETA: 1:15 - loss: 0.0410 - acc: 0.984 - ETA: 1:15 - loss: 0.0410 - acc: 0.984 - ETA: 1:14 - loss: 0.0410 - acc: 0.984 - ETA: 1:14 - loss: 0.0410 - acc: 0.984 - ETA: 1:14 - loss: 0.0410 - acc: 0.984 - ETA: 1:13 - loss: 0.0410 - acc: 0.984 - ETA: 1:13 - loss: 0.0410 - acc: 0.984 - ETA: 1:13 - loss: 0.0410 - acc: 0.984 - ETA: 1:12 - loss: 0.0410 - acc: 0.984 - ETA: 1:12 - loss: 0.0410 - acc: 0.984 - ETA: 1:11 - loss: 0.0410 - acc: 0.984 - ETA: 1:11 - loss: 0.0410 - acc: 0.984 - ETA: 1:11 - loss: 0.0410 - acc: 0.983 - ETA: 1:10 - loss: 0.0410 - acc: 0.983 - ETA: 1:10 - loss: 0.0410 - acc: 0.983 - ETA: 1:10 - loss: 0.0410 - acc: 0.984 - ETA: 1:09 - loss: 0.0410 - acc: 0.984 - ETA: 1:09 - loss: 0.0410 - acc: 0.984 - ETA: 1:09 - loss: 0.0410 - acc: 0.984 - ETA: 1:08 - loss: 0.0410 - acc: 0.984 - ETA: 1:08 - loss: 0.0410 - acc: 0.984 - ETA: 1:08 - loss: 0.0410 - acc: 0.984 - ETA: 1:07 - loss: 0.0410 - acc: 0.984 - ETA: 1:07 - loss: 0.0410 - acc: 0.984 - ETA: 1:06 - loss: 0.0410 - acc: 0.984 - ETA: 1:06 - loss: 0.0410 - acc: 0.984 - ETA: 1:06 - loss: 0.0410 - acc: 0.983 - ETA: 1:05 - loss: 0.0411 - acc: 0.983 - ETA: 1:05 - loss: 0.0411 - acc: 0.983 - ETA: 1:05 - loss: 0.0411 - acc: 0.983 - ETA: 1:04 - loss: 0.0411 - acc: 0.983 - ETA: 1:04 - loss: 0.0410 - acc: 0.983 - ETA: 1:04 - loss: 0.0411 - acc: 0.983 - ETA: 1:03 - loss: 0.0411 - acc: 0.983 - ETA: 1:03 - loss: 0.0411 - acc: 0.983 - ETA: 1:03 - loss: 0.0411 - acc: 0.983 - ETA: 1:02 - loss: 0.0410 - acc: 0.983 - ETA: 1:02 - loss: 0.0410 - acc: 0.983 - ETA: 1:02 - loss: 0.0410 - acc: 0.983 - ETA: 1:01 - loss: 0.0410 - acc: 0.983 - ETA: 1:01 - loss: 0.0410 - acc: 0.983 - ETA: 1:00 - loss: 0.0410 - acc: 0.983 - ETA: 1:00 - loss: 0.0411 - acc: 0.983 - ETA: 1:00 - loss: 0.0411 - acc: 0.983 - ETA: 59s - loss: 0.0411 - acc: 0.983 - ETA: 59s - loss: 0.0411 - acc: 0.98 - ETA: 59s - loss: 0.0410 - acc: 0.98 - ETA: 58s - loss: 0.0411 - acc: 0.98 - ETA: 58s - loss: 0.0411 - acc: 0.98 - ETA: 58s - loss: 0.0410 - acc: 0.98 - ETA: 57s - loss: 0.0411 - acc: 0.98 - ETA: 57s - loss: 0.0411 - acc: 0.98 - ETA: 57s - loss: 0.0410 - acc: 0.98 - ETA: 56s - loss: 0.0410 - acc: 0.98 - ETA: 56s - loss: 0.0410 - acc: 0.98 - ETA: 56s - loss: 0.0410 - acc: 0.98 - ETA: 55s - loss: 0.0410 - acc: 0.98 - ETA: 55s - loss: 0.0410 - acc: 0.98 - ETA: 54s - loss: 0.0409 - acc: 0.98 - ETA: 54s - loss: 0.0409 - acc: 0.98 - ETA: 54s - loss: 0.0409 - acc: 0.98 - ETA: 53s - loss: 0.0410 - acc: 0.98 - ETA: 53s - loss: 0.0410 - acc: 0.98 - ETA: 53s - loss: 0.0410 - acc: 0.98 - ETA: 52s - loss: 0.0410 - acc: 0.98 - ETA: 52s - loss: 0.0410 - acc: 0.98 - ETA: 52s - loss: 0.0410 - acc: 0.98 - ETA: 51s - loss: 0.0410 - acc: 0.98 - ETA: 51s - loss: 0.0410 - acc: 0.98 - ETA: 51s - loss: 0.0410 - acc: 0.98 - ETA: 50s - loss: 0.0410 - acc: 0.98 - ETA: 50s - loss: 0.0409 - acc: 0.98 - ETA: 50s - loss: 0.0409 - acc: 0.98 - ETA: 49s - loss: 0.0409 - acc: 0.98 - ETA: 49s - loss: 0.0410 - acc: 0.98 - ETA: 48s - loss: 0.0410 - acc: 0.98 - ETA: 48s - loss: 0.0410 - acc: 0.98 - ETA: 48s - loss: 0.0410 - acc: 0.98 - ETA: 47s - loss: 0.0410 - acc: 0.98 - ETA: 47s - loss: 0.0410 - acc: 0.98 - ETA: 47s - loss: 0.0410 - acc: 0.98 - ETA: 46s - loss: 0.0410 - acc: 0.98 - ETA: 46s - loss: 0.0410 - acc: 0.98 - ETA: 46s - loss: 0.0410 - acc: 0.98 - ETA: 45s - loss: 0.0410 - acc: 0.98 - ETA: 45s - loss: 0.0410 - acc: 0.98 - ETA: 45s - loss: 0.0410 - acc: 0.98 - ETA: 44s - loss: 0.0411 - acc: 0.98 - ETA: 44s - loss: 0.0411 - acc: 0.98 - ETA: 44s - loss: 0.0411 - acc: 0.98 - ETA: 43s - loss: 0.0411 - acc: 0.98 - ETA: 43s - loss: 0.0411 - acc: 0.98 - ETA: 42s - loss: 0.0411 - acc: 0.98 - ETA: 42s - loss: 0.0411 - acc: 0.98 - ETA: 42s - loss: 0.0412 - acc: 0.98 - ETA: 41s - loss: 0.0412 - acc: 0.98 - ETA: 41s - loss: 0.0412 - acc: 0.98 - ETA: 41s - loss: 0.0412 - acc: 0.98 - ETA: 40s - loss: 0.0412 - acc: 0.98 - ETA: 40s - loss: 0.0412 - acc: 0.98 - ETA: 40s - loss: 0.0412 - acc: 0.98 - ETA: 39s - loss: 0.0412 - acc: 0.98 - ETA: 39s - loss: 0.0412 - acc: 0.98 - ETA: 39s - loss: 0.0412 - acc: 0.98 - ETA: 38s - loss: 0.0412 - acc: 0.98 - ETA: 38s - loss: 0.0411 - acc: 0.98 - ETA: 38s - loss: 0.0411 - acc: 0.98 - ETA: 37s - loss: 0.0411 - acc: 0.98 - ETA: 37s - loss: 0.0411 - acc: 0.98 - ETA: 36s - loss: 0.0411 - acc: 0.98 - ETA: 36s - loss: 0.0411 - acc: 0.98 - ETA: 36s - loss: 0.0411 - acc: 0.98 - ETA: 35s - loss: 0.0411 - acc: 0.98 - ETA: 35s - loss: 0.0411 - acc: 0.98 - ETA: 35s - loss: 0.0412 - acc: 0.98 - ETA: 34s - loss: 0.0411 - acc: 0.98 - ETA: 34s - loss: 0.0412 - acc: 0.98 - ETA: 34s - loss: 0.0412 - acc: 0.98 - ETA: 33s - loss: 0.0412 - acc: 0.98 - ETA: 33s - loss: 0.0412 - acc: 0.98 - ETA: 33s - loss: 0.0411 - acc: 0.98 - ETA: 32s - loss: 0.0413 - acc: 0.98 - ETA: 32s - loss: 0.0413 - acc: 0.9839129251/129251 [==============================] - ETA: 32s - loss: 0.0413 - acc: 0.98 - ETA: 31s - loss: 0.0412 - acc: 0.98 - ETA: 31s - loss: 0.0412 - acc: 0.98 - ETA: 31s - loss: 0.0412 - acc: 0.98 - ETA: 30s - loss: 0.0412 - acc: 0.98 - ETA: 30s - loss: 0.0412 - acc: 0.98 - ETA: 29s - loss: 0.0412 - acc: 0.98 - ETA: 29s - loss: 0.0412 - acc: 0.98 - ETA: 29s - loss: 0.0412 - acc: 0.98 - ETA: 28s - loss: 0.0412 - acc: 0.98 - ETA: 28s - loss: 0.0412 - acc: 0.98 - ETA: 28s - loss: 0.0412 - acc: 0.98 - ETA: 27s - loss: 0.0412 - acc: 0.98 - ETA: 27s - loss: 0.0412 - acc: 0.98 - ETA: 27s - loss: 0.0412 - acc: 0.98 - ETA: 26s - loss: 0.0412 - acc: 0.98 - ETA: 26s - loss: 0.0413 - acc: 0.98 - ETA: 26s - loss: 0.0413 - acc: 0.98 - ETA: 25s - loss: 0.0413 - acc: 0.98 - ETA: 25s - loss: 0.0412 - acc: 0.98 - ETA: 25s - loss: 0.0412 - acc: 0.98 - ETA: 24s - loss: 0.0412 - acc: 0.98 - ETA: 24s - loss: 0.0412 - acc: 0.98 - ETA: 24s - loss: 0.0412 - acc: 0.98 - ETA: 23s - loss: 0.0412 - acc: 0.98 - ETA: 23s - loss: 0.0412 - acc: 0.98 - ETA: 22s - loss: 0.0412 - acc: 0.98 - ETA: 22s - loss: 0.0412 - acc: 0.98 - ETA: 22s - loss: 0.0412 - acc: 0.98 - ETA: 21s - loss: 0.0412 - acc: 0.98 - ETA: 21s - loss: 0.0412 - acc: 0.98 - ETA: 21s - loss: 0.0412 - acc: 0.98 - ETA: 20s - loss: 0.0412 - acc: 0.98 - ETA: 20s - loss: 0.0412 - acc: 0.98 - ETA: 20s - loss: 0.0413 - acc: 0.98 - ETA: 19s - loss: 0.0413 - acc: 0.98 - ETA: 19s - loss: 0.0413 - acc: 0.98 - ETA: 19s - loss: 0.0412 - acc: 0.98 - ETA: 18s - loss: 0.0412 - acc: 0.98 - ETA: 18s - loss: 0.0412 - acc: 0.98 - ETA: 18s - loss: 0.0412 - acc: 0.98 - ETA: 17s - loss: 0.0412 - acc: 0.98 - ETA: 17s - loss: 0.0412 - acc: 0.98 - ETA: 17s - loss: 0.0412 - acc: 0.98 - ETA: 16s - loss: 0.0412 - acc: 0.98 - ETA: 16s - loss: 0.0412 - acc: 0.98 - ETA: 16s - loss: 0.0412 - acc: 0.98 - ETA: 15s - loss: 0.0412 - acc: 0.98 - ETA: 15s - loss: 0.0413 - acc: 0.98 - ETA: 14s - loss: 0.0412 - acc: 0.98 - ETA: 14s - loss: 0.0412 - acc: 0.98 - ETA: 14s - loss: 0.0412 - acc: 0.98 - ETA: 13s - loss: 0.0413 - acc: 0.98 - ETA: 13s - loss: 0.0413 - acc: 0.98 - ETA: 13s - loss: 0.0413 - acc: 0.98 - ETA: 12s - loss: 0.0413 - acc: 0.98 - ETA: 12s - loss: 0.0413 - acc: 0.98 - ETA: 12s - loss: 0.0413 - acc: 0.98 - ETA: 11s - loss: 0.0413 - acc: 0.98 - ETA: 11s - loss: 0.0413 - acc: 0.98 - ETA: 11s - loss: 0.0413 - acc: 0.98 - ETA: 10s - loss: 0.0413 - acc: 0.98 - ETA: 10s - loss: 0.0413 - acc: 0.98 - ETA: 10s - loss: 0.0413 - acc: 0.98 - ETA: 9s - loss: 0.0414 - acc: 0.9839 - ETA: 9s - loss: 0.0414 - acc: 0.983 - ETA: 9s - loss: 0.0414 - acc: 0.983 - ETA: 8s - loss: 0.0414 - acc: 0.983 - ETA: 8s - loss: 0.0414 - acc: 0.983 - ETA: 7s - loss: 0.0414 - acc: 0.983 - ETA: 7s - loss: 0.0414 - acc: 0.983 - ETA: 7s - loss: 0.0414 - acc: 0.983 - ETA: 6s - loss: 0.0414 - acc: 0.983 - ETA: 6s - loss: 0.0414 - acc: 0.983 - ETA: 6s - loss: 0.0415 - acc: 0.983 - ETA: 5s - loss: 0.0414 - acc: 0.983 - ETA: 5s - loss: 0.0414 - acc: 0.983 - ETA: 5s - loss: 0.0414 - acc: 0.983 - ETA: 4s - loss: 0.0414 - acc: 0.983 - ETA: 4s - loss: 0.0414 - acc: 0.983 - ETA: 4s - loss: 0.0415 - acc: 0.983 - ETA: 3s - loss: 0.0415 - acc: 0.983 - ETA: 3s - loss: 0.0415 - acc: 0.983 - ETA: 3s - loss: 0.0414 - acc: 0.983 - ETA: 2s - loss: 0.0414 - acc: 0.983 - ETA: 2s - loss: 0.0414 - acc: 0.983 - ETA: 2s - loss: 0.0414 - acc: 0.983 - ETA: 1s - loss: 0.0414 - acc: 0.983 - ETA: 1s - loss: 0.0414 - acc: 0.983 - ETA: 1s - loss: 0.0414 - acc: 0.983 - ETA: 0s - loss: 0.0414 - acc: 0.983 - ETA: 0s - loss: 0.0414 - acc: 0.983 - 183s 1ms/step - loss: 0.0414 - acc: 0.9839 - val_loss: 0.0421 - val_acc: 0.9835\n",
      "\n",
      " ROC-AUC - epoch: 5 - score: 0.985280 \n",
      "\n",
      "Epoch 6/10\n"
     ]
    },
    {
     "name": "stdout",
     "output_type": "stream",
     "text": [
      " 52224/129251 [===========>..................] - ETA: 2:53 - loss: 0.0351 - acc: 0.988 - ETA: 2:54 - loss: 0.0397 - acc: 0.986 - ETA: 2:56 - loss: 0.0440 - acc: 0.982 - ETA: 2:54 - loss: 0.0456 - acc: 0.981 - ETA: 2:53 - loss: 0.0431 - acc: 0.983 - ETA: 2:53 - loss: 0.0408 - acc: 0.984 - ETA: 2:53 - loss: 0.0400 - acc: 0.984 - ETA: 2:53 - loss: 0.0415 - acc: 0.983 - ETA: 2:53 - loss: 0.0428 - acc: 0.982 - ETA: 2:52 - loss: 0.0424 - acc: 0.982 - ETA: 2:51 - loss: 0.0425 - acc: 0.983 - ETA: 2:50 - loss: 0.0426 - acc: 0.983 - ETA: 2:51 - loss: 0.0425 - acc: 0.983 - ETA: 2:50 - loss: 0.0420 - acc: 0.983 - ETA: 2:49 - loss: 0.0420 - acc: 0.983 - ETA: 2:49 - loss: 0.0424 - acc: 0.983 - ETA: 2:49 - loss: 0.0430 - acc: 0.983 - ETA: 2:48 - loss: 0.0429 - acc: 0.983 - ETA: 2:48 - loss: 0.0433 - acc: 0.983 - ETA: 2:48 - loss: 0.0426 - acc: 0.983 - ETA: 2:47 - loss: 0.0421 - acc: 0.983 - ETA: 2:47 - loss: 0.0417 - acc: 0.983 - ETA: 2:47 - loss: 0.0418 - acc: 0.983 - ETA: 2:46 - loss: 0.0417 - acc: 0.983 - ETA: 2:46 - loss: 0.0417 - acc: 0.983 - ETA: 2:45 - loss: 0.0419 - acc: 0.983 - ETA: 2:45 - loss: 0.0416 - acc: 0.984 - ETA: 2:44 - loss: 0.0413 - acc: 0.984 - ETA: 2:44 - loss: 0.0411 - acc: 0.984 - ETA: 2:44 - loss: 0.0407 - acc: 0.984 - ETA: 2:43 - loss: 0.0402 - acc: 0.984 - ETA: 2:43 - loss: 0.0402 - acc: 0.984 - ETA: 2:43 - loss: 0.0398 - acc: 0.984 - ETA: 2:43 - loss: 0.0400 - acc: 0.984 - ETA: 2:42 - loss: 0.0404 - acc: 0.984 - ETA: 2:42 - loss: 0.0401 - acc: 0.984 - ETA: 2:42 - loss: 0.0400 - acc: 0.984 - ETA: 2:41 - loss: 0.0400 - acc: 0.984 - ETA: 2:41 - loss: 0.0398 - acc: 0.984 - ETA: 2:40 - loss: 0.0395 - acc: 0.984 - ETA: 2:40 - loss: 0.0396 - acc: 0.984 - ETA: 2:39 - loss: 0.0396 - acc: 0.984 - ETA: 2:39 - loss: 0.0396 - acc: 0.984 - ETA: 2:39 - loss: 0.0402 - acc: 0.984 - ETA: 2:39 - loss: 0.0406 - acc: 0.984 - ETA: 2:38 - loss: 0.0405 - acc: 0.984 - ETA: 2:38 - loss: 0.0404 - acc: 0.984 - ETA: 2:38 - loss: 0.0404 - acc: 0.984 - ETA: 2:37 - loss: 0.0402 - acc: 0.984 - ETA: 2:37 - loss: 0.0400 - acc: 0.984 - ETA: 2:36 - loss: 0.0404 - acc: 0.984 - ETA: 2:36 - loss: 0.0403 - acc: 0.984 - ETA: 2:36 - loss: 0.0402 - acc: 0.984 - ETA: 2:35 - loss: 0.0400 - acc: 0.984 - ETA: 2:35 - loss: 0.0398 - acc: 0.984 - ETA: 2:35 - loss: 0.0398 - acc: 0.984 - ETA: 2:34 - loss: 0.0397 - acc: 0.984 - ETA: 2:34 - loss: 0.0400 - acc: 0.984 - ETA: 2:34 - loss: 0.0398 - acc: 0.984 - ETA: 2:33 - loss: 0.0400 - acc: 0.984 - ETA: 2:33 - loss: 0.0400 - acc: 0.984 - ETA: 2:33 - loss: 0.0401 - acc: 0.984 - ETA: 2:32 - loss: 0.0400 - acc: 0.984 - ETA: 2:32 - loss: 0.0401 - acc: 0.984 - ETA: 2:31 - loss: 0.0401 - acc: 0.984 - ETA: 2:31 - loss: 0.0401 - acc: 0.984 - ETA: 2:31 - loss: 0.0402 - acc: 0.984 - ETA: 2:30 - loss: 0.0402 - acc: 0.984 - ETA: 2:30 - loss: 0.0402 - acc: 0.984 - ETA: 2:30 - loss: 0.0402 - acc: 0.984 - ETA: 2:29 - loss: 0.0402 - acc: 0.984 - ETA: 2:29 - loss: 0.0401 - acc: 0.984 - ETA: 2:29 - loss: 0.0401 - acc: 0.984 - ETA: 2:28 - loss: 0.0401 - acc: 0.984 - ETA: 2:28 - loss: 0.0403 - acc: 0.984 - ETA: 2:28 - loss: 0.0402 - acc: 0.984 - ETA: 2:27 - loss: 0.0401 - acc: 0.984 - ETA: 2:27 - loss: 0.0399 - acc: 0.984 - ETA: 2:27 - loss: 0.0399 - acc: 0.984 - ETA: 2:27 - loss: 0.0401 - acc: 0.984 - ETA: 2:26 - loss: 0.0400 - acc: 0.984 - ETA: 2:26 - loss: 0.0401 - acc: 0.984 - ETA: 2:25 - loss: 0.0401 - acc: 0.984 - ETA: 2:25 - loss: 0.0400 - acc: 0.984 - ETA: 2:25 - loss: 0.0399 - acc: 0.984 - ETA: 2:24 - loss: 0.0399 - acc: 0.984 - ETA: 2:24 - loss: 0.0401 - acc: 0.984 - ETA: 2:24 - loss: 0.0401 - acc: 0.984 - ETA: 2:23 - loss: 0.0402 - acc: 0.984 - ETA: 2:23 - loss: 0.0401 - acc: 0.984 - ETA: 2:23 - loss: 0.0400 - acc: 0.984 - ETA: 2:22 - loss: 0.0400 - acc: 0.984 - ETA: 2:22 - loss: 0.0400 - acc: 0.984 - ETA: 2:22 - loss: 0.0401 - acc: 0.984 - ETA: 2:21 - loss: 0.0400 - acc: 0.984 - ETA: 2:21 - loss: 0.0399 - acc: 0.984 - ETA: 2:20 - loss: 0.0399 - acc: 0.984 - ETA: 2:20 - loss: 0.0398 - acc: 0.984 - ETA: 2:20 - loss: 0.0398 - acc: 0.984 - ETA: 2:19 - loss: 0.0398 - acc: 0.984 - ETA: 2:19 - loss: 0.0398 - acc: 0.984 - ETA: 2:19 - loss: 0.0399 - acc: 0.984 - ETA: 2:18 - loss: 0.0399 - acc: 0.984 - ETA: 2:18 - loss: 0.0399 - acc: 0.984 - ETA: 2:18 - loss: 0.0398 - acc: 0.984 - ETA: 2:17 - loss: 0.0399 - acc: 0.984 - ETA: 2:17 - loss: 0.0398 - acc: 0.984 - ETA: 2:17 - loss: 0.0398 - acc: 0.984 - ETA: 2:16 - loss: 0.0398 - acc: 0.984 - ETA: 2:16 - loss: 0.0398 - acc: 0.984 - ETA: 2:16 - loss: 0.0400 - acc: 0.984 - ETA: 2:15 - loss: 0.0400 - acc: 0.984 - ETA: 2:15 - loss: 0.0399 - acc: 0.984 - ETA: 2:15 - loss: 0.0399 - acc: 0.984 - ETA: 2:14 - loss: 0.0400 - acc: 0.984 - ETA: 2:14 - loss: 0.0399 - acc: 0.984 - ETA: 2:14 - loss: 0.0399 - acc: 0.984 - ETA: 2:13 - loss: 0.0399 - acc: 0.984 - ETA: 2:13 - loss: 0.0398 - acc: 0.984 - ETA: 2:12 - loss: 0.0398 - acc: 0.984 - ETA: 2:12 - loss: 0.0397 - acc: 0.984 - ETA: 2:12 - loss: 0.0398 - acc: 0.984 - ETA: 2:11 - loss: 0.0398 - acc: 0.984 - ETA: 2:11 - loss: 0.0398 - acc: 0.984 - ETA: 2:11 - loss: 0.0399 - acc: 0.984 - ETA: 2:10 - loss: 0.0398 - acc: 0.984 - ETA: 2:10 - loss: 0.0399 - acc: 0.984 - ETA: 2:10 - loss: 0.0399 - acc: 0.984 - ETA: 2:09 - loss: 0.0399 - acc: 0.984 - ETA: 2:09 - loss: 0.0398 - acc: 0.984 - ETA: 2:09 - loss: 0.0399 - acc: 0.984 - ETA: 2:08 - loss: 0.0399 - acc: 0.984 - ETA: 2:08 - loss: 0.0399 - acc: 0.984 - ETA: 2:08 - loss: 0.0399 - acc: 0.984 - ETA: 2:07 - loss: 0.0399 - acc: 0.984 - ETA: 2:07 - loss: 0.0399 - acc: 0.984 - ETA: 2:07 - loss: 0.0400 - acc: 0.984 - ETA: 2:06 - loss: 0.0399 - acc: 0.984 - ETA: 2:06 - loss: 0.0399 - acc: 0.984 - ETA: 2:05 - loss: 0.0399 - acc: 0.984 - ETA: 2:05 - loss: 0.0399 - acc: 0.984 - ETA: 2:05 - loss: 0.0399 - acc: 0.984 - ETA: 2:04 - loss: 0.0399 - acc: 0.984 - ETA: 2:04 - loss: 0.0399 - acc: 0.984 - ETA: 2:04 - loss: 0.0399 - acc: 0.984 - ETA: 2:03 - loss: 0.0399 - acc: 0.984 - ETA: 2:03 - loss: 0.0398 - acc: 0.984 - ETA: 2:03 - loss: 0.0398 - acc: 0.984 - ETA: 2:02 - loss: 0.0398 - acc: 0.984 - ETA: 2:02 - loss: 0.0397 - acc: 0.984 - ETA: 2:02 - loss: 0.0397 - acc: 0.984 - ETA: 2:01 - loss: 0.0395 - acc: 0.984 - ETA: 2:01 - loss: 0.0396 - acc: 0.984 - ETA: 2:01 - loss: 0.0395 - acc: 0.984 - ETA: 2:00 - loss: 0.0395 - acc: 0.984 - ETA: 2:00 - loss: 0.0395 - acc: 0.984 - ETA: 2:00 - loss: 0.0397 - acc: 0.984 - ETA: 1:59 - loss: 0.0398 - acc: 0.984 - ETA: 1:59 - loss: 0.0397 - acc: 0.984 - ETA: 1:59 - loss: 0.0398 - acc: 0.984 - ETA: 1:58 - loss: 0.0398 - acc: 0.984 - ETA: 1:58 - loss: 0.0398 - acc: 0.984 - ETA: 1:57 - loss: 0.0398 - acc: 0.984 - ETA: 1:57 - loss: 0.0399 - acc: 0.984 - ETA: 1:57 - loss: 0.0399 - acc: 0.984 - ETA: 1:56 - loss: 0.0399 - acc: 0.984 - ETA: 1:56 - loss: 0.0398 - acc: 0.984 - ETA: 1:56 - loss: 0.0398 - acc: 0.984 - ETA: 1:55 - loss: 0.0398 - acc: 0.984 - ETA: 1:55 - loss: 0.0399 - acc: 0.984 - ETA: 1:55 - loss: 0.0399 - acc: 0.984 - ETA: 1:54 - loss: 0.0399 - acc: 0.984 - ETA: 1:54 - loss: 0.0400 - acc: 0.984 - ETA: 1:54 - loss: 0.0400 - acc: 0.984 - ETA: 1:53 - loss: 0.0399 - acc: 0.984 - ETA: 1:53 - loss: 0.0399 - acc: 0.984 - ETA: 1:53 - loss: 0.0399 - acc: 0.984 - ETA: 1:52 - loss: 0.0400 - acc: 0.984 - ETA: 1:52 - loss: 0.0399 - acc: 0.984 - ETA: 1:51 - loss: 0.0401 - acc: 0.984 - ETA: 1:51 - loss: 0.0401 - acc: 0.984 - ETA: 1:51 - loss: 0.0401 - acc: 0.984 - ETA: 1:50 - loss: 0.0400 - acc: 0.984 - ETA: 1:50 - loss: 0.0401 - acc: 0.984 - ETA: 1:50 - loss: 0.0401 - acc: 0.984 - ETA: 1:49 - loss: 0.0401 - acc: 0.984 - ETA: 1:49 - loss: 0.0401 - acc: 0.984 - ETA: 1:49 - loss: 0.0401 - acc: 0.984 - ETA: 1:48 - loss: 0.0401 - acc: 0.984 - ETA: 1:48 - loss: 0.0401 - acc: 0.984 - ETA: 1:48 - loss: 0.0402 - acc: 0.984 - ETA: 1:47 - loss: 0.0401 - acc: 0.984 - ETA: 1:47 - loss: 0.0401 - acc: 0.984 - ETA: 1:47 - loss: 0.0401 - acc: 0.984 - ETA: 1:46 - loss: 0.0400 - acc: 0.984 - ETA: 1:46 - loss: 0.0400 - acc: 0.984 - ETA: 1:46 - loss: 0.0400 - acc: 0.984 - ETA: 1:45 - loss: 0.0400 - acc: 0.984 - ETA: 1:45 - loss: 0.0399 - acc: 0.984 - ETA: 1:45 - loss: 0.0399 - acc: 0.984 - ETA: 1:44 - loss: 0.0399 - acc: 0.984 - ETA: 1:44 - loss: 0.0398 - acc: 0.984 - ETA: 1:44 - loss: 0.0398 - acc: 0.984 - ETA: 1:43 - loss: 0.0399 - acc: 0.9844105472/129251 [=======================>......] - ETA: 1:43 - loss: 0.0398 - acc: 0.984 - ETA: 1:42 - loss: 0.0398 - acc: 0.984 - ETA: 1:42 - loss: 0.0398 - acc: 0.984 - ETA: 1:42 - loss: 0.0399 - acc: 0.984 - ETA: 1:41 - loss: 0.0399 - acc: 0.984 - ETA: 1:41 - loss: 0.0399 - acc: 0.984 - ETA: 1:41 - loss: 0.0398 - acc: 0.984 - ETA: 1:40 - loss: 0.0398 - acc: 0.984 - ETA: 1:40 - loss: 0.0398 - acc: 0.984 - ETA: 1:40 - loss: 0.0398 - acc: 0.984 - ETA: 1:39 - loss: 0.0399 - acc: 0.984 - ETA: 1:39 - loss: 0.0398 - acc: 0.984 - ETA: 1:39 - loss: 0.0398 - acc: 0.984 - ETA: 1:38 - loss: 0.0398 - acc: 0.984 - ETA: 1:38 - loss: 0.0398 - acc: 0.984 - ETA: 1:38 - loss: 0.0398 - acc: 0.984 - ETA: 1:37 - loss: 0.0397 - acc: 0.984 - ETA: 1:37 - loss: 0.0398 - acc: 0.984 - ETA: 1:37 - loss: 0.0398 - acc: 0.984 - ETA: 1:36 - loss: 0.0398 - acc: 0.984 - ETA: 1:36 - loss: 0.0398 - acc: 0.984 - ETA: 1:36 - loss: 0.0398 - acc: 0.984 - ETA: 1:35 - loss: 0.0397 - acc: 0.984 - ETA: 1:35 - loss: 0.0397 - acc: 0.984 - ETA: 1:35 - loss: 0.0397 - acc: 0.984 - ETA: 1:34 - loss: 0.0397 - acc: 0.984 - ETA: 1:34 - loss: 0.0398 - acc: 0.984 - ETA: 1:34 - loss: 0.0398 - acc: 0.984 - ETA: 1:33 - loss: 0.0398 - acc: 0.984 - ETA: 1:33 - loss: 0.0398 - acc: 0.984 - ETA: 1:32 - loss: 0.0398 - acc: 0.984 - ETA: 1:32 - loss: 0.0398 - acc: 0.984 - ETA: 1:32 - loss: 0.0398 - acc: 0.984 - ETA: 1:31 - loss: 0.0398 - acc: 0.984 - ETA: 1:31 - loss: 0.0399 - acc: 0.984 - ETA: 1:31 - loss: 0.0399 - acc: 0.984 - ETA: 1:30 - loss: 0.0400 - acc: 0.984 - ETA: 1:30 - loss: 0.0399 - acc: 0.984 - ETA: 1:30 - loss: 0.0399 - acc: 0.984 - ETA: 1:29 - loss: 0.0399 - acc: 0.984 - ETA: 1:29 - loss: 0.0399 - acc: 0.984 - ETA: 1:29 - loss: 0.0399 - acc: 0.984 - ETA: 1:28 - loss: 0.0398 - acc: 0.984 - ETA: 1:28 - loss: 0.0398 - acc: 0.984 - ETA: 1:28 - loss: 0.0398 - acc: 0.984 - ETA: 1:27 - loss: 0.0398 - acc: 0.984 - ETA: 1:27 - loss: 0.0398 - acc: 0.984 - ETA: 1:27 - loss: 0.0398 - acc: 0.984 - ETA: 1:26 - loss: 0.0398 - acc: 0.984 - ETA: 1:26 - loss: 0.0398 - acc: 0.984 - ETA: 1:26 - loss: 0.0397 - acc: 0.984 - ETA: 1:25 - loss: 0.0397 - acc: 0.984 - ETA: 1:25 - loss: 0.0397 - acc: 0.984 - ETA: 1:25 - loss: 0.0397 - acc: 0.984 - ETA: 1:24 - loss: 0.0397 - acc: 0.984 - ETA: 1:24 - loss: 0.0399 - acc: 0.984 - ETA: 1:24 - loss: 0.0399 - acc: 0.984 - ETA: 1:23 - loss: 0.0399 - acc: 0.984 - ETA: 1:23 - loss: 0.0399 - acc: 0.984 - ETA: 1:22 - loss: 0.0399 - acc: 0.984 - ETA: 1:22 - loss: 0.0398 - acc: 0.984 - ETA: 1:22 - loss: 0.0398 - acc: 0.984 - ETA: 1:21 - loss: 0.0399 - acc: 0.984 - ETA: 1:21 - loss: 0.0399 - acc: 0.984 - ETA: 1:21 - loss: 0.0398 - acc: 0.984 - ETA: 1:20 - loss: 0.0398 - acc: 0.984 - ETA: 1:20 - loss: 0.0398 - acc: 0.984 - ETA: 1:20 - loss: 0.0398 - acc: 0.984 - ETA: 1:19 - loss: 0.0398 - acc: 0.984 - ETA: 1:19 - loss: 0.0398 - acc: 0.984 - ETA: 1:19 - loss: 0.0397 - acc: 0.984 - ETA: 1:18 - loss: 0.0397 - acc: 0.984 - ETA: 1:18 - loss: 0.0398 - acc: 0.984 - ETA: 1:18 - loss: 0.0398 - acc: 0.984 - ETA: 1:17 - loss: 0.0397 - acc: 0.984 - ETA: 1:17 - loss: 0.0398 - acc: 0.984 - ETA: 1:17 - loss: 0.0398 - acc: 0.984 - ETA: 1:16 - loss: 0.0398 - acc: 0.984 - ETA: 1:16 - loss: 0.0398 - acc: 0.984 - ETA: 1:16 - loss: 0.0398 - acc: 0.984 - ETA: 1:15 - loss: 0.0398 - acc: 0.984 - ETA: 1:15 - loss: 0.0398 - acc: 0.984 - ETA: 1:14 - loss: 0.0399 - acc: 0.984 - ETA: 1:14 - loss: 0.0399 - acc: 0.984 - ETA: 1:14 - loss: 0.0400 - acc: 0.984 - ETA: 1:13 - loss: 0.0400 - acc: 0.984 - ETA: 1:13 - loss: 0.0400 - acc: 0.984 - ETA: 1:13 - loss: 0.0400 - acc: 0.984 - ETA: 1:12 - loss: 0.0399 - acc: 0.984 - ETA: 1:12 - loss: 0.0399 - acc: 0.984 - ETA: 1:12 - loss: 0.0399 - acc: 0.984 - ETA: 1:11 - loss: 0.0399 - acc: 0.984 - ETA: 1:11 - loss: 0.0399 - acc: 0.984 - ETA: 1:11 - loss: 0.0400 - acc: 0.984 - ETA: 1:10 - loss: 0.0399 - acc: 0.984 - ETA: 1:10 - loss: 0.0399 - acc: 0.984 - ETA: 1:10 - loss: 0.0399 - acc: 0.984 - ETA: 1:09 - loss: 0.0399 - acc: 0.984 - ETA: 1:09 - loss: 0.0399 - acc: 0.984 - ETA: 1:09 - loss: 0.0399 - acc: 0.984 - ETA: 1:08 - loss: 0.0399 - acc: 0.984 - ETA: 1:08 - loss: 0.0399 - acc: 0.984 - ETA: 1:08 - loss: 0.0398 - acc: 0.984 - ETA: 1:07 - loss: 0.0398 - acc: 0.984 - ETA: 1:07 - loss: 0.0398 - acc: 0.984 - ETA: 1:07 - loss: 0.0398 - acc: 0.984 - ETA: 1:06 - loss: 0.0398 - acc: 0.984 - ETA: 1:06 - loss: 0.0399 - acc: 0.984 - ETA: 1:05 - loss: 0.0399 - acc: 0.984 - ETA: 1:05 - loss: 0.0399 - acc: 0.984 - ETA: 1:05 - loss: 0.0399 - acc: 0.984 - ETA: 1:04 - loss: 0.0399 - acc: 0.984 - ETA: 1:04 - loss: 0.0399 - acc: 0.984 - ETA: 1:04 - loss: 0.0399 - acc: 0.984 - ETA: 1:03 - loss: 0.0399 - acc: 0.984 - ETA: 1:03 - loss: 0.0399 - acc: 0.984 - ETA: 1:03 - loss: 0.0399 - acc: 0.984 - ETA: 1:02 - loss: 0.0400 - acc: 0.984 - ETA: 1:02 - loss: 0.0399 - acc: 0.984 - ETA: 1:02 - loss: 0.0400 - acc: 0.984 - ETA: 1:01 - loss: 0.0400 - acc: 0.984 - ETA: 1:01 - loss: 0.0399 - acc: 0.984 - ETA: 1:01 - loss: 0.0399 - acc: 0.984 - ETA: 1:00 - loss: 0.0400 - acc: 0.984 - ETA: 1:00 - loss: 0.0399 - acc: 0.984 - ETA: 1:00 - loss: 0.0400 - acc: 0.984 - ETA: 59s - loss: 0.0400 - acc: 0.984 - ETA: 59s - loss: 0.0400 - acc: 0.98 - ETA: 59s - loss: 0.0400 - acc: 0.98 - ETA: 58s - loss: 0.0401 - acc: 0.98 - ETA: 58s - loss: 0.0401 - acc: 0.98 - ETA: 58s - loss: 0.0401 - acc: 0.98 - ETA: 57s - loss: 0.0401 - acc: 0.98 - ETA: 57s - loss: 0.0401 - acc: 0.98 - ETA: 57s - loss: 0.0401 - acc: 0.98 - ETA: 56s - loss: 0.0401 - acc: 0.98 - ETA: 56s - loss: 0.0401 - acc: 0.98 - ETA: 56s - loss: 0.0401 - acc: 0.98 - ETA: 55s - loss: 0.0401 - acc: 0.98 - ETA: 55s - loss: 0.0401 - acc: 0.98 - ETA: 55s - loss: 0.0401 - acc: 0.98 - ETA: 54s - loss: 0.0401 - acc: 0.98 - ETA: 54s - loss: 0.0401 - acc: 0.98 - ETA: 54s - loss: 0.0401 - acc: 0.98 - ETA: 53s - loss: 0.0401 - acc: 0.98 - ETA: 53s - loss: 0.0401 - acc: 0.98 - ETA: 53s - loss: 0.0401 - acc: 0.98 - ETA: 52s - loss: 0.0401 - acc: 0.98 - ETA: 52s - loss: 0.0401 - acc: 0.98 - ETA: 51s - loss: 0.0401 - acc: 0.98 - ETA: 51s - loss: 0.0401 - acc: 0.98 - ETA: 51s - loss: 0.0401 - acc: 0.98 - ETA: 50s - loss: 0.0401 - acc: 0.98 - ETA: 50s - loss: 0.0400 - acc: 0.98 - ETA: 50s - loss: 0.0400 - acc: 0.98 - ETA: 49s - loss: 0.0400 - acc: 0.98 - ETA: 49s - loss: 0.0401 - acc: 0.98 - ETA: 49s - loss: 0.0401 - acc: 0.98 - ETA: 48s - loss: 0.0401 - acc: 0.98 - ETA: 48s - loss: 0.0401 - acc: 0.98 - ETA: 48s - loss: 0.0401 - acc: 0.98 - ETA: 47s - loss: 0.0401 - acc: 0.98 - ETA: 47s - loss: 0.0401 - acc: 0.98 - ETA: 47s - loss: 0.0400 - acc: 0.98 - ETA: 46s - loss: 0.0400 - acc: 0.98 - ETA: 46s - loss: 0.0400 - acc: 0.98 - ETA: 46s - loss: 0.0401 - acc: 0.98 - ETA: 45s - loss: 0.0401 - acc: 0.98 - ETA: 45s - loss: 0.0400 - acc: 0.98 - ETA: 45s - loss: 0.0401 - acc: 0.98 - ETA: 44s - loss: 0.0401 - acc: 0.98 - ETA: 44s - loss: 0.0401 - acc: 0.98 - ETA: 44s - loss: 0.0402 - acc: 0.98 - ETA: 43s - loss: 0.0402 - acc: 0.98 - ETA: 43s - loss: 0.0402 - acc: 0.98 - ETA: 43s - loss: 0.0401 - acc: 0.98 - ETA: 42s - loss: 0.0402 - acc: 0.98 - ETA: 42s - loss: 0.0402 - acc: 0.98 - ETA: 42s - loss: 0.0401 - acc: 0.98 - ETA: 41s - loss: 0.0401 - acc: 0.98 - ETA: 41s - loss: 0.0401 - acc: 0.98 - ETA: 40s - loss: 0.0402 - acc: 0.98 - ETA: 40s - loss: 0.0401 - acc: 0.98 - ETA: 40s - loss: 0.0401 - acc: 0.98 - ETA: 39s - loss: 0.0401 - acc: 0.98 - ETA: 39s - loss: 0.0401 - acc: 0.98 - ETA: 39s - loss: 0.0401 - acc: 0.98 - ETA: 38s - loss: 0.0401 - acc: 0.98 - ETA: 38s - loss: 0.0401 - acc: 0.98 - ETA: 38s - loss: 0.0401 - acc: 0.98 - ETA: 37s - loss: 0.0401 - acc: 0.98 - ETA: 37s - loss: 0.0401 - acc: 0.98 - ETA: 37s - loss: 0.0401 - acc: 0.98 - ETA: 36s - loss: 0.0401 - acc: 0.98 - ETA: 36s - loss: 0.0400 - acc: 0.98 - ETA: 36s - loss: 0.0401 - acc: 0.98 - ETA: 35s - loss: 0.0401 - acc: 0.98 - ETA: 35s - loss: 0.0401 - acc: 0.98 - ETA: 35s - loss: 0.0401 - acc: 0.98 - ETA: 34s - loss: 0.0401 - acc: 0.98 - ETA: 34s - loss: 0.0401 - acc: 0.98 - ETA: 34s - loss: 0.0401 - acc: 0.98 - ETA: 33s - loss: 0.0401 - acc: 0.98 - ETA: 33s - loss: 0.0401 - acc: 0.98 - ETA: 33s - loss: 0.0401 - acc: 0.98 - ETA: 32s - loss: 0.0401 - acc: 0.98 - ETA: 32s - loss: 0.0401 - acc: 0.98 - ETA: 32s - loss: 0.0401 - acc: 0.9843"
     ]
    },
    {
     "name": "stdout",
     "output_type": "stream",
     "text": [
      "129251/129251 [==============================] - ETA: 31s - loss: 0.0402 - acc: 0.98 - ETA: 31s - loss: 0.0402 - acc: 0.98 - ETA: 30s - loss: 0.0402 - acc: 0.98 - ETA: 30s - loss: 0.0402 - acc: 0.98 - ETA: 30s - loss: 0.0402 - acc: 0.98 - ETA: 29s - loss: 0.0401 - acc: 0.98 - ETA: 29s - loss: 0.0402 - acc: 0.98 - ETA: 29s - loss: 0.0402 - acc: 0.98 - ETA: 28s - loss: 0.0402 - acc: 0.98 - ETA: 28s - loss: 0.0402 - acc: 0.98 - ETA: 28s - loss: 0.0402 - acc: 0.98 - ETA: 27s - loss: 0.0402 - acc: 0.98 - ETA: 27s - loss: 0.0402 - acc: 0.98 - ETA: 27s - loss: 0.0402 - acc: 0.98 - ETA: 26s - loss: 0.0402 - acc: 0.98 - ETA: 26s - loss: 0.0402 - acc: 0.98 - ETA: 26s - loss: 0.0402 - acc: 0.98 - ETA: 25s - loss: 0.0402 - acc: 0.98 - ETA: 25s - loss: 0.0402 - acc: 0.98 - ETA: 25s - loss: 0.0402 - acc: 0.98 - ETA: 24s - loss: 0.0402 - acc: 0.98 - ETA: 24s - loss: 0.0402 - acc: 0.98 - ETA: 24s - loss: 0.0402 - acc: 0.98 - ETA: 23s - loss: 0.0402 - acc: 0.98 - ETA: 23s - loss: 0.0402 - acc: 0.98 - ETA: 23s - loss: 0.0402 - acc: 0.98 - ETA: 22s - loss: 0.0402 - acc: 0.98 - ETA: 22s - loss: 0.0402 - acc: 0.98 - ETA: 22s - loss: 0.0402 - acc: 0.98 - ETA: 21s - loss: 0.0402 - acc: 0.98 - ETA: 21s - loss: 0.0402 - acc: 0.98 - ETA: 21s - loss: 0.0403 - acc: 0.98 - ETA: 20s - loss: 0.0403 - acc: 0.98 - ETA: 20s - loss: 0.0402 - acc: 0.98 - ETA: 19s - loss: 0.0403 - acc: 0.98 - ETA: 19s - loss: 0.0403 - acc: 0.98 - ETA: 19s - loss: 0.0403 - acc: 0.98 - ETA: 18s - loss: 0.0403 - acc: 0.98 - ETA: 18s - loss: 0.0403 - acc: 0.98 - ETA: 18s - loss: 0.0403 - acc: 0.98 - ETA: 17s - loss: 0.0403 - acc: 0.98 - ETA: 17s - loss: 0.0402 - acc: 0.98 - ETA: 17s - loss: 0.0402 - acc: 0.98 - ETA: 16s - loss: 0.0403 - acc: 0.98 - ETA: 16s - loss: 0.0402 - acc: 0.98 - ETA: 16s - loss: 0.0402 - acc: 0.98 - ETA: 15s - loss: 0.0402 - acc: 0.98 - ETA: 15s - loss: 0.0402 - acc: 0.98 - ETA: 15s - loss: 0.0402 - acc: 0.98 - ETA: 14s - loss: 0.0403 - acc: 0.98 - ETA: 14s - loss: 0.0403 - acc: 0.98 - ETA: 14s - loss: 0.0403 - acc: 0.98 - ETA: 13s - loss: 0.0403 - acc: 0.98 - ETA: 13s - loss: 0.0402 - acc: 0.98 - ETA: 13s - loss: 0.0402 - acc: 0.98 - ETA: 12s - loss: 0.0402 - acc: 0.98 - ETA: 12s - loss: 0.0403 - acc: 0.98 - ETA: 12s - loss: 0.0403 - acc: 0.98 - ETA: 11s - loss: 0.0403 - acc: 0.98 - ETA: 11s - loss: 0.0403 - acc: 0.98 - ETA: 11s - loss: 0.0403 - acc: 0.98 - ETA: 10s - loss: 0.0403 - acc: 0.98 - ETA: 10s - loss: 0.0403 - acc: 0.98 - ETA: 9s - loss: 0.0403 - acc: 0.9843 - ETA: 9s - loss: 0.0404 - acc: 0.984 - ETA: 9s - loss: 0.0404 - acc: 0.984 - ETA: 8s - loss: 0.0404 - acc: 0.984 - ETA: 8s - loss: 0.0404 - acc: 0.984 - ETA: 8s - loss: 0.0404 - acc: 0.984 - ETA: 7s - loss: 0.0404 - acc: 0.984 - ETA: 7s - loss: 0.0403 - acc: 0.984 - ETA: 7s - loss: 0.0403 - acc: 0.984 - ETA: 6s - loss: 0.0403 - acc: 0.984 - ETA: 6s - loss: 0.0403 - acc: 0.984 - ETA: 6s - loss: 0.0403 - acc: 0.984 - ETA: 5s - loss: 0.0403 - acc: 0.984 - ETA: 5s - loss: 0.0403 - acc: 0.984 - ETA: 5s - loss: 0.0403 - acc: 0.984 - ETA: 4s - loss: 0.0403 - acc: 0.984 - ETA: 4s - loss: 0.0403 - acc: 0.984 - ETA: 4s - loss: 0.0403 - acc: 0.984 - ETA: 3s - loss: 0.0403 - acc: 0.984 - ETA: 3s - loss: 0.0403 - acc: 0.984 - ETA: 3s - loss: 0.0403 - acc: 0.984 - ETA: 2s - loss: 0.0403 - acc: 0.984 - ETA: 2s - loss: 0.0403 - acc: 0.984 - ETA: 2s - loss: 0.0403 - acc: 0.984 - ETA: 1s - loss: 0.0403 - acc: 0.984 - ETA: 1s - loss: 0.0403 - acc: 0.984 - ETA: 0s - loss: 0.0403 - acc: 0.984 - ETA: 0s - loss: 0.0403 - acc: 0.984 - ETA: 0s - loss: 0.0403 - acc: 0.984 - 181s 1ms/step - loss: 0.0403 - acc: 0.9842 - val_loss: 0.0418 - val_acc: 0.9837\n",
      "\n",
      " ROC-AUC - epoch: 6 - score: 0.985633 \n",
      "\n",
      "Epoch 7/10\n",
      " 52224/129251 [===========>..................] - ETA: 2:46 - loss: 0.0490 - acc: 0.979 - ETA: 2:44 - loss: 0.0457 - acc: 0.979 - ETA: 2:43 - loss: 0.0432 - acc: 0.981 - ETA: 2:44 - loss: 0.0430 - acc: 0.981 - ETA: 2:43 - loss: 0.0412 - acc: 0.982 - ETA: 2:45 - loss: 0.0410 - acc: 0.983 - ETA: 2:45 - loss: 0.0410 - acc: 0.982 - ETA: 2:44 - loss: 0.0403 - acc: 0.983 - ETA: 2:45 - loss: 0.0403 - acc: 0.982 - ETA: 2:44 - loss: 0.0406 - acc: 0.983 - ETA: 2:44 - loss: 0.0394 - acc: 0.983 - ETA: 2:43 - loss: 0.0405 - acc: 0.983 - ETA: 2:43 - loss: 0.0399 - acc: 0.983 - ETA: 2:43 - loss: 0.0394 - acc: 0.984 - ETA: 2:42 - loss: 0.0398 - acc: 0.983 - ETA: 2:42 - loss: 0.0392 - acc: 0.984 - ETA: 2:42 - loss: 0.0391 - acc: 0.984 - ETA: 2:41 - loss: 0.0393 - acc: 0.984 - ETA: 2:41 - loss: 0.0390 - acc: 0.984 - ETA: 2:42 - loss: 0.0402 - acc: 0.984 - ETA: 2:41 - loss: 0.0410 - acc: 0.983 - ETA: 2:41 - loss: 0.0403 - acc: 0.984 - ETA: 2:41 - loss: 0.0408 - acc: 0.983 - ETA: 2:40 - loss: 0.0411 - acc: 0.983 - ETA: 2:40 - loss: 0.0406 - acc: 0.983 - ETA: 2:40 - loss: 0.0405 - acc: 0.983 - ETA: 2:39 - loss: 0.0410 - acc: 0.983 - ETA: 2:39 - loss: 0.0406 - acc: 0.983 - ETA: 2:38 - loss: 0.0403 - acc: 0.983 - ETA: 2:38 - loss: 0.0403 - acc: 0.983 - ETA: 2:38 - loss: 0.0402 - acc: 0.983 - ETA: 2:37 - loss: 0.0406 - acc: 0.983 - ETA: 2:37 - loss: 0.0402 - acc: 0.984 - ETA: 2:37 - loss: 0.0399 - acc: 0.984 - ETA: 2:36 - loss: 0.0397 - acc: 0.984 - ETA: 2:36 - loss: 0.0397 - acc: 0.984 - ETA: 2:35 - loss: 0.0394 - acc: 0.984 - ETA: 2:35 - loss: 0.0391 - acc: 0.984 - ETA: 2:35 - loss: 0.0396 - acc: 0.984 - ETA: 2:34 - loss: 0.0399 - acc: 0.984 - ETA: 2:34 - loss: 0.0396 - acc: 0.984 - ETA: 2:33 - loss: 0.0394 - acc: 0.984 - ETA: 2:34 - loss: 0.0397 - acc: 0.984 - ETA: 2:33 - loss: 0.0395 - acc: 0.984 - ETA: 2:33 - loss: 0.0394 - acc: 0.984 - ETA: 2:33 - loss: 0.0396 - acc: 0.984 - ETA: 2:33 - loss: 0.0393 - acc: 0.984 - ETA: 2:32 - loss: 0.0393 - acc: 0.984 - ETA: 2:32 - loss: 0.0394 - acc: 0.984 - ETA: 2:32 - loss: 0.0394 - acc: 0.984 - ETA: 2:32 - loss: 0.0396 - acc: 0.984 - ETA: 2:32 - loss: 0.0397 - acc: 0.984 - ETA: 2:31 - loss: 0.0397 - acc: 0.984 - ETA: 2:31 - loss: 0.0394 - acc: 0.984 - ETA: 2:31 - loss: 0.0394 - acc: 0.984 - ETA: 2:31 - loss: 0.0396 - acc: 0.984 - ETA: 2:30 - loss: 0.0397 - acc: 0.984 - ETA: 2:30 - loss: 0.0396 - acc: 0.984 - ETA: 2:30 - loss: 0.0396 - acc: 0.984 - ETA: 2:29 - loss: 0.0397 - acc: 0.984 - ETA: 2:29 - loss: 0.0398 - acc: 0.984 - ETA: 2:29 - loss: 0.0399 - acc: 0.984 - ETA: 2:28 - loss: 0.0397 - acc: 0.984 - ETA: 2:28 - loss: 0.0398 - acc: 0.984 - ETA: 2:28 - loss: 0.0397 - acc: 0.984 - ETA: 2:28 - loss: 0.0397 - acc: 0.984 - ETA: 2:27 - loss: 0.0398 - acc: 0.984 - ETA: 2:27 - loss: 0.0398 - acc: 0.984 - ETA: 2:27 - loss: 0.0397 - acc: 0.984 - ETA: 2:26 - loss: 0.0396 - acc: 0.984 - ETA: 2:26 - loss: 0.0394 - acc: 0.984 - ETA: 2:26 - loss: 0.0394 - acc: 0.984 - ETA: 2:25 - loss: 0.0393 - acc: 0.984 - ETA: 2:25 - loss: 0.0393 - acc: 0.984 - ETA: 2:25 - loss: 0.0394 - acc: 0.984 - ETA: 2:24 - loss: 0.0393 - acc: 0.984 - ETA: 2:24 - loss: 0.0393 - acc: 0.984 - ETA: 2:24 - loss: 0.0392 - acc: 0.984 - ETA: 2:23 - loss: 0.0391 - acc: 0.984 - ETA: 2:23 - loss: 0.0393 - acc: 0.984 - ETA: 2:23 - loss: 0.0393 - acc: 0.984 - ETA: 2:23 - loss: 0.0393 - acc: 0.984 - ETA: 2:22 - loss: 0.0393 - acc: 0.984 - ETA: 2:22 - loss: 0.0394 - acc: 0.984 - ETA: 2:22 - loss: 0.0393 - acc: 0.984 - ETA: 2:21 - loss: 0.0392 - acc: 0.984 - ETA: 2:21 - loss: 0.0392 - acc: 0.984 - ETA: 2:20 - loss: 0.0390 - acc: 0.984 - ETA: 2:20 - loss: 0.0391 - acc: 0.984 - ETA: 2:20 - loss: 0.0390 - acc: 0.984 - ETA: 2:20 - loss: 0.0390 - acc: 0.984 - ETA: 2:19 - loss: 0.0390 - acc: 0.984 - ETA: 2:19 - loss: 0.0390 - acc: 0.984 - ETA: 2:19 - loss: 0.0389 - acc: 0.984 - ETA: 2:18 - loss: 0.0392 - acc: 0.984 - ETA: 2:18 - loss: 0.0391 - acc: 0.984 - ETA: 2:17 - loss: 0.0392 - acc: 0.984 - ETA: 2:17 - loss: 0.0393 - acc: 0.984 - ETA: 2:17 - loss: 0.0393 - acc: 0.984 - ETA: 2:17 - loss: 0.0395 - acc: 0.984 - ETA: 2:16 - loss: 0.0395 - acc: 0.984 - ETA: 2:16 - loss: 0.0394 - acc: 0.984 - ETA: 2:16 - loss: 0.0394 - acc: 0.984 - ETA: 2:15 - loss: 0.0394 - acc: 0.984 - ETA: 2:15 - loss: 0.0392 - acc: 0.984 - ETA: 2:15 - loss: 0.0394 - acc: 0.984 - ETA: 2:14 - loss: 0.0394 - acc: 0.984 - ETA: 2:14 - loss: 0.0393 - acc: 0.984 - ETA: 2:14 - loss: 0.0393 - acc: 0.984 - ETA: 2:13 - loss: 0.0393 - acc: 0.984 - ETA: 2:13 - loss: 0.0393 - acc: 0.984 - ETA: 2:13 - loss: 0.0393 - acc: 0.984 - ETA: 2:12 - loss: 0.0393 - acc: 0.984 - ETA: 2:12 - loss: 0.0392 - acc: 0.984 - ETA: 2:12 - loss: 0.0392 - acc: 0.984 - ETA: 2:11 - loss: 0.0392 - acc: 0.984 - ETA: 2:11 - loss: 0.0392 - acc: 0.984 - ETA: 2:11 - loss: 0.0391 - acc: 0.984 - ETA: 2:10 - loss: 0.0392 - acc: 0.984 - ETA: 2:10 - loss: 0.0393 - acc: 0.984 - ETA: 2:10 - loss: 0.0393 - acc: 0.984 - ETA: 2:09 - loss: 0.0392 - acc: 0.984 - ETA: 2:09 - loss: 0.0391 - acc: 0.984 - ETA: 2:09 - loss: 0.0391 - acc: 0.984 - ETA: 2:08 - loss: 0.0392 - acc: 0.984 - ETA: 2:08 - loss: 0.0392 - acc: 0.984 - ETA: 2:08 - loss: 0.0393 - acc: 0.984 - ETA: 2:07 - loss: 0.0393 - acc: 0.984 - ETA: 2:07 - loss: 0.0393 - acc: 0.984 - ETA: 2:07 - loss: 0.0392 - acc: 0.984 - ETA: 2:06 - loss: 0.0391 - acc: 0.984 - ETA: 2:06 - loss: 0.0391 - acc: 0.984 - ETA: 2:06 - loss: 0.0390 - acc: 0.984 - ETA: 2:05 - loss: 0.0390 - acc: 0.984 - ETA: 2:05 - loss: 0.0390 - acc: 0.984 - ETA: 2:05 - loss: 0.0390 - acc: 0.984 - ETA: 2:04 - loss: 0.0391 - acc: 0.984 - ETA: 2:04 - loss: 0.0392 - acc: 0.984 - ETA: 2:04 - loss: 0.0391 - acc: 0.984 - ETA: 2:03 - loss: 0.0389 - acc: 0.984 - ETA: 2:03 - loss: 0.0389 - acc: 0.984 - ETA: 2:03 - loss: 0.0389 - acc: 0.984 - ETA: 2:02 - loss: 0.0389 - acc: 0.984 - ETA: 2:02 - loss: 0.0388 - acc: 0.984 - ETA: 2:02 - loss: 0.0388 - acc: 0.984 - ETA: 2:01 - loss: 0.0387 - acc: 0.984 - ETA: 2:01 - loss: 0.0387 - acc: 0.984 - ETA: 2:01 - loss: 0.0387 - acc: 0.984 - ETA: 2:00 - loss: 0.0387 - acc: 0.984 - ETA: 2:00 - loss: 0.0386 - acc: 0.984 - ETA: 2:00 - loss: 0.0387 - acc: 0.984 - ETA: 1:59 - loss: 0.0387 - acc: 0.984 - ETA: 1:59 - loss: 0.0387 - acc: 0.984 - ETA: 1:59 - loss: 0.0387 - acc: 0.984 - ETA: 1:58 - loss: 0.0387 - acc: 0.984 - ETA: 1:58 - loss: 0.0388 - acc: 0.984 - ETA: 1:58 - loss: 0.0388 - acc: 0.984 - ETA: 1:57 - loss: 0.0387 - acc: 0.984 - ETA: 1:57 - loss: 0.0387 - acc: 0.984 - ETA: 1:57 - loss: 0.0387 - acc: 0.984 - ETA: 1:56 - loss: 0.0387 - acc: 0.984 - ETA: 1:56 - loss: 0.0387 - acc: 0.984 - ETA: 1:56 - loss: 0.0388 - acc: 0.984 - ETA: 1:55 - loss: 0.0387 - acc: 0.984 - ETA: 1:55 - loss: 0.0387 - acc: 0.984 - ETA: 1:55 - loss: 0.0387 - acc: 0.984 - ETA: 1:54 - loss: 0.0387 - acc: 0.984 - ETA: 1:54 - loss: 0.0386 - acc: 0.984 - ETA: 1:53 - loss: 0.0386 - acc: 0.984 - ETA: 1:53 - loss: 0.0387 - acc: 0.984 - ETA: 1:53 - loss: 0.0387 - acc: 0.984 - ETA: 1:52 - loss: 0.0387 - acc: 0.984 - ETA: 1:52 - loss: 0.0387 - acc: 0.984 - ETA: 1:52 - loss: 0.0387 - acc: 0.984 - ETA: 1:51 - loss: 0.0388 - acc: 0.984 - ETA: 1:51 - loss: 0.0387 - acc: 0.984 - ETA: 1:51 - loss: 0.0387 - acc: 0.984 - ETA: 1:50 - loss: 0.0387 - acc: 0.984 - ETA: 1:50 - loss: 0.0387 - acc: 0.984 - ETA: 1:50 - loss: 0.0387 - acc: 0.984 - ETA: 1:49 - loss: 0.0387 - acc: 0.984 - ETA: 1:49 - loss: 0.0386 - acc: 0.984 - ETA: 1:49 - loss: 0.0386 - acc: 0.984 - ETA: 1:48 - loss: 0.0386 - acc: 0.984 - ETA: 1:48 - loss: 0.0386 - acc: 0.984 - ETA: 1:48 - loss: 0.0386 - acc: 0.984 - ETA: 1:47 - loss: 0.0386 - acc: 0.984 - ETA: 1:47 - loss: 0.0386 - acc: 0.984 - ETA: 1:47 - loss: 0.0386 - acc: 0.984 - ETA: 1:46 - loss: 0.0386 - acc: 0.984 - ETA: 1:46 - loss: 0.0386 - acc: 0.984 - ETA: 1:46 - loss: 0.0386 - acc: 0.984 - ETA: 1:45 - loss: 0.0387 - acc: 0.984 - ETA: 1:45 - loss: 0.0387 - acc: 0.984 - ETA: 1:45 - loss: 0.0387 - acc: 0.984 - ETA: 1:44 - loss: 0.0387 - acc: 0.984 - ETA: 1:44 - loss: 0.0387 - acc: 0.984 - ETA: 1:44 - loss: 0.0387 - acc: 0.984 - ETA: 1:43 - loss: 0.0387 - acc: 0.984 - ETA: 1:43 - loss: 0.0387 - acc: 0.984 - ETA: 1:43 - loss: 0.0387 - acc: 0.984 - ETA: 1:42 - loss: 0.0387 - acc: 0.984 - ETA: 1:42 - loss: 0.0387 - acc: 0.984 - ETA: 1:42 - loss: 0.0387 - acc: 0.9849105472/129251 [=======================>......] - ETA: 1:41 - loss: 0.0386 - acc: 0.984 - ETA: 1:41 - loss: 0.0386 - acc: 0.984 - ETA: 1:40 - loss: 0.0386 - acc: 0.984 - ETA: 1:40 - loss: 0.0386 - acc: 0.984 - ETA: 1:40 - loss: 0.0385 - acc: 0.984 - ETA: 1:39 - loss: 0.0385 - acc: 0.984 - ETA: 1:39 - loss: 0.0386 - acc: 0.984 - ETA: 1:39 - loss: 0.0387 - acc: 0.984 - ETA: 1:38 - loss: 0.0387 - acc: 0.984 - ETA: 1:38 - loss: 0.0387 - acc: 0.984 - ETA: 1:38 - loss: 0.0387 - acc: 0.984 - ETA: 1:37 - loss: 0.0388 - acc: 0.984 - ETA: 1:37 - loss: 0.0388 - acc: 0.984 - ETA: 1:37 - loss: 0.0389 - acc: 0.984 - ETA: 1:36 - loss: 0.0389 - acc: 0.984 - ETA: 1:36 - loss: 0.0389 - acc: 0.984 - ETA: 1:36 - loss: 0.0389 - acc: 0.984 - ETA: 1:35 - loss: 0.0389 - acc: 0.984 - ETA: 1:35 - loss: 0.0389 - acc: 0.984 - ETA: 1:35 - loss: 0.0389 - acc: 0.984 - ETA: 1:34 - loss: 0.0389 - acc: 0.984 - ETA: 1:34 - loss: 0.0388 - acc: 0.984 - ETA: 1:33 - loss: 0.0389 - acc: 0.984 - ETA: 1:33 - loss: 0.0390 - acc: 0.984 - ETA: 1:33 - loss: 0.0390 - acc: 0.984 - ETA: 1:32 - loss: 0.0390 - acc: 0.984 - ETA: 1:32 - loss: 0.0391 - acc: 0.984 - ETA: 1:32 - loss: 0.0391 - acc: 0.984 - ETA: 1:31 - loss: 0.0391 - acc: 0.984 - ETA: 1:31 - loss: 0.0391 - acc: 0.984 - ETA: 1:31 - loss: 0.0391 - acc: 0.984 - ETA: 1:30 - loss: 0.0391 - acc: 0.984 - ETA: 1:30 - loss: 0.0391 - acc: 0.984 - ETA: 1:30 - loss: 0.0391 - acc: 0.984 - ETA: 1:29 - loss: 0.0391 - acc: 0.984 - ETA: 1:29 - loss: 0.0391 - acc: 0.984 - ETA: 1:29 - loss: 0.0391 - acc: 0.984 - ETA: 1:28 - loss: 0.0391 - acc: 0.984 - ETA: 1:28 - loss: 0.0391 - acc: 0.984 - ETA: 1:28 - loss: 0.0391 - acc: 0.984 - ETA: 1:27 - loss: 0.0391 - acc: 0.984 - ETA: 1:27 - loss: 0.0391 - acc: 0.984 - ETA: 1:27 - loss: 0.0392 - acc: 0.984 - ETA: 1:26 - loss: 0.0392 - acc: 0.984 - ETA: 1:26 - loss: 0.0392 - acc: 0.984 - ETA: 1:26 - loss: 0.0392 - acc: 0.984 - ETA: 1:25 - loss: 0.0392 - acc: 0.984 - ETA: 1:25 - loss: 0.0392 - acc: 0.984 - ETA: 1:25 - loss: 0.0391 - acc: 0.984 - ETA: 1:24 - loss: 0.0391 - acc: 0.984 - ETA: 1:24 - loss: 0.0391 - acc: 0.984 - ETA: 1:23 - loss: 0.0391 - acc: 0.984 - ETA: 1:23 - loss: 0.0391 - acc: 0.984 - ETA: 1:23 - loss: 0.0390 - acc: 0.984 - ETA: 1:22 - loss: 0.0390 - acc: 0.984 - ETA: 1:22 - loss: 0.0390 - acc: 0.984 - ETA: 1:22 - loss: 0.0391 - acc: 0.984 - ETA: 1:21 - loss: 0.0391 - acc: 0.984 - ETA: 1:21 - loss: 0.0391 - acc: 0.984 - ETA: 1:21 - loss: 0.0391 - acc: 0.984 - ETA: 1:20 - loss: 0.0391 - acc: 0.984 - ETA: 1:20 - loss: 0.0391 - acc: 0.984 - ETA: 1:20 - loss: 0.0391 - acc: 0.984 - ETA: 1:19 - loss: 0.0392 - acc: 0.984 - ETA: 1:19 - loss: 0.0392 - acc: 0.984 - ETA: 1:19 - loss: 0.0391 - acc: 0.984 - ETA: 1:18 - loss: 0.0391 - acc: 0.984 - ETA: 1:18 - loss: 0.0391 - acc: 0.984 - ETA: 1:18 - loss: 0.0391 - acc: 0.984 - ETA: 1:17 - loss: 0.0391 - acc: 0.984 - ETA: 1:17 - loss: 0.0391 - acc: 0.984 - ETA: 1:17 - loss: 0.0392 - acc: 0.984 - ETA: 1:16 - loss: 0.0392 - acc: 0.984 - ETA: 1:16 - loss: 0.0392 - acc: 0.984 - ETA: 1:16 - loss: 0.0392 - acc: 0.984 - ETA: 1:15 - loss: 0.0392 - acc: 0.984 - ETA: 1:15 - loss: 0.0392 - acc: 0.984 - ETA: 1:15 - loss: 0.0392 - acc: 0.984 - ETA: 1:14 - loss: 0.0392 - acc: 0.984 - ETA: 1:14 - loss: 0.0392 - acc: 0.984 - ETA: 1:14 - loss: 0.0392 - acc: 0.984 - ETA: 1:13 - loss: 0.0392 - acc: 0.984 - ETA: 1:13 - loss: 0.0392 - acc: 0.984 - ETA: 1:13 - loss: 0.0392 - acc: 0.984 - ETA: 1:12 - loss: 0.0392 - acc: 0.984 - ETA: 1:12 - loss: 0.0392 - acc: 0.984 - ETA: 1:12 - loss: 0.0391 - acc: 0.984 - ETA: 1:11 - loss: 0.0392 - acc: 0.984 - ETA: 1:11 - loss: 0.0391 - acc: 0.984 - ETA: 1:11 - loss: 0.0392 - acc: 0.984 - ETA: 1:10 - loss: 0.0391 - acc: 0.984 - ETA: 1:10 - loss: 0.0392 - acc: 0.984 - ETA: 1:10 - loss: 0.0392 - acc: 0.984 - ETA: 1:09 - loss: 0.0392 - acc: 0.984 - ETA: 1:09 - loss: 0.0392 - acc: 0.984 - ETA: 1:09 - loss: 0.0392 - acc: 0.984 - ETA: 1:08 - loss: 0.0391 - acc: 0.984 - ETA: 1:08 - loss: 0.0391 - acc: 0.984 - ETA: 1:07 - loss: 0.0391 - acc: 0.984 - ETA: 1:07 - loss: 0.0391 - acc: 0.984 - ETA: 1:07 - loss: 0.0390 - acc: 0.984 - ETA: 1:06 - loss: 0.0390 - acc: 0.984 - ETA: 1:06 - loss: 0.0390 - acc: 0.984 - ETA: 1:06 - loss: 0.0390 - acc: 0.984 - ETA: 1:05 - loss: 0.0390 - acc: 0.984 - ETA: 1:05 - loss: 0.0390 - acc: 0.984 - ETA: 1:05 - loss: 0.0390 - acc: 0.984 - ETA: 1:05 - loss: 0.0390 - acc: 0.984 - ETA: 1:04 - loss: 0.0390 - acc: 0.984 - ETA: 1:04 - loss: 0.0390 - acc: 0.984 - ETA: 1:04 - loss: 0.0391 - acc: 0.984 - ETA: 1:03 - loss: 0.0391 - acc: 0.984 - ETA: 1:03 - loss: 0.0391 - acc: 0.984 - ETA: 1:03 - loss: 0.0390 - acc: 0.984 - ETA: 1:02 - loss: 0.0391 - acc: 0.984 - ETA: 1:02 - loss: 0.0391 - acc: 0.984 - ETA: 1:02 - loss: 0.0391 - acc: 0.984 - ETA: 1:01 - loss: 0.0391 - acc: 0.984 - ETA: 1:01 - loss: 0.0390 - acc: 0.984 - ETA: 1:01 - loss: 0.0391 - acc: 0.984 - ETA: 1:00 - loss: 0.0391 - acc: 0.984 - ETA: 1:00 - loss: 0.0391 - acc: 0.984 - ETA: 1:00 - loss: 0.0392 - acc: 0.984 - ETA: 59s - loss: 0.0391 - acc: 0.984 - ETA: 59s - loss: 0.0391 - acc: 0.98 - ETA: 59s - loss: 0.0391 - acc: 0.98 - ETA: 58s - loss: 0.0391 - acc: 0.98 - ETA: 58s - loss: 0.0391 - acc: 0.98 - ETA: 58s - loss: 0.0391 - acc: 0.98 - ETA: 57s - loss: 0.0391 - acc: 0.98 - ETA: 57s - loss: 0.0390 - acc: 0.98 - ETA: 57s - loss: 0.0390 - acc: 0.98 - ETA: 56s - loss: 0.0391 - acc: 0.98 - ETA: 56s - loss: 0.0391 - acc: 0.98 - ETA: 55s - loss: 0.0391 - acc: 0.98 - ETA: 55s - loss: 0.0391 - acc: 0.98 - ETA: 55s - loss: 0.0392 - acc: 0.98 - ETA: 54s - loss: 0.0392 - acc: 0.98 - ETA: 54s - loss: 0.0392 - acc: 0.98 - ETA: 54s - loss: 0.0391 - acc: 0.98 - ETA: 53s - loss: 0.0391 - acc: 0.98 - ETA: 53s - loss: 0.0391 - acc: 0.98 - ETA: 53s - loss: 0.0392 - acc: 0.98 - ETA: 52s - loss: 0.0393 - acc: 0.98 - ETA: 52s - loss: 0.0393 - acc: 0.98 - ETA: 52s - loss: 0.0393 - acc: 0.98 - ETA: 51s - loss: 0.0393 - acc: 0.98 - ETA: 51s - loss: 0.0392 - acc: 0.98 - ETA: 51s - loss: 0.0393 - acc: 0.98 - ETA: 50s - loss: 0.0393 - acc: 0.98 - ETA: 50s - loss: 0.0393 - acc: 0.98 - ETA: 50s - loss: 0.0392 - acc: 0.98 - ETA: 49s - loss: 0.0392 - acc: 0.98 - ETA: 49s - loss: 0.0392 - acc: 0.98 - ETA: 49s - loss: 0.0391 - acc: 0.98 - ETA: 48s - loss: 0.0391 - acc: 0.98 - ETA: 48s - loss: 0.0392 - acc: 0.98 - ETA: 48s - loss: 0.0391 - acc: 0.98 - ETA: 47s - loss: 0.0392 - acc: 0.98 - ETA: 47s - loss: 0.0392 - acc: 0.98 - ETA: 47s - loss: 0.0392 - acc: 0.98 - ETA: 46s - loss: 0.0392 - acc: 0.98 - ETA: 46s - loss: 0.0391 - acc: 0.98 - ETA: 46s - loss: 0.0391 - acc: 0.98 - ETA: 45s - loss: 0.0391 - acc: 0.98 - ETA: 45s - loss: 0.0391 - acc: 0.98 - ETA: 45s - loss: 0.0391 - acc: 0.98 - ETA: 44s - loss: 0.0391 - acc: 0.98 - ETA: 44s - loss: 0.0391 - acc: 0.98 - ETA: 44s - loss: 0.0391 - acc: 0.98 - ETA: 43s - loss: 0.0391 - acc: 0.98 - ETA: 43s - loss: 0.0391 - acc: 0.98 - ETA: 43s - loss: 0.0391 - acc: 0.98 - ETA: 42s - loss: 0.0392 - acc: 0.98 - ETA: 42s - loss: 0.0391 - acc: 0.98 - ETA: 42s - loss: 0.0391 - acc: 0.98 - ETA: 41s - loss: 0.0391 - acc: 0.98 - ETA: 41s - loss: 0.0391 - acc: 0.98 - ETA: 41s - loss: 0.0391 - acc: 0.98 - ETA: 40s - loss: 0.0391 - acc: 0.98 - ETA: 40s - loss: 0.0391 - acc: 0.98 - ETA: 40s - loss: 0.0391 - acc: 0.98 - ETA: 39s - loss: 0.0391 - acc: 0.98 - ETA: 39s - loss: 0.0391 - acc: 0.98 - ETA: 39s - loss: 0.0391 - acc: 0.98 - ETA: 38s - loss: 0.0391 - acc: 0.98 - ETA: 38s - loss: 0.0391 - acc: 0.98 - ETA: 38s - loss: 0.0391 - acc: 0.98 - ETA: 37s - loss: 0.0391 - acc: 0.98 - ETA: 37s - loss: 0.0391 - acc: 0.98 - ETA: 37s - loss: 0.0391 - acc: 0.98 - ETA: 36s - loss: 0.0391 - acc: 0.98 - ETA: 36s - loss: 0.0391 - acc: 0.98 - ETA: 35s - loss: 0.0391 - acc: 0.98 - ETA: 35s - loss: 0.0391 - acc: 0.98 - ETA: 35s - loss: 0.0391 - acc: 0.98 - ETA: 34s - loss: 0.0391 - acc: 0.98 - ETA: 34s - loss: 0.0390 - acc: 0.98 - ETA: 34s - loss: 0.0390 - acc: 0.98 - ETA: 33s - loss: 0.0390 - acc: 0.98 - ETA: 33s - loss: 0.0390 - acc: 0.98 - ETA: 33s - loss: 0.0390 - acc: 0.98 - ETA: 32s - loss: 0.0390 - acc: 0.98 - ETA: 32s - loss: 0.0390 - acc: 0.98 - ETA: 32s - loss: 0.0390 - acc: 0.98 - ETA: 31s - loss: 0.0390 - acc: 0.98 - ETA: 31s - loss: 0.0390 - acc: 0.98 - ETA: 31s - loss: 0.0390 - acc: 0.9846129251/129251 [==============================] - ETA: 30s - loss: 0.0391 - acc: 0.98 - ETA: 30s - loss: 0.0391 - acc: 0.98 - ETA: 30s - loss: 0.0391 - acc: 0.98 - ETA: 29s - loss: 0.0391 - acc: 0.98 - ETA: 29s - loss: 0.0391 - acc: 0.98 - ETA: 29s - loss: 0.0391 - acc: 0.98 - ETA: 28s - loss: 0.0390 - acc: 0.98 - ETA: 28s - loss: 0.0391 - acc: 0.98 - ETA: 28s - loss: 0.0390 - acc: 0.98 - ETA: 27s - loss: 0.0390 - acc: 0.98 - ETA: 27s - loss: 0.0390 - acc: 0.98 - ETA: 27s - loss: 0.0390 - acc: 0.98 - ETA: 26s - loss: 0.0390 - acc: 0.98 - ETA: 26s - loss: 0.0391 - acc: 0.98 - ETA: 26s - loss: 0.0391 - acc: 0.98 - ETA: 25s - loss: 0.0390 - acc: 0.98 - ETA: 25s - loss: 0.0390 - acc: 0.98 - ETA: 25s - loss: 0.0390 - acc: 0.98 - ETA: 24s - loss: 0.0390 - acc: 0.98 - ETA: 24s - loss: 0.0390 - acc: 0.98 - ETA: 24s - loss: 0.0390 - acc: 0.98 - ETA: 23s - loss: 0.0390 - acc: 0.98 - ETA: 23s - loss: 0.0390 - acc: 0.98 - ETA: 23s - loss: 0.0390 - acc: 0.98 - ETA: 22s - loss: 0.0390 - acc: 0.98 - ETA: 22s - loss: 0.0390 - acc: 0.98 - ETA: 22s - loss: 0.0390 - acc: 0.98 - ETA: 21s - loss: 0.0390 - acc: 0.98 - ETA: 21s - loss: 0.0390 - acc: 0.98 - ETA: 21s - loss: 0.0391 - acc: 0.98 - ETA: 20s - loss: 0.0391 - acc: 0.98 - ETA: 20s - loss: 0.0391 - acc: 0.98 - ETA: 20s - loss: 0.0391 - acc: 0.98 - ETA: 19s - loss: 0.0391 - acc: 0.98 - ETA: 19s - loss: 0.0390 - acc: 0.98 - ETA: 19s - loss: 0.0390 - acc: 0.98 - ETA: 18s - loss: 0.0390 - acc: 0.98 - ETA: 18s - loss: 0.0390 - acc: 0.98 - ETA: 18s - loss: 0.0390 - acc: 0.98 - ETA: 17s - loss: 0.0390 - acc: 0.98 - ETA: 17s - loss: 0.0390 - acc: 0.98 - ETA: 17s - loss: 0.0390 - acc: 0.98 - ETA: 16s - loss: 0.0390 - acc: 0.98 - ETA: 16s - loss: 0.0390 - acc: 0.98 - ETA: 16s - loss: 0.0390 - acc: 0.98 - ETA: 15s - loss: 0.0390 - acc: 0.98 - ETA: 15s - loss: 0.0390 - acc: 0.98 - ETA: 15s - loss: 0.0391 - acc: 0.98 - ETA: 14s - loss: 0.0390 - acc: 0.98 - ETA: 14s - loss: 0.0390 - acc: 0.98 - ETA: 14s - loss: 0.0391 - acc: 0.98 - ETA: 13s - loss: 0.0391 - acc: 0.98 - ETA: 13s - loss: 0.0391 - acc: 0.98 - ETA: 13s - loss: 0.0391 - acc: 0.98 - ETA: 12s - loss: 0.0391 - acc: 0.98 - ETA: 12s - loss: 0.0391 - acc: 0.98 - ETA: 12s - loss: 0.0391 - acc: 0.98 - ETA: 11s - loss: 0.0391 - acc: 0.98 - ETA: 11s - loss: 0.0391 - acc: 0.98 - ETA: 11s - loss: 0.0391 - acc: 0.98 - ETA: 10s - loss: 0.0391 - acc: 0.98 - ETA: 10s - loss: 0.0391 - acc: 0.98 - ETA: 10s - loss: 0.0392 - acc: 0.98 - ETA: 9s - loss: 0.0391 - acc: 0.9846 - ETA: 9s - loss: 0.0391 - acc: 0.984 - ETA: 9s - loss: 0.0391 - acc: 0.984 - ETA: 8s - loss: 0.0392 - acc: 0.984 - ETA: 8s - loss: 0.0391 - acc: 0.984 - ETA: 8s - loss: 0.0391 - acc: 0.984 - ETA: 7s - loss: 0.0392 - acc: 0.984 - ETA: 7s - loss: 0.0392 - acc: 0.984 - ETA: 7s - loss: 0.0392 - acc: 0.984 - ETA: 6s - loss: 0.0392 - acc: 0.984 - ETA: 6s - loss: 0.0392 - acc: 0.984 - ETA: 5s - loss: 0.0392 - acc: 0.984 - ETA: 5s - loss: 0.0391 - acc: 0.984 - ETA: 5s - loss: 0.0391 - acc: 0.984 - ETA: 4s - loss: 0.0391 - acc: 0.984 - ETA: 4s - loss: 0.0391 - acc: 0.984 - ETA: 4s - loss: 0.0391 - acc: 0.984 - ETA: 3s - loss: 0.0391 - acc: 0.984 - ETA: 3s - loss: 0.0391 - acc: 0.984 - ETA: 3s - loss: 0.0392 - acc: 0.984 - ETA: 2s - loss: 0.0391 - acc: 0.984 - ETA: 2s - loss: 0.0392 - acc: 0.984 - ETA: 2s - loss: 0.0391 - acc: 0.984 - ETA: 1s - loss: 0.0392 - acc: 0.984 - ETA: 1s - loss: 0.0392 - acc: 0.984 - ETA: 1s - loss: 0.0392 - acc: 0.984 - ETA: 0s - loss: 0.0391 - acc: 0.984 - ETA: 0s - loss: 0.0391 - acc: 0.984 - ETA: 0s - loss: 0.0391 - acc: 0.984 - 176s 1ms/step - loss: 0.0391 - acc: 0.9846 - val_loss: 0.0418 - val_acc: 0.9835\n",
      "\n",
      " ROC-AUC - epoch: 7 - score: 0.985967 \n",
      "\n",
      "Epoch 8/10\n"
     ]
    },
    {
     "name": "stdout",
     "output_type": "stream",
     "text": [
      " 52224/129251 [===========>..................] - ETA: 2:43 - loss: 0.0506 - acc: 0.982 - ETA: 2:50 - loss: 0.0431 - acc: 0.985 - ETA: 2:46 - loss: 0.0412 - acc: 0.985 - ETA: 2:52 - loss: 0.0376 - acc: 0.986 - ETA: 2:55 - loss: 0.0396 - acc: 0.984 - ETA: 2:52 - loss: 0.0401 - acc: 0.984 - ETA: 2:50 - loss: 0.0376 - acc: 0.985 - ETA: 2:51 - loss: 0.0380 - acc: 0.985 - ETA: 2:50 - loss: 0.0393 - acc: 0.984 - ETA: 2:48 - loss: 0.0398 - acc: 0.984 - ETA: 2:47 - loss: 0.0402 - acc: 0.984 - ETA: 2:46 - loss: 0.0397 - acc: 0.984 - ETA: 2:46 - loss: 0.0391 - acc: 0.984 - ETA: 2:45 - loss: 0.0382 - acc: 0.984 - ETA: 2:44 - loss: 0.0385 - acc: 0.984 - ETA: 2:44 - loss: 0.0389 - acc: 0.984 - ETA: 2:43 - loss: 0.0386 - acc: 0.984 - ETA: 2:42 - loss: 0.0385 - acc: 0.984 - ETA: 2:42 - loss: 0.0383 - acc: 0.984 - ETA: 2:41 - loss: 0.0385 - acc: 0.984 - ETA: 2:41 - loss: 0.0380 - acc: 0.984 - ETA: 2:40 - loss: 0.0382 - acc: 0.984 - ETA: 2:41 - loss: 0.0383 - acc: 0.984 - ETA: 2:41 - loss: 0.0376 - acc: 0.984 - ETA: 2:40 - loss: 0.0374 - acc: 0.984 - ETA: 2:40 - loss: 0.0377 - acc: 0.984 - ETA: 2:40 - loss: 0.0380 - acc: 0.984 - ETA: 2:39 - loss: 0.0388 - acc: 0.984 - ETA: 2:39 - loss: 0.0390 - acc: 0.984 - ETA: 2:38 - loss: 0.0392 - acc: 0.984 - ETA: 2:38 - loss: 0.0385 - acc: 0.984 - ETA: 2:38 - loss: 0.0383 - acc: 0.984 - ETA: 2:38 - loss: 0.0379 - acc: 0.984 - ETA: 2:38 - loss: 0.0379 - acc: 0.984 - ETA: 2:37 - loss: 0.0383 - acc: 0.984 - ETA: 2:37 - loss: 0.0381 - acc: 0.984 - ETA: 2:37 - loss: 0.0380 - acc: 0.984 - ETA: 2:36 - loss: 0.0385 - acc: 0.984 - ETA: 2:36 - loss: 0.0386 - acc: 0.984 - ETA: 2:36 - loss: 0.0384 - acc: 0.984 - ETA: 2:35 - loss: 0.0388 - acc: 0.984 - ETA: 2:35 - loss: 0.0387 - acc: 0.984 - ETA: 2:34 - loss: 0.0385 - acc: 0.984 - ETA: 2:34 - loss: 0.0385 - acc: 0.984 - ETA: 2:34 - loss: 0.0385 - acc: 0.984 - ETA: 2:34 - loss: 0.0387 - acc: 0.984 - ETA: 2:33 - loss: 0.0388 - acc: 0.984 - ETA: 2:33 - loss: 0.0384 - acc: 0.984 - ETA: 2:32 - loss: 0.0385 - acc: 0.984 - ETA: 2:32 - loss: 0.0386 - acc: 0.984 - ETA: 2:32 - loss: 0.0384 - acc: 0.984 - ETA: 2:32 - loss: 0.0382 - acc: 0.985 - ETA: 2:31 - loss: 0.0381 - acc: 0.984 - ETA: 2:31 - loss: 0.0380 - acc: 0.985 - ETA: 2:31 - loss: 0.0379 - acc: 0.985 - ETA: 2:30 - loss: 0.0381 - acc: 0.985 - ETA: 2:30 - loss: 0.0379 - acc: 0.985 - ETA: 2:30 - loss: 0.0380 - acc: 0.985 - ETA: 2:29 - loss: 0.0379 - acc: 0.985 - ETA: 2:29 - loss: 0.0377 - acc: 0.985 - ETA: 2:28 - loss: 0.0379 - acc: 0.985 - ETA: 2:28 - loss: 0.0378 - acc: 0.985 - ETA: 2:27 - loss: 0.0378 - acc: 0.985 - ETA: 2:27 - loss: 0.0377 - acc: 0.985 - ETA: 2:27 - loss: 0.0378 - acc: 0.985 - ETA: 2:26 - loss: 0.0379 - acc: 0.985 - ETA: 2:26 - loss: 0.0378 - acc: 0.985 - ETA: 2:25 - loss: 0.0377 - acc: 0.985 - ETA: 2:25 - loss: 0.0374 - acc: 0.985 - ETA: 2:25 - loss: 0.0377 - acc: 0.985 - ETA: 2:24 - loss: 0.0378 - acc: 0.985 - ETA: 2:24 - loss: 0.0377 - acc: 0.985 - ETA: 2:24 - loss: 0.0375 - acc: 0.985 - ETA: 2:24 - loss: 0.0377 - acc: 0.985 - ETA: 2:23 - loss: 0.0379 - acc: 0.985 - ETA: 2:23 - loss: 0.0378 - acc: 0.985 - ETA: 2:23 - loss: 0.0377 - acc: 0.985 - ETA: 2:22 - loss: 0.0377 - acc: 0.985 - ETA: 2:22 - loss: 0.0379 - acc: 0.985 - ETA: 2:22 - loss: 0.0378 - acc: 0.985 - ETA: 2:22 - loss: 0.0377 - acc: 0.985 - ETA: 2:21 - loss: 0.0377 - acc: 0.985 - ETA: 2:21 - loss: 0.0377 - acc: 0.985 - ETA: 2:21 - loss: 0.0377 - acc: 0.985 - ETA: 2:20 - loss: 0.0377 - acc: 0.985 - ETA: 2:20 - loss: 0.0376 - acc: 0.985 - ETA: 2:19 - loss: 0.0374 - acc: 0.985 - ETA: 2:19 - loss: 0.0375 - acc: 0.985 - ETA: 2:19 - loss: 0.0374 - acc: 0.985 - ETA: 2:19 - loss: 0.0374 - acc: 0.985 - ETA: 2:18 - loss: 0.0374 - acc: 0.985 - ETA: 2:18 - loss: 0.0375 - acc: 0.985 - ETA: 2:18 - loss: 0.0377 - acc: 0.985 - ETA: 2:17 - loss: 0.0377 - acc: 0.985 - ETA: 2:17 - loss: 0.0377 - acc: 0.985 - ETA: 2:16 - loss: 0.0378 - acc: 0.985 - ETA: 2:16 - loss: 0.0377 - acc: 0.985 - ETA: 2:16 - loss: 0.0379 - acc: 0.985 - ETA: 2:15 - loss: 0.0379 - acc: 0.985 - ETA: 2:15 - loss: 0.0378 - acc: 0.985 - ETA: 2:15 - loss: 0.0378 - acc: 0.985 - ETA: 2:14 - loss: 0.0378 - acc: 0.985 - ETA: 2:14 - loss: 0.0378 - acc: 0.985 - ETA: 2:14 - loss: 0.0377 - acc: 0.985 - ETA: 2:13 - loss: 0.0377 - acc: 0.985 - ETA: 2:13 - loss: 0.0377 - acc: 0.985 - ETA: 2:13 - loss: 0.0377 - acc: 0.985 - ETA: 2:12 - loss: 0.0378 - acc: 0.985 - ETA: 2:12 - loss: 0.0378 - acc: 0.985 - ETA: 2:12 - loss: 0.0377 - acc: 0.985 - ETA: 2:11 - loss: 0.0376 - acc: 0.985 - ETA: 2:11 - loss: 0.0376 - acc: 0.985 - ETA: 2:11 - loss: 0.0376 - acc: 0.985 - ETA: 2:10 - loss: 0.0377 - acc: 0.985 - ETA: 2:10 - loss: 0.0378 - acc: 0.985 - ETA: 2:09 - loss: 0.0378 - acc: 0.985 - ETA: 2:09 - loss: 0.0377 - acc: 0.985 - ETA: 2:09 - loss: 0.0378 - acc: 0.985 - ETA: 2:08 - loss: 0.0378 - acc: 0.985 - ETA: 2:08 - loss: 0.0378 - acc: 0.985 - ETA: 2:08 - loss: 0.0378 - acc: 0.985 - ETA: 2:07 - loss: 0.0378 - acc: 0.985 - ETA: 2:07 - loss: 0.0379 - acc: 0.985 - ETA: 2:07 - loss: 0.0379 - acc: 0.985 - ETA: 2:07 - loss: 0.0379 - acc: 0.985 - ETA: 2:06 - loss: 0.0379 - acc: 0.985 - ETA: 2:06 - loss: 0.0378 - acc: 0.985 - ETA: 2:05 - loss: 0.0379 - acc: 0.985 - ETA: 2:05 - loss: 0.0377 - acc: 0.985 - ETA: 2:05 - loss: 0.0376 - acc: 0.985 - ETA: 2:04 - loss: 0.0377 - acc: 0.985 - ETA: 2:04 - loss: 0.0377 - acc: 0.985 - ETA: 2:04 - loss: 0.0376 - acc: 0.985 - ETA: 2:03 - loss: 0.0376 - acc: 0.985 - ETA: 2:03 - loss: 0.0376 - acc: 0.985 - ETA: 2:03 - loss: 0.0376 - acc: 0.985 - ETA: 2:02 - loss: 0.0376 - acc: 0.985 - ETA: 2:02 - loss: 0.0375 - acc: 0.985 - ETA: 2:02 - loss: 0.0374 - acc: 0.985 - ETA: 2:01 - loss: 0.0373 - acc: 0.985 - ETA: 2:01 - loss: 0.0373 - acc: 0.985 - ETA: 2:01 - loss: 0.0373 - acc: 0.985 - ETA: 2:01 - loss: 0.0373 - acc: 0.985 - ETA: 2:00 - loss: 0.0373 - acc: 0.985 - ETA: 2:00 - loss: 0.0373 - acc: 0.985 - ETA: 2:00 - loss: 0.0372 - acc: 0.985 - ETA: 1:59 - loss: 0.0371 - acc: 0.985 - ETA: 1:59 - loss: 0.0371 - acc: 0.985 - ETA: 1:59 - loss: 0.0371 - acc: 0.985 - ETA: 1:58 - loss: 0.0370 - acc: 0.985 - ETA: 1:58 - loss: 0.0370 - acc: 0.985 - ETA: 1:58 - loss: 0.0370 - acc: 0.985 - ETA: 1:57 - loss: 0.0369 - acc: 0.985 - ETA: 1:57 - loss: 0.0369 - acc: 0.985 - ETA: 1:57 - loss: 0.0369 - acc: 0.985 - ETA: 1:56 - loss: 0.0371 - acc: 0.985 - ETA: 1:56 - loss: 0.0372 - acc: 0.985 - ETA: 1:56 - loss: 0.0372 - acc: 0.985 - ETA: 1:55 - loss: 0.0372 - acc: 0.985 - ETA: 1:55 - loss: 0.0372 - acc: 0.985 - ETA: 1:55 - loss: 0.0372 - acc: 0.985 - ETA: 1:54 - loss: 0.0372 - acc: 0.985 - ETA: 1:54 - loss: 0.0373 - acc: 0.985 - ETA: 1:54 - loss: 0.0373 - acc: 0.985 - ETA: 1:53 - loss: 0.0373 - acc: 0.985 - ETA: 1:53 - loss: 0.0373 - acc: 0.985 - ETA: 1:53 - loss: 0.0373 - acc: 0.985 - ETA: 1:52 - loss: 0.0373 - acc: 0.985 - ETA: 1:52 - loss: 0.0372 - acc: 0.985 - ETA: 1:51 - loss: 0.0372 - acc: 0.985 - ETA: 1:51 - loss: 0.0373 - acc: 0.985 - ETA: 1:51 - loss: 0.0372 - acc: 0.985 - ETA: 1:50 - loss: 0.0372 - acc: 0.985 - ETA: 1:50 - loss: 0.0373 - acc: 0.985 - ETA: 1:50 - loss: 0.0373 - acc: 0.985 - ETA: 1:49 - loss: 0.0372 - acc: 0.985 - ETA: 1:49 - loss: 0.0373 - acc: 0.985 - ETA: 1:49 - loss: 0.0373 - acc: 0.985 - ETA: 1:48 - loss: 0.0372 - acc: 0.985 - ETA: 1:48 - loss: 0.0373 - acc: 0.985 - ETA: 1:48 - loss: 0.0372 - acc: 0.985 - ETA: 1:47 - loss: 0.0372 - acc: 0.985 - ETA: 1:47 - loss: 0.0372 - acc: 0.985 - ETA: 1:47 - loss: 0.0373 - acc: 0.985 - ETA: 1:46 - loss: 0.0373 - acc: 0.985 - ETA: 1:46 - loss: 0.0372 - acc: 0.985 - ETA: 1:46 - loss: 0.0372 - acc: 0.985 - ETA: 1:45 - loss: 0.0372 - acc: 0.985 - ETA: 1:45 - loss: 0.0373 - acc: 0.985 - ETA: 1:45 - loss: 0.0373 - acc: 0.985 - ETA: 1:45 - loss: 0.0373 - acc: 0.985 - ETA: 1:44 - loss: 0.0373 - acc: 0.985 - ETA: 1:44 - loss: 0.0372 - acc: 0.985 - ETA: 1:44 - loss: 0.0373 - acc: 0.985 - ETA: 1:43 - loss: 0.0372 - acc: 0.985 - ETA: 1:43 - loss: 0.0372 - acc: 0.985 - ETA: 1:42 - loss: 0.0371 - acc: 0.985 - ETA: 1:42 - loss: 0.0371 - acc: 0.985 - ETA: 1:42 - loss: 0.0372 - acc: 0.985 - ETA: 1:41 - loss: 0.0372 - acc: 0.985 - ETA: 1:41 - loss: 0.0372 - acc: 0.985 - ETA: 1:41 - loss: 0.0372 - acc: 0.985 - ETA: 1:40 - loss: 0.0372 - acc: 0.985 - ETA: 1:40 - loss: 0.0372 - acc: 0.9854105472/129251 [=======================>......] - ETA: 1:40 - loss: 0.0372 - acc: 0.985 - ETA: 1:39 - loss: 0.0372 - acc: 0.985 - ETA: 1:39 - loss: 0.0372 - acc: 0.985 - ETA: 1:39 - loss: 0.0372 - acc: 0.985 - ETA: 1:38 - loss: 0.0373 - acc: 0.985 - ETA: 1:38 - loss: 0.0374 - acc: 0.985 - ETA: 1:38 - loss: 0.0374 - acc: 0.985 - ETA: 1:37 - loss: 0.0374 - acc: 0.985 - ETA: 1:37 - loss: 0.0375 - acc: 0.985 - ETA: 1:37 - loss: 0.0375 - acc: 0.985 - ETA: 1:36 - loss: 0.0375 - acc: 0.985 - ETA: 1:36 - loss: 0.0375 - acc: 0.985 - ETA: 1:36 - loss: 0.0375 - acc: 0.985 - ETA: 1:35 - loss: 0.0375 - acc: 0.985 - ETA: 1:35 - loss: 0.0375 - acc: 0.985 - ETA: 1:35 - loss: 0.0375 - acc: 0.985 - ETA: 1:34 - loss: 0.0375 - acc: 0.985 - ETA: 1:34 - loss: 0.0375 - acc: 0.985 - ETA: 1:34 - loss: 0.0375 - acc: 0.985 - ETA: 1:33 - loss: 0.0376 - acc: 0.985 - ETA: 1:33 - loss: 0.0376 - acc: 0.985 - ETA: 1:33 - loss: 0.0376 - acc: 0.985 - ETA: 1:32 - loss: 0.0376 - acc: 0.985 - ETA: 1:32 - loss: 0.0376 - acc: 0.985 - ETA: 1:32 - loss: 0.0376 - acc: 0.985 - ETA: 1:31 - loss: 0.0376 - acc: 0.985 - ETA: 1:31 - loss: 0.0376 - acc: 0.985 - ETA: 1:31 - loss: 0.0375 - acc: 0.985 - ETA: 1:30 - loss: 0.0376 - acc: 0.985 - ETA: 1:30 - loss: 0.0376 - acc: 0.985 - ETA: 1:30 - loss: 0.0376 - acc: 0.985 - ETA: 1:29 - loss: 0.0376 - acc: 0.985 - ETA: 1:29 - loss: 0.0375 - acc: 0.985 - ETA: 1:29 - loss: 0.0376 - acc: 0.985 - ETA: 1:28 - loss: 0.0376 - acc: 0.985 - ETA: 1:28 - loss: 0.0376 - acc: 0.985 - ETA: 1:28 - loss: 0.0376 - acc: 0.985 - ETA: 1:27 - loss: 0.0377 - acc: 0.985 - ETA: 1:27 - loss: 0.0377 - acc: 0.985 - ETA: 1:27 - loss: 0.0376 - acc: 0.985 - ETA: 1:26 - loss: 0.0376 - acc: 0.985 - ETA: 1:26 - loss: 0.0376 - acc: 0.985 - ETA: 1:26 - loss: 0.0376 - acc: 0.985 - ETA: 1:25 - loss: 0.0377 - acc: 0.985 - ETA: 1:25 - loss: 0.0377 - acc: 0.985 - ETA: 1:25 - loss: 0.0377 - acc: 0.985 - ETA: 1:24 - loss: 0.0377 - acc: 0.985 - ETA: 1:24 - loss: 0.0376 - acc: 0.985 - ETA: 1:24 - loss: 0.0377 - acc: 0.985 - ETA: 1:23 - loss: 0.0376 - acc: 0.985 - ETA: 1:23 - loss: 0.0376 - acc: 0.985 - ETA: 1:23 - loss: 0.0376 - acc: 0.985 - ETA: 1:22 - loss: 0.0376 - acc: 0.985 - ETA: 1:22 - loss: 0.0376 - acc: 0.985 - ETA: 1:22 - loss: 0.0375 - acc: 0.985 - ETA: 1:21 - loss: 0.0375 - acc: 0.985 - ETA: 1:21 - loss: 0.0375 - acc: 0.985 - ETA: 1:21 - loss: 0.0375 - acc: 0.985 - ETA: 1:21 - loss: 0.0375 - acc: 0.985 - ETA: 1:20 - loss: 0.0374 - acc: 0.985 - ETA: 1:20 - loss: 0.0374 - acc: 0.985 - ETA: 1:19 - loss: 0.0374 - acc: 0.985 - ETA: 1:19 - loss: 0.0374 - acc: 0.985 - ETA: 1:19 - loss: 0.0375 - acc: 0.985 - ETA: 1:18 - loss: 0.0374 - acc: 0.985 - ETA: 1:18 - loss: 0.0375 - acc: 0.985 - ETA: 1:18 - loss: 0.0375 - acc: 0.985 - ETA: 1:17 - loss: 0.0375 - acc: 0.985 - ETA: 1:17 - loss: 0.0375 - acc: 0.985 - ETA: 1:17 - loss: 0.0375 - acc: 0.985 - ETA: 1:16 - loss: 0.0375 - acc: 0.985 - ETA: 1:16 - loss: 0.0375 - acc: 0.985 - ETA: 1:16 - loss: 0.0375 - acc: 0.985 - ETA: 1:15 - loss: 0.0375 - acc: 0.985 - ETA: 1:15 - loss: 0.0374 - acc: 0.985 - ETA: 1:15 - loss: 0.0374 - acc: 0.985 - ETA: 1:14 - loss: 0.0374 - acc: 0.985 - ETA: 1:14 - loss: 0.0374 - acc: 0.985 - ETA: 1:14 - loss: 0.0375 - acc: 0.985 - ETA: 1:13 - loss: 0.0375 - acc: 0.985 - ETA: 1:13 - loss: 0.0375 - acc: 0.985 - ETA: 1:13 - loss: 0.0375 - acc: 0.985 - ETA: 1:12 - loss: 0.0375 - acc: 0.985 - ETA: 1:12 - loss: 0.0375 - acc: 0.985 - ETA: 1:12 - loss: 0.0375 - acc: 0.985 - ETA: 1:11 - loss: 0.0374 - acc: 0.985 - ETA: 1:11 - loss: 0.0375 - acc: 0.985 - ETA: 1:11 - loss: 0.0375 - acc: 0.985 - ETA: 1:10 - loss: 0.0375 - acc: 0.985 - ETA: 1:10 - loss: 0.0375 - acc: 0.985 - ETA: 1:10 - loss: 0.0375 - acc: 0.985 - ETA: 1:09 - loss: 0.0376 - acc: 0.985 - ETA: 1:09 - loss: 0.0376 - acc: 0.985 - ETA: 1:09 - loss: 0.0376 - acc: 0.985 - ETA: 1:08 - loss: 0.0376 - acc: 0.985 - ETA: 1:08 - loss: 0.0376 - acc: 0.985 - ETA: 1:08 - loss: 0.0376 - acc: 0.985 - ETA: 1:07 - loss: 0.0376 - acc: 0.985 - ETA: 1:07 - loss: 0.0376 - acc: 0.985 - ETA: 1:07 - loss: 0.0376 - acc: 0.985 - ETA: 1:06 - loss: 0.0376 - acc: 0.985 - ETA: 1:06 - loss: 0.0376 - acc: 0.985 - ETA: 1:06 - loss: 0.0376 - acc: 0.985 - ETA: 1:05 - loss: 0.0376 - acc: 0.985 - ETA: 1:05 - loss: 0.0376 - acc: 0.985 - ETA: 1:05 - loss: 0.0376 - acc: 0.985 - ETA: 1:04 - loss: 0.0376 - acc: 0.985 - ETA: 1:04 - loss: 0.0376 - acc: 0.985 - ETA: 1:04 - loss: 0.0376 - acc: 0.985 - ETA: 1:03 - loss: 0.0376 - acc: 0.985 - ETA: 1:03 - loss: 0.0376 - acc: 0.985 - ETA: 1:03 - loss: 0.0376 - acc: 0.985 - ETA: 1:02 - loss: 0.0376 - acc: 0.985 - ETA: 1:02 - loss: 0.0376 - acc: 0.985 - ETA: 1:02 - loss: 0.0377 - acc: 0.985 - ETA: 1:01 - loss: 0.0377 - acc: 0.985 - ETA: 1:01 - loss: 0.0377 - acc: 0.985 - ETA: 1:01 - loss: 0.0377 - acc: 0.985 - ETA: 1:00 - loss: 0.0377 - acc: 0.985 - ETA: 1:00 - loss: 0.0377 - acc: 0.985 - ETA: 1:00 - loss: 0.0377 - acc: 0.985 - ETA: 59s - loss: 0.0377 - acc: 0.985 - ETA: 59s - loss: 0.0377 - acc: 0.98 - ETA: 59s - loss: 0.0377 - acc: 0.98 - ETA: 58s - loss: 0.0377 - acc: 0.98 - ETA: 58s - loss: 0.0377 - acc: 0.98 - ETA: 58s - loss: 0.0377 - acc: 0.98 - ETA: 57s - loss: 0.0377 - acc: 0.98 - ETA: 57s - loss: 0.0377 - acc: 0.98 - ETA: 57s - loss: 0.0377 - acc: 0.98 - ETA: 56s - loss: 0.0377 - acc: 0.98 - ETA: 56s - loss: 0.0377 - acc: 0.98 - ETA: 56s - loss: 0.0377 - acc: 0.98 - ETA: 55s - loss: 0.0377 - acc: 0.98 - ETA: 55s - loss: 0.0377 - acc: 0.98 - ETA: 55s - loss: 0.0377 - acc: 0.98 - ETA: 54s - loss: 0.0377 - acc: 0.98 - ETA: 54s - loss: 0.0377 - acc: 0.98 - ETA: 54s - loss: 0.0378 - acc: 0.98 - ETA: 53s - loss: 0.0378 - acc: 0.98 - ETA: 53s - loss: 0.0378 - acc: 0.98 - ETA: 53s - loss: 0.0378 - acc: 0.98 - ETA: 52s - loss: 0.0379 - acc: 0.98 - ETA: 52s - loss: 0.0379 - acc: 0.98 - ETA: 52s - loss: 0.0379 - acc: 0.98 - ETA: 51s - loss: 0.0379 - acc: 0.98 - ETA: 51s - loss: 0.0380 - acc: 0.98 - ETA: 51s - loss: 0.0380 - acc: 0.98 - ETA: 50s - loss: 0.0380 - acc: 0.98 - ETA: 50s - loss: 0.0379 - acc: 0.98 - ETA: 50s - loss: 0.0379 - acc: 0.98 - ETA: 49s - loss: 0.0380 - acc: 0.98 - ETA: 49s - loss: 0.0380 - acc: 0.98 - ETA: 49s - loss: 0.0380 - acc: 0.98 - ETA: 48s - loss: 0.0380 - acc: 0.98 - ETA: 48s - loss: 0.0380 - acc: 0.98 - ETA: 48s - loss: 0.0380 - acc: 0.98 - ETA: 47s - loss: 0.0380 - acc: 0.98 - ETA: 47s - loss: 0.0380 - acc: 0.98 - ETA: 47s - loss: 0.0380 - acc: 0.98 - ETA: 46s - loss: 0.0380 - acc: 0.98 - ETA: 46s - loss: 0.0380 - acc: 0.98 - ETA: 46s - loss: 0.0380 - acc: 0.98 - ETA: 45s - loss: 0.0380 - acc: 0.98 - ETA: 45s - loss: 0.0380 - acc: 0.98 - ETA: 45s - loss: 0.0380 - acc: 0.98 - ETA: 44s - loss: 0.0380 - acc: 0.98 - ETA: 44s - loss: 0.0380 - acc: 0.98 - ETA: 44s - loss: 0.0380 - acc: 0.98 - ETA: 43s - loss: 0.0380 - acc: 0.98 - ETA: 43s - loss: 0.0380 - acc: 0.98 - ETA: 43s - loss: 0.0380 - acc: 0.98 - ETA: 42s - loss: 0.0380 - acc: 0.98 - ETA: 42s - loss: 0.0380 - acc: 0.98 - ETA: 42s - loss: 0.0380 - acc: 0.98 - ETA: 41s - loss: 0.0380 - acc: 0.98 - ETA: 41s - loss: 0.0380 - acc: 0.98 - ETA: 41s - loss: 0.0380 - acc: 0.98 - ETA: 40s - loss: 0.0380 - acc: 0.98 - ETA: 40s - loss: 0.0380 - acc: 0.98 - ETA: 40s - loss: 0.0380 - acc: 0.98 - ETA: 39s - loss: 0.0380 - acc: 0.98 - ETA: 39s - loss: 0.0380 - acc: 0.98 - ETA: 39s - loss: 0.0380 - acc: 0.98 - ETA: 38s - loss: 0.0380 - acc: 0.98 - ETA: 38s - loss: 0.0380 - acc: 0.98 - ETA: 38s - loss: 0.0380 - acc: 0.98 - ETA: 37s - loss: 0.0380 - acc: 0.98 - ETA: 37s - loss: 0.0380 - acc: 0.98 - ETA: 37s - loss: 0.0380 - acc: 0.98 - ETA: 36s - loss: 0.0381 - acc: 0.98 - ETA: 36s - loss: 0.0381 - acc: 0.98 - ETA: 36s - loss: 0.0381 - acc: 0.98 - ETA: 35s - loss: 0.0381 - acc: 0.98 - ETA: 35s - loss: 0.0381 - acc: 0.98 - ETA: 35s - loss: 0.0381 - acc: 0.98 - ETA: 34s - loss: 0.0382 - acc: 0.98 - ETA: 34s - loss: 0.0381 - acc: 0.98 - ETA: 34s - loss: 0.0381 - acc: 0.98 - ETA: 33s - loss: 0.0381 - acc: 0.98 - ETA: 33s - loss: 0.0381 - acc: 0.98 - ETA: 33s - loss: 0.0381 - acc: 0.98 - ETA: 32s - loss: 0.0381 - acc: 0.98 - ETA: 32s - loss: 0.0382 - acc: 0.98 - ETA: 32s - loss: 0.0381 - acc: 0.98 - ETA: 31s - loss: 0.0381 - acc: 0.98 - ETA: 31s - loss: 0.0381 - acc: 0.98 - ETA: 31s - loss: 0.0381 - acc: 0.9850"
     ]
    },
    {
     "name": "stdout",
     "output_type": "stream",
     "text": [
      "129251/129251 [==============================] - ETA: 30s - loss: 0.0381 - acc: 0.98 - ETA: 30s - loss: 0.0381 - acc: 0.98 - ETA: 30s - loss: 0.0381 - acc: 0.98 - ETA: 29s - loss: 0.0381 - acc: 0.98 - ETA: 29s - loss: 0.0381 - acc: 0.98 - ETA: 29s - loss: 0.0381 - acc: 0.98 - ETA: 28s - loss: 0.0381 - acc: 0.98 - ETA: 28s - loss: 0.0381 - acc: 0.98 - ETA: 28s - loss: 0.0381 - acc: 0.98 - ETA: 27s - loss: 0.0381 - acc: 0.98 - ETA: 27s - loss: 0.0381 - acc: 0.98 - ETA: 27s - loss: 0.0381 - acc: 0.98 - ETA: 26s - loss: 0.0381 - acc: 0.98 - ETA: 26s - loss: 0.0381 - acc: 0.98 - ETA: 26s - loss: 0.0381 - acc: 0.98 - ETA: 25s - loss: 0.0381 - acc: 0.98 - ETA: 25s - loss: 0.0381 - acc: 0.98 - ETA: 25s - loss: 0.0381 - acc: 0.98 - ETA: 24s - loss: 0.0382 - acc: 0.98 - ETA: 24s - loss: 0.0382 - acc: 0.98 - ETA: 24s - loss: 0.0382 - acc: 0.98 - ETA: 23s - loss: 0.0382 - acc: 0.98 - ETA: 23s - loss: 0.0382 - acc: 0.98 - ETA: 23s - loss: 0.0381 - acc: 0.98 - ETA: 22s - loss: 0.0381 - acc: 0.98 - ETA: 22s - loss: 0.0381 - acc: 0.98 - ETA: 22s - loss: 0.0381 - acc: 0.98 - ETA: 21s - loss: 0.0381 - acc: 0.98 - ETA: 21s - loss: 0.0381 - acc: 0.98 - ETA: 21s - loss: 0.0381 - acc: 0.98 - ETA: 20s - loss: 0.0381 - acc: 0.98 - ETA: 20s - loss: 0.0381 - acc: 0.98 - ETA: 20s - loss: 0.0380 - acc: 0.98 - ETA: 19s - loss: 0.0380 - acc: 0.98 - ETA: 19s - loss: 0.0381 - acc: 0.98 - ETA: 19s - loss: 0.0381 - acc: 0.98 - ETA: 18s - loss: 0.0381 - acc: 0.98 - ETA: 18s - loss: 0.0380 - acc: 0.98 - ETA: 18s - loss: 0.0381 - acc: 0.98 - ETA: 17s - loss: 0.0381 - acc: 0.98 - ETA: 17s - loss: 0.0380 - acc: 0.98 - ETA: 17s - loss: 0.0380 - acc: 0.98 - ETA: 16s - loss: 0.0380 - acc: 0.98 - ETA: 16s - loss: 0.0380 - acc: 0.98 - ETA: 16s - loss: 0.0380 - acc: 0.98 - ETA: 15s - loss: 0.0380 - acc: 0.98 - ETA: 15s - loss: 0.0380 - acc: 0.98 - ETA: 15s - loss: 0.0380 - acc: 0.98 - ETA: 14s - loss: 0.0381 - acc: 0.98 - ETA: 14s - loss: 0.0381 - acc: 0.98 - ETA: 14s - loss: 0.0381 - acc: 0.98 - ETA: 13s - loss: 0.0381 - acc: 0.98 - ETA: 13s - loss: 0.0381 - acc: 0.98 - ETA: 13s - loss: 0.0381 - acc: 0.98 - ETA: 12s - loss: 0.0381 - acc: 0.98 - ETA: 12s - loss: 0.0381 - acc: 0.98 - ETA: 12s - loss: 0.0381 - acc: 0.98 - ETA: 11s - loss: 0.0381 - acc: 0.98 - ETA: 11s - loss: 0.0381 - acc: 0.98 - ETA: 11s - loss: 0.0381 - acc: 0.98 - ETA: 10s - loss: 0.0382 - acc: 0.98 - ETA: 10s - loss: 0.0382 - acc: 0.98 - ETA: 10s - loss: 0.0382 - acc: 0.98 - ETA: 9s - loss: 0.0382 - acc: 0.9850 - ETA: 9s - loss: 0.0382 - acc: 0.985 - ETA: 9s - loss: 0.0382 - acc: 0.985 - ETA: 8s - loss: 0.0382 - acc: 0.985 - ETA: 8s - loss: 0.0382 - acc: 0.985 - ETA: 8s - loss: 0.0382 - acc: 0.985 - ETA: 7s - loss: 0.0382 - acc: 0.985 - ETA: 7s - loss: 0.0382 - acc: 0.985 - ETA: 7s - loss: 0.0382 - acc: 0.985 - ETA: 6s - loss: 0.0382 - acc: 0.985 - ETA: 6s - loss: 0.0382 - acc: 0.985 - ETA: 5s - loss: 0.0382 - acc: 0.985 - ETA: 5s - loss: 0.0382 - acc: 0.985 - ETA: 5s - loss: 0.0382 - acc: 0.985 - ETA: 4s - loss: 0.0382 - acc: 0.985 - ETA: 4s - loss: 0.0382 - acc: 0.985 - ETA: 4s - loss: 0.0382 - acc: 0.985 - ETA: 3s - loss: 0.0382 - acc: 0.985 - ETA: 3s - loss: 0.0382 - acc: 0.985 - ETA: 3s - loss: 0.0381 - acc: 0.985 - ETA: 2s - loss: 0.0381 - acc: 0.985 - ETA: 2s - loss: 0.0382 - acc: 0.985 - ETA: 2s - loss: 0.0382 - acc: 0.985 - ETA: 1s - loss: 0.0382 - acc: 0.985 - ETA: 1s - loss: 0.0382 - acc: 0.985 - ETA: 1s - loss: 0.0382 - acc: 0.985 - ETA: 0s - loss: 0.0382 - acc: 0.985 - ETA: 0s - loss: 0.0382 - acc: 0.985 - ETA: 0s - loss: 0.0382 - acc: 0.985 - 176s 1ms/step - loss: 0.0382 - acc: 0.9850 - val_loss: 0.0417 - val_acc: 0.9838\n",
      "\n",
      " ROC-AUC - epoch: 8 - score: 0.985756 \n",
      "\n",
      "Epoch 9/10\n",
      " 52224/129251 [===========>..................] - ETA: 3:19 - loss: 0.0433 - acc: 0.985 - ETA: 3:00 - loss: 0.0367 - acc: 0.985 - ETA: 2:55 - loss: 0.0331 - acc: 0.986 - ETA: 2:52 - loss: 0.0342 - acc: 0.985 - ETA: 2:50 - loss: 0.0386 - acc: 0.984 - ETA: 2:51 - loss: 0.0359 - acc: 0.985 - ETA: 2:49 - loss: 0.0354 - acc: 0.985 - ETA: 2:48 - loss: 0.0344 - acc: 0.986 - ETA: 2:47 - loss: 0.0336 - acc: 0.986 - ETA: 2:48 - loss: 0.0331 - acc: 0.986 - ETA: 2:49 - loss: 0.0338 - acc: 0.986 - ETA: 2:50 - loss: 0.0337 - acc: 0.986 - ETA: 2:49 - loss: 0.0331 - acc: 0.986 - ETA: 2:48 - loss: 0.0335 - acc: 0.986 - ETA: 2:48 - loss: 0.0337 - acc: 0.986 - ETA: 2:48 - loss: 0.0338 - acc: 0.986 - ETA: 2:48 - loss: 0.0349 - acc: 0.985 - ETA: 2:47 - loss: 0.0345 - acc: 0.986 - ETA: 2:46 - loss: 0.0344 - acc: 0.986 - ETA: 2:46 - loss: 0.0357 - acc: 0.985 - ETA: 2:45 - loss: 0.0358 - acc: 0.985 - ETA: 2:44 - loss: 0.0363 - acc: 0.985 - ETA: 2:44 - loss: 0.0355 - acc: 0.985 - ETA: 2:43 - loss: 0.0356 - acc: 0.985 - ETA: 2:43 - loss: 0.0358 - acc: 0.985 - ETA: 2:42 - loss: 0.0358 - acc: 0.985 - ETA: 2:42 - loss: 0.0354 - acc: 0.985 - ETA: 2:42 - loss: 0.0354 - acc: 0.985 - ETA: 2:41 - loss: 0.0355 - acc: 0.985 - ETA: 2:40 - loss: 0.0354 - acc: 0.985 - ETA: 2:40 - loss: 0.0353 - acc: 0.986 - ETA: 2:39 - loss: 0.0356 - acc: 0.985 - ETA: 2:39 - loss: 0.0359 - acc: 0.985 - ETA: 2:39 - loss: 0.0360 - acc: 0.985 - ETA: 2:39 - loss: 0.0356 - acc: 0.985 - ETA: 2:38 - loss: 0.0356 - acc: 0.985 - ETA: 2:38 - loss: 0.0357 - acc: 0.985 - ETA: 2:38 - loss: 0.0354 - acc: 0.985 - ETA: 2:37 - loss: 0.0358 - acc: 0.985 - ETA: 2:37 - loss: 0.0357 - acc: 0.985 - ETA: 2:36 - loss: 0.0357 - acc: 0.985 - ETA: 2:36 - loss: 0.0354 - acc: 0.986 - ETA: 2:35 - loss: 0.0354 - acc: 0.986 - ETA: 2:35 - loss: 0.0355 - acc: 0.986 - ETA: 2:34 - loss: 0.0354 - acc: 0.986 - ETA: 2:34 - loss: 0.0358 - acc: 0.985 - ETA: 2:33 - loss: 0.0356 - acc: 0.986 - ETA: 2:34 - loss: 0.0356 - acc: 0.986 - ETA: 2:33 - loss: 0.0356 - acc: 0.986 - ETA: 2:33 - loss: 0.0355 - acc: 0.986 - ETA: 2:32 - loss: 0.0355 - acc: 0.986 - ETA: 2:32 - loss: 0.0353 - acc: 0.986 - ETA: 2:31 - loss: 0.0353 - acc: 0.986 - ETA: 2:31 - loss: 0.0350 - acc: 0.986 - ETA: 2:31 - loss: 0.0353 - acc: 0.986 - ETA: 2:30 - loss: 0.0355 - acc: 0.986 - ETA: 2:30 - loss: 0.0355 - acc: 0.986 - ETA: 2:30 - loss: 0.0355 - acc: 0.986 - ETA: 2:30 - loss: 0.0358 - acc: 0.986 - ETA: 2:29 - loss: 0.0356 - acc: 0.986 - ETA: 2:29 - loss: 0.0355 - acc: 0.986 - ETA: 2:28 - loss: 0.0356 - acc: 0.986 - ETA: 2:28 - loss: 0.0355 - acc: 0.986 - ETA: 2:27 - loss: 0.0357 - acc: 0.986 - ETA: 2:27 - loss: 0.0357 - acc: 0.986 - ETA: 2:27 - loss: 0.0356 - acc: 0.986 - ETA: 2:27 - loss: 0.0358 - acc: 0.986 - ETA: 2:26 - loss: 0.0361 - acc: 0.985 - ETA: 2:26 - loss: 0.0361 - acc: 0.985 - ETA: 2:26 - loss: 0.0363 - acc: 0.985 - ETA: 2:25 - loss: 0.0362 - acc: 0.985 - ETA: 2:25 - loss: 0.0360 - acc: 0.985 - ETA: 2:24 - loss: 0.0359 - acc: 0.985 - ETA: 2:24 - loss: 0.0359 - acc: 0.985 - ETA: 2:24 - loss: 0.0361 - acc: 0.985 - ETA: 2:24 - loss: 0.0361 - acc: 0.985 - ETA: 2:24 - loss: 0.0363 - acc: 0.985 - ETA: 2:23 - loss: 0.0363 - acc: 0.985 - ETA: 2:23 - loss: 0.0363 - acc: 0.985 - ETA: 2:22 - loss: 0.0363 - acc: 0.985 - ETA: 2:22 - loss: 0.0363 - acc: 0.985 - ETA: 2:22 - loss: 0.0361 - acc: 0.985 - ETA: 2:21 - loss: 0.0362 - acc: 0.985 - ETA: 2:21 - loss: 0.0362 - acc: 0.985 - ETA: 2:20 - loss: 0.0363 - acc: 0.985 - ETA: 2:20 - loss: 0.0364 - acc: 0.985 - ETA: 2:20 - loss: 0.0365 - acc: 0.985 - ETA: 2:20 - loss: 0.0365 - acc: 0.985 - ETA: 2:19 - loss: 0.0367 - acc: 0.985 - ETA: 2:19 - loss: 0.0367 - acc: 0.985 - ETA: 2:19 - loss: 0.0367 - acc: 0.985 - ETA: 2:18 - loss: 0.0366 - acc: 0.985 - ETA: 2:18 - loss: 0.0367 - acc: 0.985 - ETA: 2:18 - loss: 0.0369 - acc: 0.985 - ETA: 2:17 - loss: 0.0369 - acc: 0.985 - ETA: 2:17 - loss: 0.0369 - acc: 0.985 - ETA: 2:17 - loss: 0.0369 - acc: 0.985 - ETA: 2:16 - loss: 0.0368 - acc: 0.985 - ETA: 2:16 - loss: 0.0370 - acc: 0.985 - ETA: 2:15 - loss: 0.0370 - acc: 0.985 - ETA: 2:15 - loss: 0.0369 - acc: 0.985 - ETA: 2:15 - loss: 0.0369 - acc: 0.985 - ETA: 2:15 - loss: 0.0369 - acc: 0.985 - ETA: 2:14 - loss: 0.0370 - acc: 0.985 - ETA: 2:14 - loss: 0.0371 - acc: 0.985 - ETA: 2:14 - loss: 0.0371 - acc: 0.985 - ETA: 2:13 - loss: 0.0371 - acc: 0.985 - ETA: 2:13 - loss: 0.0371 - acc: 0.985 - ETA: 2:12 - loss: 0.0371 - acc: 0.985 - ETA: 2:12 - loss: 0.0371 - acc: 0.985 - ETA: 2:12 - loss: 0.0371 - acc: 0.985 - ETA: 2:11 - loss: 0.0371 - acc: 0.985 - ETA: 2:11 - loss: 0.0371 - acc: 0.985 - ETA: 2:11 - loss: 0.0371 - acc: 0.985 - ETA: 2:10 - loss: 0.0370 - acc: 0.985 - ETA: 2:10 - loss: 0.0370 - acc: 0.985 - ETA: 2:10 - loss: 0.0370 - acc: 0.985 - ETA: 2:09 - loss: 0.0370 - acc: 0.985 - ETA: 2:09 - loss: 0.0371 - acc: 0.985 - ETA: 2:09 - loss: 0.0371 - acc: 0.985 - ETA: 2:08 - loss: 0.0371 - acc: 0.985 - ETA: 2:08 - loss: 0.0371 - acc: 0.985 - ETA: 2:08 - loss: 0.0371 - acc: 0.985 - ETA: 2:07 - loss: 0.0371 - acc: 0.985 - ETA: 2:07 - loss: 0.0371 - acc: 0.985 - ETA: 2:06 - loss: 0.0371 - acc: 0.985 - ETA: 2:06 - loss: 0.0372 - acc: 0.985 - ETA: 2:06 - loss: 0.0372 - acc: 0.985 - ETA: 2:05 - loss: 0.0371 - acc: 0.985 - ETA: 2:05 - loss: 0.0372 - acc: 0.985 - ETA: 2:05 - loss: 0.0372 - acc: 0.985 - ETA: 2:04 - loss: 0.0373 - acc: 0.985 - ETA: 2:04 - loss: 0.0373 - acc: 0.985 - ETA: 2:04 - loss: 0.0373 - acc: 0.985 - ETA: 2:03 - loss: 0.0373 - acc: 0.985 - ETA: 2:03 - loss: 0.0372 - acc: 0.985 - ETA: 2:03 - loss: 0.0373 - acc: 0.985 - ETA: 2:02 - loss: 0.0373 - acc: 0.985 - ETA: 2:02 - loss: 0.0372 - acc: 0.985 - ETA: 2:02 - loss: 0.0372 - acc: 0.985 - ETA: 2:01 - loss: 0.0372 - acc: 0.985 - ETA: 2:01 - loss: 0.0372 - acc: 0.985 - ETA: 2:00 - loss: 0.0372 - acc: 0.985 - ETA: 2:00 - loss: 0.0373 - acc: 0.985 - ETA: 2:00 - loss: 0.0372 - acc: 0.985 - ETA: 1:59 - loss: 0.0372 - acc: 0.985 - ETA: 1:59 - loss: 0.0372 - acc: 0.985 - ETA: 1:59 - loss: 0.0372 - acc: 0.985 - ETA: 1:58 - loss: 0.0371 - acc: 0.985 - ETA: 1:58 - loss: 0.0370 - acc: 0.985 - ETA: 1:58 - loss: 0.0370 - acc: 0.985 - ETA: 1:57 - loss: 0.0371 - acc: 0.985 - ETA: 1:57 - loss: 0.0371 - acc: 0.985 - ETA: 1:57 - loss: 0.0370 - acc: 0.985 - ETA: 1:56 - loss: 0.0370 - acc: 0.985 - ETA: 1:56 - loss: 0.0370 - acc: 0.985 - ETA: 1:56 - loss: 0.0369 - acc: 0.985 - ETA: 1:55 - loss: 0.0369 - acc: 0.985 - ETA: 1:55 - loss: 0.0370 - acc: 0.985 - ETA: 1:55 - loss: 0.0370 - acc: 0.985 - ETA: 1:54 - loss: 0.0371 - acc: 0.985 - ETA: 1:54 - loss: 0.0370 - acc: 0.985 - ETA: 1:54 - loss: 0.0370 - acc: 0.985 - ETA: 1:53 - loss: 0.0371 - acc: 0.985 - ETA: 1:53 - loss: 0.0371 - acc: 0.985 - ETA: 1:53 - loss: 0.0370 - acc: 0.985 - ETA: 1:52 - loss: 0.0370 - acc: 0.985 - ETA: 1:52 - loss: 0.0370 - acc: 0.985 - ETA: 1:52 - loss: 0.0370 - acc: 0.985 - ETA: 1:51 - loss: 0.0370 - acc: 0.985 - ETA: 1:51 - loss: 0.0369 - acc: 0.985 - ETA: 1:51 - loss: 0.0369 - acc: 0.985 - ETA: 1:50 - loss: 0.0368 - acc: 0.985 - ETA: 1:50 - loss: 0.0368 - acc: 0.985 - ETA: 1:50 - loss: 0.0368 - acc: 0.985 - ETA: 1:49 - loss: 0.0368 - acc: 0.985 - ETA: 1:49 - loss: 0.0368 - acc: 0.985 - ETA: 1:49 - loss: 0.0368 - acc: 0.985 - ETA: 1:48 - loss: 0.0368 - acc: 0.985 - ETA: 1:48 - loss: 0.0369 - acc: 0.985 - ETA: 1:48 - loss: 0.0369 - acc: 0.985 - ETA: 1:47 - loss: 0.0369 - acc: 0.985 - ETA: 1:47 - loss: 0.0369 - acc: 0.985 - ETA: 1:47 - loss: 0.0369 - acc: 0.985 - ETA: 1:46 - loss: 0.0370 - acc: 0.985 - ETA: 1:46 - loss: 0.0370 - acc: 0.985 - ETA: 1:46 - loss: 0.0370 - acc: 0.985 - ETA: 1:45 - loss: 0.0370 - acc: 0.985 - ETA: 1:45 - loss: 0.0370 - acc: 0.985 - ETA: 1:45 - loss: 0.0369 - acc: 0.985 - ETA: 1:44 - loss: 0.0369 - acc: 0.985 - ETA: 1:44 - loss: 0.0369 - acc: 0.985 - ETA: 1:44 - loss: 0.0368 - acc: 0.985 - ETA: 1:44 - loss: 0.0368 - acc: 0.985 - ETA: 1:43 - loss: 0.0369 - acc: 0.985 - ETA: 1:43 - loss: 0.0369 - acc: 0.985 - ETA: 1:43 - loss: 0.0369 - acc: 0.985 - ETA: 1:42 - loss: 0.0369 - acc: 0.985 - ETA: 1:42 - loss: 0.0369 - acc: 0.985 - ETA: 1:42 - loss: 0.0369 - acc: 0.985 - ETA: 1:41 - loss: 0.0369 - acc: 0.985 - ETA: 1:41 - loss: 0.0368 - acc: 0.985 - ETA: 1:41 - loss: 0.0369 - acc: 0.985 - ETA: 1:40 - loss: 0.0369 - acc: 0.9855105472/129251 [=======================>......] - ETA: 1:40 - loss: 0.0370 - acc: 0.985 - ETA: 1:40 - loss: 0.0370 - acc: 0.985 - ETA: 1:39 - loss: 0.0370 - acc: 0.985 - ETA: 1:39 - loss: 0.0370 - acc: 0.985 - ETA: 1:39 - loss: 0.0370 - acc: 0.985 - ETA: 1:38 - loss: 0.0370 - acc: 0.985 - ETA: 1:38 - loss: 0.0370 - acc: 0.985 - ETA: 1:37 - loss: 0.0370 - acc: 0.985 - ETA: 1:37 - loss: 0.0370 - acc: 0.985 - ETA: 1:37 - loss: 0.0370 - acc: 0.985 - ETA: 1:37 - loss: 0.0370 - acc: 0.985 - ETA: 1:36 - loss: 0.0370 - acc: 0.985 - ETA: 1:36 - loss: 0.0371 - acc: 0.985 - ETA: 1:36 - loss: 0.0370 - acc: 0.985 - ETA: 1:35 - loss: 0.0371 - acc: 0.985 - ETA: 1:35 - loss: 0.0371 - acc: 0.985 - ETA: 1:34 - loss: 0.0371 - acc: 0.985 - ETA: 1:34 - loss: 0.0371 - acc: 0.985 - ETA: 1:34 - loss: 0.0370 - acc: 0.985 - ETA: 1:33 - loss: 0.0371 - acc: 0.985 - ETA: 1:33 - loss: 0.0370 - acc: 0.985 - ETA: 1:33 - loss: 0.0370 - acc: 0.985 - ETA: 1:33 - loss: 0.0370 - acc: 0.985 - ETA: 1:32 - loss: 0.0370 - acc: 0.985 - ETA: 1:32 - loss: 0.0370 - acc: 0.985 - ETA: 1:32 - loss: 0.0370 - acc: 0.985 - ETA: 1:31 - loss: 0.0370 - acc: 0.985 - ETA: 1:31 - loss: 0.0371 - acc: 0.985 - ETA: 1:31 - loss: 0.0371 - acc: 0.985 - ETA: 1:30 - loss: 0.0371 - acc: 0.985 - ETA: 1:30 - loss: 0.0370 - acc: 0.985 - ETA: 1:30 - loss: 0.0370 - acc: 0.985 - ETA: 1:29 - loss: 0.0370 - acc: 0.985 - ETA: 1:29 - loss: 0.0370 - acc: 0.985 - ETA: 1:29 - loss: 0.0370 - acc: 0.985 - ETA: 1:28 - loss: 0.0370 - acc: 0.985 - ETA: 1:28 - loss: 0.0370 - acc: 0.985 - ETA: 1:28 - loss: 0.0370 - acc: 0.985 - ETA: 1:27 - loss: 0.0369 - acc: 0.985 - ETA: 1:27 - loss: 0.0369 - acc: 0.985 - ETA: 1:27 - loss: 0.0369 - acc: 0.985 - ETA: 1:26 - loss: 0.0369 - acc: 0.985 - ETA: 1:26 - loss: 0.0369 - acc: 0.985 - ETA: 1:25 - loss: 0.0369 - acc: 0.985 - ETA: 1:25 - loss: 0.0368 - acc: 0.985 - ETA: 1:25 - loss: 0.0367 - acc: 0.985 - ETA: 1:24 - loss: 0.0368 - acc: 0.985 - ETA: 1:24 - loss: 0.0368 - acc: 0.985 - ETA: 1:24 - loss: 0.0368 - acc: 0.985 - ETA: 1:23 - loss: 0.0367 - acc: 0.985 - ETA: 1:23 - loss: 0.0368 - acc: 0.985 - ETA: 1:23 - loss: 0.0368 - acc: 0.985 - ETA: 1:22 - loss: 0.0368 - acc: 0.985 - ETA: 1:22 - loss: 0.0368 - acc: 0.985 - ETA: 1:22 - loss: 0.0368 - acc: 0.985 - ETA: 1:21 - loss: 0.0368 - acc: 0.985 - ETA: 1:21 - loss: 0.0368 - acc: 0.985 - ETA: 1:21 - loss: 0.0368 - acc: 0.985 - ETA: 1:20 - loss: 0.0368 - acc: 0.985 - ETA: 1:20 - loss: 0.0369 - acc: 0.985 - ETA: 1:20 - loss: 0.0369 - acc: 0.985 - ETA: 1:19 - loss: 0.0369 - acc: 0.985 - ETA: 1:19 - loss: 0.0369 - acc: 0.985 - ETA: 1:19 - loss: 0.0370 - acc: 0.985 - ETA: 1:18 - loss: 0.0370 - acc: 0.985 - ETA: 1:18 - loss: 0.0370 - acc: 0.985 - ETA: 1:18 - loss: 0.0371 - acc: 0.985 - ETA: 1:17 - loss: 0.0371 - acc: 0.985 - ETA: 1:17 - loss: 0.0371 - acc: 0.985 - ETA: 1:17 - loss: 0.0370 - acc: 0.985 - ETA: 1:16 - loss: 0.0370 - acc: 0.985 - ETA: 1:16 - loss: 0.0371 - acc: 0.985 - ETA: 1:16 - loss: 0.0371 - acc: 0.985 - ETA: 1:15 - loss: 0.0371 - acc: 0.985 - ETA: 1:15 - loss: 0.0371 - acc: 0.985 - ETA: 1:15 - loss: 0.0371 - acc: 0.985 - ETA: 1:14 - loss: 0.0372 - acc: 0.985 - ETA: 1:14 - loss: 0.0371 - acc: 0.985 - ETA: 1:14 - loss: 0.0371 - acc: 0.985 - ETA: 1:13 - loss: 0.0371 - acc: 0.985 - ETA: 1:13 - loss: 0.0371 - acc: 0.985 - ETA: 1:13 - loss: 0.0370 - acc: 0.985 - ETA: 1:12 - loss: 0.0370 - acc: 0.985 - ETA: 1:12 - loss: 0.0371 - acc: 0.985 - ETA: 1:12 - loss: 0.0371 - acc: 0.985 - ETA: 1:11 - loss: 0.0371 - acc: 0.985 - ETA: 1:11 - loss: 0.0371 - acc: 0.985 - ETA: 1:11 - loss: 0.0371 - acc: 0.985 - ETA: 1:10 - loss: 0.0372 - acc: 0.985 - ETA: 1:10 - loss: 0.0372 - acc: 0.985 - ETA: 1:10 - loss: 0.0371 - acc: 0.985 - ETA: 1:09 - loss: 0.0371 - acc: 0.985 - ETA: 1:09 - loss: 0.0372 - acc: 0.985 - ETA: 1:09 - loss: 0.0371 - acc: 0.985 - ETA: 1:08 - loss: 0.0371 - acc: 0.985 - ETA: 1:08 - loss: 0.0371 - acc: 0.985 - ETA: 1:08 - loss: 0.0371 - acc: 0.985 - ETA: 1:07 - loss: 0.0371 - acc: 0.985 - ETA: 1:07 - loss: 0.0371 - acc: 0.985 - ETA: 1:07 - loss: 0.0370 - acc: 0.985 - ETA: 1:06 - loss: 0.0370 - acc: 0.985 - ETA: 1:06 - loss: 0.0370 - acc: 0.985 - ETA: 1:06 - loss: 0.0370 - acc: 0.985 - ETA: 1:05 - loss: 0.0370 - acc: 0.985 - ETA: 1:05 - loss: 0.0370 - acc: 0.985 - ETA: 1:05 - loss: 0.0370 - acc: 0.985 - ETA: 1:04 - loss: 0.0370 - acc: 0.985 - ETA: 1:04 - loss: 0.0370 - acc: 0.985 - ETA: 1:04 - loss: 0.0370 - acc: 0.985 - ETA: 1:03 - loss: 0.0370 - acc: 0.985 - ETA: 1:03 - loss: 0.0371 - acc: 0.985 - ETA: 1:03 - loss: 0.0370 - acc: 0.985 - ETA: 1:02 - loss: 0.0370 - acc: 0.985 - ETA: 1:02 - loss: 0.0370 - acc: 0.985 - ETA: 1:02 - loss: 0.0370 - acc: 0.985 - ETA: 1:01 - loss: 0.0371 - acc: 0.985 - ETA: 1:01 - loss: 0.0370 - acc: 0.985 - ETA: 1:01 - loss: 0.0370 - acc: 0.985 - ETA: 1:00 - loss: 0.0370 - acc: 0.985 - ETA: 1:00 - loss: 0.0371 - acc: 0.985 - ETA: 1:00 - loss: 0.0371 - acc: 0.985 - ETA: 59s - loss: 0.0371 - acc: 0.985 - ETA: 59s - loss: 0.0371 - acc: 0.98 - ETA: 59s - loss: 0.0371 - acc: 0.98 - ETA: 58s - loss: 0.0371 - acc: 0.98 - ETA: 58s - loss: 0.0372 - acc: 0.98 - ETA: 58s - loss: 0.0372 - acc: 0.98 - ETA: 57s - loss: 0.0372 - acc: 0.98 - ETA: 57s - loss: 0.0372 - acc: 0.98 - ETA: 57s - loss: 0.0372 - acc: 0.98 - ETA: 56s - loss: 0.0372 - acc: 0.98 - ETA: 56s - loss: 0.0372 - acc: 0.98 - ETA: 56s - loss: 0.0372 - acc: 0.98 - ETA: 55s - loss: 0.0372 - acc: 0.98 - ETA: 55s - loss: 0.0372 - acc: 0.98 - ETA: 55s - loss: 0.0372 - acc: 0.98 - ETA: 54s - loss: 0.0371 - acc: 0.98 - ETA: 54s - loss: 0.0371 - acc: 0.98 - ETA: 54s - loss: 0.0371 - acc: 0.98 - ETA: 53s - loss: 0.0371 - acc: 0.98 - ETA: 53s - loss: 0.0371 - acc: 0.98 - ETA: 53s - loss: 0.0371 - acc: 0.98 - ETA: 52s - loss: 0.0371 - acc: 0.98 - ETA: 52s - loss: 0.0371 - acc: 0.98 - ETA: 52s - loss: 0.0371 - acc: 0.98 - ETA: 51s - loss: 0.0371 - acc: 0.98 - ETA: 51s - loss: 0.0371 - acc: 0.98 - ETA: 51s - loss: 0.0371 - acc: 0.98 - ETA: 50s - loss: 0.0371 - acc: 0.98 - ETA: 50s - loss: 0.0371 - acc: 0.98 - ETA: 50s - loss: 0.0371 - acc: 0.98 - ETA: 49s - loss: 0.0371 - acc: 0.98 - ETA: 49s - loss: 0.0371 - acc: 0.98 - ETA: 49s - loss: 0.0371 - acc: 0.98 - ETA: 48s - loss: 0.0371 - acc: 0.98 - ETA: 48s - loss: 0.0371 - acc: 0.98 - ETA: 48s - loss: 0.0371 - acc: 0.98 - ETA: 47s - loss: 0.0372 - acc: 0.98 - ETA: 47s - loss: 0.0372 - acc: 0.98 - ETA: 47s - loss: 0.0372 - acc: 0.98 - ETA: 46s - loss: 0.0372 - acc: 0.98 - ETA: 46s - loss: 0.0372 - acc: 0.98 - ETA: 46s - loss: 0.0372 - acc: 0.98 - ETA: 45s - loss: 0.0372 - acc: 0.98 - ETA: 45s - loss: 0.0371 - acc: 0.98 - ETA: 45s - loss: 0.0371 - acc: 0.98 - ETA: 44s - loss: 0.0371 - acc: 0.98 - ETA: 44s - loss: 0.0371 - acc: 0.98 - ETA: 44s - loss: 0.0371 - acc: 0.98 - ETA: 43s - loss: 0.0371 - acc: 0.98 - ETA: 43s - loss: 0.0371 - acc: 0.98 - ETA: 43s - loss: 0.0371 - acc: 0.98 - ETA: 42s - loss: 0.0371 - acc: 0.98 - ETA: 42s - loss: 0.0371 - acc: 0.98 - ETA: 42s - loss: 0.0371 - acc: 0.98 - ETA: 41s - loss: 0.0371 - acc: 0.98 - ETA: 41s - loss: 0.0370 - acc: 0.98 - ETA: 41s - loss: 0.0371 - acc: 0.98 - ETA: 40s - loss: 0.0371 - acc: 0.98 - ETA: 40s - loss: 0.0371 - acc: 0.98 - ETA: 40s - loss: 0.0371 - acc: 0.98 - ETA: 39s - loss: 0.0371 - acc: 0.98 - ETA: 39s - loss: 0.0371 - acc: 0.98 - ETA: 39s - loss: 0.0372 - acc: 0.98 - ETA: 38s - loss: 0.0372 - acc: 0.98 - ETA: 38s - loss: 0.0372 - acc: 0.98 - ETA: 38s - loss: 0.0372 - acc: 0.98 - ETA: 37s - loss: 0.0372 - acc: 0.98 - ETA: 37s - loss: 0.0372 - acc: 0.98 - ETA: 37s - loss: 0.0372 - acc: 0.98 - ETA: 36s - loss: 0.0371 - acc: 0.98 - ETA: 36s - loss: 0.0371 - acc: 0.98 - ETA: 36s - loss: 0.0371 - acc: 0.98 - ETA: 35s - loss: 0.0372 - acc: 0.98 - ETA: 35s - loss: 0.0371 - acc: 0.98 - ETA: 35s - loss: 0.0372 - acc: 0.98 - ETA: 34s - loss: 0.0372 - acc: 0.98 - ETA: 34s - loss: 0.0372 - acc: 0.98 - ETA: 34s - loss: 0.0372 - acc: 0.98 - ETA: 33s - loss: 0.0372 - acc: 0.98 - ETA: 33s - loss: 0.0372 - acc: 0.98 - ETA: 33s - loss: 0.0372 - acc: 0.98 - ETA: 32s - loss: 0.0371 - acc: 0.98 - ETA: 32s - loss: 0.0371 - acc: 0.98 - ETA: 32s - loss: 0.0371 - acc: 0.98 - ETA: 31s - loss: 0.0371 - acc: 0.98 - ETA: 31s - loss: 0.0370 - acc: 0.98 - ETA: 31s - loss: 0.0371 - acc: 0.9853129251/129251 [==============================] - ETA: 30s - loss: 0.0370 - acc: 0.98 - ETA: 30s - loss: 0.0370 - acc: 0.98 - ETA: 30s - loss: 0.0370 - acc: 0.98 - ETA: 29s - loss: 0.0369 - acc: 0.98 - ETA: 29s - loss: 0.0370 - acc: 0.98 - ETA: 29s - loss: 0.0370 - acc: 0.98 - ETA: 28s - loss: 0.0370 - acc: 0.98 - ETA: 28s - loss: 0.0370 - acc: 0.98 - ETA: 28s - loss: 0.0371 - acc: 0.98 - ETA: 27s - loss: 0.0371 - acc: 0.98 - ETA: 27s - loss: 0.0371 - acc: 0.98 - ETA: 27s - loss: 0.0371 - acc: 0.98 - ETA: 26s - loss: 0.0371 - acc: 0.98 - ETA: 26s - loss: 0.0371 - acc: 0.98 - ETA: 26s - loss: 0.0371 - acc: 0.98 - ETA: 25s - loss: 0.0371 - acc: 0.98 - ETA: 25s - loss: 0.0371 - acc: 0.98 - ETA: 25s - loss: 0.0371 - acc: 0.98 - ETA: 24s - loss: 0.0371 - acc: 0.98 - ETA: 24s - loss: 0.0372 - acc: 0.98 - ETA: 24s - loss: 0.0372 - acc: 0.98 - ETA: 23s - loss: 0.0372 - acc: 0.98 - ETA: 23s - loss: 0.0373 - acc: 0.98 - ETA: 23s - loss: 0.0373 - acc: 0.98 - ETA: 22s - loss: 0.0373 - acc: 0.98 - ETA: 22s - loss: 0.0373 - acc: 0.98 - ETA: 22s - loss: 0.0374 - acc: 0.98 - ETA: 21s - loss: 0.0374 - acc: 0.98 - ETA: 21s - loss: 0.0374 - acc: 0.98 - ETA: 21s - loss: 0.0375 - acc: 0.98 - ETA: 20s - loss: 0.0375 - acc: 0.98 - ETA: 20s - loss: 0.0374 - acc: 0.98 - ETA: 20s - loss: 0.0375 - acc: 0.98 - ETA: 19s - loss: 0.0374 - acc: 0.98 - ETA: 19s - loss: 0.0374 - acc: 0.98 - ETA: 19s - loss: 0.0374 - acc: 0.98 - ETA: 18s - loss: 0.0374 - acc: 0.98 - ETA: 18s - loss: 0.0374 - acc: 0.98 - ETA: 18s - loss: 0.0374 - acc: 0.98 - ETA: 17s - loss: 0.0374 - acc: 0.98 - ETA: 17s - loss: 0.0374 - acc: 0.98 - ETA: 17s - loss: 0.0374 - acc: 0.98 - ETA: 16s - loss: 0.0374 - acc: 0.98 - ETA: 16s - loss: 0.0374 - acc: 0.98 - ETA: 16s - loss: 0.0374 - acc: 0.98 - ETA: 15s - loss: 0.0374 - acc: 0.98 - ETA: 15s - loss: 0.0374 - acc: 0.98 - ETA: 15s - loss: 0.0374 - acc: 0.98 - ETA: 14s - loss: 0.0374 - acc: 0.98 - ETA: 14s - loss: 0.0375 - acc: 0.98 - ETA: 14s - loss: 0.0375 - acc: 0.98 - ETA: 13s - loss: 0.0375 - acc: 0.98 - ETA: 13s - loss: 0.0375 - acc: 0.98 - ETA: 13s - loss: 0.0375 - acc: 0.98 - ETA: 12s - loss: 0.0374 - acc: 0.98 - ETA: 12s - loss: 0.0374 - acc: 0.98 - ETA: 12s - loss: 0.0375 - acc: 0.98 - ETA: 11s - loss: 0.0375 - acc: 0.98 - ETA: 11s - loss: 0.0375 - acc: 0.98 - ETA: 11s - loss: 0.0375 - acc: 0.98 - ETA: 10s - loss: 0.0375 - acc: 0.98 - ETA: 10s - loss: 0.0375 - acc: 0.98 - ETA: 10s - loss: 0.0374 - acc: 0.98 - ETA: 9s - loss: 0.0374 - acc: 0.9852 - ETA: 9s - loss: 0.0374 - acc: 0.985 - ETA: 8s - loss: 0.0374 - acc: 0.985 - ETA: 8s - loss: 0.0374 - acc: 0.985 - ETA: 8s - loss: 0.0374 - acc: 0.985 - ETA: 7s - loss: 0.0374 - acc: 0.985 - ETA: 7s - loss: 0.0375 - acc: 0.985 - ETA: 7s - loss: 0.0375 - acc: 0.985 - ETA: 6s - loss: 0.0375 - acc: 0.985 - ETA: 6s - loss: 0.0375 - acc: 0.985 - ETA: 6s - loss: 0.0375 - acc: 0.985 - ETA: 5s - loss: 0.0375 - acc: 0.985 - ETA: 5s - loss: 0.0374 - acc: 0.985 - ETA: 5s - loss: 0.0375 - acc: 0.985 - ETA: 4s - loss: 0.0375 - acc: 0.985 - ETA: 4s - loss: 0.0375 - acc: 0.985 - ETA: 4s - loss: 0.0375 - acc: 0.985 - ETA: 3s - loss: 0.0375 - acc: 0.985 - ETA: 3s - loss: 0.0375 - acc: 0.985 - ETA: 3s - loss: 0.0374 - acc: 0.985 - ETA: 2s - loss: 0.0374 - acc: 0.985 - ETA: 2s - loss: 0.0374 - acc: 0.985 - ETA: 2s - loss: 0.0374 - acc: 0.985 - ETA: 1s - loss: 0.0374 - acc: 0.985 - ETA: 1s - loss: 0.0374 - acc: 0.985 - ETA: 1s - loss: 0.0374 - acc: 0.985 - ETA: 0s - loss: 0.0374 - acc: 0.985 - ETA: 0s - loss: 0.0374 - acc: 0.985 - ETA: 0s - loss: 0.0375 - acc: 0.985 - 175s 1ms/step - loss: 0.0375 - acc: 0.9852 - val_loss: 0.0410 - val_acc: 0.9841\n",
      "\n",
      " ROC-AUC - epoch: 9 - score: 0.986088 \n",
      "\n",
      "Epoch 10/10\n"
     ]
    },
    {
     "name": "stdout",
     "output_type": "stream",
     "text": [
      " 52224/129251 [===========>..................] - ETA: 2:47 - loss: 0.0342 - acc: 0.984 - ETA: 2:44 - loss: 0.0366 - acc: 0.982 - ETA: 2:48 - loss: 0.0349 - acc: 0.983 - ETA: 2:46 - loss: 0.0346 - acc: 0.985 - ETA: 2:48 - loss: 0.0364 - acc: 0.984 - ETA: 2:47 - loss: 0.0372 - acc: 0.984 - ETA: 2:45 - loss: 0.0376 - acc: 0.984 - ETA: 2:45 - loss: 0.0366 - acc: 0.984 - ETA: 2:44 - loss: 0.0358 - acc: 0.985 - ETA: 2:43 - loss: 0.0371 - acc: 0.984 - ETA: 2:43 - loss: 0.0361 - acc: 0.985 - ETA: 2:42 - loss: 0.0358 - acc: 0.985 - ETA: 2:42 - loss: 0.0350 - acc: 0.985 - ETA: 2:41 - loss: 0.0349 - acc: 0.985 - ETA: 2:41 - loss: 0.0346 - acc: 0.985 - ETA: 2:40 - loss: 0.0345 - acc: 0.985 - ETA: 2:40 - loss: 0.0348 - acc: 0.986 - ETA: 2:40 - loss: 0.0350 - acc: 0.986 - ETA: 2:39 - loss: 0.0351 - acc: 0.985 - ETA: 2:39 - loss: 0.0351 - acc: 0.985 - ETA: 2:39 - loss: 0.0348 - acc: 0.986 - ETA: 2:39 - loss: 0.0353 - acc: 0.985 - ETA: 2:39 - loss: 0.0350 - acc: 0.985 - ETA: 2:39 - loss: 0.0346 - acc: 0.986 - ETA: 2:38 - loss: 0.0347 - acc: 0.986 - ETA: 2:38 - loss: 0.0345 - acc: 0.986 - ETA: 2:37 - loss: 0.0344 - acc: 0.986 - ETA: 2:37 - loss: 0.0343 - acc: 0.986 - ETA: 2:37 - loss: 0.0348 - acc: 0.985 - ETA: 2:37 - loss: 0.0351 - acc: 0.985 - ETA: 2:36 - loss: 0.0362 - acc: 0.985 - ETA: 2:36 - loss: 0.0357 - acc: 0.985 - ETA: 2:36 - loss: 0.0358 - acc: 0.985 - ETA: 2:35 - loss: 0.0357 - acc: 0.985 - ETA: 2:35 - loss: 0.0354 - acc: 0.985 - ETA: 2:34 - loss: 0.0354 - acc: 0.985 - ETA: 2:34 - loss: 0.0353 - acc: 0.985 - ETA: 2:33 - loss: 0.0356 - acc: 0.985 - ETA: 2:33 - loss: 0.0358 - acc: 0.985 - ETA: 2:33 - loss: 0.0357 - acc: 0.985 - ETA: 2:32 - loss: 0.0359 - acc: 0.985 - ETA: 2:32 - loss: 0.0361 - acc: 0.985 - ETA: 2:32 - loss: 0.0365 - acc: 0.985 - ETA: 2:32 - loss: 0.0361 - acc: 0.985 - ETA: 2:31 - loss: 0.0361 - acc: 0.985 - ETA: 2:31 - loss: 0.0360 - acc: 0.985 - ETA: 2:31 - loss: 0.0363 - acc: 0.985 - ETA: 2:30 - loss: 0.0362 - acc: 0.985 - ETA: 2:30 - loss: 0.0361 - acc: 0.985 - ETA: 2:30 - loss: 0.0362 - acc: 0.985 - ETA: 2:29 - loss: 0.0364 - acc: 0.985 - ETA: 2:29 - loss: 0.0362 - acc: 0.985 - ETA: 2:28 - loss: 0.0361 - acc: 0.985 - ETA: 2:28 - loss: 0.0360 - acc: 0.985 - ETA: 2:28 - loss: 0.0359 - acc: 0.985 - ETA: 2:27 - loss: 0.0360 - acc: 0.985 - ETA: 2:27 - loss: 0.0360 - acc: 0.985 - ETA: 2:27 - loss: 0.0362 - acc: 0.985 - ETA: 2:27 - loss: 0.0362 - acc: 0.985 - ETA: 2:27 - loss: 0.0365 - acc: 0.985 - ETA: 2:27 - loss: 0.0365 - acc: 0.985 - ETA: 2:26 - loss: 0.0364 - acc: 0.985 - ETA: 2:26 - loss: 0.0363 - acc: 0.985 - ETA: 2:26 - loss: 0.0362 - acc: 0.985 - ETA: 2:25 - loss: 0.0362 - acc: 0.985 - ETA: 2:25 - loss: 0.0362 - acc: 0.985 - ETA: 2:25 - loss: 0.0361 - acc: 0.985 - ETA: 2:24 - loss: 0.0361 - acc: 0.985 - ETA: 2:24 - loss: 0.0362 - acc: 0.985 - ETA: 2:24 - loss: 0.0361 - acc: 0.985 - ETA: 2:24 - loss: 0.0361 - acc: 0.985 - ETA: 2:23 - loss: 0.0360 - acc: 0.985 - ETA: 2:23 - loss: 0.0358 - acc: 0.985 - ETA: 2:23 - loss: 0.0358 - acc: 0.985 - ETA: 2:22 - loss: 0.0358 - acc: 0.985 - ETA: 2:22 - loss: 0.0359 - acc: 0.985 - ETA: 2:21 - loss: 0.0359 - acc: 0.985 - ETA: 2:21 - loss: 0.0358 - acc: 0.985 - ETA: 2:21 - loss: 0.0359 - acc: 0.985 - ETA: 2:20 - loss: 0.0359 - acc: 0.985 - ETA: 2:20 - loss: 0.0359 - acc: 0.985 - ETA: 2:20 - loss: 0.0360 - acc: 0.985 - ETA: 2:20 - loss: 0.0359 - acc: 0.985 - ETA: 2:19 - loss: 0.0358 - acc: 0.985 - ETA: 2:19 - loss: 0.0358 - acc: 0.985 - ETA: 2:19 - loss: 0.0358 - acc: 0.985 - ETA: 2:19 - loss: 0.0359 - acc: 0.985 - ETA: 2:18 - loss: 0.0358 - acc: 0.985 - ETA: 2:18 - loss: 0.0357 - acc: 0.985 - ETA: 2:18 - loss: 0.0358 - acc: 0.985 - ETA: 2:17 - loss: 0.0359 - acc: 0.985 - ETA: 2:17 - loss: 0.0361 - acc: 0.985 - ETA: 2:17 - loss: 0.0361 - acc: 0.985 - ETA: 2:16 - loss: 0.0361 - acc: 0.985 - ETA: 2:16 - loss: 0.0362 - acc: 0.985 - ETA: 2:16 - loss: 0.0362 - acc: 0.985 - ETA: 2:15 - loss: 0.0362 - acc: 0.985 - ETA: 2:15 - loss: 0.0361 - acc: 0.985 - ETA: 2:15 - loss: 0.0362 - acc: 0.985 - ETA: 2:14 - loss: 0.0363 - acc: 0.985 - ETA: 2:14 - loss: 0.0362 - acc: 0.985 - ETA: 2:14 - loss: 0.0364 - acc: 0.985 - ETA: 2:14 - loss: 0.0365 - acc: 0.985 - ETA: 2:13 - loss: 0.0365 - acc: 0.985 - ETA: 2:13 - loss: 0.0364 - acc: 0.985 - ETA: 2:13 - loss: 0.0365 - acc: 0.985 - ETA: 2:12 - loss: 0.0365 - acc: 0.985 - ETA: 2:12 - loss: 0.0365 - acc: 0.985 - ETA: 2:12 - loss: 0.0365 - acc: 0.985 - ETA: 2:11 - loss: 0.0365 - acc: 0.985 - ETA: 2:11 - loss: 0.0365 - acc: 0.985 - ETA: 2:10 - loss: 0.0365 - acc: 0.985 - ETA: 2:10 - loss: 0.0365 - acc: 0.985 - ETA: 2:10 - loss: 0.0366 - acc: 0.985 - ETA: 2:09 - loss: 0.0366 - acc: 0.985 - ETA: 2:09 - loss: 0.0365 - acc: 0.985 - ETA: 2:09 - loss: 0.0364 - acc: 0.985 - ETA: 2:08 - loss: 0.0364 - acc: 0.985 - ETA: 2:08 - loss: 0.0366 - acc: 0.985 - ETA: 2:08 - loss: 0.0366 - acc: 0.985 - ETA: 2:07 - loss: 0.0366 - acc: 0.985 - ETA: 2:07 - loss: 0.0366 - acc: 0.985 - ETA: 2:07 - loss: 0.0366 - acc: 0.985 - ETA: 2:06 - loss: 0.0366 - acc: 0.985 - ETA: 2:06 - loss: 0.0365 - acc: 0.985 - ETA: 2:06 - loss: 0.0365 - acc: 0.985 - ETA: 2:06 - loss: 0.0365 - acc: 0.985 - ETA: 2:06 - loss: 0.0365 - acc: 0.985 - ETA: 2:05 - loss: 0.0364 - acc: 0.985 - ETA: 2:05 - loss: 0.0364 - acc: 0.985 - ETA: 2:05 - loss: 0.0364 - acc: 0.985 - ETA: 2:04 - loss: 0.0365 - acc: 0.985 - ETA: 2:04 - loss: 0.0365 - acc: 0.985 - ETA: 2:04 - loss: 0.0365 - acc: 0.985 - ETA: 2:03 - loss: 0.0364 - acc: 0.985 - ETA: 2:03 - loss: 0.0364 - acc: 0.985 - ETA: 2:02 - loss: 0.0364 - acc: 0.985 - ETA: 2:02 - loss: 0.0365 - acc: 0.985 - ETA: 2:02 - loss: 0.0365 - acc: 0.985 - ETA: 2:01 - loss: 0.0365 - acc: 0.985 - ETA: 2:01 - loss: 0.0365 - acc: 0.985 - ETA: 2:01 - loss: 0.0365 - acc: 0.985 - ETA: 2:01 - loss: 0.0365 - acc: 0.985 - ETA: 2:00 - loss: 0.0365 - acc: 0.985 - ETA: 2:00 - loss: 0.0365 - acc: 0.985 - ETA: 2:00 - loss: 0.0365 - acc: 0.985 - ETA: 1:59 - loss: 0.0365 - acc: 0.985 - ETA: 1:59 - loss: 0.0366 - acc: 0.985 - ETA: 1:59 - loss: 0.0366 - acc: 0.985 - ETA: 1:58 - loss: 0.0366 - acc: 0.985 - ETA: 1:58 - loss: 0.0365 - acc: 0.985 - ETA: 1:57 - loss: 0.0367 - acc: 0.985 - ETA: 1:57 - loss: 0.0366 - acc: 0.985 - ETA: 1:57 - loss: 0.0367 - acc: 0.985 - ETA: 1:57 - loss: 0.0366 - acc: 0.985 - ETA: 1:56 - loss: 0.0366 - acc: 0.985 - ETA: 1:56 - loss: 0.0365 - acc: 0.985 - ETA: 1:56 - loss: 0.0366 - acc: 0.985 - ETA: 1:55 - loss: 0.0366 - acc: 0.985 - ETA: 1:55 - loss: 0.0366 - acc: 0.985 - ETA: 1:55 - loss: 0.0366 - acc: 0.985 - ETA: 1:54 - loss: 0.0367 - acc: 0.985 - ETA: 1:54 - loss: 0.0367 - acc: 0.985 - ETA: 1:54 - loss: 0.0368 - acc: 0.985 - ETA: 1:53 - loss: 0.0367 - acc: 0.985 - ETA: 1:53 - loss: 0.0367 - acc: 0.985 - ETA: 1:53 - loss: 0.0367 - acc: 0.985 - ETA: 1:52 - loss: 0.0367 - acc: 0.985 - ETA: 1:52 - loss: 0.0367 - acc: 0.985 - ETA: 1:52 - loss: 0.0368 - acc: 0.985 - ETA: 1:51 - loss: 0.0367 - acc: 0.985 - ETA: 1:51 - loss: 0.0368 - acc: 0.985 - ETA: 1:51 - loss: 0.0368 - acc: 0.985 - ETA: 1:50 - loss: 0.0368 - acc: 0.985 - ETA: 1:50 - loss: 0.0368 - acc: 0.985 - ETA: 1:50 - loss: 0.0368 - acc: 0.985 - ETA: 1:49 - loss: 0.0368 - acc: 0.985 - ETA: 1:49 - loss: 0.0368 - acc: 0.985 - ETA: 1:49 - loss: 0.0368 - acc: 0.985 - ETA: 1:48 - loss: 0.0368 - acc: 0.985 - ETA: 1:48 - loss: 0.0369 - acc: 0.985 - ETA: 1:48 - loss: 0.0369 - acc: 0.985 - ETA: 1:47 - loss: 0.0368 - acc: 0.985 - ETA: 1:47 - loss: 0.0369 - acc: 0.985 - ETA: 1:47 - loss: 0.0368 - acc: 0.985 - ETA: 1:46 - loss: 0.0368 - acc: 0.985 - ETA: 1:46 - loss: 0.0367 - acc: 0.985 - ETA: 1:46 - loss: 0.0367 - acc: 0.985 - ETA: 1:45 - loss: 0.0368 - acc: 0.985 - ETA: 1:45 - loss: 0.0368 - acc: 0.985 - ETA: 1:45 - loss: 0.0368 - acc: 0.985 - ETA: 1:44 - loss: 0.0367 - acc: 0.985 - ETA: 1:44 - loss: 0.0367 - acc: 0.985 - ETA: 1:44 - loss: 0.0367 - acc: 0.985 - ETA: 1:43 - loss: 0.0367 - acc: 0.985 - ETA: 1:43 - loss: 0.0367 - acc: 0.985 - ETA: 1:43 - loss: 0.0367 - acc: 0.985 - ETA: 1:42 - loss: 0.0368 - acc: 0.985 - ETA: 1:42 - loss: 0.0368 - acc: 0.985 - ETA: 1:41 - loss: 0.0369 - acc: 0.985 - ETA: 1:41 - loss: 0.0369 - acc: 0.985 - ETA: 1:41 - loss: 0.0369 - acc: 0.985 - ETA: 1:40 - loss: 0.0369 - acc: 0.985 - ETA: 1:40 - loss: 0.0369 - acc: 0.9852105472/129251 [=======================>......] - ETA: 1:40 - loss: 0.0369 - acc: 0.985 - ETA: 1:39 - loss: 0.0369 - acc: 0.985 - ETA: 1:39 - loss: 0.0369 - acc: 0.985 - ETA: 1:39 - loss: 0.0368 - acc: 0.985 - ETA: 1:38 - loss: 0.0368 - acc: 0.985 - ETA: 1:38 - loss: 0.0368 - acc: 0.985 - ETA: 1:38 - loss: 0.0367 - acc: 0.985 - ETA: 1:37 - loss: 0.0367 - acc: 0.985 - ETA: 1:37 - loss: 0.0367 - acc: 0.985 - ETA: 1:37 - loss: 0.0368 - acc: 0.985 - ETA: 1:36 - loss: 0.0367 - acc: 0.985 - ETA: 1:36 - loss: 0.0367 - acc: 0.985 - ETA: 1:36 - loss: 0.0367 - acc: 0.985 - ETA: 1:35 - loss: 0.0367 - acc: 0.985 - ETA: 1:35 - loss: 0.0367 - acc: 0.985 - ETA: 1:35 - loss: 0.0367 - acc: 0.985 - ETA: 1:34 - loss: 0.0369 - acc: 0.985 - ETA: 1:34 - loss: 0.0369 - acc: 0.985 - ETA: 1:34 - loss: 0.0369 - acc: 0.985 - ETA: 1:33 - loss: 0.0369 - acc: 0.985 - ETA: 1:33 - loss: 0.0369 - acc: 0.985 - ETA: 1:33 - loss: 0.0369 - acc: 0.985 - ETA: 1:32 - loss: 0.0370 - acc: 0.985 - ETA: 1:32 - loss: 0.0370 - acc: 0.985 - ETA: 1:32 - loss: 0.0370 - acc: 0.985 - ETA: 1:31 - loss: 0.0371 - acc: 0.985 - ETA: 1:31 - loss: 0.0371 - acc: 0.985 - ETA: 1:31 - loss: 0.0371 - acc: 0.985 - ETA: 1:30 - loss: 0.0371 - acc: 0.985 - ETA: 1:30 - loss: 0.0370 - acc: 0.985 - ETA: 1:30 - loss: 0.0370 - acc: 0.985 - ETA: 1:29 - loss: 0.0371 - acc: 0.985 - ETA: 1:29 - loss: 0.0371 - acc: 0.985 - ETA: 1:29 - loss: 0.0370 - acc: 0.985 - ETA: 1:28 - loss: 0.0370 - acc: 0.985 - ETA: 1:28 - loss: 0.0370 - acc: 0.985 - ETA: 1:28 - loss: 0.0370 - acc: 0.985 - ETA: 1:27 - loss: 0.0369 - acc: 0.985 - ETA: 1:27 - loss: 0.0369 - acc: 0.985 - ETA: 1:27 - loss: 0.0369 - acc: 0.985 - ETA: 1:26 - loss: 0.0369 - acc: 0.985 - ETA: 1:26 - loss: 0.0369 - acc: 0.985 - ETA: 1:26 - loss: 0.0369 - acc: 0.985 - ETA: 1:25 - loss: 0.0369 - acc: 0.985 - ETA: 1:25 - loss: 0.0369 - acc: 0.985 - ETA: 1:25 - loss: 0.0369 - acc: 0.985 - ETA: 1:24 - loss: 0.0369 - acc: 0.985 - ETA: 1:24 - loss: 0.0369 - acc: 0.985 - ETA: 1:24 - loss: 0.0368 - acc: 0.985 - ETA: 1:23 - loss: 0.0368 - acc: 0.985 - ETA: 1:23 - loss: 0.0369 - acc: 0.985 - ETA: 1:23 - loss: 0.0369 - acc: 0.985 - ETA: 1:22 - loss: 0.0369 - acc: 0.985 - ETA: 1:22 - loss: 0.0369 - acc: 0.985 - ETA: 1:22 - loss: 0.0369 - acc: 0.985 - ETA: 1:21 - loss: 0.0368 - acc: 0.985 - ETA: 1:21 - loss: 0.0369 - acc: 0.985 - ETA: 1:21 - loss: 0.0370 - acc: 0.985 - ETA: 1:20 - loss: 0.0369 - acc: 0.985 - ETA: 1:20 - loss: 0.0369 - acc: 0.985 - ETA: 1:20 - loss: 0.0370 - acc: 0.985 - ETA: 1:19 - loss: 0.0370 - acc: 0.985 - ETA: 1:19 - loss: 0.0370 - acc: 0.985 - ETA: 1:19 - loss: 0.0369 - acc: 0.985 - ETA: 1:18 - loss: 0.0370 - acc: 0.985 - ETA: 1:18 - loss: 0.0370 - acc: 0.985 - ETA: 1:18 - loss: 0.0369 - acc: 0.985 - ETA: 1:17 - loss: 0.0369 - acc: 0.985 - ETA: 1:17 - loss: 0.0369 - acc: 0.985 - ETA: 1:17 - loss: 0.0370 - acc: 0.985 - ETA: 1:16 - loss: 0.0369 - acc: 0.985 - ETA: 1:16 - loss: 0.0370 - acc: 0.985 - ETA: 1:16 - loss: 0.0370 - acc: 0.985 - ETA: 1:15 - loss: 0.0370 - acc: 0.985 - ETA: 1:15 - loss: 0.0370 - acc: 0.985 - ETA: 1:15 - loss: 0.0370 - acc: 0.985 - ETA: 1:14 - loss: 0.0370 - acc: 0.985 - ETA: 1:14 - loss: 0.0370 - acc: 0.985 - ETA: 1:14 - loss: 0.0370 - acc: 0.985 - ETA: 1:13 - loss: 0.0369 - acc: 0.985 - ETA: 1:13 - loss: 0.0370 - acc: 0.985 - ETA: 1:13 - loss: 0.0370 - acc: 0.985 - ETA: 1:12 - loss: 0.0370 - acc: 0.985 - ETA: 1:12 - loss: 0.0369 - acc: 0.985 - ETA: 1:12 - loss: 0.0369 - acc: 0.985 - ETA: 1:11 - loss: 0.0368 - acc: 0.985 - ETA: 1:11 - loss: 0.0367 - acc: 0.985 - ETA: 1:11 - loss: 0.0367 - acc: 0.985 - ETA: 1:10 - loss: 0.0367 - acc: 0.985 - ETA: 1:10 - loss: 0.0367 - acc: 0.985 - ETA: 1:10 - loss: 0.0367 - acc: 0.985 - ETA: 1:09 - loss: 0.0368 - acc: 0.985 - ETA: 1:09 - loss: 0.0367 - acc: 0.985 - ETA: 1:09 - loss: 0.0368 - acc: 0.985 - ETA: 1:08 - loss: 0.0367 - acc: 0.985 - ETA: 1:08 - loss: 0.0367 - acc: 0.985 - ETA: 1:08 - loss: 0.0367 - acc: 0.985 - ETA: 1:07 - loss: 0.0367 - acc: 0.985 - ETA: 1:07 - loss: 0.0368 - acc: 0.985 - ETA: 1:07 - loss: 0.0368 - acc: 0.985 - ETA: 1:06 - loss: 0.0368 - acc: 0.985 - ETA: 1:06 - loss: 0.0368 - acc: 0.985 - ETA: 1:06 - loss: 0.0367 - acc: 0.985 - ETA: 1:05 - loss: 0.0367 - acc: 0.985 - ETA: 1:05 - loss: 0.0367 - acc: 0.985 - ETA: 1:05 - loss: 0.0366 - acc: 0.985 - ETA: 1:04 - loss: 0.0366 - acc: 0.985 - ETA: 1:04 - loss: 0.0366 - acc: 0.985 - ETA: 1:04 - loss: 0.0366 - acc: 0.985 - ETA: 1:03 - loss: 0.0366 - acc: 0.985 - ETA: 1:03 - loss: 0.0366 - acc: 0.985 - ETA: 1:03 - loss: 0.0366 - acc: 0.985 - ETA: 1:02 - loss: 0.0366 - acc: 0.985 - ETA: 1:02 - loss: 0.0366 - acc: 0.985 - ETA: 1:02 - loss: 0.0366 - acc: 0.985 - ETA: 1:01 - loss: 0.0366 - acc: 0.985 - ETA: 1:01 - loss: 0.0366 - acc: 0.985 - ETA: 1:01 - loss: 0.0366 - acc: 0.985 - ETA: 1:00 - loss: 0.0366 - acc: 0.985 - ETA: 1:00 - loss: 0.0366 - acc: 0.985 - ETA: 1:00 - loss: 0.0365 - acc: 0.985 - ETA: 59s - loss: 0.0366 - acc: 0.985 - ETA: 59s - loss: 0.0366 - acc: 0.98 - ETA: 59s - loss: 0.0367 - acc: 0.98 - ETA: 58s - loss: 0.0366 - acc: 0.98 - ETA: 58s - loss: 0.0367 - acc: 0.98 - ETA: 58s - loss: 0.0366 - acc: 0.98 - ETA: 57s - loss: 0.0367 - acc: 0.98 - ETA: 57s - loss: 0.0366 - acc: 0.98 - ETA: 57s - loss: 0.0367 - acc: 0.98 - ETA: 56s - loss: 0.0367 - acc: 0.98 - ETA: 56s - loss: 0.0367 - acc: 0.98 - ETA: 55s - loss: 0.0367 - acc: 0.98 - ETA: 55s - loss: 0.0367 - acc: 0.98 - ETA: 55s - loss: 0.0368 - acc: 0.98 - ETA: 54s - loss: 0.0368 - acc: 0.98 - ETA: 54s - loss: 0.0367 - acc: 0.98 - ETA: 54s - loss: 0.0367 - acc: 0.98 - ETA: 53s - loss: 0.0367 - acc: 0.98 - ETA: 53s - loss: 0.0367 - acc: 0.98 - ETA: 53s - loss: 0.0367 - acc: 0.98 - ETA: 52s - loss: 0.0367 - acc: 0.98 - ETA: 52s - loss: 0.0367 - acc: 0.98 - ETA: 52s - loss: 0.0367 - acc: 0.98 - ETA: 51s - loss: 0.0367 - acc: 0.98 - ETA: 51s - loss: 0.0367 - acc: 0.98 - ETA: 51s - loss: 0.0367 - acc: 0.98 - ETA: 50s - loss: 0.0367 - acc: 0.98 - ETA: 50s - loss: 0.0367 - acc: 0.98 - ETA: 50s - loss: 0.0367 - acc: 0.98 - ETA: 49s - loss: 0.0367 - acc: 0.98 - ETA: 49s - loss: 0.0367 - acc: 0.98 - ETA: 49s - loss: 0.0366 - acc: 0.98 - ETA: 48s - loss: 0.0366 - acc: 0.98 - ETA: 48s - loss: 0.0366 - acc: 0.98 - ETA: 48s - loss: 0.0366 - acc: 0.98 - ETA: 47s - loss: 0.0366 - acc: 0.98 - ETA: 47s - loss: 0.0366 - acc: 0.98 - ETA: 47s - loss: 0.0366 - acc: 0.98 - ETA: 46s - loss: 0.0366 - acc: 0.98 - ETA: 46s - loss: 0.0366 - acc: 0.98 - ETA: 46s - loss: 0.0366 - acc: 0.98 - ETA: 45s - loss: 0.0366 - acc: 0.98 - ETA: 45s - loss: 0.0366 - acc: 0.98 - ETA: 45s - loss: 0.0366 - acc: 0.98 - ETA: 44s - loss: 0.0367 - acc: 0.98 - ETA: 44s - loss: 0.0367 - acc: 0.98 - ETA: 44s - loss: 0.0367 - acc: 0.98 - ETA: 43s - loss: 0.0367 - acc: 0.98 - ETA: 43s - loss: 0.0367 - acc: 0.98 - ETA: 43s - loss: 0.0367 - acc: 0.98 - ETA: 42s - loss: 0.0367 - acc: 0.98 - ETA: 42s - loss: 0.0366 - acc: 0.98 - ETA: 42s - loss: 0.0367 - acc: 0.98 - ETA: 41s - loss: 0.0366 - acc: 0.98 - ETA: 41s - loss: 0.0366 - acc: 0.98 - ETA: 41s - loss: 0.0366 - acc: 0.98 - ETA: 41s - loss: 0.0366 - acc: 0.98 - ETA: 40s - loss: 0.0367 - acc: 0.98 - ETA: 40s - loss: 0.0367 - acc: 0.98 - ETA: 40s - loss: 0.0367 - acc: 0.98 - ETA: 39s - loss: 0.0367 - acc: 0.98 - ETA: 39s - loss: 0.0367 - acc: 0.98 - ETA: 39s - loss: 0.0367 - acc: 0.98 - ETA: 38s - loss: 0.0367 - acc: 0.98 - ETA: 38s - loss: 0.0367 - acc: 0.98 - ETA: 38s - loss: 0.0367 - acc: 0.98 - ETA: 37s - loss: 0.0366 - acc: 0.98 - ETA: 37s - loss: 0.0366 - acc: 0.98 - ETA: 37s - loss: 0.0366 - acc: 0.98 - ETA: 36s - loss: 0.0366 - acc: 0.98 - ETA: 36s - loss: 0.0366 - acc: 0.98 - ETA: 36s - loss: 0.0367 - acc: 0.98 - ETA: 35s - loss: 0.0366 - acc: 0.98 - ETA: 35s - loss: 0.0367 - acc: 0.98 - ETA: 35s - loss: 0.0367 - acc: 0.98 - ETA: 34s - loss: 0.0367 - acc: 0.98 - ETA: 34s - loss: 0.0367 - acc: 0.98 - ETA: 34s - loss: 0.0368 - acc: 0.98 - ETA: 33s - loss: 0.0368 - acc: 0.98 - ETA: 33s - loss: 0.0368 - acc: 0.98 - ETA: 33s - loss: 0.0368 - acc: 0.98 - ETA: 32s - loss: 0.0368 - acc: 0.98 - ETA: 32s - loss: 0.0368 - acc: 0.98 - ETA: 32s - loss: 0.0368 - acc: 0.98 - ETA: 31s - loss: 0.0368 - acc: 0.98 - ETA: 31s - loss: 0.0368 - acc: 0.98 - ETA: 31s - loss: 0.0368 - acc: 0.9854"
     ]
    },
    {
     "name": "stdout",
     "output_type": "stream",
     "text": [
      "129251/129251 [==============================] - ETA: 30s - loss: 0.0368 - acc: 0.98 - ETA: 30s - loss: 0.0368 - acc: 0.98 - ETA: 30s - loss: 0.0368 - acc: 0.98 - ETA: 29s - loss: 0.0368 - acc: 0.98 - ETA: 29s - loss: 0.0368 - acc: 0.98 - ETA: 28s - loss: 0.0368 - acc: 0.98 - ETA: 28s - loss: 0.0368 - acc: 0.98 - ETA: 28s - loss: 0.0368 - acc: 0.98 - ETA: 27s - loss: 0.0368 - acc: 0.98 - ETA: 27s - loss: 0.0368 - acc: 0.98 - ETA: 27s - loss: 0.0368 - acc: 0.98 - ETA: 27s - loss: 0.0369 - acc: 0.98 - ETA: 26s - loss: 0.0368 - acc: 0.98 - ETA: 26s - loss: 0.0369 - acc: 0.98 - ETA: 26s - loss: 0.0368 - acc: 0.98 - ETA: 25s - loss: 0.0368 - acc: 0.98 - ETA: 25s - loss: 0.0368 - acc: 0.98 - ETA: 25s - loss: 0.0369 - acc: 0.98 - ETA: 24s - loss: 0.0369 - acc: 0.98 - ETA: 24s - loss: 0.0368 - acc: 0.98 - ETA: 24s - loss: 0.0368 - acc: 0.98 - ETA: 23s - loss: 0.0368 - acc: 0.98 - ETA: 23s - loss: 0.0368 - acc: 0.98 - ETA: 22s - loss: 0.0368 - acc: 0.98 - ETA: 22s - loss: 0.0368 - acc: 0.98 - ETA: 22s - loss: 0.0368 - acc: 0.98 - ETA: 21s - loss: 0.0368 - acc: 0.98 - ETA: 21s - loss: 0.0368 - acc: 0.98 - ETA: 21s - loss: 0.0368 - acc: 0.98 - ETA: 20s - loss: 0.0368 - acc: 0.98 - ETA: 20s - loss: 0.0368 - acc: 0.98 - ETA: 20s - loss: 0.0368 - acc: 0.98 - ETA: 19s - loss: 0.0368 - acc: 0.98 - ETA: 19s - loss: 0.0368 - acc: 0.98 - ETA: 19s - loss: 0.0368 - acc: 0.98 - ETA: 18s - loss: 0.0368 - acc: 0.98 - ETA: 18s - loss: 0.0368 - acc: 0.98 - ETA: 18s - loss: 0.0368 - acc: 0.98 - ETA: 17s - loss: 0.0368 - acc: 0.98 - ETA: 17s - loss: 0.0368 - acc: 0.98 - ETA: 17s - loss: 0.0368 - acc: 0.98 - ETA: 16s - loss: 0.0368 - acc: 0.98 - ETA: 16s - loss: 0.0368 - acc: 0.98 - ETA: 16s - loss: 0.0368 - acc: 0.98 - ETA: 15s - loss: 0.0368 - acc: 0.98 - ETA: 15s - loss: 0.0368 - acc: 0.98 - ETA: 15s - loss: 0.0368 - acc: 0.98 - ETA: 14s - loss: 0.0368 - acc: 0.98 - ETA: 14s - loss: 0.0368 - acc: 0.98 - ETA: 14s - loss: 0.0367 - acc: 0.98 - ETA: 13s - loss: 0.0367 - acc: 0.98 - ETA: 13s - loss: 0.0367 - acc: 0.98 - ETA: 13s - loss: 0.0368 - acc: 0.98 - ETA: 12s - loss: 0.0367 - acc: 0.98 - ETA: 12s - loss: 0.0367 - acc: 0.98 - ETA: 12s - loss: 0.0367 - acc: 0.98 - ETA: 11s - loss: 0.0367 - acc: 0.98 - ETA: 11s - loss: 0.0367 - acc: 0.98 - ETA: 11s - loss: 0.0367 - acc: 0.98 - ETA: 10s - loss: 0.0367 - acc: 0.98 - ETA: 10s - loss: 0.0367 - acc: 0.98 - ETA: 10s - loss: 0.0367 - acc: 0.98 - ETA: 9s - loss: 0.0367 - acc: 0.9854 - ETA: 9s - loss: 0.0367 - acc: 0.985 - ETA: 9s - loss: 0.0367 - acc: 0.985 - ETA: 8s - loss: 0.0368 - acc: 0.985 - ETA: 8s - loss: 0.0367 - acc: 0.985 - ETA: 8s - loss: 0.0367 - acc: 0.985 - ETA: 7s - loss: 0.0367 - acc: 0.985 - ETA: 7s - loss: 0.0367 - acc: 0.985 - ETA: 7s - loss: 0.0367 - acc: 0.985 - ETA: 6s - loss: 0.0367 - acc: 0.985 - ETA: 6s - loss: 0.0367 - acc: 0.985 - ETA: 6s - loss: 0.0367 - acc: 0.985 - ETA: 5s - loss: 0.0367 - acc: 0.985 - ETA: 5s - loss: 0.0367 - acc: 0.985 - ETA: 5s - loss: 0.0367 - acc: 0.985 - ETA: 4s - loss: 0.0367 - acc: 0.985 - ETA: 4s - loss: 0.0367 - acc: 0.985 - ETA: 4s - loss: 0.0367 - acc: 0.985 - ETA: 3s - loss: 0.0367 - acc: 0.985 - ETA: 3s - loss: 0.0367 - acc: 0.985 - ETA: 3s - loss: 0.0367 - acc: 0.985 - ETA: 2s - loss: 0.0367 - acc: 0.985 - ETA: 2s - loss: 0.0367 - acc: 0.985 - ETA: 2s - loss: 0.0367 - acc: 0.985 - ETA: 1s - loss: 0.0367 - acc: 0.985 - ETA: 1s - loss: 0.0367 - acc: 0.985 - ETA: 1s - loss: 0.0367 - acc: 0.985 - ETA: 0s - loss: 0.0367 - acc: 0.985 - ETA: 0s - loss: 0.0368 - acc: 0.985 - ETA: 0s - loss: 0.0368 - acc: 0.985 - 175s 1ms/step - loss: 0.0367 - acc: 0.9854 - val_loss: 0.0410 - val_acc: 0.9842\n",
      "\n",
      " ROC-AUC - epoch: 10 - score: 0.986199 \n",
      "\n"
     ]
    }
   ],
   "source": [
    "#model training\n",
    "hist = model.fit(Xtrain, \n",
    "                 ytrain,\n",
    "                 batch_size=256, \n",
    "                 epochs=10, \n",
    "                 callbacks=callbacks, \n",
    "                 validation_split=0.1,\n",
    "                 shuffle=True, \n",
    "                 verbose=2)"
   ]
  },
  {
   "cell_type": "markdown",
   "metadata": {},
   "source": [
    "### 3.3.3 Conclusion"
   ]
  },
  {
   "cell_type": "code",
   "execution_count": 27,
   "metadata": {},
   "outputs": [
    {
     "data": {
      "image/png": "[encoded data removed]",
      "text/plain": [
       "<Figure size 432x288 with 1 Axes>"
      ]
     },
     "metadata": {
      "needs_background": "light"
     },
     "output_type": "display_data"
    }
   ],
   "source": [
    "#generate plots\n",
    "plt.figure()\n",
    "plt.plot(hist.history['loss'], lw=2.0, color='b', label='train')\n",
    "plt.plot(hist.history['val_loss'], lw=2.0, color='r', label='val')\n",
    "plt.title('Bi-LSTM sentiment')\n",
    "plt.xlabel('Epochs')\n",
    "plt.ylabel('Cross-Entropy Loss')\n",
    "plt.legend(loc='upper right')\n",
    "plt.show()"
   ]
  },
  {
   "cell_type": "code",
   "execution_count": 28,
   "metadata": {},
   "outputs": [
    {
     "data": {
      "image/png": "[encoded data removed]",
      "text/plain": [
       "<Figure size 432x288 with 1 Axes>"
      ]
     },
     "metadata": {
      "needs_background": "light"
     },
     "output_type": "display_data"
    }
   ],
   "source": [
    "plt.figure()\n",
    "plt.plot(hist.history['acc'], lw=2.0, color='b', label='train')\n",
    "plt.plot(hist.history['val_acc'], lw=2.0, color='r', label='val')\n",
    "plt.title('Bi-LSTM sentiment')\n",
    "plt.xlabel('Epochs')\n",
    "plt.ylabel('Accuracy')\n",
    "plt.legend(loc='upper left')\n",
    "plt.show()"
   ]
  },
  {
   "cell_type": "code",
   "execution_count": 29,
   "metadata": {},
   "outputs": [],
   "source": [
    "model.load_weights(bilstm_weight_path)\n",
    "y_test = model.predict(word_seq_test)\n",
    "\n",
    "#create a submission\n",
    "submission_df = pd.DataFrame(columns=['id'] + label_names)\n",
    "submission_df['id'] = test_df['id'].values \n",
    "submission_df[label_names] = y_test \n",
    "submission_df.to_csv(\"submissions/bilstm_fasttext_submission.csv\", index=False)"
   ]
  },
  {
   "cell_type": "markdown",
   "metadata": {},
   "source": [
    "<img src=\"https://i.ibb.co/F3XB3R0/2019-10-26-11-13-46.png\" alt=\"Drawing\" style=\"width: 1000px;\"/>"
   ]
  },
  {
   "cell_type": "markdown",
   "metadata": {},
   "source": [
    "## 4. BERT\n",
    "\n",
    "### 4.1 Model Prepearing"
   ]
  },
  {
   "cell_type": "code",
   "execution_count": 30,
   "metadata": {},
   "outputs": [],
   "source": [
    "from keras_bert import load_trained_model_from_checkpoint, load_vocabulary\n",
    "from keras_bert import Tokenizer\n",
    "from keras_bert import AdamWarmup, calc_train_steps\n",
    "\n",
    "import tensorflow as tf"
   ]
  },
  {
   "cell_type": "code",
   "execution_count": 31,
   "metadata": {},
   "outputs": [],
   "source": [
    "SEQ_LEN = 64\n",
    "BATCH_SIZE = 128\n",
    "EPOCHS = 1\n",
    "LR = 1e-4\n",
    "\n",
    "pretrained_path = 'input/uncased_l-12_h-768_a-12/uncased_L-12_H-768_A-12'\n",
    "config_path = os.path.join(pretrained_path, 'bert_config.json')\n",
    "checkpoint_path = os.path.join(pretrained_path, 'bert_model.ckpt')\n",
    "vocab_path = os.path.join(pretrained_path, 'vocab.txt')\n",
    "\n",
    "DATA_COLUMN = 'comment_text'\n",
    "LABEL_COLUMN = 'target'"
   ]
  },
  {
   "cell_type": "code",
   "execution_count": 32,
   "metadata": {},
   "outputs": [],
   "source": [
    "token_dict = load_vocabulary(vocab_path)\n",
    "tokenizer = Tokenizer(token_dict)"
   ]
  },
  {
   "cell_type": "code",
   "execution_count": 33,
   "metadata": {},
   "outputs": [],
   "source": [
    "# Load and Convert to data that BERT understand\n",
    "\n",
    "def convert_data(data_df):\n",
    "    global tokenizer\n",
    "    indices, targets = [], []\n",
    "    label_names = [\"toxic\", \"severe_toxic\", \"obscene\", \"threat\", \"insult\", \"identity_hate\"]\n",
    "    for i in tqdm(range(len(data_df))):\n",
    "        ids, segments = tokenizer.encode(data_df[DATA_COLUMN][i], max_len=SEQ_LEN)\n",
    "        indices.append(ids)\n",
    "        targets.append(data_df[label_names].iloc[i].values)\n",
    "    items = list(zip(indices, targets))\n",
    "    np.random.shuffle(items)\n",
    "    indices, targets = zip(*items)\n",
    "    indices = np.array(indices)\n",
    "    return [indices, np.zeros_like(indices)], np.array(targets)"
   ]
  },
  {
   "cell_type": "code",
   "execution_count": 34,
   "metadata": {},
   "outputs": [],
   "source": [
    "def load_data(path):\n",
    "    data_df = pd.read_csv(path, nrows=10000)\n",
    "    data_df[DATA_COLUMN] = data_df[DATA_COLUMN].astype(str)\n",
    "    data_x, data_y = convert_data(data_df)\n",
    "    return data_x, data_y"
   ]
  },
  {
   "cell_type": "code",
   "execution_count": 35,
   "metadata": {},
   "outputs": [
    {
     "name": "stderr",
     "output_type": "stream",
     "text": [
      "100%|███████████████████████████████████████████████████████████████████████████| 10000/10000 [00:14<00:00, 701.44it/s]\n"
     ]
    },
    {
     "data": {
      "text/plain": [
       "5249"
      ]
     },
     "execution_count": 35,
     "metadata": {},
     "output_type": "execute_result"
    }
   ],
   "source": [
    "train_x, train_y = load_data('input/jigsaw-toxic-comment-classification-challenge/train.csv')\n",
    "gc.collect()"
   ]
  },
  {
   "cell_type": "code",
   "execution_count": 36,
   "metadata": {},
   "outputs": [],
   "source": [
    "model = load_trained_model_from_checkpoint(\n",
    "    config_path,\n",
    "    checkpoint_path,\n",
    "    training=True,\n",
    "    trainable=True,\n",
    "    seq_len=SEQ_LEN,\n",
    ")"
   ]
  },
  {
   "cell_type": "code",
   "execution_count": 37,
   "metadata": {},
   "outputs": [],
   "source": [
    "inputs = model.inputs[:2]\n",
    "dense = model.layers[-3].output\n",
    "outputs = keras.layers.Dense(6, activation='sigmoid', kernel_initializer=keras.initializers.TruncatedNormal(stddev=0.02),\n",
    "                             name = 'real_output')(dense)\n",
    "\n",
    "decay_steps, warmup_steps = calc_train_steps(\n",
    "    train_y.shape[0],\n",
    "    batch_size=BATCH_SIZE,\n",
    "    epochs=EPOCHS,\n",
    ")\n",
    "\n",
    "model = keras.models.Model(inputs, outputs)\n",
    "model.compile(\n",
    "    AdamWarmup(decay_steps=decay_steps, warmup_steps=warmup_steps, lr=LR),\n",
    "    loss='binary_crossentropy',\n",
    "    metrics=['accuracy']\n",
    ")"
   ]
  },
  {
   "cell_type": "code",
   "execution_count": 38,
   "metadata": {},
   "outputs": [
    {
     "name": "stdout",
     "output_type": "stream",
     "text": [
      "__________________________________________________________________________________________________\n",
      "Layer (type)                    Output Shape         Param #     Connected to                     \n",
      "==================================================================================================\n",
      "Input-Token (InputLayer)        (None, 64)           0                                            \n",
      "__________________________________________________________________________________________________\n",
      "Input-Segment (InputLayer)      (None, 64)           0                                            \n",
      "__________________________________________________________________________________________________\n",
      "Embedding-Token (TokenEmbedding [(None, 64, 768), (3 23440896    Input-Token[0][0]                \n",
      "__________________________________________________________________________________________________\n",
      "Embedding-Segment (Embedding)   (None, 64, 768)      1536        Input-Segment[0][0]              \n",
      "__________________________________________________________________________________________________\n",
      "Embedding-Token-Segment (Add)   (None, 64, 768)      0           Embedding-Token[0][0]            \n",
      "                                                                 Embedding-Segment[0][0]          \n",
      "__________________________________________________________________________________________________\n",
      "Embedding-Position (PositionEmb (None, 64, 768)      49152       Embedding-Token-Segment[0][0]    \n",
      "__________________________________________________________________________________________________\n",
      "Embedding-Dropout (Dropout)     (None, 64, 768)      0           Embedding-Position[0][0]         \n",
      "__________________________________________________________________________________________________\n",
      "Embedding-Norm (LayerNormalizat (None, 64, 768)      1536        Embedding-Dropout[0][0]          \n",
      "__________________________________________________________________________________________________\n",
      "Encoder-1-MultiHeadSelfAttentio (None, 64, 768)      2362368     Embedding-Norm[0][0]             \n",
      "__________________________________________________________________________________________________\n",
      "Encoder-1-MultiHeadSelfAttentio (None, 64, 768)      0           Encoder-1-MultiHeadSelfAttention[\n",
      "__________________________________________________________________________________________________\n",
      "Encoder-1-MultiHeadSelfAttentio (None, 64, 768)      0           Embedding-Norm[0][0]             \n",
      "                                                                 Encoder-1-MultiHeadSelfAttention-\n",
      "__________________________________________________________________________________________________\n",
      "Encoder-1-MultiHeadSelfAttentio (None, 64, 768)      1536        Encoder-1-MultiHeadSelfAttention-\n",
      "__________________________________________________________________________________________________\n",
      "Encoder-1-FeedForward (FeedForw (None, 64, 768)      4722432     Encoder-1-MultiHeadSelfAttention-\n",
      "__________________________________________________________________________________________________\n",
      "Encoder-1-FeedForward-Dropout ( (None, 64, 768)      0           Encoder-1-FeedForward[0][0]      \n",
      "__________________________________________________________________________________________________\n",
      "Encoder-1-FeedForward-Add (Add) (None, 64, 768)      0           Encoder-1-MultiHeadSelfAttention-\n",
      "                                                                 Encoder-1-FeedForward-Dropout[0][\n",
      "__________________________________________________________________________________________________\n",
      "Encoder-1-FeedForward-Norm (Lay (None, 64, 768)      1536        Encoder-1-FeedForward-Add[0][0]  \n",
      "__________________________________________________________________________________________________\n",
      "Encoder-2-MultiHeadSelfAttentio (None, 64, 768)      2362368     Encoder-1-FeedForward-Norm[0][0] \n",
      "__________________________________________________________________________________________________\n",
      "Encoder-2-MultiHeadSelfAttentio (None, 64, 768)      0           Encoder-2-MultiHeadSelfAttention[\n",
      "__________________________________________________________________________________________________\n",
      "Encoder-2-MultiHeadSelfAttentio (None, 64, 768)      0           Encoder-1-FeedForward-Norm[0][0] \n",
      "                                                                 Encoder-2-MultiHeadSelfAttention-\n",
      "__________________________________________________________________________________________________\n",
      "Encoder-2-MultiHeadSelfAttentio (None, 64, 768)      1536        Encoder-2-MultiHeadSelfAttention-\n",
      "__________________________________________________________________________________________________\n",
      "Encoder-2-FeedForward (FeedForw (None, 64, 768)      4722432     Encoder-2-MultiHeadSelfAttention-\n",
      "__________________________________________________________________________________________________\n",
      "Encoder-2-FeedForward-Dropout ( (None, 64, 768)      0           Encoder-2-FeedForward[0][0]      \n",
      "__________________________________________________________________________________________________\n",
      "Encoder-2-FeedForward-Add (Add) (None, 64, 768)      0           Encoder-2-MultiHeadSelfAttention-\n",
      "                                                                 Encoder-2-FeedForward-Dropout[0][\n",
      "__________________________________________________________________________________________________\n",
      "Encoder-2-FeedForward-Norm (Lay (None, 64, 768)      1536        Encoder-2-FeedForward-Add[0][0]  \n",
      "__________________________________________________________________________________________________\n",
      "Encoder-3-MultiHeadSelfAttentio (None, 64, 768)      2362368     Encoder-2-FeedForward-Norm[0][0] \n",
      "__________________________________________________________________________________________________\n",
      "Encoder-3-MultiHeadSelfAttentio (None, 64, 768)      0           Encoder-3-MultiHeadSelfAttention[\n",
      "__________________________________________________________________________________________________\n",
      "Encoder-3-MultiHeadSelfAttentio (None, 64, 768)      0           Encoder-2-FeedForward-Norm[0][0] \n",
      "                                                                 Encoder-3-MultiHeadSelfAttention-\n",
      "__________________________________________________________________________________________________\n",
      "Encoder-3-MultiHeadSelfAttentio (None, 64, 768)      1536        Encoder-3-MultiHeadSelfAttention-\n",
      "__________________________________________________________________________________________________\n",
      "Encoder-3-FeedForward (FeedForw (None, 64, 768)      4722432     Encoder-3-MultiHeadSelfAttention-\n",
      "__________________________________________________________________________________________________\n",
      "Encoder-3-FeedForward-Dropout ( (None, 64, 768)      0           Encoder-3-FeedForward[0][0]      \n",
      "__________________________________________________________________________________________________\n",
      "Encoder-3-FeedForward-Add (Add) (None, 64, 768)      0           Encoder-3-MultiHeadSelfAttention-\n",
      "                                                                 Encoder-3-FeedForward-Dropout[0][\n",
      "__________________________________________________________________________________________________\n",
      "Encoder-3-FeedForward-Norm (Lay (None, 64, 768)      1536        Encoder-3-FeedForward-Add[0][0]  \n",
      "__________________________________________________________________________________________________\n",
      "Encoder-4-MultiHeadSelfAttentio (None, 64, 768)      2362368     Encoder-3-FeedForward-Norm[0][0] \n",
      "__________________________________________________________________________________________________\n",
      "Encoder-4-MultiHeadSelfAttentio (None, 64, 768)      0           Encoder-4-MultiHeadSelfAttention[\n",
      "__________________________________________________________________________________________________\n",
      "Encoder-4-MultiHeadSelfAttentio (None, 64, 768)      0           Encoder-3-FeedForward-Norm[0][0] \n",
      "                                                                 Encoder-4-MultiHeadSelfAttention-\n",
      "__________________________________________________________________________________________________\n",
      "Encoder-4-MultiHeadSelfAttentio (None, 64, 768)      1536        Encoder-4-MultiHeadSelfAttention-\n",
      "__________________________________________________________________________________________________\n",
      "Encoder-4-FeedForward (FeedForw (None, 64, 768)      4722432     Encoder-4-MultiHeadSelfAttention-\n",
      "__________________________________________________________________________________________________\n",
      "Encoder-4-FeedForward-Dropout ( (None, 64, 768)      0           Encoder-4-FeedForward[0][0]      \n",
      "__________________________________________________________________________________________________\n",
      "Encoder-4-FeedForward-Add (Add) (None, 64, 768)      0           Encoder-4-MultiHeadSelfAttention-\n",
      "                                                                 Encoder-4-FeedForward-Dropout[0][\n",
      "__________________________________________________________________________________________________\n",
      "Encoder-4-FeedForward-Norm (Lay (None, 64, 768)      1536        Encoder-4-FeedForward-Add[0][0]  \n",
      "__________________________________________________________________________________________________\n",
      "Encoder-5-MultiHeadSelfAttentio (None, 64, 768)      2362368     Encoder-4-FeedForward-Norm[0][0] \n",
      "__________________________________________________________________________________________________\n",
      "Encoder-5-MultiHeadSelfAttentio (None, 64, 768)      0           Encoder-5-MultiHeadSelfAttention[\n",
      "__________________________________________________________________________________________________\n",
      "Encoder-5-MultiHeadSelfAttentio (None, 64, 768)      0           Encoder-4-FeedForward-Norm[0][0] \n",
      "                                                                 Encoder-5-MultiHeadSelfAttention-\n",
      "__________________________________________________________________________________________________\n",
      "Encoder-5-MultiHeadSelfAttentio (None, 64, 768)      1536        Encoder-5-MultiHeadSelfAttention-\n",
      "__________________________________________________________________________________________________\n",
      "Encoder-5-FeedForward (FeedForw (None, 64, 768)      4722432     Encoder-5-MultiHeadSelfAttention-\n",
      "__________________________________________________________________________________________________\n",
      "Encoder-5-FeedForward-Dropout ( (None, 64, 768)      0           Encoder-5-FeedForward[0][0]      \n",
      "__________________________________________________________________________________________________\n",
      "Encoder-5-FeedForward-Add (Add) (None, 64, 768)      0           Encoder-5-MultiHeadSelfAttention-\n",
      "                                                                 Encoder-5-FeedForward-Dropout[0][\n",
      "__________________________________________________________________________________________________\n",
      "Encoder-5-FeedForward-Norm (Lay (None, 64, 768)      1536        Encoder-5-FeedForward-Add[0][0]  \n",
      "__________________________________________________________________________________________________\n",
      "Encoder-6-MultiHeadSelfAttentio (None, 64, 768)      2362368     Encoder-5-FeedForward-Norm[0][0] \n",
      "__________________________________________________________________________________________________\n",
      "Encoder-6-MultiHeadSelfAttentio (None, 64, 768)      0           Encoder-6-MultiHeadSelfAttention[\n",
      "__________________________________________________________________________________________________\n",
      "Encoder-6-MultiHeadSelfAttentio (None, 64, 768)      0           Encoder-5-FeedForward-Norm[0][0] \n",
      "                                                                 Encoder-6-MultiHeadSelfAttention-\n",
      "__________________________________________________________________________________________________\n",
      "Encoder-6-MultiHeadSelfAttentio (None, 64, 768)      1536        Encoder-6-MultiHeadSelfAttention-\n",
      "__________________________________________________________________________________________________\n",
      "Encoder-6-FeedForward (FeedForw (None, 64, 768)      4722432     Encoder-6-MultiHeadSelfAttention-\n",
      "__________________________________________________________________________________________________\n",
      "Encoder-6-FeedForward-Dropout ( (None, 64, 768)      0           Encoder-6-FeedForward[0][0]      \n",
      "__________________________________________________________________________________________________\n",
      "Encoder-6-FeedForward-Add (Add) (None, 64, 768)      0           Encoder-6-MultiHeadSelfAttention-\n",
      "                                                                 Encoder-6-FeedForward-Dropout[0][\n",
      "__________________________________________________________________________________________________\n",
      "Encoder-6-FeedForward-Norm (Lay (None, 64, 768)      1536        Encoder-6-FeedForward-Add[0][0]  \n",
      "__________________________________________________________________________________________________\n",
      "Encoder-7-MultiHeadSelfAttentio (None, 64, 768)      2362368     Encoder-6-FeedForward-Norm[0][0] \n",
      "__________________________________________________________________________________________________\n",
      "Encoder-7-MultiHeadSelfAttentio (None, 64, 768)      0           Encoder-7-MultiHeadSelfAttention[\n",
      "__________________________________________________________________________________________________\n",
      "Encoder-7-MultiHeadSelfAttentio (None, 64, 768)      0           Encoder-6-FeedForward-Norm[0][0] \n",
      "                                                                 Encoder-7-MultiHeadSelfAttention-\n",
      "__________________________________________________________________________________________________\n",
      "Encoder-7-MultiHeadSelfAttentio (None, 64, 768)      1536        Encoder-7-MultiHeadSelfAttention-\n",
      "__________________________________________________________________________________________________\n",
      "Encoder-7-FeedForward (FeedForw (None, 64, 768)      4722432     Encoder-7-MultiHeadSelfAttention-\n",
      "__________________________________________________________________________________________________\n",
      "Encoder-7-FeedForward-Dropout ( (None, 64, 768)      0           Encoder-7-FeedForward[0][0]      \n",
      "__________________________________________________________________________________________________\n",
      "Encoder-7-FeedForward-Add (Add) (None, 64, 768)      0           Encoder-7-MultiHeadSelfAttention-\n",
      "                                                                 Encoder-7-FeedForward-Dropout[0][\n",
      "__________________________________________________________________________________________________\n",
      "Encoder-7-FeedForward-Norm (Lay (None, 64, 768)      1536        Encoder-7-FeedForward-Add[0][0]  \n",
      "__________________________________________________________________________________________________\n",
      "Encoder-8-MultiHeadSelfAttentio (None, 64, 768)      2362368     Encoder-7-FeedForward-Norm[0][0] \n",
      "__________________________________________________________________________________________________\n",
      "Encoder-8-MultiHeadSelfAttentio (None, 64, 768)      0           Encoder-8-MultiHeadSelfAttention[\n",
      "__________________________________________________________________________________________________\n",
      "Encoder-8-MultiHeadSelfAttentio (None, 64, 768)      0           Encoder-7-FeedForward-Norm[0][0] \n",
      "                                                                 Encoder-8-MultiHeadSelfAttention-\n",
      "__________________________________________________________________________________________________\n",
      "Encoder-8-MultiHeadSelfAttentio (None, 64, 768)      1536        Encoder-8-MultiHeadSelfAttention-\n",
      "__________________________________________________________________________________________________\n",
      "Encoder-8-FeedForward (FeedForw (None, 64, 768)      4722432     Encoder-8-MultiHeadSelfAttention-\n",
      "__________________________________________________________________________________________________\n",
      "Encoder-8-FeedForward-Dropout ( (None, 64, 768)      0           Encoder-8-FeedForward[0][0]      \n",
      "__________________________________________________________________________________________________\n",
      "Encoder-8-FeedForward-Add (Add) (None, 64, 768)      0           Encoder-8-MultiHeadSelfAttention-\n",
      "                                                                 Encoder-8-FeedForward-Dropout[0][\n",
      "__________________________________________________________________________________________________\n",
      "Encoder-8-FeedForward-Norm (Lay (None, 64, 768)      1536        Encoder-8-FeedForward-Add[0][0]  \n",
      "__________________________________________________________________________________________________\n"
     ]
    },
    {
     "name": "stdout",
     "output_type": "stream",
     "text": [
      "Encoder-9-MultiHeadSelfAttentio (None, 64, 768)      2362368     Encoder-8-FeedForward-Norm[0][0] \n",
      "__________________________________________________________________________________________________\n",
      "Encoder-9-MultiHeadSelfAttentio (None, 64, 768)      0           Encoder-9-MultiHeadSelfAttention[\n",
      "__________________________________________________________________________________________________\n",
      "Encoder-9-MultiHeadSelfAttentio (None, 64, 768)      0           Encoder-8-FeedForward-Norm[0][0] \n",
      "                                                                 Encoder-9-MultiHeadSelfAttention-\n",
      "__________________________________________________________________________________________________\n",
      "Encoder-9-MultiHeadSelfAttentio (None, 64, 768)      1536        Encoder-9-MultiHeadSelfAttention-\n",
      "__________________________________________________________________________________________________\n",
      "Encoder-9-FeedForward (FeedForw (None, 64, 768)      4722432     Encoder-9-MultiHeadSelfAttention-\n",
      "__________________________________________________________________________________________________\n",
      "Encoder-9-FeedForward-Dropout ( (None, 64, 768)      0           Encoder-9-FeedForward[0][0]      \n",
      "__________________________________________________________________________________________________\n",
      "Encoder-9-FeedForward-Add (Add) (None, 64, 768)      0           Encoder-9-MultiHeadSelfAttention-\n",
      "                                                                 Encoder-9-FeedForward-Dropout[0][\n",
      "__________________________________________________________________________________________________\n",
      "Encoder-9-FeedForward-Norm (Lay (None, 64, 768)      1536        Encoder-9-FeedForward-Add[0][0]  \n",
      "__________________________________________________________________________________________________\n",
      "Encoder-10-MultiHeadSelfAttenti (None, 64, 768)      2362368     Encoder-9-FeedForward-Norm[0][0] \n",
      "__________________________________________________________________________________________________\n",
      "Encoder-10-MultiHeadSelfAttenti (None, 64, 768)      0           Encoder-10-MultiHeadSelfAttention\n",
      "__________________________________________________________________________________________________\n",
      "Encoder-10-MultiHeadSelfAttenti (None, 64, 768)      0           Encoder-9-FeedForward-Norm[0][0] \n",
      "                                                                 Encoder-10-MultiHeadSelfAttention\n",
      "__________________________________________________________________________________________________\n",
      "Encoder-10-MultiHeadSelfAttenti (None, 64, 768)      1536        Encoder-10-MultiHeadSelfAttention\n",
      "__________________________________________________________________________________________________\n",
      "Encoder-10-FeedForward (FeedFor (None, 64, 768)      4722432     Encoder-10-MultiHeadSelfAttention\n",
      "__________________________________________________________________________________________________\n",
      "Encoder-10-FeedForward-Dropout  (None, 64, 768)      0           Encoder-10-FeedForward[0][0]     \n",
      "__________________________________________________________________________________________________\n",
      "Encoder-10-FeedForward-Add (Add (None, 64, 768)      0           Encoder-10-MultiHeadSelfAttention\n",
      "                                                                 Encoder-10-FeedForward-Dropout[0]\n",
      "__________________________________________________________________________________________________\n",
      "Encoder-10-FeedForward-Norm (La (None, 64, 768)      1536        Encoder-10-FeedForward-Add[0][0] \n",
      "__________________________________________________________________________________________________\n",
      "Encoder-11-MultiHeadSelfAttenti (None, 64, 768)      2362368     Encoder-10-FeedForward-Norm[0][0]\n",
      "__________________________________________________________________________________________________\n",
      "Encoder-11-MultiHeadSelfAttenti (None, 64, 768)      0           Encoder-11-MultiHeadSelfAttention\n",
      "__________________________________________________________________________________________________\n",
      "Encoder-11-MultiHeadSelfAttenti (None, 64, 768)      0           Encoder-10-FeedForward-Norm[0][0]\n",
      "                                                                 Encoder-11-MultiHeadSelfAttention\n",
      "__________________________________________________________________________________________________\n",
      "Encoder-11-MultiHeadSelfAttenti (None, 64, 768)      1536        Encoder-11-MultiHeadSelfAttention\n",
      "__________________________________________________________________________________________________\n",
      "Encoder-11-FeedForward (FeedFor (None, 64, 768)      4722432     Encoder-11-MultiHeadSelfAttention\n",
      "__________________________________________________________________________________________________\n",
      "Encoder-11-FeedForward-Dropout  (None, 64, 768)      0           Encoder-11-FeedForward[0][0]     \n",
      "__________________________________________________________________________________________________\n",
      "Encoder-11-FeedForward-Add (Add (None, 64, 768)      0           Encoder-11-MultiHeadSelfAttention\n",
      "                                                                 Encoder-11-FeedForward-Dropout[0]\n",
      "__________________________________________________________________________________________________\n",
      "Encoder-11-FeedForward-Norm (La (None, 64, 768)      1536        Encoder-11-FeedForward-Add[0][0] \n",
      "__________________________________________________________________________________________________\n",
      "Encoder-12-MultiHeadSelfAttenti (None, 64, 768)      2362368     Encoder-11-FeedForward-Norm[0][0]\n",
      "__________________________________________________________________________________________________\n",
      "Encoder-12-MultiHeadSelfAttenti (None, 64, 768)      0           Encoder-12-MultiHeadSelfAttention\n",
      "__________________________________________________________________________________________________\n",
      "Encoder-12-MultiHeadSelfAttenti (None, 64, 768)      0           Encoder-11-FeedForward-Norm[0][0]\n",
      "                                                                 Encoder-12-MultiHeadSelfAttention\n",
      "__________________________________________________________________________________________________\n",
      "Encoder-12-MultiHeadSelfAttenti (None, 64, 768)      1536        Encoder-12-MultiHeadSelfAttention\n",
      "__________________________________________________________________________________________________\n",
      "Encoder-12-FeedForward (FeedFor (None, 64, 768)      4722432     Encoder-12-MultiHeadSelfAttention\n",
      "__________________________________________________________________________________________________\n",
      "Encoder-12-FeedForward-Dropout  (None, 64, 768)      0           Encoder-12-FeedForward[0][0]     \n",
      "__________________________________________________________________________________________________\n",
      "Encoder-12-FeedForward-Add (Add (None, 64, 768)      0           Encoder-12-MultiHeadSelfAttention\n",
      "                                                                 Encoder-12-FeedForward-Dropout[0]\n",
      "__________________________________________________________________________________________________\n",
      "Encoder-12-FeedForward-Norm (La (None, 64, 768)      1536        Encoder-12-FeedForward-Add[0][0] \n",
      "__________________________________________________________________________________________________\n",
      "Extract (Extract)               (None, 768)          0           Encoder-12-FeedForward-Norm[0][0]\n",
      "__________________________________________________________________________________________________\n",
      "NSP-Dense (Dense)               (None, 768)          590592      Extract[0][0]                    \n",
      "__________________________________________________________________________________________________\n",
      "real_output (Dense)             (None, 6)            4614        NSP-Dense[0][0]                  \n",
      "==================================================================================================\n",
      "Total params: 109,142,790\n",
      "Trainable params: 109,142,790\n",
      "Non-trainable params: 0\n",
      "__________________________________________________________________________________________________\n"
     ]
    }
   ],
   "source": [
    "model.summary()"
   ]
  },
  {
   "cell_type": "code",
   "execution_count": 39,
   "metadata": {},
   "outputs": [],
   "source": [
    "sess = K.get_session()\n",
    "uninitialized_variables = set([i.decode('ascii') for i in sess.run(tf.report_uninitialized_variables())])\n",
    "init_op = tf.variables_initializer(\n",
    "    [v for v in tf.global_variables() if v.name.split(':')[0] in uninitialized_variables]\n",
    ")\n",
    "sess.run(init_op)"
   ]
  },
  {
   "cell_type": "markdown",
   "metadata": {},
   "source": [
    "### 4.2 Training"
   ]
  },
  {
   "cell_type": "code",
   "execution_count": 40,
   "metadata": {},
   "outputs": [],
   "source": [
    "bert_weight_path=\"output/bert.h5\"\n",
    "\n",
    "reduceLROnPlat = ReduceLROnPlateau(monitor='val_acc', factor=0.33,\n",
    "                                   patience=3, verbose=1, mode='max',\n",
    "                                   min_delta=0.0001, cooldown=0, min_lr=1e-6)\n",
    "\n",
    "best_w = keras.callbacks.ModelCheckpoint(bert_weight_path,\n",
    "                                monitor='val_loss',\n",
    "                                verbose=0,\n",
    "                                save_best_only=True,\n",
    "                                save_weights_only=True,\n",
    "                                mode='auto',\n",
    "                                period=1)\n",
    "\n",
    "last_w = keras.callbacks.ModelCheckpoint('output/checkpoint.h5',\n",
    "                                monitor='val_loss',\n",
    "                                verbose=0,\n",
    "                                save_best_only=False,\n",
    "                                save_weights_only=True,\n",
    "                                mode='auto',\n",
    "                                period=1)\n",
    "\n",
    "callbacks = [best_w, last_w, reduceLROnPlat]"
   ]
  },
  {
   "cell_type": "code",
   "execution_count": 41,
   "metadata": {},
   "outputs": [
    {
     "name": "stdout",
     "output_type": "stream",
     "text": [
      "Train on 9000 samples, validate on 1000 samples\n",
      "Epoch 1/5\n",
      " - 125s - loss: 0.1440 - acc: 0.9548 - val_loss: 0.1140 - val_acc: 0.9660\n",
      "Epoch 2/5\n",
      " - 110s - loss: 0.1176 - acc: 0.9643 - val_loss: 0.1140 - val_acc: 0.9660\n",
      "Epoch 3/5\n",
      " - 111s - loss: 0.1176 - acc: 0.9644 - val_loss: 0.1140 - val_acc: 0.9660\n",
      "Epoch 4/5\n",
      " - 111s - loss: 0.1175 - acc: 0.9645 - val_loss: 0.1140 - val_acc: 0.9660\n",
      "\n",
      "Epoch 00004: ReduceLROnPlateau reducing learning rate to 3.2999999166349884e-05.\n",
      "Epoch 5/5\n",
      " - 111s - loss: 0.1176 - acc: 0.9644 - val_loss: 0.1140 - val_acc: 0.9660\n"
     ]
    }
   ],
   "source": [
    "#model training\n",
    "hist = model.fit(train_x, \n",
    "                 train_y,\n",
    "                 batch_size=32, \n",
    "                 epochs=5, \n",
    "                 callbacks=callbacks, \n",
    "                 validation_split=0.1,\n",
    "                 shuffle=True, \n",
    "                 verbose=2)"
   ]
  },
  {
   "cell_type": "markdown",
   "metadata": {},
   "source": [
    "### 4.3 Conclusion"
   ]
  },
  {
   "cell_type": "code",
   "execution_count": 42,
   "metadata": {},
   "outputs": [
    {
     "data": {
      "image/png": "[encoded data removed]",
      "text/plain": [
       "<Figure size 432x288 with 1 Axes>"
      ]
     },
     "metadata": {
      "needs_background": "light"
     },
     "output_type": "display_data"
    }
   ],
   "source": [
    "#generate plots\n",
    "plt.figure()\n",
    "plt.plot(hist.history['loss'], lw=2.0, color='b', label='train')\n",
    "plt.plot(hist.history['val_loss'], lw=2.0, color='r', label='val')\n",
    "plt.title('Bi-LSTM sentiment')\n",
    "plt.xlabel('Epochs')\n",
    "plt.ylabel('Cross-Entropy Loss')\n",
    "plt.legend(loc='upper right')\n",
    "plt.show()"
   ]
  },
  {
   "cell_type": "code",
   "execution_count": 43,
   "metadata": {},
   "outputs": [
    {
     "data": {
      "image/png": "[encoded data removed]",
      "text/plain": [
       "<Figure size 432x288 with 1 Axes>"
      ]
     },
     "metadata": {
      "needs_background": "light"
     },
     "output_type": "display_data"
    }
   ],
   "source": [
    "plt.figure()\n",
    "plt.plot(hist.history['acc'], lw=2.0, color='b', label='train')\n",
    "plt.plot(hist.history['val_acc'], lw=2.0, color='r', label='val')\n",
    "plt.title('Bi-LSTM sentiment')\n",
    "plt.xlabel('Epochs')\n",
    "plt.ylabel('Accuracy')\n",
    "plt.legend(loc='upper left')\n",
    "plt.show()"
   ]
  },
  {
   "cell_type": "code",
   "execution_count": 44,
   "metadata": {},
   "outputs": [],
   "source": [
    "def convert_test(test_df):\n",
    "    global tokenizer\n",
    "    indices = []\n",
    "    for i in tqdm(range(len(test_df))):\n",
    "        ids, segments = tokenizer.encode(test_df[DATA_COLUMN][i], max_len=SEQ_LEN)\n",
    "        indices.append(ids)\n",
    "    indices = np.array(indices)\n",
    "    return [indices, np.zeros_like(indices)]\n",
    "\n",
    "def load_test(path):\n",
    "    data_df = pd.read_csv(path)\n",
    "    data_df[DATA_COLUMN] = data_df[DATA_COLUMN].astype(str)\n",
    "    data_x = convert_test(data_df)\n",
    "    return data_x"
   ]
  },
  {
   "cell_type": "code",
   "execution_count": 45,
   "metadata": {},
   "outputs": [
    {
     "name": "stderr",
     "output_type": "stream",
     "text": [
      "100%|████████████████████████████████████████████████████████████████████████| 153164/153164 [02:04<00:00, 1229.07it/s]\n"
     ]
    },
    {
     "data": {
      "text/plain": [
       "5653"
      ]
     },
     "execution_count": 45,
     "metadata": {},
     "output_type": "execute_result"
    }
   ],
   "source": [
    "test_x = load_test('input/jigsaw-toxic-comment-classification-challenge/test.csv')\n",
    "gc.collect()"
   ]
  },
  {
   "cell_type": "code",
   "execution_count": 46,
   "metadata": {},
   "outputs": [],
   "source": [
    "prediction = model.predict(test_x)"
   ]
  },
  {
   "cell_type": "code",
   "execution_count": 47,
   "metadata": {},
   "outputs": [],
   "source": [
    "label_names = [\"toxic\", \"severe_toxic\", \"obscene\", \"threat\", \"insult\", \"identity_hate\"]\n",
    "test_df = pd.read_csv('input/jigsaw-toxic-comment-classification-challenge' + '/test.csv', sep=',', header=0)\n",
    "test_df = test_df.fillna('_NA_')\n",
    "\n",
    "submission_df = pd.DataFrame(columns=['id'] + label_names)\n",
    "submission_df['id'] = test_df['id'].values \n",
    "submission_df[label_names] = prediction \n",
    "submission_df.to_csv(\"submissions/bert_submission.csv\", index=False)"
   ]
  },
  {
   "cell_type": "markdown",
   "metadata": {},
   "source": [
    "<img src=\"https://i.ibb.co/RBKxZPf/2019-10-26-11-14-07.png\" alt=\"Drawing\" style=\"width: 1000px;\"/>"
   ]
  },
  {
   "cell_type": "markdown",
   "metadata": {},
   "source": [
    "## 5. Try Hard"
   ]
  },
  {
   "cell_type": "code",
   "execution_count": 7,
   "metadata": {},
   "outputs": [],
   "source": [
    "BATCH_SIZE = 512\n",
    "LSTM_UNITS = 128\n",
    "DENSE_HIDDEN_UNITS = 4 * LSTM_UNITS\n",
    "EPOCHS = 10\n",
    "MAX_LEN = 220"
   ]
  },
  {
   "cell_type": "code",
   "execution_count": 8,
   "metadata": {},
   "outputs": [],
   "source": [
    "Xtrain, Xval, ytrain, yval = train_test_split(word_seq_train, y_train, train_size=0.90, random_state=233)"
   ]
  },
  {
   "cell_type": "code",
   "execution_count": 9,
   "metadata": {},
   "outputs": [],
   "source": [
    "def build_model(embedding_matrix):\n",
    "    words = Input(shape=(None,))\n",
    "    x = Embedding(*embedding_matrix.shape, weights=[embedding_matrix], trainable=False)(words)\n",
    "    x = SpatialDropout1D(0.2)(x)\n",
    "    x = Bidirectional(CuDNNGRU(LSTM_UNITS, return_sequences=True))(x)\n",
    "    x = Bidirectional(CuDNNLSTM(LSTM_UNITS, return_sequences=True))(x)\n",
    "\n",
    "    hidden = concatenate([\n",
    "        GlobalMaxPooling1D()(x),\n",
    "        GlobalAveragePooling1D()(x),\n",
    "    ])\n",
    "    hidden = add([hidden, Dense(DENSE_HIDDEN_UNITS, activation='relu')(hidden)])\n",
    "    hidden = add([hidden, Dense(DENSE_HIDDEN_UNITS, activation='relu')(hidden)])\n",
    "    result = Dense(6, activation='sigmoid')(hidden)\n",
    "    \n",
    "    \n",
    "    model = Model(inputs=words, outputs=result)\n",
    "    model.compile(loss='binary_crossentropy', optimizer='adam')\n",
    "\n",
    "    return model"
   ]
  },
  {
   "cell_type": "code",
   "execution_count": 10,
   "metadata": {},
   "outputs": [
    {
     "name": "stdout",
     "output_type": "stream",
     "text": [
      "WARNING:tensorflow:From C:\\Anaconda\\envs\\keras\\lib\\site-packages\\tensorflow\\python\\framework\\op_def_library.py:263: colocate_with (from tensorflow.python.framework.ops) is deprecated and will be removed in a future version.\n",
      "Instructions for updating:\n",
      "Colocations handled automatically by placer.\n",
      "WARNING:tensorflow:From C:\\Anaconda\\envs\\keras\\lib\\site-packages\\keras\\backend\\tensorflow_backend.py:3445: calling dropout (from tensorflow.python.ops.nn_ops) with keep_prob is deprecated and will be removed in a future version.\n",
      "Instructions for updating:\n",
      "Please use `rate` instead of `keep_prob`. Rate should be set to `rate = 1 - keep_prob`.\n",
      "__________________________________________________________________________________________________\n",
      "Layer (type)                    Output Shape         Param #     Connected to                     \n",
      "==================================================================================================\n",
      "input_1 (InputLayer)            (None, None)         0                                            \n",
      "__________________________________________________________________________________________________\n",
      "embedding_1 (Embedding)         (None, None, 300)    30000000    input_1[0][0]                    \n",
      "__________________________________________________________________________________________________\n",
      "spatial_dropout1d_1 (SpatialDro (None, None, 300)    0           embedding_1[0][0]                \n",
      "__________________________________________________________________________________________________\n",
      "bidirectional_1 (Bidirectional) (None, None, 256)    330240      spatial_dropout1d_1[0][0]        \n",
      "__________________________________________________________________________________________________\n",
      "bidirectional_2 (Bidirectional) (None, None, 256)    395264      bidirectional_1[0][0]            \n",
      "__________________________________________________________________________________________________\n",
      "global_max_pooling1d_1 (GlobalM (None, 256)          0           bidirectional_2[0][0]            \n",
      "__________________________________________________________________________________________________\n",
      "global_average_pooling1d_1 (Glo (None, 256)          0           bidirectional_2[0][0]            \n",
      "__________________________________________________________________________________________________\n",
      "concatenate_1 (Concatenate)     (None, 512)          0           global_max_pooling1d_1[0][0]     \n",
      "                                                                 global_average_pooling1d_1[0][0] \n",
      "__________________________________________________________________________________________________\n",
      "dense_1 (Dense)                 (None, 512)          262656      concatenate_1[0][0]              \n",
      "__________________________________________________________________________________________________\n",
      "add_1 (Add)                     (None, 512)          0           concatenate_1[0][0]              \n",
      "                                                                 dense_1[0][0]                    \n",
      "__________________________________________________________________________________________________\n",
      "dense_2 (Dense)                 (None, 512)          262656      add_1[0][0]                      \n",
      "__________________________________________________________________________________________________\n",
      "add_2 (Add)                     (None, 512)          0           add_1[0][0]                      \n",
      "                                                                 dense_2[0][0]                    \n",
      "__________________________________________________________________________________________________\n",
      "dense_3 (Dense)                 (None, 6)            3078        add_2[0][0]                      \n",
      "==================================================================================================\n",
      "Total params: 31,253,894\n",
      "Trainable params: 1,253,894\n",
      "Non-trainable params: 30,000,000\n",
      "__________________________________________________________________________________________________\n"
     ]
    }
   ],
   "source": [
    "model = build_model(embedding_matrix)\n",
    "model.summary()"
   ]
  },
  {
   "cell_type": "code",
   "execution_count": 11,
   "metadata": {},
   "outputs": [],
   "source": [
    "bi_gru_lstm_weight_path=\"output/Bi-GRU-LSTM_v1.h5\"\n",
    "\n",
    "reduceLROnPlat = ReduceLROnPlateau(monitor='val_loss', factor=0.33,\n",
    "                                   patience=3, verbose=1, mode='min',\n",
    "                                   min_delta=0.0001, cooldown=0, min_lr=1e-6)\n",
    "\n",
    "best_w = keras.callbacks.ModelCheckpoint(bi_gru_lstm_weight_path,\n",
    "                                monitor='val_loss',\n",
    "                                verbose=0,\n",
    "                                save_best_only=True,\n",
    "                                save_weights_only=True,\n",
    "                                mode='auto',\n",
    "                                period=1)\n",
    "\n",
    "last_w = keras.callbacks.ModelCheckpoint('output/checkpoint.h5',\n",
    "                                monitor='val_loss',\n",
    "                                verbose=0,\n",
    "                                save_best_only=False,\n",
    "                                save_weights_only=True,\n",
    "                                mode='auto',\n",
    "                                period=1)\n",
    "\n",
    "callbacks = [best_w, last_w, reduceLROnPlat]"
   ]
  },
  {
   "cell_type": "code",
   "execution_count": 12,
   "metadata": {},
   "outputs": [],
   "source": [
    "class RocAucEvaluation(Callback):\n",
    "    def __init__(self, validation_data=(), interval=1):\n",
    "        super(Callback, self).__init__()\n",
    "\n",
    "        self.interval = interval\n",
    "        self.X_val, self.y_val = validation_data\n",
    "\n",
    "    def on_epoch_end(self, epoch, logs={}):\n",
    "        if epoch % self.interval == 0:\n",
    "            y_pred = self.model.predict(self.X_val, verbose=0)\n",
    "            score = roc_auc_score(self.y_val, y_pred)\n",
    "            print(\"\\n ROC-AUC - epoch: %d - score: %.6f \\n\" % (epoch+1, score))\n",
    "\n",
    "ra_val = RocAucEvaluation(validation_data=(Xval, yval), interval = 1)\n",
    "\n",
    "callbacks.append(ra_val)"
   ]
  },
  {
   "cell_type": "code",
   "execution_count": 13,
   "metadata": {},
   "outputs": [
    {
     "name": "stdout",
     "output_type": "stream",
     "text": [
      "Fold 0/10\n",
      "Epoch 0/5\n",
      "WARNING:tensorflow:From C:\\Anaconda\\envs\\keras\\lib\\site-packages\\tensorflow\\python\\ops\\math_ops.py:3066: to_int32 (from tensorflow.python.ops.math_ops) is deprecated and will be removed in a future version.\n",
      "Instructions for updating:\n",
      "Use tf.cast instead.\n",
      "WARNING:tensorflow:From C:\\Anaconda\\envs\\keras\\lib\\site-packages\\tensorflow\\python\\ops\\math_grad.py:102: div (from tensorflow.python.ops.math_ops) is deprecated and will be removed in a future version.\n",
      "Instructions for updating:\n",
      "Deprecated in favor of operator or tf.math.divide.\n",
      "Train on 129251 samples, validate on 14362 samples\n",
      "Epoch 1/1\n",
      " - 48s - loss: 0.0527 - val_loss: 0.0446\n",
      "\n",
      " ROC-AUC - epoch: 1 - score: 0.984312 \n",
      "\n",
      "Epoch 1/5\n",
      "Train on 129251 samples, validate on 14362 samples\n",
      "Epoch 1/1\n",
      " - 47s - loss: 0.0416 - val_loss: 0.0403\n",
      "\n",
      " ROC-AUC - epoch: 1 - score: 0.987101 \n",
      "\n",
      "Epoch 2/5\n",
      "Train on 129251 samples, validate on 14362 samples\n",
      "Epoch 1/1\n",
      " - 48s - loss: 0.0384 - val_loss: 0.0402\n",
      "\n",
      " ROC-AUC - epoch: 1 - score: 0.987850 \n",
      "\n",
      "Epoch 3/5\n",
      "Train on 129251 samples, validate on 14362 samples\n",
      "Epoch 1/1\n",
      " - 48s - loss: 0.0365 - val_loss: 0.0397\n",
      "\n",
      " ROC-AUC - epoch: 1 - score: 0.988246 \n",
      "\n",
      "Epoch 4/5\n",
      "Train on 129251 samples, validate on 14362 samples\n",
      "Epoch 1/1\n",
      " - 48s - loss: 0.0351 - val_loss: 0.0394\n",
      "\n",
      " ROC-AUC - epoch: 1 - score: 0.988248 \n",
      "\n",
      "Fold 1/10\n",
      "Epoch 0/5\n",
      "Train on 129251 samples, validate on 14362 samples\n",
      "Epoch 1/1\n",
      " - 49s - loss: 0.0531 - val_loss: 0.0438\n",
      "\n",
      " ROC-AUC - epoch: 1 - score: 0.984871 \n",
      "\n",
      "Epoch 1/5\n",
      "Train on 129251 samples, validate on 14362 samples\n",
      "Epoch 1/1\n",
      " - 48s - loss: 0.0411 - val_loss: 0.0407\n",
      "\n",
      " ROC-AUC - epoch: 1 - score: 0.987600 \n",
      "\n",
      "Epoch 2/5\n",
      "Train on 129251 samples, validate on 14362 samples\n",
      "Epoch 1/1\n",
      " - 50s - loss: 0.0381 - val_loss: 0.0399\n",
      "\n",
      " ROC-AUC - epoch: 1 - score: 0.988756 \n",
      "\n",
      "Epoch 3/5\n",
      "Train on 129251 samples, validate on 14362 samples\n",
      "Epoch 1/1\n",
      " - 47s - loss: 0.0364 - val_loss: 0.0401\n",
      "\n",
      " ROC-AUC - epoch: 1 - score: 0.988563 \n",
      "\n",
      "Epoch 4/5\n",
      "Train on 129251 samples, validate on 14362 samples\n",
      "Epoch 1/1\n",
      " - 48s - loss: 0.0351 - val_loss: 0.0400\n",
      "\n",
      " ROC-AUC - epoch: 1 - score: 0.988882 \n",
      "\n",
      "Fold 2/10\n",
      "Epoch 0/5\n",
      "Train on 129251 samples, validate on 14362 samples\n",
      "Epoch 1/1\n",
      " - 51s - loss: 0.0530 - val_loss: 0.0446\n",
      "\n",
      " ROC-AUC - epoch: 1 - score: 0.983166 \n",
      "\n",
      "Epoch 1/5\n",
      "Train on 129251 samples, validate on 14362 samples\n",
      "Epoch 1/1\n",
      " - 48s - loss: 0.0417 - val_loss: 0.0407\n",
      "\n",
      " ROC-AUC - epoch: 1 - score: 0.987793 \n",
      "\n",
      "Epoch 2/5\n",
      "Train on 129251 samples, validate on 14362 samples\n",
      "Epoch 1/1\n",
      " - 47s - loss: 0.0386 - val_loss: 0.0399\n",
      "\n",
      " ROC-AUC - epoch: 1 - score: 0.988273 \n",
      "\n",
      "Epoch 3/5\n",
      "Train on 129251 samples, validate on 14362 samples\n",
      "Epoch 1/1\n",
      " - 48s - loss: 0.0366 - val_loss: 0.0400\n",
      "\n",
      " ROC-AUC - epoch: 1 - score: 0.988576 \n",
      "\n",
      "Epoch 4/5\n",
      "Train on 129251 samples, validate on 14362 samples\n",
      "Epoch 1/1\n",
      " - 47s - loss: 0.0356 - val_loss: 0.0395\n",
      "\n",
      " ROC-AUC - epoch: 1 - score: 0.988682 \n",
      "\n",
      "Fold 3/10\n",
      "Epoch 0/5\n",
      "Train on 129251 samples, validate on 14362 samples\n",
      "Epoch 1/1\n",
      " - 50s - loss: 0.0530 - val_loss: 0.0447\n",
      "\n",
      " ROC-AUC - epoch: 1 - score: 0.981694 \n",
      "\n",
      "Epoch 1/5\n",
      "Train on 129251 samples, validate on 14362 samples\n",
      "Epoch 1/1\n",
      " - 48s - loss: 0.0416 - val_loss: 0.0416\n",
      "\n",
      " ROC-AUC - epoch: 1 - score: 0.986927 \n",
      "\n",
      "Epoch 2/5\n",
      "Train on 129251 samples, validate on 14362 samples\n",
      "Epoch 1/1\n",
      " - 47s - loss: 0.0384 - val_loss: 0.0405\n",
      "\n",
      " ROC-AUC - epoch: 1 - score: 0.988031 \n",
      "\n",
      "Epoch 3/5\n",
      "Train on 129251 samples, validate on 14362 samples\n",
      "Epoch 1/1\n",
      " - 47s - loss: 0.0364 - val_loss: 0.0405\n",
      "\n",
      " ROC-AUC - epoch: 1 - score: 0.988276 \n",
      "\n",
      "Epoch 4/5\n",
      "Train on 129251 samples, validate on 14362 samples\n",
      "Epoch 1/1\n",
      " - 47s - loss: 0.0353 - val_loss: 0.0405\n",
      "\n",
      " ROC-AUC - epoch: 1 - score: 0.988468 \n",
      "\n",
      "Fold 4/10\n",
      "Epoch 0/5\n",
      "Train on 129251 samples, validate on 14362 samples\n",
      "Epoch 1/1\n",
      " - 49s - loss: 0.0537 - val_loss: 0.0433\n",
      "\n",
      " ROC-AUC - epoch: 1 - score: 0.985709 \n",
      "\n",
      "Epoch 1/5\n",
      "Train on 129251 samples, validate on 14362 samples\n",
      "Epoch 1/1\n",
      " - 47s - loss: 0.0415 - val_loss: 0.0408\n",
      "\n",
      " ROC-AUC - epoch: 1 - score: 0.987796 \n",
      "\n",
      "Epoch 2/5\n",
      "Train on 129251 samples, validate on 14362 samples\n",
      "Epoch 1/1\n",
      " - 47s - loss: 0.0384 - val_loss: 0.0401\n",
      "\n",
      " ROC-AUC - epoch: 1 - score: 0.988379 \n",
      "\n",
      "Epoch 3/5\n",
      "Train on 129251 samples, validate on 14362 samples\n",
      "Epoch 1/1\n",
      " - 47s - loss: 0.0366 - val_loss: 0.0405\n",
      "\n",
      " ROC-AUC - epoch: 1 - score: 0.988523 \n",
      "\n",
      "Epoch 4/5\n",
      "Train on 129251 samples, validate on 14362 samples\n",
      "Epoch 1/1\n",
      " - 48s - loss: 0.0353 - val_loss: 0.0396\n",
      "\n",
      " ROC-AUC - epoch: 1 - score: 0.988623 \n",
      "\n",
      "Fold 5/10\n",
      "Epoch 0/5\n",
      "Train on 129251 samples, validate on 14362 samples\n",
      "Epoch 1/1\n",
      " - 50s - loss: 0.0530 - val_loss: 0.0430\n",
      "\n",
      " ROC-AUC - epoch: 1 - score: 0.985072 \n",
      "\n",
      "Epoch 1/5\n",
      "Train on 129251 samples, validate on 14362 samples\n",
      "Epoch 1/1\n",
      " - 47s - loss: 0.0413 - val_loss: 0.0409\n",
      "\n",
      " ROC-AUC - epoch: 1 - score: 0.987979 \n",
      "\n",
      "Epoch 2/5\n",
      "Train on 129251 samples, validate on 14362 samples\n",
      "Epoch 1/1\n",
      " - 47s - loss: 0.0383 - val_loss: 0.0401\n",
      "\n",
      " ROC-AUC - epoch: 1 - score: 0.988271 \n",
      "\n",
      "Epoch 3/5\n",
      "Train on 129251 samples, validate on 14362 samples\n",
      "Epoch 1/1\n",
      " - 47s - loss: 0.0363 - val_loss: 0.0396\n",
      "\n",
      " ROC-AUC - epoch: 1 - score: 0.988484 \n",
      "\n",
      "Epoch 4/5\n",
      "Train on 129251 samples, validate on 14362 samples\n",
      "Epoch 1/1\n",
      " - 47s - loss: 0.0352 - val_loss: 0.0397\n",
      "\n",
      " ROC-AUC - epoch: 1 - score: 0.988683 \n",
      "\n",
      "Fold 6/10\n",
      "Epoch 0/5\n",
      "Train on 129251 samples, validate on 14362 samples\n",
      "Epoch 1/1\n",
      " - 51s - loss: 0.0526 - val_loss: 0.0427\n",
      "\n",
      " ROC-AUC - epoch: 1 - score: 0.985755 \n",
      "\n",
      "Epoch 1/5\n",
      "Train on 129251 samples, validate on 14362 samples\n",
      "Epoch 1/1\n",
      " - 48s - loss: 0.0412 - val_loss: 0.0406\n",
      "\n",
      " ROC-AUC - epoch: 1 - score: 0.988339 \n",
      "\n",
      "Epoch 2/5\n",
      "Train on 129251 samples, validate on 14362 samples\n",
      "Epoch 1/1\n",
      " - 48s - loss: 0.0384 - val_loss: 0.0405\n",
      "\n",
      " ROC-AUC - epoch: 1 - score: 0.988840 \n",
      "\n",
      "Epoch 3/5\n",
      "Train on 129251 samples, validate on 14362 samples\n",
      "Epoch 1/1\n",
      " - 47s - loss: 0.0364 - val_loss: 0.0397\n",
      "\n",
      " ROC-AUC - epoch: 1 - score: 0.989056 \n",
      "\n",
      "Epoch 4/5\n",
      "Train on 129251 samples, validate on 14362 samples\n",
      "Epoch 1/1\n",
      " - 47s - loss: 0.0351 - val_loss: 0.0401\n",
      "\n",
      " ROC-AUC - epoch: 1 - score: 0.989139 \n",
      "\n",
      "Fold 7/10\n",
      "Epoch 0/5\n",
      "Train on 129251 samples, validate on 14362 samples\n",
      "Epoch 1/1\n",
      " - 50s - loss: 0.0532 - val_loss: 0.0434\n",
      "\n",
      " ROC-AUC - epoch: 1 - score: 0.984745 \n",
      "\n",
      "Epoch 1/5\n",
      "Train on 129251 samples, validate on 14362 samples\n",
      "Epoch 1/1\n",
      " - 48s - loss: 0.0413 - val_loss: 0.0403\n",
      "\n",
      " ROC-AUC - epoch: 1 - score: 0.988297 \n",
      "\n",
      "Epoch 2/5\n",
      "Train on 129251 samples, validate on 14362 samples\n",
      "Epoch 1/1\n",
      " - 47s - loss: 0.0386 - val_loss: 0.0402\n",
      "\n",
      " ROC-AUC - epoch: 1 - score: 0.988585 \n",
      "\n",
      "Epoch 3/5\n",
      "Train on 129251 samples, validate on 14362 samples\n",
      "Epoch 1/1\n",
      " - 48s - loss: 0.0367 - val_loss: 0.0396\n",
      "\n",
      " ROC-AUC - epoch: 1 - score: 0.988794 \n",
      "\n",
      "Epoch 4/5\n",
      "Train on 129251 samples, validate on 14362 samples\n",
      "Epoch 1/1\n",
      " - 48s - loss: 0.0355 - val_loss: 0.0395\n",
      "\n",
      " ROC-AUC - epoch: 1 - score: 0.988933 \n",
      "\n",
      "Fold 8/10\n",
      "Epoch 0/5\n",
      "Train on 129251 samples, validate on 14362 samples\n",
      "Epoch 1/1\n",
      " - 51s - loss: 0.0530 - val_loss: 0.0445\n",
      "\n",
      " ROC-AUC - epoch: 1 - score: 0.984482 \n",
      "\n",
      "Epoch 1/5\n",
      "Train on 129251 samples, validate on 14362 samples\n",
      "Epoch 1/1\n",
      " - 49s - loss: 0.0417 - val_loss: 0.0416\n",
      "\n",
      " ROC-AUC - epoch: 1 - score: 0.987944 \n",
      "\n",
      "Epoch 2/5\n",
      "Train on 129251 samples, validate on 14362 samples\n",
      "Epoch 1/1\n",
      " - 48s - loss: 0.0384 - val_loss: 0.0411\n",
      "\n",
      " ROC-AUC - epoch: 1 - score: 0.988232 \n",
      "\n",
      "Epoch 3/5\n",
      "Train on 129251 samples, validate on 14362 samples\n",
      "Epoch 1/1\n",
      " - 49s - loss: 0.0365 - val_loss: 0.0397\n",
      "\n",
      " ROC-AUC - epoch: 1 - score: 0.988194 \n",
      "\n",
      "Epoch 4/5\n",
      "Train on 129251 samples, validate on 14362 samples\n",
      "Epoch 1/1\n",
      " - 48s - loss: 0.0353 - val_loss: 0.0396\n",
      "\n",
      " ROC-AUC - epoch: 1 - score: 0.988562 \n",
      "\n",
      "Fold 9/10\n",
      "Epoch 0/5\n",
      "Train on 129251 samples, validate on 14362 samples\n",
      "Epoch 1/1\n",
      " - 51s - loss: 0.0533 - val_loss: 0.0457\n",
      "\n",
      " ROC-AUC - epoch: 1 - score: 0.983827 \n",
      "\n",
      "Epoch 1/5\n",
      "Train on 129251 samples, validate on 14362 samples\n",
      "Epoch 1/1\n",
      " - 48s - loss: 0.0416 - val_loss: 0.0412\n",
      "\n",
      " ROC-AUC - epoch: 1 - score: 0.987763 \n",
      "\n",
      "Epoch 2/5\n",
      "Train on 129251 samples, validate on 14362 samples\n",
      "Epoch 1/1\n",
      " - 49s - loss: 0.0385 - val_loss: 0.0406\n",
      "\n",
      " ROC-AUC - epoch: 1 - score: 0.988355 \n",
      "\n",
      "Epoch 3/5\n",
      "Train on 129251 samples, validate on 14362 samples\n",
      "Epoch 1/1\n",
      " - 47s - loss: 0.0362 - val_loss: 0.0399\n",
      "\n",
      " ROC-AUC - epoch: 1 - score: 0.988646 \n",
      "\n",
      "Epoch 4/5\n",
      "Train on 129251 samples, validate on 14362 samples\n"
     ]
    },
    {
     "name": "stdout",
     "output_type": "stream",
     "text": [
      "Epoch 1/1\n",
      " - 48s - loss: 0.0350 - val_loss: 0.0397\n",
      "\n",
      " ROC-AUC - epoch: 1 - score: 0.988674 \n",
      "\n"
     ]
    }
   ],
   "source": [
    "EPOCHS = 5\n",
    "SEEDS = 10\n",
    "\n",
    "pred = 0\n",
    "\n",
    "for ii in range(SEEDS):\n",
    "    print(f'Fold {ii}/{SEEDS}')\n",
    "    model = build_model(embedding_matrix)\n",
    "    for global_epoch in range(EPOCHS):\n",
    "        print(f'Epoch {global_epoch}/{EPOCHS}')\n",
    "        model.fit(\n",
    "                    Xtrain,\n",
    "                    ytrain,\n",
    "                    validation_split=0.1,\n",
    "                    batch_size=128,\n",
    "                    epochs=1,\n",
    "                    verbose=2,\n",
    "                    callbacks=[\n",
    "                        LearningRateScheduler(lambda _: 1e-3 * (0.5 ** global_epoch)),\n",
    "                        RocAucEvaluation(validation_data=(Xval, yval), interval=1),\n",
    "                        best_w,\n",
    "                    ]\n",
    "                )\n",
    "\n",
    "    pred += model.predict(word_seq_test, batch_size=1024, verbose=2) / SEEDS\n",
    "    np.save('pred', pred)"
   ]
  },
  {
   "cell_type": "code",
   "execution_count": 35,
   "metadata": {},
   "outputs": [],
   "source": [
    "label_names = [\"toxic\", \"severe_toxic\", \"obscene\", \"threat\", \"insult\", \"identity_hate\"]\n",
    "\n",
    "#create a submission\n",
    "submission_df = pd.DataFrame(columns=['id'] + label_names)\n",
    "submission_df['id'] = test_df['id'].values \n",
    "submission_df[label_names] = pred \n",
    "submission_df.to_csv(\"submissions/bi_gru_lstm_fasttext_submission.csv\", index=False)"
   ]
  },
  {
   "cell_type": "markdown",
   "metadata": {},
   "source": [
    "<img src=\"https://i.ibb.co/TbV28PH/2019-10-26-13-45-12.png\" alt=\"Drawing\" style=\"width: 1000px;\"/>"
   ]
  },
  {
   "cell_type": "code",
   "execution_count": null,
   "metadata": {},
   "outputs": [],
   "source": []
  },
  {
   "cell_type": "code",
   "execution_count": null,
   "metadata": {},
   "outputs": [],
   "source": []
  },
  {
   "cell_type": "code",
   "execution_count": null,
   "metadata": {},
   "outputs": [],
   "source": []
  }
 ],
 "metadata": {
  "kernelspec": {
   "display_name": "Python 3",
   "language": "python",
   "name": "python3"
  },
  "language_info": {
   "codemirror_mode": {
    "name": "ipython",
    "version": 3
   },
   "file_extension": ".py",
   "mimetype": "text/x-python",
   "name": "python",
   "nbconvert_exporter": "python",
   "pygments_lexer": "ipython3",
   "version": "3.7.3"
  }
 },
 "nbformat": 4,
 "nbformat_minor": 2
}
